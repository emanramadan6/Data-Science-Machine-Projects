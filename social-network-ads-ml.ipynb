{
 "cells": [
  {
   "cell_type": "code",
   "execution_count": 1,
   "id": "a489d92d",
   "metadata": {
    "execution": {
     "iopub.execute_input": "2022-03-26T13:05:27.983527Z",
     "iopub.status.busy": "2022-03-26T13:05:27.981733Z",
     "iopub.status.idle": "2022-03-26T13:05:29.018734Z",
     "shell.execute_reply": "2022-03-26T13:05:29.017429Z",
     "shell.execute_reply.started": "2022-03-26T13:03:02.857108Z"
    },
    "papermill": {
     "duration": 1.071429,
     "end_time": "2022-03-26T13:05:29.018952",
     "exception": false,
     "start_time": "2022-03-26T13:05:27.947523",
     "status": "completed"
    },
    "tags": []
   },
   "outputs": [],
   "source": [
    "import numpy as np\n",
    "import pandas as pd\n",
    "import seaborn as sns\n",
    "import matplotlib.pyplot as plt\n",
    "%matplotlib inline\n",
    "\n",
    "sns.set(rc={'figure.figsize': [10, 6]}, font_scale=1.3)\n",
    "pd.set_option('display.max_rows', 100)"
   ]
  },
  {
   "cell_type": "code",
   "execution_count": 2,
   "id": "951d728b",
   "metadata": {
    "execution": {
     "iopub.execute_input": "2022-03-26T13:05:29.081925Z",
     "iopub.status.busy": "2022-03-26T13:05:29.081231Z",
     "iopub.status.idle": "2022-03-26T13:05:29.113927Z",
     "shell.execute_reply": "2022-03-26T13:05:29.114427Z",
     "shell.execute_reply.started": "2022-03-26T13:03:02.869932Z"
    },
    "papermill": {
     "duration": 0.06551,
     "end_time": "2022-03-26T13:05:29.114599",
     "exception": false,
     "start_time": "2022-03-26T13:05:29.049089",
     "status": "completed"
    },
    "tags": []
   },
   "outputs": [
    {
     "data": {
      "text/html": [
       "<div>\n",
       "<style scoped>\n",
       "    .dataframe tbody tr th:only-of-type {\n",
       "        vertical-align: middle;\n",
       "    }\n",
       "\n",
       "    .dataframe tbody tr th {\n",
       "        vertical-align: top;\n",
       "    }\n",
       "\n",
       "    .dataframe thead th {\n",
       "        text-align: right;\n",
       "    }\n",
       "</style>\n",
       "<table border=\"1\" class=\"dataframe\">\n",
       "  <thead>\n",
       "    <tr style=\"text-align: right;\">\n",
       "      <th></th>\n",
       "      <th>User ID</th>\n",
       "      <th>Gender</th>\n",
       "      <th>Age</th>\n",
       "      <th>EstimatedSalary</th>\n",
       "      <th>Purchased</th>\n",
       "    </tr>\n",
       "  </thead>\n",
       "  <tbody>\n",
       "    <tr>\n",
       "      <th>0</th>\n",
       "      <td>15624510</td>\n",
       "      <td>Male</td>\n",
       "      <td>19</td>\n",
       "      <td>19000</td>\n",
       "      <td>0</td>\n",
       "    </tr>\n",
       "    <tr>\n",
       "      <th>1</th>\n",
       "      <td>15810944</td>\n",
       "      <td>Male</td>\n",
       "      <td>35</td>\n",
       "      <td>20000</td>\n",
       "      <td>0</td>\n",
       "    </tr>\n",
       "    <tr>\n",
       "      <th>2</th>\n",
       "      <td>15668575</td>\n",
       "      <td>Female</td>\n",
       "      <td>26</td>\n",
       "      <td>43000</td>\n",
       "      <td>0</td>\n",
       "    </tr>\n",
       "    <tr>\n",
       "      <th>3</th>\n",
       "      <td>15603246</td>\n",
       "      <td>Female</td>\n",
       "      <td>27</td>\n",
       "      <td>57000</td>\n",
       "      <td>0</td>\n",
       "    </tr>\n",
       "    <tr>\n",
       "      <th>4</th>\n",
       "      <td>15804002</td>\n",
       "      <td>Male</td>\n",
       "      <td>19</td>\n",
       "      <td>76000</td>\n",
       "      <td>0</td>\n",
       "    </tr>\n",
       "  </tbody>\n",
       "</table>\n",
       "</div>"
      ],
      "text/plain": [
       "    User ID  Gender  Age  EstimatedSalary  Purchased\n",
       "0  15624510    Male   19            19000          0\n",
       "1  15810944    Male   35            20000          0\n",
       "2  15668575  Female   26            43000          0\n",
       "3  15603246  Female   27            57000          0\n",
       "4  15804002    Male   19            76000          0"
      ]
     },
     "execution_count": 2,
     "metadata": {},
     "output_type": "execute_result"
    }
   ],
   "source": [
    "df=pd.read_csv('../input/social-network-ads/Social_Network_Ads.csv')\n",
    "df.head()"
   ]
  },
  {
   "cell_type": "code",
   "execution_count": 3,
   "id": "bd142c48",
   "metadata": {
    "execution": {
     "iopub.execute_input": "2022-03-26T13:05:29.175542Z",
     "iopub.status.busy": "2022-03-26T13:05:29.174617Z",
     "iopub.status.idle": "2022-03-26T13:05:29.199298Z",
     "shell.execute_reply": "2022-03-26T13:05:29.198181Z",
     "shell.execute_reply.started": "2022-03-26T13:03:02.919065Z"
    },
    "papermill": {
     "duration": 0.05639,
     "end_time": "2022-03-26T13:05:29.199536",
     "exception": false,
     "start_time": "2022-03-26T13:05:29.143146",
     "status": "completed"
    },
    "tags": []
   },
   "outputs": [
    {
     "name": "stdout",
     "output_type": "stream",
     "text": [
      "<class 'pandas.core.frame.DataFrame'>\n",
      "RangeIndex: 400 entries, 0 to 399\n",
      "Data columns (total 5 columns):\n",
      " #   Column           Non-Null Count  Dtype \n",
      "---  ------           --------------  ----- \n",
      " 0   User ID          400 non-null    int64 \n",
      " 1   Gender           400 non-null    object\n",
      " 2   Age              400 non-null    int64 \n",
      " 3   EstimatedSalary  400 non-null    int64 \n",
      " 4   Purchased        400 non-null    int64 \n",
      "dtypes: int64(4), object(1)\n",
      "memory usage: 15.8+ KB\n"
     ]
    }
   ],
   "source": [
    "df.info()"
   ]
  },
  {
   "cell_type": "code",
   "execution_count": 4,
   "id": "78879c6d",
   "metadata": {
    "execution": {
     "iopub.execute_input": "2022-03-26T13:05:29.267248Z",
     "iopub.status.busy": "2022-03-26T13:05:29.266614Z",
     "iopub.status.idle": "2022-03-26T13:05:29.287816Z",
     "shell.execute_reply": "2022-03-26T13:05:29.287152Z",
     "shell.execute_reply.started": "2022-03-26T13:03:02.945654Z"
    },
    "papermill": {
     "duration": 0.058936,
     "end_time": "2022-03-26T13:05:29.287966",
     "exception": false,
     "start_time": "2022-03-26T13:05:29.229030",
     "status": "completed"
    },
    "tags": []
   },
   "outputs": [
    {
     "data": {
      "text/html": [
       "<div>\n",
       "<style scoped>\n",
       "    .dataframe tbody tr th:only-of-type {\n",
       "        vertical-align: middle;\n",
       "    }\n",
       "\n",
       "    .dataframe tbody tr th {\n",
       "        vertical-align: top;\n",
       "    }\n",
       "\n",
       "    .dataframe thead th {\n",
       "        text-align: right;\n",
       "    }\n",
       "</style>\n",
       "<table border=\"1\" class=\"dataframe\">\n",
       "  <thead>\n",
       "    <tr style=\"text-align: right;\">\n",
       "      <th></th>\n",
       "      <th>count</th>\n",
       "      <th>mean</th>\n",
       "      <th>std</th>\n",
       "      <th>min</th>\n",
       "      <th>25%</th>\n",
       "      <th>50%</th>\n",
       "      <th>75%</th>\n",
       "      <th>max</th>\n",
       "    </tr>\n",
       "  </thead>\n",
       "  <tbody>\n",
       "    <tr>\n",
       "      <th>User ID</th>\n",
       "      <td>400.0</td>\n",
       "      <td>1.569154e+07</td>\n",
       "      <td>71658.321581</td>\n",
       "      <td>15566689.0</td>\n",
       "      <td>15626763.75</td>\n",
       "      <td>15694341.5</td>\n",
       "      <td>15750363.0</td>\n",
       "      <td>15815236.0</td>\n",
       "    </tr>\n",
       "    <tr>\n",
       "      <th>Age</th>\n",
       "      <td>400.0</td>\n",
       "      <td>3.765500e+01</td>\n",
       "      <td>10.482877</td>\n",
       "      <td>18.0</td>\n",
       "      <td>29.75</td>\n",
       "      <td>37.0</td>\n",
       "      <td>46.0</td>\n",
       "      <td>60.0</td>\n",
       "    </tr>\n",
       "    <tr>\n",
       "      <th>EstimatedSalary</th>\n",
       "      <td>400.0</td>\n",
       "      <td>6.974250e+04</td>\n",
       "      <td>34096.960282</td>\n",
       "      <td>15000.0</td>\n",
       "      <td>43000.00</td>\n",
       "      <td>70000.0</td>\n",
       "      <td>88000.0</td>\n",
       "      <td>150000.0</td>\n",
       "    </tr>\n",
       "    <tr>\n",
       "      <th>Purchased</th>\n",
       "      <td>400.0</td>\n",
       "      <td>3.575000e-01</td>\n",
       "      <td>0.479864</td>\n",
       "      <td>0.0</td>\n",
       "      <td>0.00</td>\n",
       "      <td>0.0</td>\n",
       "      <td>1.0</td>\n",
       "      <td>1.0</td>\n",
       "    </tr>\n",
       "  </tbody>\n",
       "</table>\n",
       "</div>"
      ],
      "text/plain": [
       "                 count          mean           std         min          25%  \\\n",
       "User ID          400.0  1.569154e+07  71658.321581  15566689.0  15626763.75   \n",
       "Age              400.0  3.765500e+01     10.482877        18.0        29.75   \n",
       "EstimatedSalary  400.0  6.974250e+04  34096.960282     15000.0     43000.00   \n",
       "Purchased        400.0  3.575000e-01      0.479864         0.0         0.00   \n",
       "\n",
       "                        50%         75%         max  \n",
       "User ID          15694341.5  15750363.0  15815236.0  \n",
       "Age                    37.0        46.0        60.0  \n",
       "EstimatedSalary     70000.0     88000.0    150000.0  \n",
       "Purchased               0.0         1.0         1.0  "
      ]
     },
     "execution_count": 4,
     "metadata": {},
     "output_type": "execute_result"
    }
   ],
   "source": [
    "df.describe().T"
   ]
  },
  {
   "cell_type": "code",
   "execution_count": 5,
   "id": "70324afa",
   "metadata": {
    "execution": {
     "iopub.execute_input": "2022-03-26T13:05:29.354201Z",
     "iopub.status.busy": "2022-03-26T13:05:29.353506Z",
     "iopub.status.idle": "2022-03-26T13:05:29.357187Z",
     "shell.execute_reply": "2022-03-26T13:05:29.356722Z",
     "shell.execute_reply.started": "2022-03-26T13:03:02.988218Z"
    },
    "papermill": {
     "duration": 0.040273,
     "end_time": "2022-03-26T13:05:29.357329",
     "exception": false,
     "start_time": "2022-03-26T13:05:29.317056",
     "status": "completed"
    },
    "tags": []
   },
   "outputs": [
    {
     "data": {
      "text/plain": [
       "User ID            0\n",
       "Gender             0\n",
       "Age                0\n",
       "EstimatedSalary    0\n",
       "Purchased          0\n",
       "dtype: int64"
      ]
     },
     "execution_count": 5,
     "metadata": {},
     "output_type": "execute_result"
    }
   ],
   "source": [
    "df.isnull().sum()"
   ]
  },
  {
   "cell_type": "code",
   "execution_count": 6,
   "id": "84477882",
   "metadata": {
    "execution": {
     "iopub.execute_input": "2022-03-26T13:05:29.423144Z",
     "iopub.status.busy": "2022-03-26T13:05:29.422472Z",
     "iopub.status.idle": "2022-03-26T13:05:29.427290Z",
     "shell.execute_reply": "2022-03-26T13:05:29.427789Z",
     "shell.execute_reply.started": "2022-03-26T13:03:03.002266Z"
    },
    "papermill": {
     "duration": 0.039726,
     "end_time": "2022-03-26T13:05:29.427956",
     "exception": false,
     "start_time": "2022-03-26T13:05:29.388230",
     "status": "completed"
    },
    "tags": []
   },
   "outputs": [
    {
     "data": {
      "text/plain": [
       "0"
      ]
     },
     "execution_count": 6,
     "metadata": {},
     "output_type": "execute_result"
    }
   ],
   "source": [
    "df.duplicated().sum()"
   ]
  },
  {
   "cell_type": "code",
   "execution_count": 7,
   "id": "a5b40ae6",
   "metadata": {
    "execution": {
     "iopub.execute_input": "2022-03-26T13:05:29.493707Z",
     "iopub.status.busy": "2022-03-26T13:05:29.493031Z",
     "iopub.status.idle": "2022-03-26T13:05:29.495346Z",
     "shell.execute_reply": "2022-03-26T13:05:29.495781Z",
     "shell.execute_reply.started": "2022-03-26T13:03:03.012982Z"
    },
    "papermill": {
     "duration": 0.038744,
     "end_time": "2022-03-26T13:05:29.495957",
     "exception": false,
     "start_time": "2022-03-26T13:05:29.457213",
     "status": "completed"
    },
    "tags": []
   },
   "outputs": [],
   "source": [
    "df.drop(columns='User ID',axis=1,inplace=True)"
   ]
  },
  {
   "cell_type": "code",
   "execution_count": 8,
   "id": "88d4f836",
   "metadata": {
    "execution": {
     "iopub.execute_input": "2022-03-26T13:05:29.564603Z",
     "iopub.status.busy": "2022-03-26T13:05:29.558460Z",
     "iopub.status.idle": "2022-03-26T13:05:29.567497Z",
     "shell.execute_reply": "2022-03-26T13:05:29.568049Z",
     "shell.execute_reply.started": "2022-03-26T13:03:03.022759Z"
    },
    "papermill": {
     "duration": 0.041978,
     "end_time": "2022-03-26T13:05:29.568204",
     "exception": false,
     "start_time": "2022-03-26T13:05:29.526226",
     "status": "completed"
    },
    "tags": []
   },
   "outputs": [
    {
     "data": {
      "text/html": [
       "<div>\n",
       "<style scoped>\n",
       "    .dataframe tbody tr th:only-of-type {\n",
       "        vertical-align: middle;\n",
       "    }\n",
       "\n",
       "    .dataframe tbody tr th {\n",
       "        vertical-align: top;\n",
       "    }\n",
       "\n",
       "    .dataframe thead th {\n",
       "        text-align: right;\n",
       "    }\n",
       "</style>\n",
       "<table border=\"1\" class=\"dataframe\">\n",
       "  <thead>\n",
       "    <tr style=\"text-align: right;\">\n",
       "      <th></th>\n",
       "      <th>Gender</th>\n",
       "      <th>Age</th>\n",
       "      <th>EstimatedSalary</th>\n",
       "      <th>Purchased</th>\n",
       "    </tr>\n",
       "  </thead>\n",
       "  <tbody>\n",
       "    <tr>\n",
       "      <th>0</th>\n",
       "      <td>Male</td>\n",
       "      <td>19</td>\n",
       "      <td>19000</td>\n",
       "      <td>0</td>\n",
       "    </tr>\n",
       "    <tr>\n",
       "      <th>1</th>\n",
       "      <td>Male</td>\n",
       "      <td>35</td>\n",
       "      <td>20000</td>\n",
       "      <td>0</td>\n",
       "    </tr>\n",
       "    <tr>\n",
       "      <th>2</th>\n",
       "      <td>Female</td>\n",
       "      <td>26</td>\n",
       "      <td>43000</td>\n",
       "      <td>0</td>\n",
       "    </tr>\n",
       "    <tr>\n",
       "      <th>3</th>\n",
       "      <td>Female</td>\n",
       "      <td>27</td>\n",
       "      <td>57000</td>\n",
       "      <td>0</td>\n",
       "    </tr>\n",
       "    <tr>\n",
       "      <th>4</th>\n",
       "      <td>Male</td>\n",
       "      <td>19</td>\n",
       "      <td>76000</td>\n",
       "      <td>0</td>\n",
       "    </tr>\n",
       "  </tbody>\n",
       "</table>\n",
       "</div>"
      ],
      "text/plain": [
       "   Gender  Age  EstimatedSalary  Purchased\n",
       "0    Male   19            19000          0\n",
       "1    Male   35            20000          0\n",
       "2  Female   26            43000          0\n",
       "3  Female   27            57000          0\n",
       "4    Male   19            76000          0"
      ]
     },
     "execution_count": 8,
     "metadata": {},
     "output_type": "execute_result"
    }
   ],
   "source": [
    "df.head()"
   ]
  },
  {
   "cell_type": "markdown",
   "id": "151cfb35",
   "metadata": {
    "papermill": {
     "duration": 0.029237,
     "end_time": "2022-03-26T13:05:29.627216",
     "exception": false,
     "start_time": "2022-03-26T13:05:29.597979",
     "status": "completed"
    },
    "tags": []
   },
   "source": [
    "## Data Wangling & Visualization"
   ]
  },
  {
   "cell_type": "markdown",
   "id": "b0a13d83",
   "metadata": {
    "papermill": {
     "duration": 0.033651,
     "end_time": "2022-03-26T13:05:29.691581",
     "exception": false,
     "start_time": "2022-03-26T13:05:29.657930",
     "status": "completed"
    },
    "tags": []
   },
   "source": [
    "#### Target \"Purchased\""
   ]
  },
  {
   "cell_type": "code",
   "execution_count": 9,
   "id": "da91e972",
   "metadata": {
    "execution": {
     "iopub.execute_input": "2022-03-26T13:05:29.776903Z",
     "iopub.status.busy": "2022-03-26T13:05:29.775943Z",
     "iopub.status.idle": "2022-03-26T13:05:29.783594Z",
     "shell.execute_reply": "2022-03-26T13:05:29.784150Z",
     "shell.execute_reply.started": "2022-03-26T13:03:03.039851Z"
    },
    "papermill": {
     "duration": 0.059761,
     "end_time": "2022-03-26T13:05:29.784323",
     "exception": false,
     "start_time": "2022-03-26T13:05:29.724562",
     "status": "completed"
    },
    "tags": []
   },
   "outputs": [
    {
     "data": {
      "text/plain": [
       "0    257\n",
       "1    143\n",
       "Name: Purchased, dtype: int64"
      ]
     },
     "execution_count": 9,
     "metadata": {},
     "output_type": "execute_result"
    }
   ],
   "source": [
    "df.Purchased.value_counts()"
   ]
  },
  {
   "cell_type": "code",
   "execution_count": 10,
   "id": "90fe080f",
   "metadata": {
    "execution": {
     "iopub.execute_input": "2022-03-26T13:05:29.861620Z",
     "iopub.status.busy": "2022-03-26T13:05:29.860939Z",
     "iopub.status.idle": "2022-03-26T13:05:30.041580Z",
     "shell.execute_reply": "2022-03-26T13:05:30.040932Z",
     "shell.execute_reply.started": "2022-03-26T13:03:03.053074Z"
    },
    "papermill": {
     "duration": 0.21649,
     "end_time": "2022-03-26T13:05:30.041734",
     "exception": false,
     "start_time": "2022-03-26T13:05:29.825244",
     "status": "completed"
    },
    "tags": []
   },
   "outputs": [
    {
     "name": "stderr",
     "output_type": "stream",
     "text": [
      "/opt/conda/lib/python3.7/site-packages/seaborn/_decorators.py:43: FutureWarning: Pass the following variable as a keyword arg: x. From version 0.12, the only valid positional argument will be `data`, and passing other arguments without an explicit keyword will result in an error or misinterpretation.\n",
      "  FutureWarning\n"
     ]
    },
    {
     "data": {
      "text/plain": [
       "<AxesSubplot:xlabel='Purchased', ylabel='count'>"
      ]
     },
     "execution_count": 10,
     "metadata": {},
     "output_type": "execute_result"
    },
    {
     "data": {
      "image/png": "[encoded data removed]",
      "text/plain": [
       "<Figure size 720x432 with 1 Axes>"
      ]
     },
     "metadata": {},
     "output_type": "display_data"
    }
   ],
   "source": [
    "sns.countplot(df['Purchased'])"
   ]
  },
  {
   "cell_type": "code",
   "execution_count": 11,
   "id": "e289e5ba",
   "metadata": {
    "execution": {
     "iopub.execute_input": "2022-03-26T13:05:30.115701Z",
     "iopub.status.busy": "2022-03-26T13:05:30.114098Z",
     "iopub.status.idle": "2022-03-26T13:05:30.470525Z",
     "shell.execute_reply": "2022-03-26T13:05:30.469997Z",
     "shell.execute_reply.started": "2022-03-26T13:03:03.295760Z"
    },
    "papermill": {
     "duration": 0.396631,
     "end_time": "2022-03-26T13:05:30.470714",
     "exception": false,
     "start_time": "2022-03-26T13:05:30.074083",
     "status": "completed"
    },
    "tags": []
   },
   "outputs": [
    {
     "data": {
      "text/plain": [
       "<AxesSubplot:xlabel='Purchased', ylabel='EstimatedSalary'>"
      ]
     },
     "execution_count": 11,
     "metadata": {},
     "output_type": "execute_result"
    },
    {
     "data": {
      "image/png": "[encoded data removed]",
      "text/plain": [
       "<Figure size 720x432 with 1 Axes>"
      ]
     },
     "metadata": {},
     "output_type": "display_data"
    }
   ],
   "source": [
    "sns.boxplot(data=df,x='Purchased',y='EstimatedSalary',hue='Gender')"
   ]
  },
  {
   "cell_type": "code",
   "execution_count": 12,
   "id": "4284259c",
   "metadata": {
    "execution": {
     "iopub.execute_input": "2022-03-26T13:05:30.547596Z",
     "iopub.status.busy": "2022-03-26T13:05:30.546835Z",
     "iopub.status.idle": "2022-03-26T13:05:30.828158Z",
     "shell.execute_reply": "2022-03-26T13:05:30.827662Z",
     "shell.execute_reply.started": "2022-03-26T13:03:03.651108Z"
    },
    "papermill": {
     "duration": 0.321541,
     "end_time": "2022-03-26T13:05:30.828289",
     "exception": false,
     "start_time": "2022-03-26T13:05:30.506748",
     "status": "completed"
    },
    "tags": []
   },
   "outputs": [
    {
     "data": {
      "text/plain": [
       "<AxesSubplot:xlabel='Purchased', ylabel='Age'>"
      ]
     },
     "execution_count": 12,
     "metadata": {},
     "output_type": "execute_result"
    },
    {
     "data": {
      "image/png": "[encoded data removed]",
      "text/plain": [
       "<Figure size 720x432 with 1 Axes>"
      ]
     },
     "metadata": {},
     "output_type": "display_data"
    }
   ],
   "source": [
    "sns.boxplot(data=df,x='Purchased',y='Age',hue='Gender')"
   ]
  },
  {
   "cell_type": "markdown",
   "id": "73631cda",
   "metadata": {
    "papermill": {
     "duration": 0.036268,
     "end_time": "2022-03-26T13:05:30.900201",
     "exception": false,
     "start_time": "2022-03-26T13:05:30.863933",
     "status": "completed"
    },
    "tags": []
   },
   "source": [
    "### Features"
   ]
  },
  {
   "cell_type": "markdown",
   "id": "9ebf8ce5",
   "metadata": {
    "papermill": {
     "duration": 0.037672,
     "end_time": "2022-03-26T13:05:30.975596",
     "exception": false,
     "start_time": "2022-03-26T13:05:30.937924",
     "status": "completed"
    },
    "tags": []
   },
   "source": [
    "1. Gender"
   ]
  },
  {
   "cell_type": "code",
   "execution_count": 13,
   "id": "9e106d2f",
   "metadata": {
    "execution": {
     "iopub.execute_input": "2022-03-26T13:05:31.059237Z",
     "iopub.status.busy": "2022-03-26T13:05:31.058547Z",
     "iopub.status.idle": "2022-03-26T13:05:31.061208Z",
     "shell.execute_reply": "2022-03-26T13:05:31.061822Z",
     "shell.execute_reply.started": "2022-03-26T13:03:03.932558Z"
    },
    "papermill": {
     "duration": 0.048541,
     "end_time": "2022-03-26T13:05:31.061993",
     "exception": false,
     "start_time": "2022-03-26T13:05:31.013452",
     "status": "completed"
    },
    "tags": []
   },
   "outputs": [
    {
     "data": {
      "text/plain": [
       "Female    204\n",
       "Male      196\n",
       "Name: Gender, dtype: int64"
      ]
     },
     "execution_count": 13,
     "metadata": {},
     "output_type": "execute_result"
    }
   ],
   "source": [
    "df.Gender.value_counts()"
   ]
  },
  {
   "cell_type": "code",
   "execution_count": 14,
   "id": "2da0d1e2",
   "metadata": {
    "execution": {
     "iopub.execute_input": "2022-03-26T13:05:31.139153Z",
     "iopub.status.busy": "2022-03-26T13:05:31.138189Z",
     "iopub.status.idle": "2022-03-26T13:05:31.335397Z",
     "shell.execute_reply": "2022-03-26T13:05:31.336011Z",
     "shell.execute_reply.started": "2022-03-26T13:03:03.941562Z"
    },
    "papermill": {
     "duration": 0.23931,
     "end_time": "2022-03-26T13:05:31.336174",
     "exception": false,
     "start_time": "2022-03-26T13:05:31.096864",
     "status": "completed"
    },
    "tags": []
   },
   "outputs": [
    {
     "data": {
      "text/plain": [
       "<AxesSubplot:xlabel='Gender', ylabel='count'>"
      ]
     },
     "execution_count": 14,
     "metadata": {},
     "output_type": "execute_result"
    },
    {
     "data": {
      "image/png": "[encoded data removed]",
      "text/plain": [
       "<Figure size 720x432 with 1 Axes>"
      ]
     },
     "metadata": {},
     "output_type": "display_data"
    }
   ],
   "source": [
    "sns.countplot(data=df,x='Gender')"
   ]
  },
  {
   "cell_type": "markdown",
   "id": "432025d2",
   "metadata": {
    "papermill": {
     "duration": 0.040625,
     "end_time": "2022-03-26T13:05:31.415781",
     "exception": false,
     "start_time": "2022-03-26T13:05:31.375156",
     "status": "completed"
    },
    "tags": []
   },
   "source": [
    "2. EstimatedSalary\n",
    "3. Age"
   ]
  },
  {
   "cell_type": "code",
   "execution_count": 15,
   "id": "a9e31330",
   "metadata": {
    "execution": {
     "iopub.execute_input": "2022-03-26T13:05:31.500518Z",
     "iopub.status.busy": "2022-03-26T13:05:31.494736Z",
     "iopub.status.idle": "2022-03-26T13:05:31.518735Z",
     "shell.execute_reply": "2022-03-26T13:05:31.519196Z",
     "shell.execute_reply.started": "2022-03-26T13:03:04.147370Z"
    },
    "papermill": {
     "duration": 0.06559,
     "end_time": "2022-03-26T13:05:31.519377",
     "exception": false,
     "start_time": "2022-03-26T13:05:31.453787",
     "status": "completed"
    },
    "tags": []
   },
   "outputs": [
    {
     "data": {
      "text/html": [
       "<div>\n",
       "<style scoped>\n",
       "    .dataframe tbody tr th:only-of-type {\n",
       "        vertical-align: middle;\n",
       "    }\n",
       "\n",
       "    .dataframe tbody tr th {\n",
       "        vertical-align: top;\n",
       "    }\n",
       "\n",
       "    .dataframe thead th {\n",
       "        text-align: right;\n",
       "    }\n",
       "</style>\n",
       "<table border=\"1\" class=\"dataframe\">\n",
       "  <thead>\n",
       "    <tr style=\"text-align: right;\">\n",
       "      <th></th>\n",
       "      <th>count</th>\n",
       "      <th>mean</th>\n",
       "      <th>std</th>\n",
       "      <th>min</th>\n",
       "      <th>25%</th>\n",
       "      <th>50%</th>\n",
       "      <th>75%</th>\n",
       "      <th>max</th>\n",
       "    </tr>\n",
       "  </thead>\n",
       "  <tbody>\n",
       "    <tr>\n",
       "      <th>Age</th>\n",
       "      <td>400.0</td>\n",
       "      <td>37.6550</td>\n",
       "      <td>10.482877</td>\n",
       "      <td>18.0</td>\n",
       "      <td>29.75</td>\n",
       "      <td>37.0</td>\n",
       "      <td>46.0</td>\n",
       "      <td>60.0</td>\n",
       "    </tr>\n",
       "    <tr>\n",
       "      <th>EstimatedSalary</th>\n",
       "      <td>400.0</td>\n",
       "      <td>69742.5000</td>\n",
       "      <td>34096.960282</td>\n",
       "      <td>15000.0</td>\n",
       "      <td>43000.00</td>\n",
       "      <td>70000.0</td>\n",
       "      <td>88000.0</td>\n",
       "      <td>150000.0</td>\n",
       "    </tr>\n",
       "    <tr>\n",
       "      <th>Purchased</th>\n",
       "      <td>400.0</td>\n",
       "      <td>0.3575</td>\n",
       "      <td>0.479864</td>\n",
       "      <td>0.0</td>\n",
       "      <td>0.00</td>\n",
       "      <td>0.0</td>\n",
       "      <td>1.0</td>\n",
       "      <td>1.0</td>\n",
       "    </tr>\n",
       "  </tbody>\n",
       "</table>\n",
       "</div>"
      ],
      "text/plain": [
       "                 count        mean           std      min       25%      50%  \\\n",
       "Age              400.0     37.6550     10.482877     18.0     29.75     37.0   \n",
       "EstimatedSalary  400.0  69742.5000  34096.960282  15000.0  43000.00  70000.0   \n",
       "Purchased        400.0      0.3575      0.479864      0.0      0.00      0.0   \n",
       "\n",
       "                     75%       max  \n",
       "Age                 46.0      60.0  \n",
       "EstimatedSalary  88000.0  150000.0  \n",
       "Purchased            1.0       1.0  "
      ]
     },
     "execution_count": 15,
     "metadata": {},
     "output_type": "execute_result"
    }
   ],
   "source": [
    "df.describe().T"
   ]
  },
  {
   "cell_type": "code",
   "execution_count": 16,
   "id": "3d5e4f86",
   "metadata": {
    "execution": {
     "iopub.execute_input": "2022-03-26T13:05:31.595350Z",
     "iopub.status.busy": "2022-03-26T13:05:31.594751Z",
     "iopub.status.idle": "2022-03-26T13:05:32.078109Z",
     "shell.execute_reply": "2022-03-26T13:05:32.078575Z",
     "shell.execute_reply.started": "2022-03-26T13:03:04.173259Z"
    },
    "papermill": {
     "duration": 0.523152,
     "end_time": "2022-03-26T13:05:32.078740",
     "exception": false,
     "start_time": "2022-03-26T13:05:31.555588",
     "status": "completed"
    },
    "tags": []
   },
   "outputs": [
    {
     "name": "stderr",
     "output_type": "stream",
     "text": [
      "/opt/conda/lib/python3.7/site-packages/seaborn/distributions.py:2619: FutureWarning: `distplot` is a deprecated function and will be removed in a future version. Please adapt your code to use either `displot` (a figure-level function with similar flexibility) or `histplot` (an axes-level function for histograms).\n",
      "  warnings.warn(msg, FutureWarning)\n",
      "/opt/conda/lib/python3.7/site-packages/seaborn/distributions.py:2619: FutureWarning: `distplot` is a deprecated function and will be removed in a future version. Please adapt your code to use either `displot` (a figure-level function with similar flexibility) or `histplot` (an axes-level function for histograms).\n",
      "  warnings.warn(msg, FutureWarning)\n"
     ]
    },
    {
     "data": {
      "image/png": "[encoded data removed]",
      "text/plain": [
       "<Figure size 720x432 with 2 Axes>"
      ]
     },
     "metadata": {},
     "output_type": "display_data"
    }
   ],
   "source": [
    "cols=['EstimatedSalary','Age']\n",
    "fig,ax=plt.subplots(1,2,figsize=(10,6))\n",
    "for j,i in enumerate(cols):\n",
    "    sns.distplot(df[i],ax=ax[j])\n",
    "    "
   ]
  },
  {
   "cell_type": "code",
   "execution_count": 17,
   "id": "484c48af",
   "metadata": {
    "execution": {
     "iopub.execute_input": "2022-03-26T13:05:32.177097Z",
     "iopub.status.busy": "2022-03-26T13:05:32.174929Z",
     "iopub.status.idle": "2022-03-26T13:05:32.506929Z",
     "shell.execute_reply": "2022-03-26T13:05:32.507446Z",
     "shell.execute_reply.started": "2022-03-26T13:03:04.637237Z"
    },
    "papermill": {
     "duration": 0.390895,
     "end_time": "2022-03-26T13:05:32.507620",
     "exception": false,
     "start_time": "2022-03-26T13:05:32.116725",
     "status": "completed"
    },
    "tags": []
   },
   "outputs": [
    {
     "data": {
      "image/png": "[encoded data removed]",
      "text/plain": [
       "<Figure size 720x432 with 2 Axes>"
      ]
     },
     "metadata": {},
     "output_type": "display_data"
    }
   ],
   "source": [
    "cols=['EstimatedSalary','Age']\n",
    "fig,ax=plt.subplots(1,2,figsize=(10,6))\n",
    "for j,i in enumerate(cols):\n",
    "    sns.barplot(data=df,x='Purchased',y=i,ax=ax[j])\n",
    "    "
   ]
  },
  {
   "cell_type": "markdown",
   "id": "92ec34f3",
   "metadata": {
    "papermill": {
     "duration": 0.040015,
     "end_time": "2022-03-26T13:05:32.586763",
     "exception": false,
     "start_time": "2022-03-26T13:05:32.546748",
     "status": "completed"
    },
    "tags": []
   },
   "source": [
    "###  Preprocessing @ ML"
   ]
  },
  {
   "cell_type": "markdown",
   "id": "0f307297",
   "metadata": {
    "papermill": {
     "duration": 0.03908,
     "end_time": "2022-03-26T13:05:32.664665",
     "exception": false,
     "start_time": "2022-03-26T13:05:32.625585",
     "status": "completed"
    },
    "tags": []
   },
   "source": [
    "1. encoding"
   ]
  },
  {
   "cell_type": "code",
   "execution_count": 18,
   "id": "506d70ac",
   "metadata": {
    "execution": {
     "iopub.execute_input": "2022-03-26T13:05:32.750485Z",
     "iopub.status.busy": "2022-03-26T13:05:32.744676Z",
     "iopub.status.idle": "2022-03-26T13:05:32.752237Z",
     "shell.execute_reply": "2022-03-26T13:05:32.752816Z",
     "shell.execute_reply.started": "2022-03-26T13:03:05.040125Z"
    },
    "papermill": {
     "duration": 0.049477,
     "end_time": "2022-03-26T13:05:32.752988",
     "exception": false,
     "start_time": "2022-03-26T13:05:32.703511",
     "status": "completed"
    },
    "tags": []
   },
   "outputs": [],
   "source": [
    "df=pd.get_dummies(columns=['Gender'],data=df,drop_first=True)"
   ]
  },
  {
   "cell_type": "code",
   "execution_count": 19,
   "id": "c1cb66ca",
   "metadata": {
    "execution": {
     "iopub.execute_input": "2022-03-26T13:05:32.835176Z",
     "iopub.status.busy": "2022-03-26T13:05:32.834595Z",
     "iopub.status.idle": "2022-03-26T13:05:32.842551Z",
     "shell.execute_reply": "2022-03-26T13:05:32.843094Z",
     "shell.execute_reply.started": "2022-03-26T13:03:05.049962Z"
    },
    "papermill": {
     "duration": 0.051113,
     "end_time": "2022-03-26T13:05:32.843275",
     "exception": false,
     "start_time": "2022-03-26T13:05:32.792162",
     "status": "completed"
    },
    "tags": []
   },
   "outputs": [
    {
     "data": {
      "text/html": [
       "<div>\n",
       "<style scoped>\n",
       "    .dataframe tbody tr th:only-of-type {\n",
       "        vertical-align: middle;\n",
       "    }\n",
       "\n",
       "    .dataframe tbody tr th {\n",
       "        vertical-align: top;\n",
       "    }\n",
       "\n",
       "    .dataframe thead th {\n",
       "        text-align: right;\n",
       "    }\n",
       "</style>\n",
       "<table border=\"1\" class=\"dataframe\">\n",
       "  <thead>\n",
       "    <tr style=\"text-align: right;\">\n",
       "      <th></th>\n",
       "      <th>Age</th>\n",
       "      <th>EstimatedSalary</th>\n",
       "      <th>Purchased</th>\n",
       "      <th>Gender_Male</th>\n",
       "    </tr>\n",
       "  </thead>\n",
       "  <tbody>\n",
       "    <tr>\n",
       "      <th>0</th>\n",
       "      <td>19</td>\n",
       "      <td>19000</td>\n",
       "      <td>0</td>\n",
       "      <td>1</td>\n",
       "    </tr>\n",
       "    <tr>\n",
       "      <th>1</th>\n",
       "      <td>35</td>\n",
       "      <td>20000</td>\n",
       "      <td>0</td>\n",
       "      <td>1</td>\n",
       "    </tr>\n",
       "    <tr>\n",
       "      <th>2</th>\n",
       "      <td>26</td>\n",
       "      <td>43000</td>\n",
       "      <td>0</td>\n",
       "      <td>0</td>\n",
       "    </tr>\n",
       "    <tr>\n",
       "      <th>3</th>\n",
       "      <td>27</td>\n",
       "      <td>57000</td>\n",
       "      <td>0</td>\n",
       "      <td>0</td>\n",
       "    </tr>\n",
       "    <tr>\n",
       "      <th>4</th>\n",
       "      <td>19</td>\n",
       "      <td>76000</td>\n",
       "      <td>0</td>\n",
       "      <td>1</td>\n",
       "    </tr>\n",
       "  </tbody>\n",
       "</table>\n",
       "</div>"
      ],
      "text/plain": [
       "   Age  EstimatedSalary  Purchased  Gender_Male\n",
       "0   19            19000          0            1\n",
       "1   35            20000          0            1\n",
       "2   26            43000          0            0\n",
       "3   27            57000          0            0\n",
       "4   19            76000          0            1"
      ]
     },
     "execution_count": 19,
     "metadata": {},
     "output_type": "execute_result"
    }
   ],
   "source": [
    "df.head()"
   ]
  },
  {
   "cell_type": "markdown",
   "id": "95030350",
   "metadata": {
    "papermill": {
     "duration": 0.040834,
     "end_time": "2022-03-26T13:05:32.923954",
     "exception": false,
     "start_time": "2022-03-26T13:05:32.883120",
     "status": "completed"
    },
    "tags": []
   },
   "source": [
    "2. spliting data"
   ]
  },
  {
   "cell_type": "code",
   "execution_count": 20,
   "id": "6ffacd53",
   "metadata": {
    "execution": {
     "iopub.execute_input": "2022-03-26T13:05:33.004576Z",
     "iopub.status.busy": "2022-03-26T13:05:33.003958Z",
     "iopub.status.idle": "2022-03-26T13:05:33.196079Z",
     "shell.execute_reply": "2022-03-26T13:05:33.195420Z",
     "shell.execute_reply.started": "2022-03-26T13:03:05.065479Z"
    },
    "papermill": {
     "duration": 0.23378,
     "end_time": "2022-03-26T13:05:33.196213",
     "exception": false,
     "start_time": "2022-03-26T13:05:32.962433",
     "status": "completed"
    },
    "tags": []
   },
   "outputs": [],
   "source": [
    "from sklearn.model_selection import train_test_split\n",
    "\n",
    "y=df.Purchased\n",
    "x=df.drop(columns='Purchased',axis=1)\n",
    "x_train, x_test, y_train, y_test = train_test_split(x, y, test_size=0.15,random_state=22,shuffle=True,stratify=df['Purchased'])"
   ]
  },
  {
   "cell_type": "code",
   "execution_count": 21,
   "id": "1dbcf79b",
   "metadata": {
    "execution": {
     "iopub.execute_input": "2022-03-26T13:05:33.279989Z",
     "iopub.status.busy": "2022-03-26T13:05:33.279284Z",
     "iopub.status.idle": "2022-03-26T13:05:33.281691Z",
     "shell.execute_reply": "2022-03-26T13:05:33.282116Z",
     "shell.execute_reply.started": "2022-03-26T13:03:05.254786Z"
    },
    "papermill": {
     "duration": 0.047066,
     "end_time": "2022-03-26T13:05:33.282269",
     "exception": false,
     "start_time": "2022-03-26T13:05:33.235203",
     "status": "completed"
    },
    "tags": []
   },
   "outputs": [
    {
     "data": {
      "text/plain": [
       "((340, 3), (60, 3), (340,), (60,))"
      ]
     },
     "execution_count": 21,
     "metadata": {},
     "output_type": "execute_result"
    }
   ],
   "source": [
    "x_train.shape, x_test.shape, y_train.shape, y_test.shape"
   ]
  },
  {
   "cell_type": "code",
   "execution_count": 22,
   "id": "416b54ee",
   "metadata": {
    "execution": {
     "iopub.execute_input": "2022-03-26T13:05:33.364900Z",
     "iopub.status.busy": "2022-03-26T13:05:33.364185Z",
     "iopub.status.idle": "2022-03-26T13:05:33.372072Z",
     "shell.execute_reply": "2022-03-26T13:05:33.372580Z",
     "shell.execute_reply.started": "2022-03-26T13:03:05.262491Z"
    },
    "papermill": {
     "duration": 0.050825,
     "end_time": "2022-03-26T13:05:33.372744",
     "exception": false,
     "start_time": "2022-03-26T13:05:33.321919",
     "status": "completed"
    },
    "tags": []
   },
   "outputs": [
    {
     "data": {
      "text/html": [
       "<div>\n",
       "<style scoped>\n",
       "    .dataframe tbody tr th:only-of-type {\n",
       "        vertical-align: middle;\n",
       "    }\n",
       "\n",
       "    .dataframe tbody tr th {\n",
       "        vertical-align: top;\n",
       "    }\n",
       "\n",
       "    .dataframe thead th {\n",
       "        text-align: right;\n",
       "    }\n",
       "</style>\n",
       "<table border=\"1\" class=\"dataframe\">\n",
       "  <thead>\n",
       "    <tr style=\"text-align: right;\">\n",
       "      <th></th>\n",
       "      <th>Age</th>\n",
       "      <th>EstimatedSalary</th>\n",
       "      <th>Purchased</th>\n",
       "      <th>Gender_Male</th>\n",
       "    </tr>\n",
       "  </thead>\n",
       "  <tbody>\n",
       "    <tr>\n",
       "      <th>0</th>\n",
       "      <td>19</td>\n",
       "      <td>19000</td>\n",
       "      <td>0</td>\n",
       "      <td>1</td>\n",
       "    </tr>\n",
       "    <tr>\n",
       "      <th>1</th>\n",
       "      <td>35</td>\n",
       "      <td>20000</td>\n",
       "      <td>0</td>\n",
       "      <td>1</td>\n",
       "    </tr>\n",
       "    <tr>\n",
       "      <th>2</th>\n",
       "      <td>26</td>\n",
       "      <td>43000</td>\n",
       "      <td>0</td>\n",
       "      <td>0</td>\n",
       "    </tr>\n",
       "    <tr>\n",
       "      <th>3</th>\n",
       "      <td>27</td>\n",
       "      <td>57000</td>\n",
       "      <td>0</td>\n",
       "      <td>0</td>\n",
       "    </tr>\n",
       "    <tr>\n",
       "      <th>4</th>\n",
       "      <td>19</td>\n",
       "      <td>76000</td>\n",
       "      <td>0</td>\n",
       "      <td>1</td>\n",
       "    </tr>\n",
       "  </tbody>\n",
       "</table>\n",
       "</div>"
      ],
      "text/plain": [
       "   Age  EstimatedSalary  Purchased  Gender_Male\n",
       "0   19            19000          0            1\n",
       "1   35            20000          0            1\n",
       "2   26            43000          0            0\n",
       "3   27            57000          0            0\n",
       "4   19            76000          0            1"
      ]
     },
     "execution_count": 22,
     "metadata": {},
     "output_type": "execute_result"
    }
   ],
   "source": [
    "df.head()"
   ]
  },
  {
   "cell_type": "markdown",
   "id": "5e607dc4",
   "metadata": {
    "papermill": {
     "duration": 0.040138,
     "end_time": "2022-03-26T13:05:33.453008",
     "exception": false,
     "start_time": "2022-03-26T13:05:33.412870",
     "status": "completed"
    },
    "tags": []
   },
   "source": [
    "3. Standrization"
   ]
  },
  {
   "cell_type": "code",
   "execution_count": 23,
   "id": "232aeb50",
   "metadata": {
    "execution": {
     "iopub.execute_input": "2022-03-26T13:05:33.535581Z",
     "iopub.status.busy": "2022-03-26T13:05:33.534945Z",
     "iopub.status.idle": "2022-03-26T13:05:33.545688Z",
     "shell.execute_reply": "2022-03-26T13:05:33.546118Z",
     "shell.execute_reply.started": "2022-03-26T13:03:05.279412Z"
    },
    "papermill": {
     "duration": 0.053949,
     "end_time": "2022-03-26T13:05:33.546291",
     "exception": false,
     "start_time": "2022-03-26T13:05:33.492342",
     "status": "completed"
    },
    "tags": []
   },
   "outputs": [],
   "source": [
    "from sklearn.preprocessing import StandardScaler\n",
    "\n",
    "\n",
    "scaler = StandardScaler()\n",
    "scaler.fit(x_train[cols])\n",
    "x_train[cols] = scaler.transform(x_train[cols])\n",
    "x_test[cols] = scaler.transform(x_test[cols])"
   ]
  },
  {
   "cell_type": "markdown",
   "id": "b7571c47",
   "metadata": {
    "papermill": {
     "duration": 0.039385,
     "end_time": "2022-03-26T13:05:33.625481",
     "exception": false,
     "start_time": "2022-03-26T13:05:33.586096",
     "status": "completed"
    },
    "tags": []
   },
   "source": [
    "### Models"
   ]
  },
  {
   "cell_type": "code",
   "execution_count": 24,
   "id": "d52bf368",
   "metadata": {
    "execution": {
     "iopub.execute_input": "2022-03-26T13:05:33.708459Z",
     "iopub.status.busy": "2022-03-26T13:05:33.707836Z",
     "iopub.status.idle": "2022-03-26T13:05:34.139011Z",
     "shell.execute_reply": "2022-03-26T13:05:34.138505Z",
     "shell.execute_reply.started": "2022-03-26T13:03:05.298749Z"
    },
    "papermill": {
     "duration": 0.473746,
     "end_time": "2022-03-26T13:05:34.139158",
     "exception": false,
     "start_time": "2022-03-26T13:05:33.665412",
     "status": "completed"
    },
    "tags": []
   },
   "outputs": [],
   "source": [
    "from sklearn.linear_model import LogisticRegression\n",
    "from sklearn.neighbors import KNeighborsClassifier\n",
    "from sklearn.svm import SVC\n",
    "from sklearn.naive_bayes import GaussianNB\n",
    "from sklearn.tree import DecisionTreeClassifier\n",
    "from sklearn.ensemble import RandomForestClassifier\n",
    "from xgboost import XGBClassifier\n",
    "\n",
    "from sklearn.metrics import confusion_matrix, accuracy_score, precision_score, recall_score, f1_score, fbeta_score, classification_report"
   ]
  },
  {
   "cell_type": "code",
   "execution_count": 25,
   "id": "e18ceddf",
   "metadata": {
    "execution": {
     "iopub.execute_input": "2022-03-26T13:05:34.225756Z",
     "iopub.status.busy": "2022-03-26T13:05:34.225117Z",
     "iopub.status.idle": "2022-03-26T13:05:34.226876Z",
     "shell.execute_reply": "2022-03-26T13:05:34.227304Z",
     "shell.execute_reply.started": "2022-03-26T13:03:05.701723Z"
    },
    "papermill": {
     "duration": 0.048554,
     "end_time": "2022-03-26T13:05:34.227525",
     "exception": false,
     "start_time": "2022-03-26T13:05:34.178971",
     "status": "completed"
    },
    "tags": []
   },
   "outputs": [],
   "source": [
    "models = {\n",
    "    \"LR\": LogisticRegression(),\n",
    "    \"KNN\": KNeighborsClassifier(),\n",
    "    \"SVC\": SVC(kernel='sigmoid'),\n",
    "    \"DT\": DecisionTreeClassifier(),\n",
    "    \"RF\": RandomForestClassifier(n_estimators=70),\n",
    "    \"XGB\": XGBClassifier(n_estimators=70),\n",
    "    \"Naive Bayes\": GaussianNB()\n",
    "}"
   ]
  },
  {
   "cell_type": "code",
   "execution_count": 26,
   "id": "1fbd9637",
   "metadata": {
    "execution": {
     "iopub.execute_input": "2022-03-26T13:05:34.310142Z",
     "iopub.status.busy": "2022-03-26T13:05:34.309539Z",
     "iopub.status.idle": "2022-03-26T13:05:34.745229Z",
     "shell.execute_reply": "2022-03-26T13:05:34.744638Z",
     "shell.execute_reply.started": "2022-03-26T13:03:05.707878Z"
    },
    "papermill": {
     "duration": 0.477958,
     "end_time": "2022-03-26T13:05:34.745403",
     "exception": false,
     "start_time": "2022-03-26T13:05:34.267445",
     "status": "completed"
    },
    "tags": []
   },
   "outputs": [
    {
     "name": "stdout",
     "output_type": "stream",
     "text": [
      "Training Model LR \n",
      "--------------\n",
      "Training Accuracy: 0.8470588235294118\n",
      "Testing Accuracy: 0.8833333333333333\n",
      "Testing Confusion Matrix: \n",
      "[[37  2]\n",
      " [ 5 16]]\n",
      "Testing Recall: 0.7619047619047619\n",
      "Testing Precesion: 0.8888888888888888\n",
      "Testing F-1: 0.8205128205128205\n",
      "Testing F-Beta: 0.8602150537634409\n",
      "------------------------------\n",
      "Training Model KNN \n",
      "--------------\n",
      "Training Accuracy: 0.9147058823529411\n",
      "Testing Accuracy: 0.9166666666666666\n",
      "Testing Confusion Matrix: \n",
      "[[35  4]\n",
      " [ 1 20]]\n",
      "Testing Recall: 0.9523809523809523\n",
      "Testing Precesion: 0.8333333333333334\n",
      "Testing F-1: 0.888888888888889\n",
      "Testing F-Beta: 0.8547008547008548\n",
      "------------------------------\n",
      "Training Model SVC \n",
      "--------------\n",
      "Training Accuracy: 0.6794117647058824\n",
      "Testing Accuracy: 0.6833333333333333\n",
      "Testing Confusion Matrix: \n",
      "[[28 11]\n",
      " [ 8 13]]\n",
      "Testing Recall: 0.6190476190476191\n",
      "Testing Precesion: 0.5416666666666666\n",
      "Testing F-1: 0.5777777777777778\n",
      "Testing F-Beta: 0.5555555555555555\n",
      "------------------------------\n",
      "Training Model DT \n",
      "--------------\n",
      "Training Accuracy: 1.0\n",
      "Testing Accuracy: 0.8666666666666667\n",
      "Testing Confusion Matrix: \n",
      "[[33  6]\n",
      " [ 2 19]]\n",
      "Testing Recall: 0.9047619047619048\n",
      "Testing Precesion: 0.76\n",
      "Testing F-1: 0.8260869565217391\n",
      "Testing F-Beta: 0.7851239669421487\n",
      "------------------------------\n",
      "Training Model RF \n",
      "--------------\n",
      "Training Accuracy: 1.0\n",
      "Testing Accuracy: 0.9\n",
      "Testing Confusion Matrix: \n",
      "[[35  4]\n",
      " [ 2 19]]\n",
      "Testing Recall: 0.9047619047619048\n",
      "Testing Precesion: 0.8260869565217391\n",
      "Testing F-1: 0.8636363636363636\n",
      "Testing F-Beta: 0.84070796460177\n",
      "------------------------------\n",
      "Training Model XGB \n",
      "--------------\n"
     ]
    },
    {
     "name": "stderr",
     "output_type": "stream",
     "text": [
      "/opt/conda/lib/python3.7/site-packages/xgboost/sklearn.py:1224: UserWarning: The use of label encoder in XGBClassifier is deprecated and will be removed in a future release. To remove this warning, do the following: 1) Pass option use_label_encoder=False when constructing XGBClassifier object; and 2) Encode your labels (y) as integers starting with 0, i.e. 0, 1, 2, ..., [num_class - 1].\n",
      "  warnings.warn(label_encoder_deprecation_msg, UserWarning)\n"
     ]
    },
    {
     "name": "stdout",
     "output_type": "stream",
     "text": [
      "[13:05:34] WARNING: ../src/learner.cc:1115: Starting in XGBoost 1.3.0, the default evaluation metric used with the objective 'binary:logistic' was changed from 'error' to 'logloss'. Explicitly set eval_metric if you'd like to restore the old behavior.\n",
      "Training Accuracy: 0.9941176470588236\n",
      "Testing Accuracy: 0.9\n",
      "Testing Confusion Matrix: \n",
      "[[35  4]\n",
      " [ 2 19]]\n",
      "Testing Recall: 0.9047619047619048\n",
      "Testing Precesion: 0.8260869565217391\n",
      "Testing F-1: 0.8636363636363636\n",
      "Testing F-Beta: 0.84070796460177\n",
      "------------------------------\n",
      "Training Model Naive Bayes \n",
      "--------------\n",
      "Training Accuracy: 0.8970588235294118\n",
      "Testing Accuracy: 0.8833333333333333\n",
      "Testing Confusion Matrix: \n",
      "[[35  4]\n",
      " [ 3 18]]\n",
      "Testing Recall: 0.8571428571428571\n",
      "Testing Precesion: 0.8181818181818182\n",
      "Testing F-1: 0.8372093023255814\n",
      "Testing F-Beta: 0.8256880733944955\n",
      "------------------------------\n"
     ]
    }
   ],
   "source": [
    "for name, model in models.items():\n",
    "    print(f'Training Model {name} \\n--------------')\n",
    "    model.fit(x_train, y_train)\n",
    "    y_pred = model.predict(x_test)\n",
    "    print(f'Training Accuracy: {model.score(x_train, y_train)}')\n",
    "    print(f'Testing Accuracy: {accuracy_score(y_test, y_pred)}')\n",
    "    print(f'Testing Confusion Matrix: \\n{confusion_matrix(y_test, y_pred)}')\n",
    "    print(f'Testing Recall: {recall_score(y_test, y_pred)}')    \n",
    "    print(f'Testing Precesion: {precision_score(y_test, y_pred)}')\n",
    "    print(f'Testing F-1: {f1_score(y_test, y_pred)}')\n",
    "    print(f'Testing F-Beta: {fbeta_score(y_test, y_pred, beta=0.5)}')\n",
    "    print('-'*30)"
   ]
  },
  {
   "cell_type": "markdown",
   "id": "da86aa3e",
   "metadata": {
    "papermill": {
     "duration": 0.041953,
     "end_time": "2022-03-26T13:05:34.828718",
     "exception": false,
     "start_time": "2022-03-26T13:05:34.786765",
     "status": "completed"
    },
    "tags": []
   },
   "source": [
    "- Apply Imbalanced "
   ]
  },
  {
   "cell_type": "code",
   "execution_count": 27,
   "id": "28c58ab0",
   "metadata": {
    "execution": {
     "iopub.execute_input": "2022-03-26T13:05:34.918715Z",
     "iopub.status.busy": "2022-03-26T13:05:34.917924Z",
     "iopub.status.idle": "2022-03-26T13:05:35.057625Z",
     "shell.execute_reply": "2022-03-26T13:05:35.058113Z",
     "shell.execute_reply.started": "2022-03-26T13:03:06.141871Z"
    },
    "papermill": {
     "duration": 0.187052,
     "end_time": "2022-03-26T13:05:35.058279",
     "exception": false,
     "start_time": "2022-03-26T13:05:34.871227",
     "status": "completed"
    },
    "tags": []
   },
   "outputs": [],
   "source": [
    "from imblearn.over_sampling import SMOTE\n",
    "\n",
    "smote=SMOTE()\n",
    "x_train,y_train=smote.fit_resample(x_train,y_train)"
   ]
  },
  {
   "cell_type": "code",
   "execution_count": 28,
   "id": "3dfa0f6c",
   "metadata": {
    "execution": {
     "iopub.execute_input": "2022-03-26T13:05:35.150490Z",
     "iopub.status.busy": "2022-03-26T13:05:35.149852Z",
     "iopub.status.idle": "2022-03-26T13:05:35.153142Z",
     "shell.execute_reply": "2022-03-26T13:05:35.152648Z",
     "shell.execute_reply.started": "2022-03-26T13:03:06.263889Z"
    },
    "papermill": {
     "duration": 0.052191,
     "end_time": "2022-03-26T13:05:35.153278",
     "exception": false,
     "start_time": "2022-03-26T13:05:35.101087",
     "status": "completed"
    },
    "tags": []
   },
   "outputs": [
    {
     "data": {
      "text/plain": [
       "((436, 3), (60, 3), (436,), (60,))"
      ]
     },
     "execution_count": 28,
     "metadata": {},
     "output_type": "execute_result"
    }
   ],
   "source": [
    "x_train.shape, x_test.shape, y_train.shape, y_test.shape"
   ]
  },
  {
   "cell_type": "code",
   "execution_count": 29,
   "id": "2d8a2d11",
   "metadata": {
    "execution": {
     "iopub.execute_input": "2022-03-26T13:05:35.249550Z",
     "iopub.status.busy": "2022-03-26T13:05:35.248582Z",
     "iopub.status.idle": "2022-03-26T13:05:35.252655Z",
     "shell.execute_reply": "2022-03-26T13:05:35.252052Z",
     "shell.execute_reply.started": "2022-03-26T13:03:06.271711Z"
    },
    "papermill": {
     "duration": 0.057909,
     "end_time": "2022-03-26T13:05:35.252798",
     "exception": false,
     "start_time": "2022-03-26T13:05:35.194889",
     "status": "completed"
    },
    "tags": []
   },
   "outputs": [
    {
     "data": {
      "text/html": [
       "<div>\n",
       "<style scoped>\n",
       "    .dataframe tbody tr th:only-of-type {\n",
       "        vertical-align: middle;\n",
       "    }\n",
       "\n",
       "    .dataframe tbody tr th {\n",
       "        vertical-align: top;\n",
       "    }\n",
       "\n",
       "    .dataframe thead th {\n",
       "        text-align: right;\n",
       "    }\n",
       "</style>\n",
       "<table border=\"1\" class=\"dataframe\">\n",
       "  <thead>\n",
       "    <tr style=\"text-align: right;\">\n",
       "      <th></th>\n",
       "      <th>Age</th>\n",
       "      <th>EstimatedSalary</th>\n",
       "      <th>Gender_Male</th>\n",
       "    </tr>\n",
       "  </thead>\n",
       "  <tbody>\n",
       "    <tr>\n",
       "      <th>0</th>\n",
       "      <td>-0.249703</td>\n",
       "      <td>0.054949</td>\n",
       "      <td>0</td>\n",
       "    </tr>\n",
       "    <tr>\n",
       "      <th>1</th>\n",
       "      <td>-1.293154</td>\n",
       "      <td>-1.116466</td>\n",
       "      <td>0</td>\n",
       "    </tr>\n",
       "    <tr>\n",
       "      <th>2</th>\n",
       "      <td>0.414312</td>\n",
       "      <td>0.175094</td>\n",
       "      <td>0</td>\n",
       "    </tr>\n",
       "    <tr>\n",
       "      <th>3</th>\n",
       "      <td>-1.008577</td>\n",
       "      <td>-0.335523</td>\n",
       "      <td>0</td>\n",
       "    </tr>\n",
       "    <tr>\n",
       "      <th>4</th>\n",
       "      <td>2.026918</td>\n",
       "      <td>1.827088</td>\n",
       "      <td>1</td>\n",
       "    </tr>\n",
       "    <tr>\n",
       "      <th>...</th>\n",
       "      <td>...</td>\n",
       "      <td>...</td>\n",
       "      <td>...</td>\n",
       "    </tr>\n",
       "    <tr>\n",
       "      <th>431</th>\n",
       "      <td>-0.534281</td>\n",
       "      <td>1.420825</td>\n",
       "      <td>1</td>\n",
       "    </tr>\n",
       "    <tr>\n",
       "      <th>432</th>\n",
       "      <td>0.609148</td>\n",
       "      <td>2.084450</td>\n",
       "      <td>0</td>\n",
       "    </tr>\n",
       "    <tr>\n",
       "      <th>433</th>\n",
       "      <td>0.888608</td>\n",
       "      <td>-0.594113</td>\n",
       "      <td>0</td>\n",
       "    </tr>\n",
       "    <tr>\n",
       "      <th>434</th>\n",
       "      <td>-0.555945</td>\n",
       "      <td>1.503735</td>\n",
       "      <td>0</td>\n",
       "    </tr>\n",
       "    <tr>\n",
       "      <th>435</th>\n",
       "      <td>1.984300</td>\n",
       "      <td>-0.842221</td>\n",
       "      <td>1</td>\n",
       "    </tr>\n",
       "  </tbody>\n",
       "</table>\n",
       "<p>436 rows × 3 columns</p>\n",
       "</div>"
      ],
      "text/plain": [
       "          Age  EstimatedSalary  Gender_Male\n",
       "0   -0.249703         0.054949            0\n",
       "1   -1.293154        -1.116466            0\n",
       "2    0.414312         0.175094            0\n",
       "3   -1.008577        -0.335523            0\n",
       "4    2.026918         1.827088            1\n",
       "..        ...              ...          ...\n",
       "431 -0.534281         1.420825            1\n",
       "432  0.609148         2.084450            0\n",
       "433  0.888608        -0.594113            0\n",
       "434 -0.555945         1.503735            0\n",
       "435  1.984300        -0.842221            1\n",
       "\n",
       "[436 rows x 3 columns]"
      ]
     },
     "execution_count": 29,
     "metadata": {},
     "output_type": "execute_result"
    }
   ],
   "source": [
    "x_train"
   ]
  },
  {
   "cell_type": "code",
   "execution_count": 30,
   "id": "b3ff1caa",
   "metadata": {
    "execution": {
     "iopub.execute_input": "2022-03-26T13:05:35.347259Z",
     "iopub.status.busy": "2022-03-26T13:05:35.346166Z",
     "iopub.status.idle": "2022-03-26T13:05:35.786957Z",
     "shell.execute_reply": "2022-03-26T13:05:35.787387Z",
     "shell.execute_reply.started": "2022-03-26T13:03:06.289885Z"
    },
    "papermill": {
     "duration": 0.491448,
     "end_time": "2022-03-26T13:05:35.787570",
     "exception": false,
     "start_time": "2022-03-26T13:05:35.296122",
     "status": "completed"
    },
    "tags": []
   },
   "outputs": [
    {
     "name": "stdout",
     "output_type": "stream",
     "text": [
      "Training Model LR \n",
      "--------------\n",
      "Training Accuracy: 0.8463302752293578\n",
      "Testing Accuracy: 0.8666666666666667\n",
      "Testing Confusion Matrix: \n",
      "[[34  5]\n",
      " [ 3 18]]\n",
      "Testing Recall: 0.8571428571428571\n",
      "Testing Precesion: 0.782608695652174\n",
      "Testing F-1: 0.8181818181818182\n",
      "Testing F-Beta: 0.7964601769911503\n",
      "------------------------------\n",
      "Training Model KNN \n",
      "--------------\n",
      "Training Accuracy: 0.9220183486238532\n",
      "Testing Accuracy: 0.9\n",
      "Testing Confusion Matrix: \n",
      "[[34  5]\n",
      " [ 1 20]]\n",
      "Testing Recall: 0.9523809523809523\n",
      "Testing Precesion: 0.8\n",
      "Testing F-1: 0.8695652173913043\n",
      "Testing F-Beta: 0.8264462809917356\n",
      "------------------------------\n",
      "Training Model SVC \n",
      "--------------\n",
      "Training Accuracy: 0.6811926605504587\n",
      "Testing Accuracy: 0.65\n",
      "Testing Confusion Matrix: \n",
      "[[24 15]\n",
      " [ 6 15]]\n",
      "Testing Recall: 0.7142857142857143\n",
      "Testing Precesion: 0.5\n",
      "Testing F-1: 0.588235294117647\n",
      "Testing F-Beta: 0.5319148936170213\n",
      "------------------------------\n",
      "Training Model DT \n",
      "--------------\n",
      "Training Accuracy: 1.0\n",
      "Testing Accuracy: 0.8166666666666667\n",
      "Testing Confusion Matrix: \n",
      "[[32  7]\n",
      " [ 4 17]]\n",
      "Testing Recall: 0.8095238095238095\n",
      "Testing Precesion: 0.7083333333333334\n",
      "Testing F-1: 0.7555555555555556\n",
      "Testing F-Beta: 0.7264957264957266\n",
      "------------------------------\n",
      "Training Model RF \n",
      "--------------\n",
      "Training Accuracy: 1.0\n",
      "Testing Accuracy: 0.8833333333333333\n",
      "Testing Confusion Matrix: \n",
      "[[34  5]\n",
      " [ 2 19]]\n",
      "Testing Recall: 0.9047619047619048\n",
      "Testing Precesion: 0.7916666666666666\n",
      "Testing F-1: 0.8444444444444444\n",
      "Testing F-Beta: 0.811965811965812\n",
      "------------------------------\n",
      "Training Model XGB \n",
      "--------------\n",
      "[13:05:35] WARNING: ../src/learner.cc:1115: Starting in XGBoost 1.3.0, the default evaluation metric used with the objective 'binary:logistic' was changed from 'error' to 'logloss'. Explicitly set eval_metric if you'd like to restore the old behavior.\n"
     ]
    },
    {
     "name": "stderr",
     "output_type": "stream",
     "text": [
      "/opt/conda/lib/python3.7/site-packages/xgboost/sklearn.py:1224: UserWarning: The use of label encoder in XGBClassifier is deprecated and will be removed in a future release. To remove this warning, do the following: 1) Pass option use_label_encoder=False when constructing XGBClassifier object; and 2) Encode your labels (y) as integers starting with 0, i.e. 0, 1, 2, ..., [num_class - 1].\n",
      "  warnings.warn(label_encoder_deprecation_msg, UserWarning)\n"
     ]
    },
    {
     "name": "stdout",
     "output_type": "stream",
     "text": [
      "Training Accuracy: 0.9954128440366973\n",
      "Testing Accuracy: 0.9166666666666666\n",
      "Testing Confusion Matrix: \n",
      "[[35  4]\n",
      " [ 1 20]]\n",
      "Testing Recall: 0.9523809523809523\n",
      "Testing Precesion: 0.8333333333333334\n",
      "Testing F-1: 0.888888888888889\n",
      "Testing F-Beta: 0.8547008547008548\n",
      "------------------------------\n",
      "Training Model Naive Bayes \n",
      "--------------\n",
      "Training Accuracy: 0.8944954128440367\n",
      "Testing Accuracy: 0.9\n",
      "Testing Confusion Matrix: \n",
      "[[34  5]\n",
      " [ 1 20]]\n",
      "Testing Recall: 0.9523809523809523\n",
      "Testing Precesion: 0.8\n",
      "Testing F-1: 0.8695652173913043\n",
      "Testing F-Beta: 0.8264462809917356\n",
      "------------------------------\n"
     ]
    }
   ],
   "source": [
    "for name, model in models.items():\n",
    "    print(f'Training Model {name} \\n--------------')\n",
    "    model.fit(x_train, y_train)\n",
    "    y_pred = model.predict(x_test)\n",
    "    print(f'Training Accuracy: {model.score(x_train, y_train)}')\n",
    "    print(f'Testing Accuracy: {accuracy_score(y_test, y_pred)}')\n",
    "    print(f'Testing Confusion Matrix: \\n{confusion_matrix(y_test, y_pred)}')\n",
    "    print(f'Testing Recall: {recall_score(y_test, y_pred)}')    \n",
    "    print(f'Testing Precesion: {precision_score(y_test, y_pred)}')\n",
    "    print(f'Testing F-1: {f1_score(y_test, y_pred)}')\n",
    "    print(f'Testing F-Beta: {fbeta_score(y_test, y_pred, beta=0.5)}')\n",
    "    print('-'*30)"
   ]
  },
  {
   "cell_type": "code",
   "execution_count": 31,
   "id": "6cf17075",
   "metadata": {
    "execution": {
     "iopub.execute_input": "2022-03-26T13:05:35.879136Z",
     "iopub.status.busy": "2022-03-26T13:05:35.878553Z",
     "iopub.status.idle": "2022-03-26T13:05:36.093580Z",
     "shell.execute_reply": "2022-03-26T13:05:36.094025Z",
     "shell.execute_reply.started": "2022-03-26T13:03:06.731324Z"
    },
    "papermill": {
     "duration": 0.263172,
     "end_time": "2022-03-26T13:05:36.094195",
     "exception": false,
     "start_time": "2022-03-26T13:05:35.831023",
     "status": "completed"
    },
    "tags": []
   },
   "outputs": [
    {
     "name": "stdout",
     "output_type": "stream",
     "text": [
      "[13:05:35] WARNING: ../src/learner.cc:576: \n",
      "Parameters: { \"min_samples_split\" } might not be used.\n",
      "\n",
      "  This could be a false alarm, with some parameters getting used by language bindings but\n",
      "  then being mistakenly passed down to XGBoost core, or some parameter actually being used\n",
      "  but getting flagged wrongly here. Please open an issue if you find any such cases.\n",
      "\n",
      "\n",
      "[13:05:35] WARNING: ../src/learner.cc:1115: Starting in XGBoost 1.3.0, the default evaluation metric used with the objective 'binary:logistic' was changed from 'error' to 'logloss'. Explicitly set eval_metric if you'd like to restore the old behavior.\n"
     ]
    },
    {
     "name": "stderr",
     "output_type": "stream",
     "text": [
      "/opt/conda/lib/python3.7/site-packages/xgboost/sklearn.py:1224: UserWarning: The use of label encoder in XGBClassifier is deprecated and will be removed in a future release. To remove this warning, do the following: 1) Pass option use_label_encoder=False when constructing XGBClassifier object; and 2) Encode your labels (y) as integers starting with 0, i.e. 0, 1, 2, ..., [num_class - 1].\n",
      "  warnings.warn(label_encoder_deprecation_msg, UserWarning)\n"
     ]
    },
    {
     "data": {
      "text/plain": [
       "0.9166666666666666"
      ]
     },
     "execution_count": 31,
     "metadata": {},
     "output_type": "execute_result"
    }
   ],
   "source": [
    "model=XGBClassifier(n_estimators = 70, max_depth = 10,min_samples_split =3,learning_rate=.01)\n",
    "model.fit(x_train, y_train)\n",
    "y_pred = model.predict(x_test)\n",
    "accuracy_score(y_test,y_pred)"
   ]
  },
  {
   "cell_type": "markdown",
   "id": "a129330d",
   "metadata": {
    "papermill": {
     "duration": 0.044119,
     "end_time": "2022-03-26T13:05:36.183060",
     "exception": false,
     "start_time": "2022-03-26T13:05:36.138941",
     "status": "completed"
    },
    "tags": []
   },
   "source": [
    "### The best accurcy is  91.6%"
   ]
  }
 ],
 "metadata": {
  "kernelspec": {
   "display_name": "Python 3",
   "language": "python",
   "name": "python3"
  },
  "language_info": {
   "codemirror_mode": {
    "name": "ipython",
    "version": 3
   },
   "file_extension": ".py",
   "mimetype": "text/x-python",
   "name": "python",
   "nbconvert_exporter": "python",
   "pygments_lexer": "ipython3",
   "version": "3.7.12"
  },
  "papermill": {
   "default_parameters": {},
   "duration": 17.575239,
   "end_time": "2022-03-26T13:05:36.939054",
   "environment_variables": {},
   "exception": null,
   "input_path": "__notebook__.ipynb",
   "output_path": "__notebook__.ipynb",
   "parameters": {},
   "start_time": "2022-03-26T13:05:19.363815",
   "version": "2.3.3"
  }
 },
 "nbformat": 4,
 "nbformat_minor": 5
}
