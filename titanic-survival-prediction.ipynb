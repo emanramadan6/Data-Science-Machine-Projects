{
 "cells": [
  {
   "cell_type": "markdown",
   "id": "85e45b24",
   "metadata": {
    "papermill": {
     "duration": 0.067993,
     "end_time": "2022-03-24T15:50:01.253033",
     "exception": false,
     "start_time": "2022-03-24T15:50:01.185040",
     "status": "completed"
    },
    "tags": []
   },
   "source": [
    "## Titanic Survival Prediction"
   ]
  },
  {
   "cell_type": "markdown",
   "id": "454ecd9b",
   "metadata": {
    "papermill": {
     "duration": 0.06488,
     "end_time": "2022-03-24T15:50:01.386207",
     "exception": false,
     "start_time": "2022-03-24T15:50:01.321327",
     "status": "completed"
    },
    "tags": []
   },
   "source": [
    "- In this notebook, we would be aiming to predict the survival of passengers on the Titanic based on the data and features available to us.\n",
    "- We would be exploring the data at an initial stage to get some insights from the data and then we would be processing the data inorder to ensure effective model development\n",
    "- Certain Steps we would be following in the notebook includes:\n",
    "\n",
    " **1. Exploratory data analysis**\n",
    " \n",
    " **2. Feature Engineering**\n",
    " \n",
    " **3. Model Development and Metric analysis**.\n",
    " \n",
    " **4.  Final Prediction Submission.**"
   ]
  },
  {
   "cell_type": "code",
   "execution_count": 1,
   "id": "f3df1bb0",
   "metadata": {
    "execution": {
     "iopub.execute_input": "2022-03-24T15:50:01.522320Z",
     "iopub.status.busy": "2022-03-24T15:50:01.521106Z",
     "iopub.status.idle": "2022-03-24T15:50:02.573041Z",
     "shell.execute_reply": "2022-03-24T15:50:02.571709Z",
     "shell.execute_reply.started": "2022-03-24T15:17:40.626968Z"
    },
    "papermill": {
     "duration": 1.121521,
     "end_time": "2022-03-24T15:50:02.573278",
     "exception": false,
     "start_time": "2022-03-24T15:50:01.451757",
     "status": "completed"
    },
    "tags": []
   },
   "outputs": [],
   "source": [
    "import numpy as np\n",
    "import pandas as pd\n",
    "import seaborn as sns\n",
    "import matplotlib.pyplot as plt\n",
    "%matplotlib inline\n",
    "\n",
    "sns.set(rc={'figure.figsize': [10, 6]}, font_scale=1.3)\n",
    "pd.set_option('display.max_rows', 100)\n",
    "pd.set_option('display.max_columns', 100)"
   ]
  },
  {
   "cell_type": "markdown",
   "id": "f4975b67",
   "metadata": {
    "papermill": {
     "duration": 0.065146,
     "end_time": "2022-03-24T15:50:02.704403",
     "exception": false,
     "start_time": "2022-03-24T15:50:02.639257",
     "status": "completed"
    },
    "tags": []
   },
   "source": [
    "#### Loading the dataset"
   ]
  },
  {
   "cell_type": "code",
   "execution_count": 2,
   "id": "021312cf",
   "metadata": {
    "execution": {
     "iopub.execute_input": "2022-03-24T15:50:02.840809Z",
     "iopub.status.busy": "2022-03-24T15:50:02.840130Z",
     "iopub.status.idle": "2022-03-24T15:50:02.868330Z",
     "shell.execute_reply": "2022-03-24T15:50:02.868938Z",
     "shell.execute_reply.started": "2022-03-24T14:01:06.868315Z"
    },
    "papermill": {
     "duration": 0.097679,
     "end_time": "2022-03-24T15:50:02.869156",
     "exception": false,
     "start_time": "2022-03-24T15:50:02.771477",
     "status": "completed"
    },
    "tags": []
   },
   "outputs": [],
   "source": [
    "\n",
    "train=pd.read_csv('../input/titanic/train.csv')\n",
    "test=pd.read_csv('../input/titanic/test.csv')"
   ]
  },
  {
   "cell_type": "code",
   "execution_count": 3,
   "id": "7083f145",
   "metadata": {
    "execution": {
     "iopub.execute_input": "2022-03-24T15:50:03.005958Z",
     "iopub.status.busy": "2022-03-24T15:50:03.005262Z",
     "iopub.status.idle": "2022-03-24T15:50:03.030448Z",
     "shell.execute_reply": "2022-03-24T15:50:03.030990Z",
     "shell.execute_reply.started": "2022-03-24T14:01:08.916547Z"
    },
    "papermill": {
     "duration": 0.095403,
     "end_time": "2022-03-24T15:50:03.031168",
     "exception": false,
     "start_time": "2022-03-24T15:50:02.935765",
     "status": "completed"
    },
    "tags": []
   },
   "outputs": [
    {
     "data": {
      "text/html": [
       "<div>\n",
       "<style scoped>\n",
       "    .dataframe tbody tr th:only-of-type {\n",
       "        vertical-align: middle;\n",
       "    }\n",
       "\n",
       "    .dataframe tbody tr th {\n",
       "        vertical-align: top;\n",
       "    }\n",
       "\n",
       "    .dataframe thead th {\n",
       "        text-align: right;\n",
       "    }\n",
       "</style>\n",
       "<table border=\"1\" class=\"dataframe\">\n",
       "  <thead>\n",
       "    <tr style=\"text-align: right;\">\n",
       "      <th></th>\n",
       "      <th>PassengerId</th>\n",
       "      <th>Survived</th>\n",
       "      <th>Pclass</th>\n",
       "      <th>Name</th>\n",
       "      <th>Sex</th>\n",
       "      <th>Age</th>\n",
       "      <th>SibSp</th>\n",
       "      <th>Parch</th>\n",
       "      <th>Ticket</th>\n",
       "      <th>Fare</th>\n",
       "      <th>Cabin</th>\n",
       "      <th>Embarked</th>\n",
       "    </tr>\n",
       "  </thead>\n",
       "  <tbody>\n",
       "    <tr>\n",
       "      <th>0</th>\n",
       "      <td>1</td>\n",
       "      <td>0</td>\n",
       "      <td>3</td>\n",
       "      <td>Braund, Mr. Owen Harris</td>\n",
       "      <td>male</td>\n",
       "      <td>22.0</td>\n",
       "      <td>1</td>\n",
       "      <td>0</td>\n",
       "      <td>A/5 21171</td>\n",
       "      <td>7.2500</td>\n",
       "      <td>NaN</td>\n",
       "      <td>S</td>\n",
       "    </tr>\n",
       "    <tr>\n",
       "      <th>1</th>\n",
       "      <td>2</td>\n",
       "      <td>1</td>\n",
       "      <td>1</td>\n",
       "      <td>Cumings, Mrs. John Bradley (Florence Briggs Th...</td>\n",
       "      <td>female</td>\n",
       "      <td>38.0</td>\n",
       "      <td>1</td>\n",
       "      <td>0</td>\n",
       "      <td>PC 17599</td>\n",
       "      <td>71.2833</td>\n",
       "      <td>C85</td>\n",
       "      <td>C</td>\n",
       "    </tr>\n",
       "    <tr>\n",
       "      <th>2</th>\n",
       "      <td>3</td>\n",
       "      <td>1</td>\n",
       "      <td>3</td>\n",
       "      <td>Heikkinen, Miss. Laina</td>\n",
       "      <td>female</td>\n",
       "      <td>26.0</td>\n",
       "      <td>0</td>\n",
       "      <td>0</td>\n",
       "      <td>STON/O2. 3101282</td>\n",
       "      <td>7.9250</td>\n",
       "      <td>NaN</td>\n",
       "      <td>S</td>\n",
       "    </tr>\n",
       "    <tr>\n",
       "      <th>3</th>\n",
       "      <td>4</td>\n",
       "      <td>1</td>\n",
       "      <td>1</td>\n",
       "      <td>Futrelle, Mrs. Jacques Heath (Lily May Peel)</td>\n",
       "      <td>female</td>\n",
       "      <td>35.0</td>\n",
       "      <td>1</td>\n",
       "      <td>0</td>\n",
       "      <td>113803</td>\n",
       "      <td>53.1000</td>\n",
       "      <td>C123</td>\n",
       "      <td>S</td>\n",
       "    </tr>\n",
       "    <tr>\n",
       "      <th>4</th>\n",
       "      <td>5</td>\n",
       "      <td>0</td>\n",
       "      <td>3</td>\n",
       "      <td>Allen, Mr. William Henry</td>\n",
       "      <td>male</td>\n",
       "      <td>35.0</td>\n",
       "      <td>0</td>\n",
       "      <td>0</td>\n",
       "      <td>373450</td>\n",
       "      <td>8.0500</td>\n",
       "      <td>NaN</td>\n",
       "      <td>S</td>\n",
       "    </tr>\n",
       "  </tbody>\n",
       "</table>\n",
       "</div>"
      ],
      "text/plain": [
       "   PassengerId  Survived  Pclass  \\\n",
       "0            1         0       3   \n",
       "1            2         1       1   \n",
       "2            3         1       3   \n",
       "3            4         1       1   \n",
       "4            5         0       3   \n",
       "\n",
       "                                                Name     Sex   Age  SibSp  \\\n",
       "0                            Braund, Mr. Owen Harris    male  22.0      1   \n",
       "1  Cumings, Mrs. John Bradley (Florence Briggs Th...  female  38.0      1   \n",
       "2                             Heikkinen, Miss. Laina  female  26.0      0   \n",
       "3       Futrelle, Mrs. Jacques Heath (Lily May Peel)  female  35.0      1   \n",
       "4                           Allen, Mr. William Henry    male  35.0      0   \n",
       "\n",
       "   Parch            Ticket     Fare Cabin Embarked  \n",
       "0      0         A/5 21171   7.2500   NaN        S  \n",
       "1      0          PC 17599  71.2833   C85        C  \n",
       "2      0  STON/O2. 3101282   7.9250   NaN        S  \n",
       "3      0            113803  53.1000  C123        S  \n",
       "4      0            373450   8.0500   NaN        S  "
      ]
     },
     "execution_count": 3,
     "metadata": {},
     "output_type": "execute_result"
    }
   ],
   "source": [
    "train.head()"
   ]
  },
  {
   "cell_type": "code",
   "execution_count": 4,
   "id": "358af718",
   "metadata": {
    "execution": {
     "iopub.execute_input": "2022-03-24T15:50:03.175492Z",
     "iopub.status.busy": "2022-03-24T15:50:03.174524Z",
     "iopub.status.idle": "2022-03-24T15:50:03.197554Z",
     "shell.execute_reply": "2022-03-24T15:50:03.198083Z",
     "shell.execute_reply.started": "2022-03-24T13:19:13.403939Z"
    },
    "papermill": {
     "duration": 0.097357,
     "end_time": "2022-03-24T15:50:03.198280",
     "exception": false,
     "start_time": "2022-03-24T15:50:03.100923",
     "status": "completed"
    },
    "tags": []
   },
   "outputs": [
    {
     "name": "stdout",
     "output_type": "stream",
     "text": [
      "<class 'pandas.core.frame.DataFrame'>\n",
      "RangeIndex: 891 entries, 0 to 890\n",
      "Data columns (total 12 columns):\n",
      " #   Column       Non-Null Count  Dtype  \n",
      "---  ------       --------------  -----  \n",
      " 0   PassengerId  891 non-null    int64  \n",
      " 1   Survived     891 non-null    int64  \n",
      " 2   Pclass       891 non-null    int64  \n",
      " 3   Name         891 non-null    object \n",
      " 4   Sex          891 non-null    object \n",
      " 5   Age          714 non-null    float64\n",
      " 6   SibSp        891 non-null    int64  \n",
      " 7   Parch        891 non-null    int64  \n",
      " 8   Ticket       891 non-null    object \n",
      " 9   Fare         891 non-null    float64\n",
      " 10  Cabin        204 non-null    object \n",
      " 11  Embarked     889 non-null    object \n",
      "dtypes: float64(2), int64(5), object(5)\n",
      "memory usage: 83.7+ KB\n"
     ]
    }
   ],
   "source": [
    "train.info()"
   ]
  },
  {
   "cell_type": "code",
   "execution_count": 5,
   "id": "a2a2eb4e",
   "metadata": {
    "execution": {
     "iopub.execute_input": "2022-03-24T15:50:03.335890Z",
     "iopub.status.busy": "2022-03-24T15:50:03.334968Z",
     "iopub.status.idle": "2022-03-24T15:50:03.369508Z",
     "shell.execute_reply": "2022-03-24T15:50:03.370016Z",
     "shell.execute_reply.started": "2022-03-24T14:01:13.778695Z"
    },
    "papermill": {
     "duration": 0.10516,
     "end_time": "2022-03-24T15:50:03.370207",
     "exception": false,
     "start_time": "2022-03-24T15:50:03.265047",
     "status": "completed"
    },
    "tags": []
   },
   "outputs": [
    {
     "data": {
      "text/html": [
       "<div>\n",
       "<style scoped>\n",
       "    .dataframe tbody tr th:only-of-type {\n",
       "        vertical-align: middle;\n",
       "    }\n",
       "\n",
       "    .dataframe tbody tr th {\n",
       "        vertical-align: top;\n",
       "    }\n",
       "\n",
       "    .dataframe thead th {\n",
       "        text-align: right;\n",
       "    }\n",
       "</style>\n",
       "<table border=\"1\" class=\"dataframe\">\n",
       "  <thead>\n",
       "    <tr style=\"text-align: right;\">\n",
       "      <th></th>\n",
       "      <th>count</th>\n",
       "      <th>mean</th>\n",
       "      <th>std</th>\n",
       "      <th>min</th>\n",
       "      <th>25%</th>\n",
       "      <th>50%</th>\n",
       "      <th>75%</th>\n",
       "      <th>max</th>\n",
       "    </tr>\n",
       "  </thead>\n",
       "  <tbody>\n",
       "    <tr>\n",
       "      <th>PassengerId</th>\n",
       "      <td>891.0</td>\n",
       "      <td>446.000000</td>\n",
       "      <td>257.353842</td>\n",
       "      <td>1.00</td>\n",
       "      <td>223.5000</td>\n",
       "      <td>446.0000</td>\n",
       "      <td>668.5</td>\n",
       "      <td>891.0000</td>\n",
       "    </tr>\n",
       "    <tr>\n",
       "      <th>Survived</th>\n",
       "      <td>891.0</td>\n",
       "      <td>0.383838</td>\n",
       "      <td>0.486592</td>\n",
       "      <td>0.00</td>\n",
       "      <td>0.0000</td>\n",
       "      <td>0.0000</td>\n",
       "      <td>1.0</td>\n",
       "      <td>1.0000</td>\n",
       "    </tr>\n",
       "    <tr>\n",
       "      <th>Pclass</th>\n",
       "      <td>891.0</td>\n",
       "      <td>2.308642</td>\n",
       "      <td>0.836071</td>\n",
       "      <td>1.00</td>\n",
       "      <td>2.0000</td>\n",
       "      <td>3.0000</td>\n",
       "      <td>3.0</td>\n",
       "      <td>3.0000</td>\n",
       "    </tr>\n",
       "    <tr>\n",
       "      <th>Age</th>\n",
       "      <td>714.0</td>\n",
       "      <td>29.699118</td>\n",
       "      <td>14.526497</td>\n",
       "      <td>0.42</td>\n",
       "      <td>20.1250</td>\n",
       "      <td>28.0000</td>\n",
       "      <td>38.0</td>\n",
       "      <td>80.0000</td>\n",
       "    </tr>\n",
       "    <tr>\n",
       "      <th>SibSp</th>\n",
       "      <td>891.0</td>\n",
       "      <td>0.523008</td>\n",
       "      <td>1.102743</td>\n",
       "      <td>0.00</td>\n",
       "      <td>0.0000</td>\n",
       "      <td>0.0000</td>\n",
       "      <td>1.0</td>\n",
       "      <td>8.0000</td>\n",
       "    </tr>\n",
       "    <tr>\n",
       "      <th>Parch</th>\n",
       "      <td>891.0</td>\n",
       "      <td>0.381594</td>\n",
       "      <td>0.806057</td>\n",
       "      <td>0.00</td>\n",
       "      <td>0.0000</td>\n",
       "      <td>0.0000</td>\n",
       "      <td>0.0</td>\n",
       "      <td>6.0000</td>\n",
       "    </tr>\n",
       "    <tr>\n",
       "      <th>Fare</th>\n",
       "      <td>891.0</td>\n",
       "      <td>32.204208</td>\n",
       "      <td>49.693429</td>\n",
       "      <td>0.00</td>\n",
       "      <td>7.9104</td>\n",
       "      <td>14.4542</td>\n",
       "      <td>31.0</td>\n",
       "      <td>512.3292</td>\n",
       "    </tr>\n",
       "  </tbody>\n",
       "</table>\n",
       "</div>"
      ],
      "text/plain": [
       "             count        mean         std   min       25%       50%    75%  \\\n",
       "PassengerId  891.0  446.000000  257.353842  1.00  223.5000  446.0000  668.5   \n",
       "Survived     891.0    0.383838    0.486592  0.00    0.0000    0.0000    1.0   \n",
       "Pclass       891.0    2.308642    0.836071  1.00    2.0000    3.0000    3.0   \n",
       "Age          714.0   29.699118   14.526497  0.42   20.1250   28.0000   38.0   \n",
       "SibSp        891.0    0.523008    1.102743  0.00    0.0000    0.0000    1.0   \n",
       "Parch        891.0    0.381594    0.806057  0.00    0.0000    0.0000    0.0   \n",
       "Fare         891.0   32.204208   49.693429  0.00    7.9104   14.4542   31.0   \n",
       "\n",
       "                  max  \n",
       "PassengerId  891.0000  \n",
       "Survived       1.0000  \n",
       "Pclass         3.0000  \n",
       "Age           80.0000  \n",
       "SibSp          8.0000  \n",
       "Parch          6.0000  \n",
       "Fare         512.3292  "
      ]
     },
     "execution_count": 5,
     "metadata": {},
     "output_type": "execute_result"
    }
   ],
   "source": [
    "train.describe().T"
   ]
  },
  {
   "cell_type": "code",
   "execution_count": 6,
   "id": "6bb6175c",
   "metadata": {
    "execution": {
     "iopub.execute_input": "2022-03-24T15:50:03.509185Z",
     "iopub.status.busy": "2022-03-24T15:50:03.508231Z",
     "iopub.status.idle": "2022-03-24T15:50:03.530316Z",
     "shell.execute_reply": "2022-03-24T15:50:03.530813Z",
     "shell.execute_reply.started": "2022-03-24T14:05:45.322989Z"
    },
    "papermill": {
     "duration": 0.093453,
     "end_time": "2022-03-24T15:50:03.531006",
     "exception": false,
     "start_time": "2022-03-24T15:50:03.437553",
     "status": "completed"
    },
    "tags": []
   },
   "outputs": [
    {
     "data": {
      "text/html": [
       "<div>\n",
       "<style scoped>\n",
       "    .dataframe tbody tr th:only-of-type {\n",
       "        vertical-align: middle;\n",
       "    }\n",
       "\n",
       "    .dataframe tbody tr th {\n",
       "        vertical-align: top;\n",
       "    }\n",
       "\n",
       "    .dataframe thead th {\n",
       "        text-align: right;\n",
       "    }\n",
       "</style>\n",
       "<table border=\"1\" class=\"dataframe\">\n",
       "  <thead>\n",
       "    <tr style=\"text-align: right;\">\n",
       "      <th></th>\n",
       "      <th>count</th>\n",
       "      <th>unique</th>\n",
       "      <th>top</th>\n",
       "      <th>freq</th>\n",
       "    </tr>\n",
       "  </thead>\n",
       "  <tbody>\n",
       "    <tr>\n",
       "      <th>Name</th>\n",
       "      <td>891</td>\n",
       "      <td>891</td>\n",
       "      <td>Braund, Mr. Owen Harris</td>\n",
       "      <td>1</td>\n",
       "    </tr>\n",
       "    <tr>\n",
       "      <th>Sex</th>\n",
       "      <td>891</td>\n",
       "      <td>2</td>\n",
       "      <td>male</td>\n",
       "      <td>577</td>\n",
       "    </tr>\n",
       "    <tr>\n",
       "      <th>Ticket</th>\n",
       "      <td>891</td>\n",
       "      <td>681</td>\n",
       "      <td>347082</td>\n",
       "      <td>7</td>\n",
       "    </tr>\n",
       "    <tr>\n",
       "      <th>Cabin</th>\n",
       "      <td>204</td>\n",
       "      <td>147</td>\n",
       "      <td>B96 B98</td>\n",
       "      <td>4</td>\n",
       "    </tr>\n",
       "    <tr>\n",
       "      <th>Embarked</th>\n",
       "      <td>889</td>\n",
       "      <td>3</td>\n",
       "      <td>S</td>\n",
       "      <td>644</td>\n",
       "    </tr>\n",
       "  </tbody>\n",
       "</table>\n",
       "</div>"
      ],
      "text/plain": [
       "         count unique                      top freq\n",
       "Name       891    891  Braund, Mr. Owen Harris    1\n",
       "Sex        891      2                     male  577\n",
       "Ticket     891    681                   347082    7\n",
       "Cabin      204    147                  B96 B98    4\n",
       "Embarked   889      3                        S  644"
      ]
     },
     "execution_count": 6,
     "metadata": {},
     "output_type": "execute_result"
    }
   ],
   "source": [
    "train.describe(include='O').T"
   ]
  },
  {
   "cell_type": "code",
   "execution_count": 7,
   "id": "f4cd2eae",
   "metadata": {
    "execution": {
     "iopub.execute_input": "2022-03-24T15:50:03.670994Z",
     "iopub.status.busy": "2022-03-24T15:50:03.670050Z",
     "iopub.status.idle": "2022-03-24T15:50:03.678886Z",
     "shell.execute_reply": "2022-03-24T15:50:03.679336Z",
     "shell.execute_reply.started": "2022-03-24T14:05:59.783607Z"
    },
    "papermill": {
     "duration": 0.080826,
     "end_time": "2022-03-24T15:50:03.679529",
     "exception": false,
     "start_time": "2022-03-24T15:50:03.598703",
     "status": "completed"
    },
    "tags": []
   },
   "outputs": [
    {
     "data": {
      "text/plain": [
       "PassengerId      0\n",
       "Survived         0\n",
       "Pclass           0\n",
       "Name             0\n",
       "Sex              0\n",
       "Age            177\n",
       "SibSp            0\n",
       "Parch            0\n",
       "Ticket           0\n",
       "Fare             0\n",
       "Cabin          687\n",
       "Embarked         2\n",
       "dtype: int64"
      ]
     },
     "execution_count": 7,
     "metadata": {},
     "output_type": "execute_result"
    }
   ],
   "source": [
    "train.isnull().sum()"
   ]
  },
  {
   "cell_type": "code",
   "execution_count": 8,
   "id": "83b107e7",
   "metadata": {
    "execution": {
     "iopub.execute_input": "2022-03-24T15:50:03.822086Z",
     "iopub.status.busy": "2022-03-24T15:50:03.821096Z",
     "iopub.status.idle": "2022-03-24T15:50:03.832839Z",
     "shell.execute_reply": "2022-03-24T15:50:03.833337Z",
     "shell.execute_reply.started": "2022-03-24T14:06:55.887965Z"
    },
    "papermill": {
     "duration": 0.084897,
     "end_time": "2022-03-24T15:50:03.833532",
     "exception": false,
     "start_time": "2022-03-24T15:50:03.748635",
     "status": "completed"
    },
    "tags": []
   },
   "outputs": [
    {
     "data": {
      "text/plain": [
       "0"
      ]
     },
     "execution_count": 8,
     "metadata": {},
     "output_type": "execute_result"
    }
   ],
   "source": [
    "train.duplicated().sum()"
   ]
  },
  {
   "cell_type": "markdown",
   "id": "9fc9f88f",
   "metadata": {
    "papermill": {
     "duration": 0.068727,
     "end_time": "2022-03-24T15:50:03.973050",
     "exception": false,
     "start_time": "2022-03-24T15:50:03.904323",
     "status": "completed"
    },
    "tags": []
   },
   "source": [
    "###  *1. Exploratory Data Analysis*"
   ]
  },
  {
   "cell_type": "markdown",
   "id": "bedf5276",
   "metadata": {
    "papermill": {
     "duration": 0.068741,
     "end_time": "2022-03-24T15:50:04.112018",
     "exception": false,
     "start_time": "2022-03-24T15:50:04.043277",
     "status": "completed"
    },
    "tags": []
   },
   "source": [
    "#### Getting the Categorical and Numerical Features"
   ]
  },
  {
   "cell_type": "code",
   "execution_count": 9,
   "id": "b9d72c24",
   "metadata": {
    "execution": {
     "iopub.execute_input": "2022-03-24T15:50:04.254685Z",
     "iopub.status.busy": "2022-03-24T15:50:04.253683Z",
     "iopub.status.idle": "2022-03-24T15:50:04.260940Z",
     "shell.execute_reply": "2022-03-24T15:50:04.261580Z",
     "shell.execute_reply.started": "2022-03-24T14:03:46.574744Z"
    },
    "papermill": {
     "duration": 0.080889,
     "end_time": "2022-03-24T15:50:04.261756",
     "exception": false,
     "start_time": "2022-03-24T15:50:04.180867",
     "status": "completed"
    },
    "tags": []
   },
   "outputs": [
    {
     "name": "stdout",
     "output_type": "stream",
     "text": [
      "Numerical_columns are :- ['PassengerId', 'Survived', 'Pclass', 'Age', 'SibSp', 'Parch', 'Fare']\n",
      "______________________________\n",
      "Categorical_columns are :- ['Name', 'Sex', 'Ticket', 'Cabin', 'Embarked']\n"
     ]
    }
   ],
   "source": [
    "Num_cols = [x for x in train.columns if train[x].dtypes != 'O']\n",
    "Cat_cols = [x for x in train.columns if train[x].dtypes == 'O']\n",
    "print(f'Numerical_columns are :- {Num_cols}')\n",
    "print('_'*30)\n",
    "print(f'Categorical_columns are :- {Cat_cols}')      "
   ]
  },
  {
   "cell_type": "markdown",
   "id": "c34b0d4d",
   "metadata": {
    "papermill": {
     "duration": 0.068255,
     "end_time": "2022-03-24T15:50:04.399867",
     "exception": false,
     "start_time": "2022-03-24T15:50:04.331612",
     "status": "completed"
    },
    "tags": []
   },
   "source": [
    "#### Name and PassengerId are some unimportant columns and hence are dropped\n"
   ]
  },
  {
   "cell_type": "code",
   "execution_count": 10,
   "id": "835f0bb3",
   "metadata": {
    "execution": {
     "iopub.execute_input": "2022-03-24T15:50:04.542115Z",
     "iopub.status.busy": "2022-03-24T15:50:04.541478Z",
     "iopub.status.idle": "2022-03-24T15:50:04.548026Z",
     "shell.execute_reply": "2022-03-24T15:50:04.548539Z",
     "shell.execute_reply.started": "2022-03-24T14:05:32.220176Z"
    },
    "papermill": {
     "duration": 0.08008,
     "end_time": "2022-03-24T15:50:04.548710",
     "exception": false,
     "start_time": "2022-03-24T15:50:04.468630",
     "status": "completed"
    },
    "tags": []
   },
   "outputs": [],
   "source": [
    "train.drop(['Name','PassengerId'],axis = 1,inplace = True)\n",
    "test.drop(['Name'],axis = 1,inplace = True)\n",
    "Cat_cols.remove('Name')"
   ]
  },
  {
   "cell_type": "markdown",
   "id": "ea88ebcb",
   "metadata": {
    "papermill": {
     "duration": 0.068425,
     "end_time": "2022-03-24T15:50:04.686823",
     "exception": false,
     "start_time": "2022-03-24T15:50:04.618398",
     "status": "completed"
    },
    "tags": []
   },
   "source": [
    "### NULL Value Imputation"
   ]
  },
  {
   "cell_type": "code",
   "execution_count": 11,
   "id": "19be137b",
   "metadata": {
    "execution": {
     "iopub.execute_input": "2022-03-24T15:50:04.834042Z",
     "iopub.status.busy": "2022-03-24T15:50:04.833396Z",
     "iopub.status.idle": "2022-03-24T15:50:04.835854Z",
     "shell.execute_reply": "2022-03-24T15:50:04.836364Z",
     "shell.execute_reply.started": "2022-03-24T14:10:53.905753Z"
    },
    "papermill": {
     "duration": 0.081198,
     "end_time": "2022-03-24T15:50:04.836519",
     "exception": false,
     "start_time": "2022-03-24T15:50:04.755321",
     "status": "completed"
    },
    "tags": []
   },
   "outputs": [
    {
     "data": {
      "text/plain": [
       "Survived      0\n",
       "Pclass        0\n",
       "Sex           0\n",
       "Age         177\n",
       "SibSp         0\n",
       "Parch         0\n",
       "Ticket        0\n",
       "Fare          0\n",
       "Cabin       687\n",
       "Embarked      2\n",
       "dtype: int64"
      ]
     },
     "execution_count": 11,
     "metadata": {},
     "output_type": "execute_result"
    }
   ],
   "source": [
    "train.isnull().sum()"
   ]
  },
  {
   "cell_type": "markdown",
   "id": "d5debb91",
   "metadata": {
    "papermill": {
     "duration": 0.069531,
     "end_time": "2022-03-24T15:50:04.975914",
     "exception": false,
     "start_time": "2022-03-24T15:50:04.906383",
     "status": "completed"
    },
    "tags": []
   },
   "source": [
    "##### From above, we can see that there are NULL/NaN values present in the Dataset. Before we start with the Analysis, we need to process this data and then proceed with the EDA"
   ]
  },
  {
   "cell_type": "markdown",
   "id": "d191322a",
   "metadata": {
    "papermill": {
     "duration": 0.069361,
     "end_time": "2022-03-24T15:50:05.115725",
     "exception": false,
     "start_time": "2022-03-24T15:50:05.046364",
     "status": "completed"
    },
    "tags": []
   },
   "source": [
    "**1. Age**"
   ]
  },
  {
   "cell_type": "code",
   "execution_count": 12,
   "id": "416c15af",
   "metadata": {
    "execution": {
     "iopub.execute_input": "2022-03-24T15:50:05.260502Z",
     "iopub.status.busy": "2022-03-24T15:50:05.259892Z",
     "iopub.status.idle": "2022-03-24T15:50:05.269728Z",
     "shell.execute_reply": "2022-03-24T15:50:05.270248Z",
     "shell.execute_reply.started": "2022-03-24T14:14:43.126750Z"
    },
    "papermill": {
     "duration": 0.084451,
     "end_time": "2022-03-24T15:50:05.270411",
     "exception": false,
     "start_time": "2022-03-24T15:50:05.185960",
     "status": "completed"
    },
    "tags": []
   },
   "outputs": [
    {
     "data": {
      "text/plain": [
       "count    714.000000\n",
       "mean      29.699118\n",
       "std       14.526497\n",
       "min        0.420000\n",
       "25%       20.125000\n",
       "50%       28.000000\n",
       "75%       38.000000\n",
       "max       80.000000\n",
       "Name: Age, dtype: float64"
      ]
     },
     "execution_count": 12,
     "metadata": {},
     "output_type": "execute_result"
    }
   ],
   "source": [
    "train['Age'].describe()"
   ]
  },
  {
   "cell_type": "code",
   "execution_count": 13,
   "id": "0bcdc029",
   "metadata": {
    "execution": {
     "iopub.execute_input": "2022-03-24T15:50:05.412696Z",
     "iopub.status.busy": "2022-03-24T15:50:05.412114Z",
     "iopub.status.idle": "2022-03-24T15:50:05.785955Z",
     "shell.execute_reply": "2022-03-24T15:50:05.785285Z",
     "shell.execute_reply.started": "2022-03-24T14:15:14.917360Z"
    },
    "papermill": {
     "duration": 0.44659,
     "end_time": "2022-03-24T15:50:05.786112",
     "exception": false,
     "start_time": "2022-03-24T15:50:05.339522",
     "status": "completed"
    },
    "tags": []
   },
   "outputs": [
    {
     "name": "stderr",
     "output_type": "stream",
     "text": [
      "/opt/conda/lib/python3.7/site-packages/seaborn/distributions.py:2619: FutureWarning: `distplot` is a deprecated function and will be removed in a future version. Please adapt your code to use either `displot` (a figure-level function with similar flexibility) or `histplot` (an axes-level function for histograms).\n",
      "  warnings.warn(msg, FutureWarning)\n"
     ]
    },
    {
     "data": {
      "text/plain": [
       "<AxesSubplot:xlabel='Age', ylabel='Density'>"
      ]
     },
     "execution_count": 13,
     "metadata": {},
     "output_type": "execute_result"
    },
    {
     "data": {
      "image/png": "[encoded data removed]",
      "text/plain": [
       "<Figure size 720x432 with 1 Axes>"
      ]
     },
     "metadata": {},
     "output_type": "display_data"
    }
   ],
   "source": [
    "sns.distplot(train['Age'])"
   ]
  },
  {
   "cell_type": "code",
   "execution_count": 14,
   "id": "7ed4b0a8",
   "metadata": {
    "execution": {
     "iopub.execute_input": "2022-03-24T15:50:05.942004Z",
     "iopub.status.busy": "2022-03-24T15:50:05.941217Z",
     "iopub.status.idle": "2022-03-24T15:50:05.943887Z",
     "shell.execute_reply": "2022-03-24T15:50:05.944342Z",
     "shell.execute_reply.started": "2022-03-24T14:16:13.191829Z"
    },
    "papermill": {
     "duration": 0.084894,
     "end_time": "2022-03-24T15:50:05.944536",
     "exception": false,
     "start_time": "2022-03-24T15:50:05.859642",
     "status": "completed"
    },
    "tags": []
   },
   "outputs": [],
   "source": [
    "train.Age.fillna(train.Age.mean(),inplace = True)\n",
    "test.Age.fillna(test.Age.mean(),inplace = True)"
   ]
  },
  {
   "cell_type": "markdown",
   "id": "03e4be0e",
   "metadata": {
    "papermill": {
     "duration": 0.072466,
     "end_time": "2022-03-24T15:50:06.090304",
     "exception": false,
     "start_time": "2022-03-24T15:50:06.017838",
     "status": "completed"
    },
    "tags": []
   },
   "source": [
    "**2. Embarked**"
   ]
  },
  {
   "cell_type": "code",
   "execution_count": 15,
   "id": "cd67efee",
   "metadata": {
    "execution": {
     "iopub.execute_input": "2022-03-24T15:50:06.244053Z",
     "iopub.status.busy": "2022-03-24T15:50:06.238395Z",
     "iopub.status.idle": "2022-03-24T15:50:06.246496Z",
     "shell.execute_reply": "2022-03-24T15:50:06.247081Z",
     "shell.execute_reply.started": "2022-03-24T14:20:42.114418Z"
    },
    "papermill": {
     "duration": 0.085139,
     "end_time": "2022-03-24T15:50:06.247286",
     "exception": false,
     "start_time": "2022-03-24T15:50:06.162147",
     "status": "completed"
    },
    "tags": []
   },
   "outputs": [
    {
     "data": {
      "text/plain": [
       "S    644\n",
       "C    168\n",
       "Q     77\n",
       "Name: Embarked, dtype: int64"
      ]
     },
     "execution_count": 15,
     "metadata": {},
     "output_type": "execute_result"
    }
   ],
   "source": [
    "train['Embarked'].value_counts()"
   ]
  },
  {
   "cell_type": "code",
   "execution_count": 16,
   "id": "26cf530f",
   "metadata": {
    "execution": {
     "iopub.execute_input": "2022-03-24T15:50:06.399840Z",
     "iopub.status.busy": "2022-03-24T15:50:06.399221Z",
     "iopub.status.idle": "2022-03-24T15:50:06.608324Z",
     "shell.execute_reply": "2022-03-24T15:50:06.608819Z",
     "shell.execute_reply.started": "2022-03-24T14:21:58.033957Z"
    },
    "papermill": {
     "duration": 0.288379,
     "end_time": "2022-03-24T15:50:06.609014",
     "exception": false,
     "start_time": "2022-03-24T15:50:06.320635",
     "status": "completed"
    },
    "tags": []
   },
   "outputs": [
    {
     "data": {
      "text/plain": [
       "<AxesSubplot:xlabel='Embarked', ylabel='count'>"
      ]
     },
     "execution_count": 16,
     "metadata": {},
     "output_type": "execute_result"
    },
    {
     "data": {
      "image/png": "[encoded data removed]",
      "text/plain": [
       "<Figure size 720x432 with 1 Axes>"
      ]
     },
     "metadata": {},
     "output_type": "display_data"
    }
   ],
   "source": [
    "sns.countplot(data=train,x='Embarked')"
   ]
  },
  {
   "cell_type": "markdown",
   "id": "14f51082",
   "metadata": {
    "papermill": {
     "duration": 0.073725,
     "end_time": "2022-03-24T15:50:06.756646",
     "exception": false,
     "start_time": "2022-03-24T15:50:06.682921",
     "status": "completed"
    },
    "tags": []
   },
   "source": [
    "#### From the above plot,Embarked is a categorical feature and hence we would be using Mode, the most common value i.e 'S' to impute the NULL values in the dataset"
   ]
  },
  {
   "cell_type": "code",
   "execution_count": 17,
   "id": "f2481a1b",
   "metadata": {
    "execution": {
     "iopub.execute_input": "2022-03-24T15:50:06.910263Z",
     "iopub.status.busy": "2022-03-24T15:50:06.907576Z",
     "iopub.status.idle": "2022-03-24T15:50:06.914327Z",
     "shell.execute_reply": "2022-03-24T15:50:06.914942Z",
     "shell.execute_reply.started": "2022-03-24T14:23:18.028970Z"
    },
    "papermill": {
     "duration": 0.085087,
     "end_time": "2022-03-24T15:50:06.915111",
     "exception": false,
     "start_time": "2022-03-24T15:50:06.830024",
     "status": "completed"
    },
    "tags": []
   },
   "outputs": [],
   "source": [
    "train.Embarked.fillna(train.Embarked.mode()[0],inplace = True)\n",
    "test.Embarked.fillna(test.Embarked.mode()[0],inplace = True)"
   ]
  },
  {
   "cell_type": "markdown",
   "id": "fbce0186",
   "metadata": {
    "papermill": {
     "duration": 0.074252,
     "end_time": "2022-03-24T15:50:07.062558",
     "exception": false,
     "start_time": "2022-03-24T15:50:06.988306",
     "status": "completed"
    },
    "tags": []
   },
   "source": [
    "**3. Cabin**"
   ]
  },
  {
   "cell_type": "code",
   "execution_count": 18,
   "id": "e775c022",
   "metadata": {
    "execution": {
     "iopub.execute_input": "2022-03-24T15:50:07.216281Z",
     "iopub.status.busy": "2022-03-24T15:50:07.215341Z",
     "iopub.status.idle": "2022-03-24T15:50:07.221669Z",
     "shell.execute_reply": "2022-03-24T15:50:07.221185Z",
     "shell.execute_reply.started": "2022-03-24T14:25:35.644452Z"
    },
    "papermill": {
     "duration": 0.08527,
     "end_time": "2022-03-24T15:50:07.221819",
     "exception": false,
     "start_time": "2022-03-24T15:50:07.136549",
     "status": "completed"
    },
    "tags": []
   },
   "outputs": [
    {
     "data": {
      "text/plain": [
       "77.10437710437711"
      ]
     },
     "execution_count": 18,
     "metadata": {},
     "output_type": "execute_result"
    }
   ],
   "source": [
    "(train[train['Cabin'].isna()].shape[0]/train.shape[0])*100"
   ]
  },
  {
   "cell_type": "markdown",
   "id": "c9182a4c",
   "metadata": {
    "papermill": {
     "duration": 0.073535,
     "end_time": "2022-03-24T15:50:07.369612",
     "exception": false,
     "start_time": "2022-03-24T15:50:07.296077",
     "status": "completed"
    },
    "tags": []
   },
   "source": [
    "##### Further, in case of the column Cabin, 77% of the column values are NULL. Hence any imputation would lead to certain bias for the model, hence dropping the column from further analysis is considered"
   ]
  },
  {
   "cell_type": "markdown",
   "id": "f9e15fad",
   "metadata": {
    "papermill": {
     "duration": 0.073287,
     "end_time": "2022-03-24T15:50:07.517240",
     "exception": false,
     "start_time": "2022-03-24T15:50:07.443953",
     "status": "completed"
    },
    "tags": []
   },
   "source": [
    "### I will drop Cabin and Ticket columns"
   ]
  },
  {
   "cell_type": "code",
   "execution_count": 19,
   "id": "b06a0b85",
   "metadata": {
    "execution": {
     "iopub.execute_input": "2022-03-24T15:50:07.673142Z",
     "iopub.status.busy": "2022-03-24T15:50:07.672497Z",
     "iopub.status.idle": "2022-03-24T15:50:07.674394Z",
     "shell.execute_reply": "2022-03-24T15:50:07.674852Z",
     "shell.execute_reply.started": "2022-03-24T14:28:46.672599Z"
    },
    "papermill": {
     "duration": 0.083596,
     "end_time": "2022-03-24T15:50:07.675020",
     "exception": false,
     "start_time": "2022-03-24T15:50:07.591424",
     "status": "completed"
    },
    "tags": []
   },
   "outputs": [],
   "source": [
    "train.drop(['Cabin','Ticket'],axis=1,inplace = True)\n",
    "test.drop(['Cabin','Ticket'],axis=1,inplace = True)"
   ]
  },
  {
   "cell_type": "code",
   "execution_count": 20,
   "id": "980fabdd",
   "metadata": {
    "execution": {
     "iopub.execute_input": "2022-03-24T15:50:07.827984Z",
     "iopub.status.busy": "2022-03-24T15:50:07.827265Z",
     "iopub.status.idle": "2022-03-24T15:50:07.842680Z",
     "shell.execute_reply": "2022-03-24T15:50:07.842184Z",
     "shell.execute_reply.started": "2022-03-24T14:29:06.085559Z"
    },
    "papermill": {
     "duration": 0.093994,
     "end_time": "2022-03-24T15:50:07.842832",
     "exception": false,
     "start_time": "2022-03-24T15:50:07.748838",
     "status": "completed"
    },
    "tags": []
   },
   "outputs": [
    {
     "data": {
      "text/html": [
       "<div>\n",
       "<style scoped>\n",
       "    .dataframe tbody tr th:only-of-type {\n",
       "        vertical-align: middle;\n",
       "    }\n",
       "\n",
       "    .dataframe tbody tr th {\n",
       "        vertical-align: top;\n",
       "    }\n",
       "\n",
       "    .dataframe thead th {\n",
       "        text-align: right;\n",
       "    }\n",
       "</style>\n",
       "<table border=\"1\" class=\"dataframe\">\n",
       "  <thead>\n",
       "    <tr style=\"text-align: right;\">\n",
       "      <th></th>\n",
       "      <th>Survived</th>\n",
       "      <th>Pclass</th>\n",
       "      <th>Sex</th>\n",
       "      <th>Age</th>\n",
       "      <th>SibSp</th>\n",
       "      <th>Parch</th>\n",
       "      <th>Fare</th>\n",
       "      <th>Embarked</th>\n",
       "    </tr>\n",
       "  </thead>\n",
       "  <tbody>\n",
       "    <tr>\n",
       "      <th>0</th>\n",
       "      <td>0</td>\n",
       "      <td>3</td>\n",
       "      <td>male</td>\n",
       "      <td>22.0</td>\n",
       "      <td>1</td>\n",
       "      <td>0</td>\n",
       "      <td>7.2500</td>\n",
       "      <td>S</td>\n",
       "    </tr>\n",
       "    <tr>\n",
       "      <th>1</th>\n",
       "      <td>1</td>\n",
       "      <td>1</td>\n",
       "      <td>female</td>\n",
       "      <td>38.0</td>\n",
       "      <td>1</td>\n",
       "      <td>0</td>\n",
       "      <td>71.2833</td>\n",
       "      <td>C</td>\n",
       "    </tr>\n",
       "    <tr>\n",
       "      <th>2</th>\n",
       "      <td>1</td>\n",
       "      <td>3</td>\n",
       "      <td>female</td>\n",
       "      <td>26.0</td>\n",
       "      <td>0</td>\n",
       "      <td>0</td>\n",
       "      <td>7.9250</td>\n",
       "      <td>S</td>\n",
       "    </tr>\n",
       "    <tr>\n",
       "      <th>3</th>\n",
       "      <td>1</td>\n",
       "      <td>1</td>\n",
       "      <td>female</td>\n",
       "      <td>35.0</td>\n",
       "      <td>1</td>\n",
       "      <td>0</td>\n",
       "      <td>53.1000</td>\n",
       "      <td>S</td>\n",
       "    </tr>\n",
       "    <tr>\n",
       "      <th>4</th>\n",
       "      <td>0</td>\n",
       "      <td>3</td>\n",
       "      <td>male</td>\n",
       "      <td>35.0</td>\n",
       "      <td>0</td>\n",
       "      <td>0</td>\n",
       "      <td>8.0500</td>\n",
       "      <td>S</td>\n",
       "    </tr>\n",
       "  </tbody>\n",
       "</table>\n",
       "</div>"
      ],
      "text/plain": [
       "   Survived  Pclass     Sex   Age  SibSp  Parch     Fare Embarked\n",
       "0         0       3    male  22.0      1      0   7.2500        S\n",
       "1         1       1  female  38.0      1      0  71.2833        C\n",
       "2         1       3  female  26.0      0      0   7.9250        S\n",
       "3         1       1  female  35.0      1      0  53.1000        S\n",
       "4         0       3    male  35.0      0      0   8.0500        S"
      ]
     },
     "execution_count": 20,
     "metadata": {},
     "output_type": "execute_result"
    }
   ],
   "source": [
    "train.head()"
   ]
  },
  {
   "cell_type": "markdown",
   "id": "03c22974",
   "metadata": {
    "papermill": {
     "duration": 0.074931,
     "end_time": "2022-03-24T15:50:07.994900",
     "exception": false,
     "start_time": "2022-03-24T15:50:07.919969",
     "status": "completed"
    },
    "tags": []
   },
   "source": [
    "### EDA & Visualization"
   ]
  },
  {
   "cell_type": "markdown",
   "id": "59b4185d",
   "metadata": {
    "papermill": {
     "duration": 0.077913,
     "end_time": "2022-03-24T15:50:08.148770",
     "exception": false,
     "start_time": "2022-03-24T15:50:08.070857",
     "status": "completed"
    },
    "tags": []
   },
   "source": [
    "### Target \"Survived\""
   ]
  },
  {
   "cell_type": "code",
   "execution_count": 21,
   "id": "ba0d7520",
   "metadata": {
    "execution": {
     "iopub.execute_input": "2022-03-24T15:50:08.301745Z",
     "iopub.status.busy": "2022-03-24T15:50:08.301128Z",
     "iopub.status.idle": "2022-03-24T15:50:08.308239Z",
     "shell.execute_reply": "2022-03-24T15:50:08.308832Z",
     "shell.execute_reply.started": "2022-03-24T14:31:00.404364Z"
    },
    "papermill": {
     "duration": 0.085242,
     "end_time": "2022-03-24T15:50:08.308994",
     "exception": false,
     "start_time": "2022-03-24T15:50:08.223752",
     "status": "completed"
    },
    "tags": []
   },
   "outputs": [
    {
     "data": {
      "text/plain": [
       "0    549\n",
       "1    342\n",
       "Name: Survived, dtype: int64"
      ]
     },
     "execution_count": 21,
     "metadata": {},
     "output_type": "execute_result"
    }
   ],
   "source": [
    "train.Survived.value_counts()"
   ]
  },
  {
   "cell_type": "code",
   "execution_count": 22,
   "id": "6c8d7f37",
   "metadata": {
    "execution": {
     "iopub.execute_input": "2022-03-24T15:50:08.462581Z",
     "iopub.status.busy": "2022-03-24T15:50:08.461906Z",
     "iopub.status.idle": "2022-03-24T15:50:08.469695Z",
     "shell.execute_reply": "2022-03-24T15:50:08.470331Z",
     "shell.execute_reply.started": "2022-03-24T14:49:33.708701Z"
    },
    "papermill": {
     "duration": 0.086685,
     "end_time": "2022-03-24T15:50:08.470517",
     "exception": false,
     "start_time": "2022-03-24T15:50:08.383832",
     "status": "completed"
    },
    "tags": []
   },
   "outputs": [
    {
     "data": {
      "text/plain": [
       "0    0.616162\n",
       "1    0.383838\n",
       "Name: Survived, dtype: float64"
      ]
     },
     "execution_count": 22,
     "metadata": {},
     "output_type": "execute_result"
    }
   ],
   "source": [
    "train.Survived.value_counts(normalize=True)"
   ]
  },
  {
   "cell_type": "code",
   "execution_count": 23,
   "id": "15ec3124",
   "metadata": {
    "execution": {
     "iopub.execute_input": "2022-03-24T15:50:08.629270Z",
     "iopub.status.busy": "2022-03-24T15:50:08.628506Z",
     "iopub.status.idle": "2022-03-24T15:50:08.837132Z",
     "shell.execute_reply": "2022-03-24T15:50:08.836565Z",
     "shell.execute_reply.started": "2022-03-24T14:31:25.190938Z"
    },
    "papermill": {
     "duration": 0.289867,
     "end_time": "2022-03-24T15:50:08.837282",
     "exception": false,
     "start_time": "2022-03-24T15:50:08.547415",
     "status": "completed"
    },
    "tags": []
   },
   "outputs": [
    {
     "name": "stderr",
     "output_type": "stream",
     "text": [
      "/opt/conda/lib/python3.7/site-packages/seaborn/_decorators.py:43: FutureWarning: Pass the following variable as a keyword arg: x. From version 0.12, the only valid positional argument will be `data`, and passing other arguments without an explicit keyword will result in an error or misinterpretation.\n",
      "  FutureWarning\n"
     ]
    },
    {
     "data": {
      "text/plain": [
       "<AxesSubplot:xlabel='Survived', ylabel='count'>"
      ]
     },
     "execution_count": 23,
     "metadata": {},
     "output_type": "execute_result"
    },
    {
     "data": {
      "image/png": "[encoded data removed]",
      "text/plain": [
       "<Figure size 720x432 with 1 Axes>"
      ]
     },
     "metadata": {},
     "output_type": "display_data"
    }
   ],
   "source": [
    "sns.countplot(train['Survived'])"
   ]
  },
  {
   "cell_type": "markdown",
   "id": "eea650da",
   "metadata": {
    "papermill": {
     "duration": 0.077949,
     "end_time": "2022-03-24T15:50:08.992685",
     "exception": false,
     "start_time": "2022-03-24T15:50:08.914736",
     "status": "completed"
    },
    "tags": []
   },
   "source": [
    "### Categorical Features"
   ]
  },
  {
   "cell_type": "code",
   "execution_count": 24,
   "id": "0fcfae1a",
   "metadata": {
    "execution": {
     "iopub.execute_input": "2022-03-24T15:50:09.153368Z",
     "iopub.status.busy": "2022-03-24T15:50:09.152641Z",
     "iopub.status.idle": "2022-03-24T15:50:09.169756Z",
     "shell.execute_reply": "2022-03-24T15:50:09.170286Z",
     "shell.execute_reply.started": "2022-03-24T14:48:37.798048Z"
    },
    "jupyter": {
     "source_hidden": true
    },
    "papermill": {
     "duration": 0.099849,
     "end_time": "2022-03-24T15:50:09.170455",
     "exception": false,
     "start_time": "2022-03-24T15:50:09.070606",
     "status": "completed"
    },
    "tags": []
   },
   "outputs": [
    {
     "name": "stdout",
     "output_type": "stream",
     "text": [
      "col_name :- Embarked\n",
      "['S' 'C' 'Q']\n",
      "S    646\n",
      "C    168\n",
      "Q     77\n",
      "Name: Embarked, dtype: int64\n",
      "S    0.725028\n",
      "C    0.188552\n",
      "Q    0.086420\n",
      "Name: Embarked, dtype: float64\n",
      "no_of_unique_values :- 3\n",
      "__________________________________________________\n",
      "col_name :- Sex\n",
      "['male' 'female']\n",
      "male      577\n",
      "female    314\n",
      "Name: Sex, dtype: int64\n",
      "male      0.647587\n",
      "female    0.352413\n",
      "Name: Sex, dtype: float64\n",
      "no_of_unique_values :- 2\n",
      "__________________________________________________\n"
     ]
    }
   ],
   "source": [
    "cols=['Embarked','Sex']\n",
    "for i in cols:\n",
    "    print(f'col_name :- {i}')\n",
    "    print(train[i].unique())\n",
    "    print(train[i].value_counts())\n",
    "    print(train[i].value_counts(normalize=True))\n",
    "    print(f'no_of_unique_values :- {train[i].nunique()}')\n",
    "    print(\"_\"*50)"
   ]
  },
  {
   "cell_type": "code",
   "execution_count": 25,
   "id": "d68dd663",
   "metadata": {
    "execution": {
     "iopub.execute_input": "2022-03-24T15:50:09.340712Z",
     "iopub.status.busy": "2022-03-24T15:50:09.340021Z",
     "iopub.status.idle": "2022-03-24T15:50:09.684701Z",
     "shell.execute_reply": "2022-03-24T15:50:09.684078Z",
     "shell.execute_reply.started": "2022-03-24T14:40:56.973299Z"
    },
    "papermill": {
     "duration": 0.437104,
     "end_time": "2022-03-24T15:50:09.684869",
     "exception": false,
     "start_time": "2022-03-24T15:50:09.247765",
     "status": "completed"
    },
    "tags": []
   },
   "outputs": [
    {
     "name": "stderr",
     "output_type": "stream",
     "text": [
      "/opt/conda/lib/python3.7/site-packages/seaborn/_decorators.py:43: FutureWarning: Pass the following variable as a keyword arg: x. From version 0.12, the only valid positional argument will be `data`, and passing other arguments without an explicit keyword will result in an error or misinterpretation.\n",
      "  FutureWarning\n",
      "/opt/conda/lib/python3.7/site-packages/seaborn/_decorators.py:43: FutureWarning: Pass the following variable as a keyword arg: x. From version 0.12, the only valid positional argument will be `data`, and passing other arguments without an explicit keyword will result in an error or misinterpretation.\n",
      "  FutureWarning\n"
     ]
    },
    {
     "data": {
      "image/png": "[encoded data removed]",
      "text/plain": [
       "<Figure size 720x432 with 2 Axes>"
      ]
     },
     "metadata": {},
     "output_type": "display_data"
    }
   ],
   "source": [
    "cols=['Embarked','Sex']\n",
    "fig,ax=plt.subplots(1,2,figsize=(10,6))\n",
    "for j,i in enumerate(cols):\n",
    "    sns.countplot(train[i],hue=train['Survived'],ax=ax[j],palette='Blues')\n",
    "    plt.xticks(rotation=45)\n",
    "plt.show()    "
   ]
  },
  {
   "cell_type": "code",
   "execution_count": 26,
   "id": "05d616fd",
   "metadata": {
    "execution": {
     "iopub.execute_input": "2022-03-24T15:50:09.848265Z",
     "iopub.status.busy": "2022-03-24T15:50:09.847622Z",
     "iopub.status.idle": "2022-03-24T15:50:09.855644Z",
     "shell.execute_reply": "2022-03-24T15:50:09.856204Z",
     "shell.execute_reply.started": "2022-03-24T14:45:15.082970Z"
    },
    "papermill": {
     "duration": 0.093022,
     "end_time": "2022-03-24T15:50:09.856378",
     "exception": false,
     "start_time": "2022-03-24T15:50:09.763356",
     "status": "completed"
    },
    "tags": []
   },
   "outputs": [
    {
     "data": {
      "text/plain": [
       "Embarked  Survived\n",
       "C         1           0.553571\n",
       "          0           0.446429\n",
       "Q         0           0.610390\n",
       "          1           0.389610\n",
       "S         0           0.660991\n",
       "          1           0.339009\n",
       "Name: Survived, dtype: float64"
      ]
     },
     "execution_count": 26,
     "metadata": {},
     "output_type": "execute_result"
    }
   ],
   "source": [
    "train.groupby('Embarked')['Survived'].value_counts(normalize=True)"
   ]
  },
  {
   "cell_type": "code",
   "execution_count": 27,
   "id": "5ab2775b",
   "metadata": {
    "execution": {
     "iopub.execute_input": "2022-03-24T15:50:10.021916Z",
     "iopub.status.busy": "2022-03-24T15:50:10.021276Z",
     "iopub.status.idle": "2022-03-24T15:50:10.289994Z",
     "shell.execute_reply": "2022-03-24T15:50:10.288834Z",
     "shell.execute_reply.started": "2022-03-24T14:55:25.481181Z"
    },
    "papermill": {
     "duration": 0.351653,
     "end_time": "2022-03-24T15:50:10.290195",
     "exception": false,
     "start_time": "2022-03-24T15:50:09.938542",
     "status": "completed"
    },
    "tags": []
   },
   "outputs": [
    {
     "data": {
      "text/plain": [
       "<AxesSubplot:xlabel='Embarked,Survived'>"
      ]
     },
     "execution_count": 27,
     "metadata": {},
     "output_type": "execute_result"
    },
    {
     "data": {
      "image/png": "[encoded data removed]",
      "text/plain": [
       "<Figure size 720x432 with 1 Axes>"
      ]
     },
     "metadata": {},
     "output_type": "display_data"
    }
   ],
   "source": [
    "train.groupby('Embarked')['Survived'].value_counts(normalize=True).plot()"
   ]
  },
  {
   "cell_type": "markdown",
   "id": "fff7496e",
   "metadata": {
    "papermill": {
     "duration": 0.0816,
     "end_time": "2022-03-24T15:50:10.454827",
     "exception": false,
     "start_time": "2022-03-24T15:50:10.373227",
     "status": "completed"
    },
    "tags": []
   },
   "source": [
    "1. **Females are tend to survive more compared to males. Out of the total females, 74.2% of females are survived and of the males, only 18.9% are survived hence Sex stands an important feature in predicting the survival**\n",
    "2. **In Embarked, S Category has the largest number of passengers and the survival percentage is also highest in it**\n",
    "3. **For Each of the Passengers in Embarked Category as C, 55% of passengers were Survived and Out of the Total in Q, only 38% of them and for S, only 33.7% of them were survived. Henec people in C category were more likely to be rescued/survived.**"
   ]
  },
  {
   "cell_type": "markdown",
   "id": "9a7e30b6",
   "metadata": {
    "papermill": {
     "duration": 0.081695,
     "end_time": "2022-03-24T15:50:10.618359",
     "exception": false,
     "start_time": "2022-03-24T15:50:10.536664",
     "status": "completed"
    },
    "tags": []
   },
   "source": [
    "### Numerical Features"
   ]
  },
  {
   "cell_type": "code",
   "execution_count": 28,
   "id": "97911df7",
   "metadata": {
    "execution": {
     "iopub.execute_input": "2022-03-24T15:50:10.791277Z",
     "iopub.status.busy": "2022-03-24T15:50:10.790180Z",
     "iopub.status.idle": "2022-03-24T15:50:10.804674Z",
     "shell.execute_reply": "2022-03-24T15:50:10.805233Z",
     "shell.execute_reply.started": "2022-03-24T15:01:46.535278Z"
    },
    "papermill": {
     "duration": 0.102703,
     "end_time": "2022-03-24T15:50:10.805429",
     "exception": false,
     "start_time": "2022-03-24T15:50:10.702726",
     "status": "completed"
    },
    "tags": []
   },
   "outputs": [
    {
     "name": "stdout",
     "output_type": "stream",
     "text": [
      "col_name :- SibSp\n",
      "[1 0 3 4 2 5 8]\n",
      "0    608\n",
      "1    209\n",
      "2     28\n",
      "4     18\n",
      "3     16\n",
      "8      7\n",
      "5      5\n",
      "Name: SibSp, dtype: int64\n",
      "no_of_unique_values :- 7\n",
      "__________________________________________________\n",
      "col_name :- Parch\n",
      "[0 1 2 5 3 4 6]\n",
      "0    678\n",
      "1    118\n",
      "2     80\n",
      "5      5\n",
      "3      5\n",
      "4      4\n",
      "6      1\n",
      "Name: Parch, dtype: int64\n",
      "no_of_unique_values :- 7\n",
      "__________________________________________________\n",
      "col_name :- Pclass\n",
      "[3 1 2]\n",
      "3    491\n",
      "1    216\n",
      "2    184\n",
      "Name: Pclass, dtype: int64\n",
      "no_of_unique_values :- 3\n",
      "__________________________________________________\n"
     ]
    }
   ],
   "source": [
    "features = ['SibSp','Parch','Pclass']\n",
    "for i in features:\n",
    "    print(f'col_name :- {i}')\n",
    "    print(train[i].unique())\n",
    "    print(train[i].value_counts())\n",
    "    print(f'no_of_unique_values :- {train[i].nunique()}')\n",
    "    print(\"_\"*50)"
   ]
  },
  {
   "cell_type": "code",
   "execution_count": 29,
   "id": "41ad230d",
   "metadata": {
    "execution": {
     "iopub.execute_input": "2022-03-24T15:50:10.978070Z",
     "iopub.status.busy": "2022-03-24T15:50:10.977343Z",
     "iopub.status.idle": "2022-03-24T15:50:11.686907Z",
     "shell.execute_reply": "2022-03-24T15:50:11.687473Z",
     "shell.execute_reply.started": "2022-03-24T15:00:06.211615Z"
    },
    "papermill": {
     "duration": 0.799251,
     "end_time": "2022-03-24T15:50:11.687675",
     "exception": false,
     "start_time": "2022-03-24T15:50:10.888424",
     "status": "completed"
    },
    "tags": []
   },
   "outputs": [
    {
     "name": "stderr",
     "output_type": "stream",
     "text": [
      "/opt/conda/lib/python3.7/site-packages/seaborn/_decorators.py:43: FutureWarning: Pass the following variable as a keyword arg: x. From version 0.12, the only valid positional argument will be `data`, and passing other arguments without an explicit keyword will result in an error or misinterpretation.\n",
      "  FutureWarning\n",
      "/opt/conda/lib/python3.7/site-packages/seaborn/_decorators.py:43: FutureWarning: Pass the following variable as a keyword arg: x. From version 0.12, the only valid positional argument will be `data`, and passing other arguments without an explicit keyword will result in an error or misinterpretation.\n",
      "  FutureWarning\n",
      "/opt/conda/lib/python3.7/site-packages/seaborn/_decorators.py:43: FutureWarning: Pass the following variable as a keyword arg: x. From version 0.12, the only valid positional argument will be `data`, and passing other arguments without an explicit keyword will result in an error or misinterpretation.\n",
      "  FutureWarning\n"
     ]
    },
    {
     "data": {
      "image/png": "[encoded data removed]",
      "text/plain": [
       "<Figure size 1080x432 with 3 Axes>"
      ]
     },
     "metadata": {},
     "output_type": "display_data"
    }
   ],
   "source": [
    "features = ['SibSp','Parch','Pclass']\n",
    "fig,ax=plt.subplots(1,3,figsize=(15,6))\n",
    "for j,i in enumerate(features):\n",
    "    sns.countplot(train[i],hue=train['Survived'],ax=ax[j])\n"
   ]
  },
  {
   "cell_type": "markdown",
   "id": "e60f042a",
   "metadata": {
    "papermill": {
     "duration": 0.085256,
     "end_time": "2022-03-24T15:50:11.859200",
     "exception": false,
     "start_time": "2022-03-24T15:50:11.773944",
     "status": "completed"
    },
    "tags": []
   },
   "source": [
    "#### From the above plots, we can clearly derieve the following conclusions:\n",
    "\n",
    "1. **Highest Number of people didnt survive from Pclass 3**\n",
    "\n",
    "2. **From passengers in SibSp 5 and 8 none of them were able to survive. Common observations were both of these classes were having PClass as 3 and there wasnt able specific Cabin value available. Along with this, Embarked value was found to be S for both of these**\n",
    "\n",
    "3. **Passengers in Parch 4 and 6, all of them were not survived**"
   ]
  },
  {
   "cell_type": "code",
   "execution_count": 30,
   "id": "246cfdb4",
   "metadata": {
    "execution": {
     "iopub.execute_input": "2022-03-24T15:50:12.035329Z",
     "iopub.status.busy": "2022-03-24T15:50:12.034514Z",
     "iopub.status.idle": "2022-03-24T15:50:12.741138Z",
     "shell.execute_reply": "2022-03-24T15:50:12.741645Z",
     "shell.execute_reply.started": "2022-03-24T15:06:47.997907Z"
    },
    "papermill": {
     "duration": 0.79673,
     "end_time": "2022-03-24T15:50:12.741858",
     "exception": false,
     "start_time": "2022-03-24T15:50:11.945128",
     "status": "completed"
    },
    "tags": []
   },
   "outputs": [
    {
     "name": "stderr",
     "output_type": "stream",
     "text": [
      "/opt/conda/lib/python3.7/site-packages/seaborn/distributions.py:2619: FutureWarning: `distplot` is a deprecated function and will be removed in a future version. Please adapt your code to use either `displot` (a figure-level function with similar flexibility) or `histplot` (an axes-level function for histograms).\n",
      "  warnings.warn(msg, FutureWarning)\n",
      "/opt/conda/lib/python3.7/site-packages/seaborn/distributions.py:2619: FutureWarning: `distplot` is a deprecated function and will be removed in a future version. Please adapt your code to use either `displot` (a figure-level function with similar flexibility) or `histplot` (an axes-level function for histograms).\n",
      "  warnings.warn(msg, FutureWarning)\n"
     ]
    },
    {
     "data": {
      "image/png": "[encoded data removed]",
      "text/plain": [
       "<Figure size 1080x432 with 2 Axes>"
      ]
     },
     "metadata": {},
     "output_type": "display_data"
    }
   ],
   "source": [
    "Num_cols=['Age','Fare']\n",
    "fig,ax=plt.subplots(1,2,figsize=(15,6))\n",
    "for j,i in enumerate(Num_cols):\n",
    "    sns.distplot(train[i],ax=ax[j])"
   ]
  },
  {
   "cell_type": "code",
   "execution_count": 31,
   "id": "9cca34fe",
   "metadata": {
    "execution": {
     "iopub.execute_input": "2022-03-24T15:50:12.925476Z",
     "iopub.status.busy": "2022-03-24T15:50:12.920837Z",
     "iopub.status.idle": "2022-03-24T15:50:13.249471Z",
     "shell.execute_reply": "2022-03-24T15:50:13.248687Z",
     "shell.execute_reply.started": "2022-03-24T15:07:12.907749Z"
    },
    "papermill": {
     "duration": 0.420222,
     "end_time": "2022-03-24T15:50:13.249634",
     "exception": false,
     "start_time": "2022-03-24T15:50:12.829412",
     "status": "completed"
    },
    "tags": []
   },
   "outputs": [
    {
     "name": "stderr",
     "output_type": "stream",
     "text": [
      "/opt/conda/lib/python3.7/site-packages/seaborn/_decorators.py:43: FutureWarning: Pass the following variable as a keyword arg: x. From version 0.12, the only valid positional argument will be `data`, and passing other arguments without an explicit keyword will result in an error or misinterpretation.\n",
      "  FutureWarning\n",
      "/opt/conda/lib/python3.7/site-packages/seaborn/_decorators.py:43: FutureWarning: Pass the following variable as a keyword arg: x. From version 0.12, the only valid positional argument will be `data`, and passing other arguments without an explicit keyword will result in an error or misinterpretation.\n",
      "  FutureWarning\n"
     ]
    },
    {
     "data": {
      "image/png": "[encoded data removed]",
      "text/plain": [
       "<Figure size 1080x432 with 2 Axes>"
      ]
     },
     "metadata": {},
     "output_type": "display_data"
    }
   ],
   "source": [
    "fig,ax=plt.subplots(1,2,figsize=(15,6))\n",
    "for j,i in enumerate(Num_cols):\n",
    "    sns.boxplot(train[i],ax=ax[j])"
   ]
  },
  {
   "cell_type": "markdown",
   "id": "bf2f4bc9",
   "metadata": {
    "papermill": {
     "duration": 0.087471,
     "end_time": "2022-03-24T15:50:13.425000",
     "exception": false,
     "start_time": "2022-03-24T15:50:13.337529",
     "status": "completed"
    },
    "tags": []
   },
   "source": [
    "#### From the above distribution plot, we can see that the Fare variable is right skewed"
   ]
  },
  {
   "cell_type": "code",
   "execution_count": 32,
   "id": "575564be",
   "metadata": {
    "execution": {
     "iopub.execute_input": "2022-03-24T15:50:13.604631Z",
     "iopub.status.busy": "2022-03-24T15:50:13.603587Z",
     "iopub.status.idle": "2022-03-24T15:50:13.936085Z",
     "shell.execute_reply": "2022-03-24T15:50:13.936578Z",
     "shell.execute_reply.started": "2022-03-24T15:13:11.667338Z"
    },
    "papermill": {
     "duration": 0.424363,
     "end_time": "2022-03-24T15:50:13.936807",
     "exception": false,
     "start_time": "2022-03-24T15:50:13.512444",
     "status": "completed"
    },
    "tags": []
   },
   "outputs": [
    {
     "data": {
      "text/plain": [
       "<AxesSubplot:>"
      ]
     },
     "execution_count": 32,
     "metadata": {},
     "output_type": "execute_result"
    },
    {
     "data": {
      "image/png": "[encoded data removed]",
      "text/plain": [
       "<Figure size 720x720 with 2 Axes>"
      ]
     },
     "metadata": {},
     "output_type": "display_data"
    }
   ],
   "source": [
    "corr = train.corr()\n",
    "mask = np.triu(np.ones_like(corr,dtype = bool))\n",
    "plt.figure(figsize = (10,10))\n",
    "sns.heatmap(train.corr(),annot = True,fmt='.02f',mask=mask,cmap='summer')\n"
   ]
  },
  {
   "cell_type": "markdown",
   "id": "49d46d28",
   "metadata": {
    "papermill": {
     "duration": 0.090687,
     "end_time": "2022-03-24T15:50:14.120614",
     "exception": false,
     "start_time": "2022-03-24T15:50:14.029927",
     "status": "completed"
    },
    "tags": []
   },
   "source": [
    "## Feature Encoding"
   ]
  },
  {
   "cell_type": "markdown",
   "id": "d7ae24d2",
   "metadata": {
    "papermill": {
     "duration": 0.090332,
     "end_time": "2022-03-24T15:50:14.301327",
     "exception": false,
     "start_time": "2022-03-24T15:50:14.210995",
     "status": "completed"
    },
    "tags": []
   },
   "source": [
    "- **Encoding the Categorical Variables into numerical ones to make it useful for the Machine Learning Model that gets trained**\n",
    "- **Here we have used the One-hot encoding technique since we have less number of categories and is the most effective one**\n",
    "- **Same transformations would be applied to the test data**"
   ]
  },
  {
   "cell_type": "code",
   "execution_count": 33,
   "id": "aa299b31",
   "metadata": {
    "execution": {
     "iopub.execute_input": "2022-03-24T15:50:14.482341Z",
     "iopub.status.busy": "2022-03-24T15:50:14.481375Z",
     "iopub.status.idle": "2022-03-24T15:50:14.495164Z",
     "shell.execute_reply": "2022-03-24T15:50:14.494569Z",
     "shell.execute_reply.started": "2022-03-24T15:17:02.465942Z"
    },
    "papermill": {
     "duration": 0.105472,
     "end_time": "2022-03-24T15:50:14.495306",
     "exception": false,
     "start_time": "2022-03-24T15:50:14.389834",
     "status": "completed"
    },
    "tags": []
   },
   "outputs": [],
   "source": [
    "train=pd.get_dummies(columns=['Sex','Embarked'],data=train,drop_first=True)\n",
    "test=pd.get_dummies(columns=['Sex','Embarked'],data=test,drop_first=True)"
   ]
  },
  {
   "cell_type": "code",
   "execution_count": 34,
   "id": "17366f85",
   "metadata": {
    "execution": {
     "iopub.execute_input": "2022-03-24T15:50:14.686137Z",
     "iopub.status.busy": "2022-03-24T15:50:14.685229Z",
     "iopub.status.idle": "2022-03-24T15:50:14.689215Z",
     "shell.execute_reply": "2022-03-24T15:50:14.689666Z",
     "shell.execute_reply.started": "2022-03-24T15:17:46.500098Z"
    },
    "papermill": {
     "duration": 0.106353,
     "end_time": "2022-03-24T15:50:14.689865",
     "exception": false,
     "start_time": "2022-03-24T15:50:14.583512",
     "status": "completed"
    },
    "tags": []
   },
   "outputs": [
    {
     "data": {
      "text/html": [
       "<div>\n",
       "<style scoped>\n",
       "    .dataframe tbody tr th:only-of-type {\n",
       "        vertical-align: middle;\n",
       "    }\n",
       "\n",
       "    .dataframe tbody tr th {\n",
       "        vertical-align: top;\n",
       "    }\n",
       "\n",
       "    .dataframe thead th {\n",
       "        text-align: right;\n",
       "    }\n",
       "</style>\n",
       "<table border=\"1\" class=\"dataframe\">\n",
       "  <thead>\n",
       "    <tr style=\"text-align: right;\">\n",
       "      <th></th>\n",
       "      <th>Survived</th>\n",
       "      <th>Pclass</th>\n",
       "      <th>Age</th>\n",
       "      <th>SibSp</th>\n",
       "      <th>Parch</th>\n",
       "      <th>Fare</th>\n",
       "      <th>Sex_male</th>\n",
       "      <th>Embarked_Q</th>\n",
       "      <th>Embarked_S</th>\n",
       "    </tr>\n",
       "  </thead>\n",
       "  <tbody>\n",
       "    <tr>\n",
       "      <th>0</th>\n",
       "      <td>0</td>\n",
       "      <td>3</td>\n",
       "      <td>22.0</td>\n",
       "      <td>1</td>\n",
       "      <td>0</td>\n",
       "      <td>7.2500</td>\n",
       "      <td>1</td>\n",
       "      <td>0</td>\n",
       "      <td>1</td>\n",
       "    </tr>\n",
       "    <tr>\n",
       "      <th>1</th>\n",
       "      <td>1</td>\n",
       "      <td>1</td>\n",
       "      <td>38.0</td>\n",
       "      <td>1</td>\n",
       "      <td>0</td>\n",
       "      <td>71.2833</td>\n",
       "      <td>0</td>\n",
       "      <td>0</td>\n",
       "      <td>0</td>\n",
       "    </tr>\n",
       "    <tr>\n",
       "      <th>2</th>\n",
       "      <td>1</td>\n",
       "      <td>3</td>\n",
       "      <td>26.0</td>\n",
       "      <td>0</td>\n",
       "      <td>0</td>\n",
       "      <td>7.9250</td>\n",
       "      <td>0</td>\n",
       "      <td>0</td>\n",
       "      <td>1</td>\n",
       "    </tr>\n",
       "    <tr>\n",
       "      <th>3</th>\n",
       "      <td>1</td>\n",
       "      <td>1</td>\n",
       "      <td>35.0</td>\n",
       "      <td>1</td>\n",
       "      <td>0</td>\n",
       "      <td>53.1000</td>\n",
       "      <td>0</td>\n",
       "      <td>0</td>\n",
       "      <td>1</td>\n",
       "    </tr>\n",
       "    <tr>\n",
       "      <th>4</th>\n",
       "      <td>0</td>\n",
       "      <td>3</td>\n",
       "      <td>35.0</td>\n",
       "      <td>0</td>\n",
       "      <td>0</td>\n",
       "      <td>8.0500</td>\n",
       "      <td>1</td>\n",
       "      <td>0</td>\n",
       "      <td>1</td>\n",
       "    </tr>\n",
       "  </tbody>\n",
       "</table>\n",
       "</div>"
      ],
      "text/plain": [
       "   Survived  Pclass   Age  SibSp  Parch     Fare  Sex_male  Embarked_Q  \\\n",
       "0         0       3  22.0      1      0   7.2500         1           0   \n",
       "1         1       1  38.0      1      0  71.2833         0           0   \n",
       "2         1       3  26.0      0      0   7.9250         0           0   \n",
       "3         1       1  35.0      1      0  53.1000         0           0   \n",
       "4         0       3  35.0      0      0   8.0500         1           0   \n",
       "\n",
       "   Embarked_S  \n",
       "0           1  \n",
       "1           0  \n",
       "2           1  \n",
       "3           1  \n",
       "4           1  "
      ]
     },
     "execution_count": 34,
     "metadata": {},
     "output_type": "execute_result"
    }
   ],
   "source": [
    "train.head()"
   ]
  },
  {
   "cell_type": "code",
   "execution_count": 35,
   "id": "78bb8753",
   "metadata": {
    "execution": {
     "iopub.execute_input": "2022-03-24T15:50:14.872559Z",
     "iopub.status.busy": "2022-03-24T15:50:14.871572Z",
     "iopub.status.idle": "2022-03-24T15:50:15.444002Z",
     "shell.execute_reply": "2022-03-24T15:50:15.443421Z",
     "shell.execute_reply.started": "2022-03-24T15:18:21.381615Z"
    },
    "papermill": {
     "duration": 0.665466,
     "end_time": "2022-03-24T15:50:15.444145",
     "exception": false,
     "start_time": "2022-03-24T15:50:14.778679",
     "status": "completed"
    },
    "tags": []
   },
   "outputs": [
    {
     "data": {
      "text/plain": [
       "<AxesSubplot:>"
      ]
     },
     "execution_count": 35,
     "metadata": {},
     "output_type": "execute_result"
    },
    {
     "data": {
      "image/png": "[encoded data removed]",
      "text/plain": [
       "<Figure size 720x720 with 2 Axes>"
      ]
     },
     "metadata": {},
     "output_type": "display_data"
    }
   ],
   "source": [
    "corr = train.corr()\n",
    "mask = np.triu(np.ones_like(corr,dtype = bool))\n",
    "plt.figure(figsize = (10,10))\n",
    "sns.heatmap(train.corr(),annot = True,fmt='.02f',mask=mask,cmap='summer')"
   ]
  },
  {
   "cell_type": "markdown",
   "id": "137547e0",
   "metadata": {
    "papermill": {
     "duration": 0.091592,
     "end_time": "2022-03-24T15:50:15.627960",
     "exception": false,
     "start_time": "2022-03-24T15:50:15.536368",
     "status": "completed"
    },
    "tags": []
   },
   "source": [
    "### Splitting Data into Features and Labels\n"
   ]
  },
  {
   "cell_type": "code",
   "execution_count": 36,
   "id": "231e37ca",
   "metadata": {
    "execution": {
     "iopub.execute_input": "2022-03-24T15:50:15.815930Z",
     "iopub.status.busy": "2022-03-24T15:50:15.815225Z",
     "iopub.status.idle": "2022-03-24T15:50:15.821015Z",
     "shell.execute_reply": "2022-03-24T15:50:15.821468Z",
     "shell.execute_reply.started": "2022-03-24T15:21:47.032006Z"
    },
    "papermill": {
     "duration": 0.101689,
     "end_time": "2022-03-24T15:50:15.821637",
     "exception": false,
     "start_time": "2022-03-24T15:50:15.719948",
     "status": "completed"
    },
    "tags": []
   },
   "outputs": [],
   "source": [
    "x = train.drop('Survived',axis = 1)\n",
    "y = train.Survived"
   ]
  },
  {
   "cell_type": "code",
   "execution_count": 37,
   "id": "edc9f385",
   "metadata": {
    "execution": {
     "iopub.execute_input": "2022-03-24T15:50:16.025488Z",
     "iopub.status.busy": "2022-03-24T15:50:16.024838Z",
     "iopub.status.idle": "2022-03-24T15:50:16.236713Z",
     "shell.execute_reply": "2022-03-24T15:50:16.236215Z",
     "shell.execute_reply.started": "2022-03-24T15:21:48.638424Z"
    },
    "papermill": {
     "duration": 0.318031,
     "end_time": "2022-03-24T15:50:16.236871",
     "exception": false,
     "start_time": "2022-03-24T15:50:15.918840",
     "status": "completed"
    },
    "tags": []
   },
   "outputs": [
    {
     "data": {
      "text/plain": [
       "((712, 8), (179, 8), (712,), (179,))"
      ]
     },
     "execution_count": 37,
     "metadata": {},
     "output_type": "execute_result"
    }
   ],
   "source": [
    "from sklearn.model_selection import train_test_split\n",
    "x_train, x_test, y_train, y_test = train_test_split(x,y,test_size=.2,random_state = 42)\n",
    "x_train.shape, x_test.shape, y_train.shape, y_test.shape"
   ]
  },
  {
   "cell_type": "markdown",
   "id": "17df4c3e",
   "metadata": {
    "papermill": {
     "duration": 0.093171,
     "end_time": "2022-03-24T15:50:16.424074",
     "exception": false,
     "start_time": "2022-03-24T15:50:16.330903",
     "status": "completed"
    },
    "tags": []
   },
   "source": [
    "## Scaling"
   ]
  },
  {
   "cell_type": "code",
   "execution_count": 38,
   "id": "00204a6b",
   "metadata": {
    "execution": {
     "iopub.execute_input": "2022-03-24T15:50:16.616129Z",
     "iopub.status.busy": "2022-03-24T15:50:16.615075Z",
     "iopub.status.idle": "2022-03-24T15:50:16.629898Z",
     "shell.execute_reply": "2022-03-24T15:50:16.630605Z",
     "shell.execute_reply.started": "2022-03-24T15:24:57.346815Z"
    },
    "papermill": {
     "duration": 0.113102,
     "end_time": "2022-03-24T15:50:16.630868",
     "exception": false,
     "start_time": "2022-03-24T15:50:16.517766",
     "status": "completed"
    },
    "tags": []
   },
   "outputs": [],
   "source": [
    "from sklearn.preprocessing import MinMaxScaler\n",
    "Num_cols=['Age','Fare']\n",
    "scaler = MinMaxScaler()\n",
    "scaler.fit(x_train[Num_cols])\n",
    "x_train[Num_cols] = scaler.transform(x_train[Num_cols])\n",
    "x_test[Num_cols] = scaler.transform(x_test[Num_cols])"
   ]
  },
  {
   "cell_type": "code",
   "execution_count": 39,
   "id": "b878af5d",
   "metadata": {
    "execution": {
     "iopub.execute_input": "2022-03-24T15:50:16.830974Z",
     "iopub.status.busy": "2022-03-24T15:50:16.829777Z",
     "iopub.status.idle": "2022-03-24T15:50:16.841669Z",
     "shell.execute_reply": "2022-03-24T15:50:16.842231Z",
     "shell.execute_reply.started": "2022-03-24T15:25:32.067143Z"
    },
    "papermill": {
     "duration": 0.117373,
     "end_time": "2022-03-24T15:50:16.842440",
     "exception": false,
     "start_time": "2022-03-24T15:50:16.725067",
     "status": "completed"
    },
    "tags": []
   },
   "outputs": [
    {
     "data": {
      "text/html": [
       "<div>\n",
       "<style scoped>\n",
       "    .dataframe tbody tr th:only-of-type {\n",
       "        vertical-align: middle;\n",
       "    }\n",
       "\n",
       "    .dataframe tbody tr th {\n",
       "        vertical-align: top;\n",
       "    }\n",
       "\n",
       "    .dataframe thead th {\n",
       "        text-align: right;\n",
       "    }\n",
       "</style>\n",
       "<table border=\"1\" class=\"dataframe\">\n",
       "  <thead>\n",
       "    <tr style=\"text-align: right;\">\n",
       "      <th></th>\n",
       "      <th>Pclass</th>\n",
       "      <th>Age</th>\n",
       "      <th>SibSp</th>\n",
       "      <th>Parch</th>\n",
       "      <th>Fare</th>\n",
       "      <th>Sex_male</th>\n",
       "      <th>Embarked_Q</th>\n",
       "      <th>Embarked_S</th>\n",
       "    </tr>\n",
       "  </thead>\n",
       "  <tbody>\n",
       "    <tr>\n",
       "      <th>331</th>\n",
       "      <td>1</td>\n",
       "      <td>0.566474</td>\n",
       "      <td>0</td>\n",
       "      <td>0</td>\n",
       "      <td>0.055628</td>\n",
       "      <td>1</td>\n",
       "      <td>0</td>\n",
       "      <td>1</td>\n",
       "    </tr>\n",
       "    <tr>\n",
       "      <th>733</th>\n",
       "      <td>2</td>\n",
       "      <td>0.283740</td>\n",
       "      <td>0</td>\n",
       "      <td>0</td>\n",
       "      <td>0.025374</td>\n",
       "      <td>1</td>\n",
       "      <td>0</td>\n",
       "      <td>1</td>\n",
       "    </tr>\n",
       "    <tr>\n",
       "      <th>382</th>\n",
       "      <td>3</td>\n",
       "      <td>0.396833</td>\n",
       "      <td>0</td>\n",
       "      <td>0</td>\n",
       "      <td>0.015469</td>\n",
       "      <td>1</td>\n",
       "      <td>0</td>\n",
       "      <td>1</td>\n",
       "    </tr>\n",
       "    <tr>\n",
       "      <th>704</th>\n",
       "      <td>3</td>\n",
       "      <td>0.321438</td>\n",
       "      <td>1</td>\n",
       "      <td>0</td>\n",
       "      <td>0.015330</td>\n",
       "      <td>1</td>\n",
       "      <td>0</td>\n",
       "      <td>1</td>\n",
       "    </tr>\n",
       "    <tr>\n",
       "      <th>813</th>\n",
       "      <td>3</td>\n",
       "      <td>0.070118</td>\n",
       "      <td>4</td>\n",
       "      <td>2</td>\n",
       "      <td>0.061045</td>\n",
       "      <td>0</td>\n",
       "      <td>0</td>\n",
       "      <td>1</td>\n",
       "    </tr>\n",
       "  </tbody>\n",
       "</table>\n",
       "</div>"
      ],
      "text/plain": [
       "     Pclass       Age  SibSp  Parch      Fare  Sex_male  Embarked_Q  \\\n",
       "331       1  0.566474      0      0  0.055628         1           0   \n",
       "733       2  0.283740      0      0  0.025374         1           0   \n",
       "382       3  0.396833      0      0  0.015469         1           0   \n",
       "704       3  0.321438      1      0  0.015330         1           0   \n",
       "813       3  0.070118      4      2  0.061045         0           0   \n",
       "\n",
       "     Embarked_S  \n",
       "331           1  \n",
       "733           1  \n",
       "382           1  \n",
       "704           1  \n",
       "813           1  "
      ]
     },
     "execution_count": 39,
     "metadata": {},
     "output_type": "execute_result"
    }
   ],
   "source": [
    "x_train.head()"
   ]
  },
  {
   "cell_type": "markdown",
   "id": "0742fbf6",
   "metadata": {
    "papermill": {
     "duration": 0.094412,
     "end_time": "2022-03-24T15:50:17.030961",
     "exception": false,
     "start_time": "2022-03-24T15:50:16.936549",
     "status": "completed"
    },
    "tags": []
   },
   "source": [
    "### ML models"
   ]
  },
  {
   "cell_type": "code",
   "execution_count": 40,
   "id": "47627e26",
   "metadata": {
    "execution": {
     "iopub.execute_input": "2022-03-24T15:50:17.234237Z",
     "iopub.status.busy": "2022-03-24T15:50:17.233126Z",
     "iopub.status.idle": "2022-03-24T15:50:17.556127Z",
     "shell.execute_reply": "2022-03-24T15:50:17.555482Z",
     "shell.execute_reply.started": "2022-03-24T15:26:27.591921Z"
    },
    "papermill": {
     "duration": 0.424161,
     "end_time": "2022-03-24T15:50:17.556279",
     "exception": false,
     "start_time": "2022-03-24T15:50:17.132118",
     "status": "completed"
    },
    "tags": []
   },
   "outputs": [],
   "source": [
    "from sklearn.linear_model import LogisticRegression\n",
    "from sklearn.neighbors import KNeighborsClassifier\n",
    "from sklearn.svm import SVC\n",
    "from sklearn.naive_bayes import GaussianNB\n",
    "from sklearn.tree import DecisionTreeClassifier\n",
    "from sklearn.ensemble import RandomForestClassifier\n",
    "from xgboost import XGBClassifier\n",
    "\n",
    "from sklearn.metrics import confusion_matrix, accuracy_score, precision_score, recall_score, f1_score, fbeta_score, classification_report"
   ]
  },
  {
   "cell_type": "code",
   "execution_count": 41,
   "id": "28c30cd7",
   "metadata": {
    "execution": {
     "iopub.execute_input": "2022-03-24T15:50:17.767126Z",
     "iopub.status.busy": "2022-03-24T15:50:17.766154Z",
     "iopub.status.idle": "2022-03-24T15:50:17.771550Z",
     "shell.execute_reply": "2022-03-24T15:50:17.772218Z",
     "shell.execute_reply.started": "2022-03-24T15:31:25.764094Z"
    },
    "papermill": {
     "duration": 0.117612,
     "end_time": "2022-03-24T15:50:17.772387",
     "exception": false,
     "start_time": "2022-03-24T15:50:17.654775",
     "status": "completed"
    },
    "tags": []
   },
   "outputs": [],
   "source": [
    "models = {\n",
    "    \"LR\": LogisticRegression(),\n",
    "    \"KNN\": KNeighborsClassifier(),\n",
    "    \"SVC\": SVC(kernel='sigmoid'),\n",
    "    \"DT\": DecisionTreeClassifier(),\n",
    "    \"RF\": RandomForestClassifier(),\n",
    "    \"XGB\": XGBClassifier(n_estimators=70),\n",
    "    \"Naive Bayes\": GaussianNB()\n",
    "}"
   ]
  },
  {
   "cell_type": "code",
   "execution_count": 42,
   "id": "cdce96d4",
   "metadata": {
    "execution": {
     "iopub.execute_input": "2022-03-24T15:50:17.982885Z",
     "iopub.status.busy": "2022-03-24T15:50:17.981875Z",
     "iopub.status.idle": "2022-03-24T15:50:18.765258Z",
     "shell.execute_reply": "2022-03-24T15:50:18.764501Z",
     "shell.execute_reply.started": "2022-03-24T15:31:27.216430Z"
    },
    "papermill": {
     "duration": 0.886363,
     "end_time": "2022-03-24T15:50:18.765428",
     "exception": false,
     "start_time": "2022-03-24T15:50:17.879065",
     "status": "completed"
    },
    "tags": []
   },
   "outputs": [
    {
     "name": "stdout",
     "output_type": "stream",
     "text": [
      "Training Model LR \n",
      "--------------\n",
      "Training Accuracy: 0.8033707865168539\n",
      "Testing Accuracy: 0.7988826815642458\n",
      "Testing Confusion Matrix: \n",
      "[[89 16]\n",
      " [20 54]]\n",
      "Testing Recall: 0.7297297297297297\n",
      "Testing Precesion: 0.7714285714285715\n",
      "Testing F-1: 0.75\n",
      "Testing F-Beta: 0.7627118644067796\n",
      "------------------------------\n",
      "Training Model KNN \n",
      "--------------\n",
      "Training Accuracy: 0.8539325842696629\n",
      "Testing Accuracy: 0.8100558659217877\n",
      "Testing Confusion Matrix: \n",
      "[[92 13]\n",
      " [21 53]]\n",
      "Testing Recall: 0.7162162162162162\n",
      "Testing Precesion: 0.803030303030303\n",
      "Testing F-1: 0.7571428571428571\n",
      "Testing F-Beta: 0.7840236686390532\n",
      "------------------------------\n",
      "Training Model SVC \n",
      "--------------\n",
      "Training Accuracy: 0.5969101123595506\n",
      "Testing Accuracy: 0.6145251396648045\n",
      "Testing Confusion Matrix: \n",
      "[[89 16]\n",
      " [53 21]]\n",
      "Testing Recall: 0.28378378378378377\n",
      "Testing Precesion: 0.5675675675675675\n",
      "Testing F-1: 0.3783783783783784\n",
      "Testing F-Beta: 0.4729729729729729\n",
      "------------------------------\n",
      "Training Model DT \n",
      "--------------\n",
      "Training Accuracy: 0.9803370786516854\n",
      "Testing Accuracy: 0.7821229050279329\n",
      "Testing Confusion Matrix: \n",
      "[[87 18]\n",
      " [21 53]]\n",
      "Testing Recall: 0.7162162162162162\n",
      "Testing Precesion: 0.7464788732394366\n",
      "Testing F-1: 0.7310344827586208\n",
      "Testing F-Beta: 0.7402234636871509\n",
      "------------------------------\n",
      "Training Model RF \n",
      "--------------\n",
      "Training Accuracy: 0.9803370786516854\n",
      "Testing Accuracy: 0.8100558659217877\n",
      "Testing Confusion Matrix: \n",
      "[[90 15]\n",
      " [19 55]]\n",
      "Testing Recall: 0.7432432432432432\n",
      "Testing Precesion: 0.7857142857142857\n",
      "Testing F-1: 0.7638888888888888\n",
      "Testing F-Beta: 0.7768361581920904\n",
      "------------------------------\n",
      "Training Model XGB \n",
      "--------------\n",
      "[15:50:18] WARNING: ../src/learner.cc:1115: Starting in XGBoost 1.3.0, the default evaluation metric used with the objective 'binary:logistic' was changed from 'error' to 'logloss'. Explicitly set eval_metric if you'd like to restore the old behavior.\n"
     ]
    },
    {
     "name": "stderr",
     "output_type": "stream",
     "text": [
      "/opt/conda/lib/python3.7/site-packages/xgboost/sklearn.py:1224: UserWarning: The use of label encoder in XGBClassifier is deprecated and will be removed in a future release. To remove this warning, do the following: 1) Pass option use_label_encoder=False when constructing XGBClassifier object; and 2) Encode your labels (y) as integers starting with 0, i.e. 0, 1, 2, ..., [num_class - 1].\n",
      "  warnings.warn(label_encoder_deprecation_msg, UserWarning)\n"
     ]
    },
    {
     "name": "stdout",
     "output_type": "stream",
     "text": [
      "Training Accuracy: 0.9564606741573034\n",
      "Testing Accuracy: 0.8212290502793296\n",
      "Testing Confusion Matrix: \n",
      "[[91 14]\n",
      " [18 56]]\n",
      "Testing Recall: 0.7567567567567568\n",
      "Testing Precesion: 0.8\n",
      "Testing F-1: 0.7777777777777778\n",
      "Testing F-Beta: 0.7909604519774012\n",
      "------------------------------\n",
      "Training Model Naive Bayes \n",
      "--------------\n",
      "Training Accuracy: 0.797752808988764\n",
      "Testing Accuracy: 0.770949720670391\n",
      "Testing Confusion Matrix: \n",
      "[[84 21]\n",
      " [20 54]]\n",
      "Testing Recall: 0.7297297297297297\n",
      "Testing Precesion: 0.72\n",
      "Testing F-1: 0.7248322147651007\n",
      "Testing F-Beta: 0.7219251336898395\n",
      "------------------------------\n"
     ]
    }
   ],
   "source": [
    "for name, model in models.items():\n",
    "    print(f'Training Model {name} \\n--------------')\n",
    "    model.fit(x_train, y_train)\n",
    "    y_pred = model.predict(x_test)\n",
    "    print(f'Training Accuracy: {model.score(x_train, y_train)}')\n",
    "    print(f'Testing Accuracy: {accuracy_score(y_test, y_pred)}')\n",
    "    print(f'Testing Confusion Matrix: \\n{confusion_matrix(y_test, y_pred)}')\n",
    "    print(f'Testing Recall: {recall_score(y_test, y_pred)}')    \n",
    "    print(f'Testing Precesion: {precision_score(y_test, y_pred)}')\n",
    "    print(f'Testing F-1: {f1_score(y_test, y_pred)}')\n",
    "    print(f'Testing F-Beta: {fbeta_score(y_test, y_pred, beta=0.5)}')\n",
    "    print('-'*30)"
   ]
  },
  {
   "cell_type": "markdown",
   "id": "f0f7cbdc",
   "metadata": {
    "papermill": {
     "duration": 0.096225,
     "end_time": "2022-03-24T15:50:18.958287",
     "exception": false,
     "start_time": "2022-03-24T15:50:18.862062",
     "status": "completed"
    },
    "tags": []
   },
   "source": [
    "### The best model is XGboosting"
   ]
  },
  {
   "cell_type": "code",
   "execution_count": 43,
   "id": "4e307abb",
   "metadata": {
    "execution": {
     "iopub.execute_input": "2022-03-24T15:50:19.162911Z",
     "iopub.status.busy": "2022-03-24T15:50:19.161782Z",
     "iopub.status.idle": "2022-03-24T15:50:19.528011Z",
     "shell.execute_reply": "2022-03-24T15:50:19.528735Z",
     "shell.execute_reply.started": "2022-03-24T15:35:35.680682Z"
    },
    "papermill": {
     "duration": 0.472264,
     "end_time": "2022-03-24T15:50:19.528970",
     "exception": false,
     "start_time": "2022-03-24T15:50:19.056706",
     "status": "completed"
    },
    "tags": []
   },
   "outputs": [
    {
     "name": "stderr",
     "output_type": "stream",
     "text": [
      "/opt/conda/lib/python3.7/site-packages/xgboost/sklearn.py:1224: UserWarning: The use of label encoder in XGBClassifier is deprecated and will be removed in a future release. To remove this warning, do the following: 1) Pass option use_label_encoder=False when constructing XGBClassifier object; and 2) Encode your labels (y) as integers starting with 0, i.e. 0, 1, 2, ..., [num_class - 1].\n",
      "  warnings.warn(label_encoder_deprecation_msg, UserWarning)\n"
     ]
    },
    {
     "name": "stdout",
     "output_type": "stream",
     "text": [
      "[15:50:19] WARNING: ../src/learner.cc:576: \n",
      "Parameters: { \"min_samples_split\" } might not be used.\n",
      "\n",
      "  This could be a false alarm, with some parameters getting used by language bindings but\n",
      "  then being mistakenly passed down to XGBoost core, or some parameter actually being used\n",
      "  but getting flagged wrongly here. Please open an issue if you find any such cases.\n",
      "\n",
      "\n",
      "[15:50:19] WARNING: ../src/learner.cc:1115: Starting in XGBoost 1.3.0, the default evaluation metric used with the objective 'binary:logistic' was changed from 'error' to 'logloss'. Explicitly set eval_metric if you'd like to restore the old behavior.\n"
     ]
    },
    {
     "data": {
      "text/plain": [
       "0.8435754189944135"
      ]
     },
     "execution_count": 43,
     "metadata": {},
     "output_type": "execute_result"
    }
   ],
   "source": [
    "model =XGBClassifier(n_estimators = 100, max_depth = 10,min_samples_split =2,learning_rate=.0001)\n",
    "model.fit(x_train, y_train)\n",
    "y_pred = model.predict(x_test)\n",
    "accuracy_score(y_test,y_pred)"
   ]
  },
  {
   "cell_type": "markdown",
   "id": "f3ac969f",
   "metadata": {
    "papermill": {
     "duration": 0.095078,
     "end_time": "2022-03-24T15:50:19.722154",
     "exception": false,
     "start_time": "2022-03-24T15:50:19.627076",
     "status": "completed"
    },
    "tags": []
   },
   "source": [
    "### Final Prediction Submission"
   ]
  },
  {
   "cell_type": "code",
   "execution_count": 44,
   "id": "6e997210",
   "metadata": {
    "execution": {
     "iopub.execute_input": "2022-03-24T15:50:19.919472Z",
     "iopub.status.busy": "2022-03-24T15:50:19.918466Z",
     "iopub.status.idle": "2022-03-24T15:50:19.929288Z",
     "shell.execute_reply": "2022-03-24T15:50:19.929894Z",
     "shell.execute_reply.started": "2022-03-24T15:45:44.306974Z"
    },
    "papermill": {
     "duration": 0.112904,
     "end_time": "2022-03-24T15:50:19.930064",
     "exception": false,
     "start_time": "2022-03-24T15:50:19.817160",
     "status": "completed"
    },
    "tags": []
   },
   "outputs": [
    {
     "data": {
      "text/html": [
       "<div>\n",
       "<style scoped>\n",
       "    .dataframe tbody tr th:only-of-type {\n",
       "        vertical-align: middle;\n",
       "    }\n",
       "\n",
       "    .dataframe tbody tr th {\n",
       "        vertical-align: top;\n",
       "    }\n",
       "\n",
       "    .dataframe thead th {\n",
       "        text-align: right;\n",
       "    }\n",
       "</style>\n",
       "<table border=\"1\" class=\"dataframe\">\n",
       "  <thead>\n",
       "    <tr style=\"text-align: right;\">\n",
       "      <th></th>\n",
       "      <th>PassengerId</th>\n",
       "      <th>Pclass</th>\n",
       "      <th>Age</th>\n",
       "      <th>SibSp</th>\n",
       "      <th>Parch</th>\n",
       "      <th>Fare</th>\n",
       "      <th>Sex_male</th>\n",
       "      <th>Embarked_Q</th>\n",
       "      <th>Embarked_S</th>\n",
       "    </tr>\n",
       "  </thead>\n",
       "  <tbody>\n",
       "    <tr>\n",
       "      <th>0</th>\n",
       "      <td>892</td>\n",
       "      <td>3</td>\n",
       "      <td>34.5</td>\n",
       "      <td>0</td>\n",
       "      <td>0</td>\n",
       "      <td>7.8292</td>\n",
       "      <td>1</td>\n",
       "      <td>1</td>\n",
       "      <td>0</td>\n",
       "    </tr>\n",
       "    <tr>\n",
       "      <th>1</th>\n",
       "      <td>893</td>\n",
       "      <td>3</td>\n",
       "      <td>47.0</td>\n",
       "      <td>1</td>\n",
       "      <td>0</td>\n",
       "      <td>7.0000</td>\n",
       "      <td>0</td>\n",
       "      <td>0</td>\n",
       "      <td>1</td>\n",
       "    </tr>\n",
       "    <tr>\n",
       "      <th>2</th>\n",
       "      <td>894</td>\n",
       "      <td>2</td>\n",
       "      <td>62.0</td>\n",
       "      <td>0</td>\n",
       "      <td>0</td>\n",
       "      <td>9.6875</td>\n",
       "      <td>1</td>\n",
       "      <td>1</td>\n",
       "      <td>0</td>\n",
       "    </tr>\n",
       "    <tr>\n",
       "      <th>3</th>\n",
       "      <td>895</td>\n",
       "      <td>3</td>\n",
       "      <td>27.0</td>\n",
       "      <td>0</td>\n",
       "      <td>0</td>\n",
       "      <td>8.6625</td>\n",
       "      <td>1</td>\n",
       "      <td>0</td>\n",
       "      <td>1</td>\n",
       "    </tr>\n",
       "    <tr>\n",
       "      <th>4</th>\n",
       "      <td>896</td>\n",
       "      <td>3</td>\n",
       "      <td>22.0</td>\n",
       "      <td>1</td>\n",
       "      <td>1</td>\n",
       "      <td>12.2875</td>\n",
       "      <td>0</td>\n",
       "      <td>0</td>\n",
       "      <td>1</td>\n",
       "    </tr>\n",
       "  </tbody>\n",
       "</table>\n",
       "</div>"
      ],
      "text/plain": [
       "   PassengerId  Pclass   Age  SibSp  Parch     Fare  Sex_male  Embarked_Q  \\\n",
       "0          892       3  34.5      0      0   7.8292         1           1   \n",
       "1          893       3  47.0      1      0   7.0000         0           0   \n",
       "2          894       2  62.0      0      0   9.6875         1           1   \n",
       "3          895       3  27.0      0      0   8.6625         1           0   \n",
       "4          896       3  22.0      1      1  12.2875         0           0   \n",
       "\n",
       "   Embarked_S  \n",
       "0           0  \n",
       "1           1  \n",
       "2           0  \n",
       "3           1  \n",
       "4           1  "
      ]
     },
     "execution_count": 44,
     "metadata": {},
     "output_type": "execute_result"
    }
   ],
   "source": [
    "test.head()"
   ]
  },
  {
   "cell_type": "code",
   "execution_count": 45,
   "id": "b2856bbd",
   "metadata": {
    "execution": {
     "iopub.execute_input": "2022-03-24T15:50:20.127929Z",
     "iopub.status.busy": "2022-03-24T15:50:20.126954Z",
     "iopub.status.idle": "2022-03-24T15:50:20.135220Z",
     "shell.execute_reply": "2022-03-24T15:50:20.135717Z",
     "shell.execute_reply.started": "2022-03-24T15:37:13.786629Z"
    },
    "papermill": {
     "duration": 0.109763,
     "end_time": "2022-03-24T15:50:20.135895",
     "exception": false,
     "start_time": "2022-03-24T15:50:20.026132",
     "status": "completed"
    },
    "tags": []
   },
   "outputs": [
    {
     "data": {
      "text/plain": [
       "PassengerId    0\n",
       "Pclass         0\n",
       "Age            0\n",
       "SibSp          0\n",
       "Parch          0\n",
       "Fare           1\n",
       "Sex_male       0\n",
       "Embarked_Q     0\n",
       "Embarked_S     0\n",
       "dtype: int64"
      ]
     },
     "execution_count": 45,
     "metadata": {},
     "output_type": "execute_result"
    }
   ],
   "source": [
    "test.isnull().sum()"
   ]
  },
  {
   "cell_type": "code",
   "execution_count": 46,
   "id": "1b3a5d44",
   "metadata": {
    "execution": {
     "iopub.execute_input": "2022-03-24T15:50:20.332600Z",
     "iopub.status.busy": "2022-03-24T15:50:20.331618Z",
     "iopub.status.idle": "2022-03-24T15:50:20.336426Z",
     "shell.execute_reply": "2022-03-24T15:50:20.336887Z",
     "shell.execute_reply.started": "2022-03-24T15:45:59.646674Z"
    },
    "papermill": {
     "duration": 0.104953,
     "end_time": "2022-03-24T15:50:20.337051",
     "exception": false,
     "start_time": "2022-03-24T15:50:20.232098",
     "status": "completed"
    },
    "tags": []
   },
   "outputs": [],
   "source": [
    "test.Fare.fillna(test['Fare'].median(),inplace = True)\n"
   ]
  },
  {
   "cell_type": "code",
   "execution_count": 47,
   "id": "5e43545c",
   "metadata": {
    "execution": {
     "iopub.execute_input": "2022-03-24T15:50:20.540175Z",
     "iopub.status.busy": "2022-03-24T15:50:20.539149Z",
     "iopub.status.idle": "2022-03-24T15:50:20.546406Z",
     "shell.execute_reply": "2022-03-24T15:50:20.546928Z",
     "shell.execute_reply.started": "2022-03-24T15:42:01.243190Z"
    },
    "papermill": {
     "duration": 0.112624,
     "end_time": "2022-03-24T15:50:20.547103",
     "exception": false,
     "start_time": "2022-03-24T15:50:20.434479",
     "status": "completed"
    },
    "tags": []
   },
   "outputs": [],
   "source": [
    "from sklearn.preprocessing import MinMaxScaler\n",
    "Num_cols=['Age','Fare']\n",
    "scaler = MinMaxScaler()\n",
    "scaler.fit(test[Num_cols])\n",
    "test[Num_cols] = scaler.transform(test[Num_cols])\n"
   ]
  },
  {
   "cell_type": "code",
   "execution_count": 48,
   "id": "a8f2f65d",
   "metadata": {
    "execution": {
     "iopub.execute_input": "2022-03-24T15:50:20.747366Z",
     "iopub.status.busy": "2022-03-24T15:50:20.745360Z",
     "iopub.status.idle": "2022-03-24T15:50:20.777725Z",
     "shell.execute_reply": "2022-03-24T15:50:20.778280Z",
     "shell.execute_reply.started": "2022-03-24T15:43:17.183149Z"
    },
    "papermill": {
     "duration": 0.13353,
     "end_time": "2022-03-24T15:50:20.778461",
     "exception": false,
     "start_time": "2022-03-24T15:50:20.644931",
     "status": "completed"
    },
    "tags": []
   },
   "outputs": [
    {
     "data": {
      "text/plain": [
       "array([0, 0, 0, 1, 0, 1, 1, 0, 1, 1, 0, 0, 0, 0, 0, 1, 0, 1, 0, 0, 0, 1,\n",
       "       0, 0, 0, 0, 0, 0, 0, 0, 0, 1, 1, 1, 0, 0, 0, 1, 1, 0, 0, 0, 0, 0,\n",
       "       0, 0, 0, 0, 0, 0, 1, 1, 0, 0, 0, 1, 0, 1, 1, 1, 0, 1, 1, 0, 0, 1,\n",
       "       0, 0, 0, 1, 1, 1, 1, 1, 0, 0, 1, 1, 1, 0, 0, 1, 1, 0, 1, 0, 1, 1,\n",
       "       0, 0, 1, 0, 0, 0, 0, 0, 0, 0, 1, 0, 0, 0, 1, 0, 0, 0, 1, 0, 0, 0,\n",
       "       1, 0, 1, 1, 1, 0, 0, 0, 1, 0, 0, 1, 1, 1, 0, 1, 1, 0, 0, 0, 1, 0,\n",
       "       0, 1, 0, 0, 1, 0, 0, 0, 0, 1, 0, 0, 0, 1, 0, 0, 1, 0, 0, 0, 0, 0,\n",
       "       0, 0, 1, 1, 1, 1, 0, 1, 0, 1, 0, 0, 0, 1, 0, 0, 0, 1, 1, 0, 0, 0,\n",
       "       0, 1, 1])"
      ]
     },
     "execution_count": 48,
     "metadata": {},
     "output_type": "execute_result"
    }
   ],
   "source": [
    "y_pred = model.predict(x_test)\n",
    "y_pred"
   ]
  },
  {
   "cell_type": "code",
   "execution_count": 49,
   "id": "f9ccfe9d",
   "metadata": {
    "execution": {
     "iopub.execute_input": "2022-03-24T15:50:20.978888Z",
     "iopub.status.busy": "2022-03-24T15:50:20.978162Z",
     "iopub.status.idle": "2022-03-24T15:50:20.995980Z",
     "shell.execute_reply": "2022-03-24T15:50:20.996580Z",
     "shell.execute_reply.started": "2022-03-24T15:44:10.241716Z"
    },
    "papermill": {
     "duration": 0.119357,
     "end_time": "2022-03-24T15:50:20.996764",
     "exception": false,
     "start_time": "2022-03-24T15:50:20.877407",
     "status": "completed"
    },
    "tags": []
   },
   "outputs": [
    {
     "data": {
      "text/html": [
       "<div>\n",
       "<style scoped>\n",
       "    .dataframe tbody tr th:only-of-type {\n",
       "        vertical-align: middle;\n",
       "    }\n",
       "\n",
       "    .dataframe tbody tr th {\n",
       "        vertical-align: top;\n",
       "    }\n",
       "\n",
       "    .dataframe thead th {\n",
       "        text-align: right;\n",
       "    }\n",
       "</style>\n",
       "<table border=\"1\" class=\"dataframe\">\n",
       "  <thead>\n",
       "    <tr style=\"text-align: right;\">\n",
       "      <th></th>\n",
       "      <th>PassengerId</th>\n",
       "      <th>Survived</th>\n",
       "    </tr>\n",
       "  </thead>\n",
       "  <tbody>\n",
       "    <tr>\n",
       "      <th>0</th>\n",
       "      <td>892</td>\n",
       "      <td>0</td>\n",
       "    </tr>\n",
       "    <tr>\n",
       "      <th>1</th>\n",
       "      <td>893</td>\n",
       "      <td>1</td>\n",
       "    </tr>\n",
       "    <tr>\n",
       "      <th>2</th>\n",
       "      <td>894</td>\n",
       "      <td>0</td>\n",
       "    </tr>\n",
       "    <tr>\n",
       "      <th>3</th>\n",
       "      <td>895</td>\n",
       "      <td>0</td>\n",
       "    </tr>\n",
       "    <tr>\n",
       "      <th>4</th>\n",
       "      <td>896</td>\n",
       "      <td>1</td>\n",
       "    </tr>\n",
       "  </tbody>\n",
       "</table>\n",
       "</div>"
      ],
      "text/plain": [
       "   PassengerId  Survived\n",
       "0          892         0\n",
       "1          893         1\n",
       "2          894         0\n",
       "3          895         0\n",
       "4          896         1"
      ]
     },
     "execution_count": 49,
     "metadata": {},
     "output_type": "execute_result"
    }
   ],
   "source": [
    "sample = pd.read_csv('/kaggle/input/titanic/gender_submission.csv')\n",
    "sample.head()"
   ]
  },
  {
   "cell_type": "code",
   "execution_count": 50,
   "id": "cbe36164",
   "metadata": {
    "execution": {
     "iopub.execute_input": "2022-03-24T15:50:21.209649Z",
     "iopub.status.busy": "2022-03-24T15:50:21.209002Z",
     "iopub.status.idle": "2022-03-24T15:50:21.211851Z",
     "shell.execute_reply": "2022-03-24T15:50:21.212441Z",
     "shell.execute_reply.started": "2022-03-24T15:48:02.343208Z"
    },
    "papermill": {
     "duration": 0.115556,
     "end_time": "2022-03-24T15:50:21.212619",
     "exception": false,
     "start_time": "2022-03-24T15:50:21.097063",
     "status": "completed"
    },
    "tags": []
   },
   "outputs": [
    {
     "data": {
      "text/html": [
       "<div>\n",
       "<style scoped>\n",
       "    .dataframe tbody tr th:only-of-type {\n",
       "        vertical-align: middle;\n",
       "    }\n",
       "\n",
       "    .dataframe tbody tr th {\n",
       "        vertical-align: top;\n",
       "    }\n",
       "\n",
       "    .dataframe thead th {\n",
       "        text-align: right;\n",
       "    }\n",
       "</style>\n",
       "<table border=\"1\" class=\"dataframe\">\n",
       "  <thead>\n",
       "    <tr style=\"text-align: right;\">\n",
       "      <th></th>\n",
       "      <th>PassengerId</th>\n",
       "      <th>Survived</th>\n",
       "    </tr>\n",
       "  </thead>\n",
       "  <tbody>\n",
       "    <tr>\n",
       "      <th>0</th>\n",
       "      <td>892</td>\n",
       "      <td>0.0</td>\n",
       "    </tr>\n",
       "    <tr>\n",
       "      <th>1</th>\n",
       "      <td>893</td>\n",
       "      <td>0.0</td>\n",
       "    </tr>\n",
       "    <tr>\n",
       "      <th>2</th>\n",
       "      <td>894</td>\n",
       "      <td>0.0</td>\n",
       "    </tr>\n",
       "    <tr>\n",
       "      <th>3</th>\n",
       "      <td>895</td>\n",
       "      <td>1.0</td>\n",
       "    </tr>\n",
       "    <tr>\n",
       "      <th>4</th>\n",
       "      <td>896</td>\n",
       "      <td>0.0</td>\n",
       "    </tr>\n",
       "  </tbody>\n",
       "</table>\n",
       "</div>"
      ],
      "text/plain": [
       "   PassengerId  Survived\n",
       "0          892       0.0\n",
       "1          893       0.0\n",
       "2          894       0.0\n",
       "3          895       1.0\n",
       "4          896       0.0"
      ]
     },
     "execution_count": 50,
     "metadata": {},
     "output_type": "execute_result"
    }
   ],
   "source": [
    "id_p = sample.PassengerId\n",
    "pred =  pd.DataFrame(y_pred,columns = ['Survived'])\n",
    "df = pd.concat([id_p,pred],axis = 1)\n",
    "df.head()"
   ]
  },
  {
   "cell_type": "code",
   "execution_count": 51,
   "id": "924b62d8",
   "metadata": {
    "execution": {
     "iopub.execute_input": "2022-03-24T15:50:21.413200Z",
     "iopub.status.busy": "2022-03-24T15:50:21.412236Z",
     "iopub.status.idle": "2022-03-24T15:50:21.420927Z",
     "shell.execute_reply": "2022-03-24T15:50:21.421550Z",
     "shell.execute_reply.started": "2022-03-24T15:49:13.774420Z"
    },
    "papermill": {
     "duration": 0.110705,
     "end_time": "2022-03-24T15:50:21.421745",
     "exception": false,
     "start_time": "2022-03-24T15:50:21.311040",
     "status": "completed"
    },
    "tags": []
   },
   "outputs": [],
   "source": [
    "df.to_csv('submission.csv',index = False)"
   ]
  }
 ],
 "metadata": {
  "kernelspec": {
   "display_name": "Python 3",
   "language": "python",
   "name": "python3"
  },
  "language_info": {
   "codemirror_mode": {
    "name": "ipython",
    "version": 3
   },
   "file_extension": ".py",
   "mimetype": "text/x-python",
   "name": "python",
   "nbconvert_exporter": "python",
   "pygments_lexer": "ipython3",
   "version": "3.7.12"
  },
  "papermill": {
   "default_parameters": {},
   "duration": 31.503437,
   "end_time": "2022-03-24T15:50:22.636394",
   "environment_variables": {},
   "exception": null,
   "input_path": "__notebook__.ipynb",
   "output_path": "__notebook__.ipynb",
   "parameters": {},
   "start_time": "2022-03-24T15:49:51.132957",
   "version": "2.3.3"
  }
 },
 "nbformat": 4,
 "nbformat_minor": 5
}
