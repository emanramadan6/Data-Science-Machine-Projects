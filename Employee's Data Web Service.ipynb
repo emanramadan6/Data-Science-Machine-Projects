{
 "cells": [
  {
   "cell_type": "code",
   "execution_count": null,
   "metadata": {},
   "outputs": [],
   "source": [
    "!pip install requests"
   ]
  },
  {
   "cell_type": "code",
   "execution_count": 1,
   "metadata": {
    "ExecuteTime": {
     "end_time": "2021-12-09T19:46:07.854668Z",
     "start_time": "2021-12-09T19:46:07.480670Z"
    }
   },
   "outputs": [],
   "source": [
    "import requests"
   ]
  },
  {
   "cell_type": "code",
   "execution_count": 11,
   "metadata": {
    "ExecuteTime": {
     "end_time": "2021-12-09T19:56:46.410539Z",
     "start_time": "2021-12-09T19:56:45.110307Z"
    }
   },
   "outputs": [
    {
     "data": {
      "text/plain": [
       "<Response [200]>"
      ]
     },
     "execution_count": 11,
     "metadata": {},
     "output_type": "execute_result"
    }
   ],
   "source": [
    "response = requests.get(\"https://gorest.co.in/public-api/users?_format=json&access-token=H4lYmIGLXZkDlpy_w0ZVS5rgcpDXbN7fhRRy\")\n",
    "response"
   ]
  },
  {
   "cell_type": "code",
   "execution_count": 5,
   "metadata": {
    "ExecuteTime": {
     "end_time": "2021-12-09T19:53:28.074299Z",
     "start_time": "2021-12-09T19:53:28.066308Z"
    }
   },
   "outputs": [
    {
     "data": {
      "text/plain": [
       "'{\"code\":200,\"meta\":{\"pagination\":{\"total\":2451,\"pages\":123,\"page\":1,\"limit\":20}},\"data\":[{\"id\":42,\"name\":\"Dhanesh\",\"email\":\"dhawan_dhanesh@monahan.com\",\"gender\":\"female\",\"status\":\"active\"},{\"id\":43,\"name\":\"Giri Menon Esq.\",\"email\":\"menon_giri_esq@schroeder.name\",\"gender\":\"female\",\"status\":\"active\"},{\"id\":45,\"name\":\"Prem Bhat\",\"email\":\"prem_bhat@haley.info\",\"gender\":\"male\",\"status\":\"active\"},{\"id\":48,\"name\":\"Bhishma Arora\",\"email\":\"bhishma_arora@huel-lueilwitz.name\",\"gender\":\"male\",\"status\":\"inactive\"},{\"id\":50,\"name\":\"Ambar Mahajan\",\"email\":\"ambar_mahajan@bartoletti.info\",\"gender\":\"male\",\"status\":\"inactive\"},{\"id\":51,\"name\":\"Parvati Bhattacharya\",\"email\":\"bhattacharya_parvati@reynolds-mayer.biz\",\"gender\":\"female\",\"status\":\"inactive\"},{\"id\":52,\"name\":\"Sumitra Panicker\",\"email\":\"sumitra_panicker@rath-bruen.org\",\"gender\":\"female\",\"status\":\"active\"},{\"id\":53,\"name\":\"Mani Bhattathiri\",\"email\":\"bhattathiri_mani@schiller.com\",\"gender\":\"female\",\"status\":\"inactive\"},{\"id\":54,\"name\":\"Brajesh Dubashi II\",\"email\":\"ii_brajesh_dubashi@roberts.com\",\"gender\":\"female\",\"status\":\"inactive\"},{\"id\":2206,\"name\":\"admin\",\"email\":\"sam2356@gmail.com\",\"gender\":\"male\",\"status\":\"active\"},{\"id\":58,\"name\":\"Indra Abbott Jr.\",\"email\":\"abbott_jr_indra@runolfsdottir.co\",\"gender\":\"male\",\"status\":\"inactive\"},{\"id\":59,\"name\":\"Ms. Kumuda Marar\",\"email\":\"kumuda_marar_ms@hilpert.net\",\"gender\":\"female\",\"status\":\"active\"},{\"id\":61,\"name\":\"Subhash Shukla\",\"email\":\"subhash_shukla@wintheiser.info\",\"gender\":\"male\",\"status\":\"inactive\"},{\"id\":62,\"name\":\"Gudakesha Khatri JD\",\"email\":\"gudakesha_jd_khatri@predovic.org\",\"gender\":\"female\",\"status\":\"inactive\"},{\"id\":65,\"name\":\"Balaaditya Tandon\",\"email\":\"tandon_balaaditya@mckenzie-spencer.co\",\"gender\":\"male\",\"status\":\"inactive\"},{\"id\":66,\"name\":\"Sen. Bhupen Nehru\",\"email\":\"bhupen_nehru_sen@littel-mueller.co\",\"gender\":\"female\",\"status\":\"inactive\"},{\"id\":67,\"name\":\"Eshana Nayar\",\"email\":\"eshana_nayar@hessel-lakin.net\",\"gender\":\"male\",\"status\":\"active\"},{\"id\":68,\"name\":\"Daksha Bhattacharya\",\"email\":\"bhattacharya_daksha@hayes.org\",\"gender\":\"male\",\"status\":\"inactive\"},{\"id\":69,\"name\":\"Akshata Chaturvedi\",\"email\":\"chaturvedi_akshata@walker-emmerich.info\",\"gender\":\"female\",\"status\":\"inactive\"},{\"id\":70,\"name\":\"Bandhu Mukhopadhyay II\",\"email\":\"ii_bandhu_mukhopadhyay@hane.io\",\"gender\":\"female\",\"status\":\"active\"}]}'"
      ]
     },
     "execution_count": 5,
     "metadata": {},
     "output_type": "execute_result"
    }
   ],
   "source": [
    "response.text"
   ]
  },
  {
   "cell_type": "code",
   "execution_count": 6,
   "metadata": {
    "ExecuteTime": {
     "end_time": "2021-12-09T19:53:47.313867Z",
     "start_time": "2021-12-09T19:53:47.304862Z"
    }
   },
   "outputs": [
    {
     "data": {
      "text/plain": [
       "str"
      ]
     },
     "execution_count": 6,
     "metadata": {},
     "output_type": "execute_result"
    }
   ],
   "source": [
    "type(response.text)"
   ]
  },
  {
   "cell_type": "code",
   "execution_count": 7,
   "metadata": {
    "ExecuteTime": {
     "end_time": "2021-12-09T19:54:27.224643Z",
     "start_time": "2021-12-09T19:54:27.219649Z"
    }
   },
   "outputs": [],
   "source": [
    "employees = response.json()"
   ]
  },
  {
   "cell_type": "code",
   "execution_count": 8,
   "metadata": {
    "ExecuteTime": {
     "end_time": "2021-12-09T19:54:35.830866Z",
     "start_time": "2021-12-09T19:54:35.814864Z"
    }
   },
   "outputs": [
    {
     "data": {
      "text/plain": [
       "{'code': 200,\n",
       " 'meta': {'pagination': {'total': 2451, 'pages': 123, 'page': 1, 'limit': 20}},\n",
       " 'data': [{'id': 42,\n",
       "   'name': 'Dhanesh',\n",
       "   'email': 'dhawan_dhanesh@monahan.com',\n",
       "   'gender': 'female',\n",
       "   'status': 'active'},\n",
       "  {'id': 43,\n",
       "   'name': 'Giri Menon Esq.',\n",
       "   'email': 'menon_giri_esq@schroeder.name',\n",
       "   'gender': 'female',\n",
       "   'status': 'active'},\n",
       "  {'id': 45,\n",
       "   'name': 'Prem Bhat',\n",
       "   'email': 'prem_bhat@haley.info',\n",
       "   'gender': 'male',\n",
       "   'status': 'active'},\n",
       "  {'id': 48,\n",
       "   'name': 'Bhishma Arora',\n",
       "   'email': 'bhishma_arora@huel-lueilwitz.name',\n",
       "   'gender': 'male',\n",
       "   'status': 'inactive'},\n",
       "  {'id': 50,\n",
       "   'name': 'Ambar Mahajan',\n",
       "   'email': 'ambar_mahajan@bartoletti.info',\n",
       "   'gender': 'male',\n",
       "   'status': 'inactive'},\n",
       "  {'id': 51,\n",
       "   'name': 'Parvati Bhattacharya',\n",
       "   'email': 'bhattacharya_parvati@reynolds-mayer.biz',\n",
       "   'gender': 'female',\n",
       "   'status': 'inactive'},\n",
       "  {'id': 52,\n",
       "   'name': 'Sumitra Panicker',\n",
       "   'email': 'sumitra_panicker@rath-bruen.org',\n",
       "   'gender': 'female',\n",
       "   'status': 'active'},\n",
       "  {'id': 53,\n",
       "   'name': 'Mani Bhattathiri',\n",
       "   'email': 'bhattathiri_mani@schiller.com',\n",
       "   'gender': 'female',\n",
       "   'status': 'inactive'},\n",
       "  {'id': 54,\n",
       "   'name': 'Brajesh Dubashi II',\n",
       "   'email': 'ii_brajesh_dubashi@roberts.com',\n",
       "   'gender': 'female',\n",
       "   'status': 'inactive'},\n",
       "  {'id': 2206,\n",
       "   'name': 'admin',\n",
       "   'email': 'sam2356@gmail.com',\n",
       "   'gender': 'male',\n",
       "   'status': 'active'},\n",
       "  {'id': 58,\n",
       "   'name': 'Indra Abbott Jr.',\n",
       "   'email': 'abbott_jr_indra@runolfsdottir.co',\n",
       "   'gender': 'male',\n",
       "   'status': 'inactive'},\n",
       "  {'id': 59,\n",
       "   'name': 'Ms. Kumuda Marar',\n",
       "   'email': 'kumuda_marar_ms@hilpert.net',\n",
       "   'gender': 'female',\n",
       "   'status': 'active'},\n",
       "  {'id': 61,\n",
       "   'name': 'Subhash Shukla',\n",
       "   'email': 'subhash_shukla@wintheiser.info',\n",
       "   'gender': 'male',\n",
       "   'status': 'inactive'},\n",
       "  {'id': 62,\n",
       "   'name': 'Gudakesha Khatri JD',\n",
       "   'email': 'gudakesha_jd_khatri@predovic.org',\n",
       "   'gender': 'female',\n",
       "   'status': 'inactive'},\n",
       "  {'id': 65,\n",
       "   'name': 'Balaaditya Tandon',\n",
       "   'email': 'tandon_balaaditya@mckenzie-spencer.co',\n",
       "   'gender': 'male',\n",
       "   'status': 'inactive'},\n",
       "  {'id': 66,\n",
       "   'name': 'Sen. Bhupen Nehru',\n",
       "   'email': 'bhupen_nehru_sen@littel-mueller.co',\n",
       "   'gender': 'female',\n",
       "   'status': 'inactive'},\n",
       "  {'id': 67,\n",
       "   'name': 'Eshana Nayar',\n",
       "   'email': 'eshana_nayar@hessel-lakin.net',\n",
       "   'gender': 'male',\n",
       "   'status': 'active'},\n",
       "  {'id': 68,\n",
       "   'name': 'Daksha Bhattacharya',\n",
       "   'email': 'bhattacharya_daksha@hayes.org',\n",
       "   'gender': 'male',\n",
       "   'status': 'inactive'},\n",
       "  {'id': 69,\n",
       "   'name': 'Akshata Chaturvedi',\n",
       "   'email': 'chaturvedi_akshata@walker-emmerich.info',\n",
       "   'gender': 'female',\n",
       "   'status': 'inactive'},\n",
       "  {'id': 70,\n",
       "   'name': 'Bandhu Mukhopadhyay II',\n",
       "   'email': 'ii_bandhu_mukhopadhyay@hane.io',\n",
       "   'gender': 'female',\n",
       "   'status': 'active'}]}"
      ]
     },
     "execution_count": 8,
     "metadata": {},
     "output_type": "execute_result"
    }
   ],
   "source": [
    "employees"
   ]
  },
  {
   "cell_type": "code",
   "execution_count": 9,
   "metadata": {
    "ExecuteTime": {
     "end_time": "2021-12-09T19:54:52.427450Z",
     "start_time": "2021-12-09T19:54:52.417457Z"
    }
   },
   "outputs": [
    {
     "data": {
      "text/plain": [
       "dict"
      ]
     },
     "execution_count": 9,
     "metadata": {},
     "output_type": "execute_result"
    }
   ],
   "source": [
    "type(employees)"
   ]
  },
  {
   "cell_type": "code",
   "execution_count": 12,
   "metadata": {
    "ExecuteTime": {
     "end_time": "2021-12-09T20:00:48.304452Z",
     "start_time": "2021-12-09T20:00:48.295456Z"
    }
   },
   "outputs": [
    {
     "data": {
      "text/plain": [
       "200"
      ]
     },
     "execution_count": 12,
     "metadata": {},
     "output_type": "execute_result"
    }
   ],
   "source": [
    "employees['code']"
   ]
  },
  {
   "cell_type": "code",
   "execution_count": 14,
   "metadata": {
    "ExecuteTime": {
     "end_time": "2021-12-09T20:01:16.970505Z",
     "start_time": "2021-12-09T20:01:16.961491Z"
    }
   },
   "outputs": [
    {
     "data": {
      "text/plain": [
       "{'pagination': {'total': 2451, 'pages': 123, 'page': 1, 'limit': 20}}"
      ]
     },
     "execution_count": 14,
     "metadata": {},
     "output_type": "execute_result"
    }
   ],
   "source": [
    "employees['meta']"
   ]
  },
  {
   "cell_type": "code",
   "execution_count": 15,
   "metadata": {
    "ExecuteTime": {
     "end_time": "2021-12-09T20:03:17.690981Z",
     "start_time": "2021-12-09T20:03:17.685973Z"
    }
   },
   "outputs": [],
   "source": [
    "data = employees['data']"
   ]
  },
  {
   "cell_type": "code",
   "execution_count": 16,
   "metadata": {
    "ExecuteTime": {
     "end_time": "2021-12-09T20:03:24.538428Z",
     "start_time": "2021-12-09T20:03:24.524356Z"
    }
   },
   "outputs": [
    {
     "data": {
      "text/plain": [
       "[{'id': 42,\n",
       "  'name': 'Dhanesh',\n",
       "  'email': 'dhawan_dhanesh@monahan.com',\n",
       "  'gender': 'female',\n",
       "  'status': 'active'},\n",
       " {'id': 43,\n",
       "  'name': 'Giri Menon Esq.',\n",
       "  'email': 'menon_giri_esq@schroeder.name',\n",
       "  'gender': 'female',\n",
       "  'status': 'active'},\n",
       " {'id': 45,\n",
       "  'name': 'Prem Bhat',\n",
       "  'email': 'prem_bhat@haley.info',\n",
       "  'gender': 'male',\n",
       "  'status': 'active'},\n",
       " {'id': 48,\n",
       "  'name': 'Bhishma Arora',\n",
       "  'email': 'bhishma_arora@huel-lueilwitz.name',\n",
       "  'gender': 'male',\n",
       "  'status': 'inactive'},\n",
       " {'id': 50,\n",
       "  'name': 'Ambar Mahajan',\n",
       "  'email': 'ambar_mahajan@bartoletti.info',\n",
       "  'gender': 'male',\n",
       "  'status': 'inactive'},\n",
       " {'id': 51,\n",
       "  'name': 'Parvati Bhattacharya',\n",
       "  'email': 'bhattacharya_parvati@reynolds-mayer.biz',\n",
       "  'gender': 'female',\n",
       "  'status': 'inactive'},\n",
       " {'id': 52,\n",
       "  'name': 'Sumitra Panicker',\n",
       "  'email': 'sumitra_panicker@rath-bruen.org',\n",
       "  'gender': 'female',\n",
       "  'status': 'active'},\n",
       " {'id': 53,\n",
       "  'name': 'Mani Bhattathiri',\n",
       "  'email': 'bhattathiri_mani@schiller.com',\n",
       "  'gender': 'female',\n",
       "  'status': 'inactive'},\n",
       " {'id': 54,\n",
       "  'name': 'Brajesh Dubashi II',\n",
       "  'email': 'ii_brajesh_dubashi@roberts.com',\n",
       "  'gender': 'female',\n",
       "  'status': 'inactive'},\n",
       " {'id': 2206,\n",
       "  'name': 'admin',\n",
       "  'email': 'sam2356@gmail.com',\n",
       "  'gender': 'male',\n",
       "  'status': 'active'},\n",
       " {'id': 58,\n",
       "  'name': 'Indra Abbott Jr.',\n",
       "  'email': 'abbott_jr_indra@runolfsdottir.co',\n",
       "  'gender': 'male',\n",
       "  'status': 'inactive'},\n",
       " {'id': 59,\n",
       "  'name': 'Ms. Kumuda Marar',\n",
       "  'email': 'kumuda_marar_ms@hilpert.net',\n",
       "  'gender': 'female',\n",
       "  'status': 'active'},\n",
       " {'id': 61,\n",
       "  'name': 'Subhash Shukla',\n",
       "  'email': 'subhash_shukla@wintheiser.info',\n",
       "  'gender': 'male',\n",
       "  'status': 'inactive'},\n",
       " {'id': 62,\n",
       "  'name': 'Gudakesha Khatri JD',\n",
       "  'email': 'gudakesha_jd_khatri@predovic.org',\n",
       "  'gender': 'female',\n",
       "  'status': 'inactive'},\n",
       " {'id': 65,\n",
       "  'name': 'Balaaditya Tandon',\n",
       "  'email': 'tandon_balaaditya@mckenzie-spencer.co',\n",
       "  'gender': 'male',\n",
       "  'status': 'inactive'},\n",
       " {'id': 66,\n",
       "  'name': 'Sen. Bhupen Nehru',\n",
       "  'email': 'bhupen_nehru_sen@littel-mueller.co',\n",
       "  'gender': 'female',\n",
       "  'status': 'inactive'},\n",
       " {'id': 67,\n",
       "  'name': 'Eshana Nayar',\n",
       "  'email': 'eshana_nayar@hessel-lakin.net',\n",
       "  'gender': 'male',\n",
       "  'status': 'active'},\n",
       " {'id': 68,\n",
       "  'name': 'Daksha Bhattacharya',\n",
       "  'email': 'bhattacharya_daksha@hayes.org',\n",
       "  'gender': 'male',\n",
       "  'status': 'inactive'},\n",
       " {'id': 69,\n",
       "  'name': 'Akshata Chaturvedi',\n",
       "  'email': 'chaturvedi_akshata@walker-emmerich.info',\n",
       "  'gender': 'female',\n",
       "  'status': 'inactive'},\n",
       " {'id': 70,\n",
       "  'name': 'Bandhu Mukhopadhyay II',\n",
       "  'email': 'ii_bandhu_mukhopadhyay@hane.io',\n",
       "  'gender': 'female',\n",
       "  'status': 'active'}]"
      ]
     },
     "execution_count": 16,
     "metadata": {},
     "output_type": "execute_result"
    }
   ],
   "source": [
    "data"
   ]
  },
  {
   "cell_type": "code",
   "execution_count": 3,
   "metadata": {
    "ExecuteTime": {
     "end_time": "2021-12-09T21:03:39.828063Z",
     "start_time": "2021-12-09T21:03:39.820095Z"
    }
   },
   "outputs": [
    {
     "ename": "IndentationError",
     "evalue": "unindent does not match any outer indentation level (<tokenize>, line 9)",
     "output_type": "error",
     "traceback": [
      "\u001b[1;36m  File \u001b[1;32m\"<tokenize>\"\u001b[1;36m, line \u001b[1;32m9\u001b[0m\n\u001b[1;33m    email = emp['email']\u001b[0m\n\u001b[1;37m    ^\u001b[0m\n\u001b[1;31mIndentationError\u001b[0m\u001b[1;31m:\u001b[0m unindent does not match any outer indentation level\n"
     ]
    }
   ],
   "source": [
    "import csv\n",
    "\n",
    "with open('employees.csv', 'w', newline='') as f:\n",
    "    writer = csv.DictWriter(f, fieldnames=['Name', 'Gender', 'Email', 'Status'])\n",
    "    writer.writeheader()\n",
    "\n",
    "    for emp in data:\n",
    "        name = emp['name']\n",
    "        email = emp['email']\n",
    "        gender = emp['gender']\n",
    "        status = emp['status']\n",
    "        writer.writerow(\n",
    "            {\n",
    "                'Name':name,\n",
    "                'Gender':gender,\n",
    "                'Email':email,\n",
    "                'Status':status\n",
    "            }\n",
    "        )\n",
    "    "
   ]
  },
  {
   "cell_type": "code",
   "execution_count": 22,
   "metadata": {
    "ExecuteTime": {
     "end_time": "2021-12-09T20:28:12.008267Z",
     "start_time": "2021-12-09T20:28:09.661267Z"
    }
   },
   "outputs": [],
   "source": [
    "import pandas as pd"
   ]
  },
  {
   "cell_type": "code",
   "execution_count": 23,
   "metadata": {
    "ExecuteTime": {
     "end_time": "2021-12-09T20:29:02.936183Z",
     "start_time": "2021-12-09T20:29:02.886177Z"
    }
   },
   "outputs": [
    {
     "data": {
      "text/html": [
       "<div>\n",
       "<style scoped>\n",
       "    .dataframe tbody tr th:only-of-type {\n",
       "        vertical-align: middle;\n",
       "    }\n",
       "\n",
       "    .dataframe tbody tr th {\n",
       "        vertical-align: top;\n",
       "    }\n",
       "\n",
       "    .dataframe thead th {\n",
       "        text-align: right;\n",
       "    }\n",
       "</style>\n",
       "<table border=\"1\" class=\"dataframe\">\n",
       "  <thead>\n",
       "    <tr style=\"text-align: right;\">\n",
       "      <th></th>\n",
       "      <th>Name</th>\n",
       "      <th>Gender</th>\n",
       "      <th>Email</th>\n",
       "      <th>Status</th>\n",
       "    </tr>\n",
       "  </thead>\n",
       "  <tbody>\n",
       "    <tr>\n",
       "      <th>0</th>\n",
       "      <td>Dhanesh</td>\n",
       "      <td>female</td>\n",
       "      <td>dhawan_dhanesh@monahan.com</td>\n",
       "      <td>active</td>\n",
       "    </tr>\n",
       "    <tr>\n",
       "      <th>1</th>\n",
       "      <td>Giri Menon Esq.</td>\n",
       "      <td>female</td>\n",
       "      <td>menon_giri_esq@schroeder.name</td>\n",
       "      <td>active</td>\n",
       "    </tr>\n",
       "    <tr>\n",
       "      <th>2</th>\n",
       "      <td>Prem Bhat</td>\n",
       "      <td>male</td>\n",
       "      <td>prem_bhat@haley.info</td>\n",
       "      <td>active</td>\n",
       "    </tr>\n",
       "    <tr>\n",
       "      <th>3</th>\n",
       "      <td>Bhishma Arora</td>\n",
       "      <td>male</td>\n",
       "      <td>bhishma_arora@huel-lueilwitz.name</td>\n",
       "      <td>inactive</td>\n",
       "    </tr>\n",
       "    <tr>\n",
       "      <th>4</th>\n",
       "      <td>Ambar Mahajan</td>\n",
       "      <td>male</td>\n",
       "      <td>ambar_mahajan@bartoletti.info</td>\n",
       "      <td>inactive</td>\n",
       "    </tr>\n",
       "    <tr>\n",
       "      <th>5</th>\n",
       "      <td>Parvati Bhattacharya</td>\n",
       "      <td>female</td>\n",
       "      <td>bhattacharya_parvati@reynolds-mayer.biz</td>\n",
       "      <td>inactive</td>\n",
       "    </tr>\n",
       "    <tr>\n",
       "      <th>6</th>\n",
       "      <td>Sumitra Panicker</td>\n",
       "      <td>female</td>\n",
       "      <td>sumitra_panicker@rath-bruen.org</td>\n",
       "      <td>active</td>\n",
       "    </tr>\n",
       "    <tr>\n",
       "      <th>7</th>\n",
       "      <td>Mani Bhattathiri</td>\n",
       "      <td>female</td>\n",
       "      <td>bhattathiri_mani@schiller.com</td>\n",
       "      <td>inactive</td>\n",
       "    </tr>\n",
       "    <tr>\n",
       "      <th>8</th>\n",
       "      <td>Brajesh Dubashi II</td>\n",
       "      <td>female</td>\n",
       "      <td>ii_brajesh_dubashi@roberts.com</td>\n",
       "      <td>inactive</td>\n",
       "    </tr>\n",
       "    <tr>\n",
       "      <th>9</th>\n",
       "      <td>admin</td>\n",
       "      <td>male</td>\n",
       "      <td>sam2356@gmail.com</td>\n",
       "      <td>active</td>\n",
       "    </tr>\n",
       "    <tr>\n",
       "      <th>10</th>\n",
       "      <td>Indra Abbott Jr.</td>\n",
       "      <td>male</td>\n",
       "      <td>abbott_jr_indra@runolfsdottir.co</td>\n",
       "      <td>inactive</td>\n",
       "    </tr>\n",
       "    <tr>\n",
       "      <th>11</th>\n",
       "      <td>Ms. Kumuda Marar</td>\n",
       "      <td>female</td>\n",
       "      <td>kumuda_marar_ms@hilpert.net</td>\n",
       "      <td>active</td>\n",
       "    </tr>\n",
       "    <tr>\n",
       "      <th>12</th>\n",
       "      <td>Subhash Shukla</td>\n",
       "      <td>male</td>\n",
       "      <td>subhash_shukla@wintheiser.info</td>\n",
       "      <td>inactive</td>\n",
       "    </tr>\n",
       "    <tr>\n",
       "      <th>13</th>\n",
       "      <td>Gudakesha Khatri JD</td>\n",
       "      <td>female</td>\n",
       "      <td>gudakesha_jd_khatri@predovic.org</td>\n",
       "      <td>inactive</td>\n",
       "    </tr>\n",
       "    <tr>\n",
       "      <th>14</th>\n",
       "      <td>Balaaditya Tandon</td>\n",
       "      <td>male</td>\n",
       "      <td>tandon_balaaditya@mckenzie-spencer.co</td>\n",
       "      <td>inactive</td>\n",
       "    </tr>\n",
       "    <tr>\n",
       "      <th>15</th>\n",
       "      <td>Sen. Bhupen Nehru</td>\n",
       "      <td>female</td>\n",
       "      <td>bhupen_nehru_sen@littel-mueller.co</td>\n",
       "      <td>inactive</td>\n",
       "    </tr>\n",
       "    <tr>\n",
       "      <th>16</th>\n",
       "      <td>Eshana Nayar</td>\n",
       "      <td>male</td>\n",
       "      <td>eshana_nayar@hessel-lakin.net</td>\n",
       "      <td>active</td>\n",
       "    </tr>\n",
       "    <tr>\n",
       "      <th>17</th>\n",
       "      <td>Daksha Bhattacharya</td>\n",
       "      <td>male</td>\n",
       "      <td>bhattacharya_daksha@hayes.org</td>\n",
       "      <td>inactive</td>\n",
       "    </tr>\n",
       "    <tr>\n",
       "      <th>18</th>\n",
       "      <td>Akshata Chaturvedi</td>\n",
       "      <td>female</td>\n",
       "      <td>chaturvedi_akshata@walker-emmerich.info</td>\n",
       "      <td>inactive</td>\n",
       "    </tr>\n",
       "    <tr>\n",
       "      <th>19</th>\n",
       "      <td>Bandhu Mukhopadhyay II</td>\n",
       "      <td>female</td>\n",
       "      <td>ii_bandhu_mukhopadhyay@hane.io</td>\n",
       "      <td>active</td>\n",
       "    </tr>\n",
       "  </tbody>\n",
       "</table>\n",
       "</div>"
      ],
      "text/plain": [
       "                      Name  Gender                                    Email  \\\n",
       "0                  Dhanesh  female               dhawan_dhanesh@monahan.com   \n",
       "1          Giri Menon Esq.  female            menon_giri_esq@schroeder.name   \n",
       "2                Prem Bhat    male                     prem_bhat@haley.info   \n",
       "3            Bhishma Arora    male        bhishma_arora@huel-lueilwitz.name   \n",
       "4            Ambar Mahajan    male            ambar_mahajan@bartoletti.info   \n",
       "5     Parvati Bhattacharya  female  bhattacharya_parvati@reynolds-mayer.biz   \n",
       "6         Sumitra Panicker  female          sumitra_panicker@rath-bruen.org   \n",
       "7         Mani Bhattathiri  female            bhattathiri_mani@schiller.com   \n",
       "8       Brajesh Dubashi II  female           ii_brajesh_dubashi@roberts.com   \n",
       "9                    admin    male                        sam2356@gmail.com   \n",
       "10        Indra Abbott Jr.    male         abbott_jr_indra@runolfsdottir.co   \n",
       "11        Ms. Kumuda Marar  female              kumuda_marar_ms@hilpert.net   \n",
       "12          Subhash Shukla    male           subhash_shukla@wintheiser.info   \n",
       "13     Gudakesha Khatri JD  female         gudakesha_jd_khatri@predovic.org   \n",
       "14       Balaaditya Tandon    male    tandon_balaaditya@mckenzie-spencer.co   \n",
       "15       Sen. Bhupen Nehru  female       bhupen_nehru_sen@littel-mueller.co   \n",
       "16            Eshana Nayar    male            eshana_nayar@hessel-lakin.net   \n",
       "17     Daksha Bhattacharya    male            bhattacharya_daksha@hayes.org   \n",
       "18      Akshata Chaturvedi  female  chaturvedi_akshata@walker-emmerich.info   \n",
       "19  Bandhu Mukhopadhyay II  female           ii_bandhu_mukhopadhyay@hane.io   \n",
       "\n",
       "      Status  \n",
       "0     active  \n",
       "1     active  \n",
       "2     active  \n",
       "3   inactive  \n",
       "4   inactive  \n",
       "5   inactive  \n",
       "6     active  \n",
       "7   inactive  \n",
       "8   inactive  \n",
       "9     active  \n",
       "10  inactive  \n",
       "11    active  \n",
       "12  inactive  \n",
       "13  inactive  \n",
       "14  inactive  \n",
       "15  inactive  \n",
       "16    active  \n",
       "17  inactive  \n",
       "18  inactive  \n",
       "19    active  "
      ]
     },
     "execution_count": 23,
     "metadata": {},
     "output_type": "execute_result"
    }
   ],
   "source": [
    "data = pd.read_csv('employees.csv')\n",
    "data"
   ]
  },
  {
   "cell_type": "code",
   "execution_count": 24,
   "metadata": {
    "ExecuteTime": {
     "end_time": "2021-12-09T20:30:05.510041Z",
     "start_time": "2021-12-09T20:30:05.502080Z"
    }
   },
   "outputs": [
    {
     "data": {
      "text/plain": [
       "pandas.core.frame.DataFrame"
      ]
     },
     "execution_count": 24,
     "metadata": {},
     "output_type": "execute_result"
    }
   ],
   "source": [
    "type(data)"
   ]
  },
  {
   "cell_type": "markdown",
   "metadata": {},
   "source": [
    "# Great Work!"
   ]
  }
 ],
 "metadata": {
  "kernelspec": {
   "display_name": "Python 3",
   "language": "python",
   "name": "python3"
  },
  "language_info": {
   "codemirror_mode": {
    "name": "ipython",
    "version": 3
   },
   "file_extension": ".py",
   "mimetype": "text/x-python",
   "name": "python",
   "nbconvert_exporter": "python",
   "pygments_lexer": "ipython3",
   "version": "3.8.5"
  }
 },
 "nbformat": 4,
 "nbformat_minor": 4
}
