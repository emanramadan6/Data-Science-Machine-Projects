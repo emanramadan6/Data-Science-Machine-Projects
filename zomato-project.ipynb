{
 "cells": [
  {
   "cell_type": "markdown",
   "id": "e47ddf94",
   "metadata": {
    "papermill": {
     "duration": 0.019342,
     "end_time": "2022-11-22T17:25:46.013483",
     "exception": false,
     "start_time": "2022-11-22T17:25:45.994141",
     "status": "completed"
    },
    "tags": []
   },
   "source": [
    "# Project: Restaurant Success Classification\n",
    "\n",
    "\n",
    "## Table of Contents\n",
    "<ul>\n",
    "<li><a href=\"#intro\">Introduction</a></li>\n",
    "<li><a href=\"#wrangling\">Data Wrangling</a></li>\n",
    "<li><a href=\"#eda\">Exploratory Data Analysis</a></li>\n",
    "<li><a href=\"#datasplit\">Data Split</a></li>\n",
    "<li><a href=\"#datascaling\">Data Scaling</a></li>\n",
    "<li><a href=\"#BM\">Base Model</a></li>\n",
    "<li><a href=\"#HPT\">Hyper paramter tuning</a></li>\n",
    "<li><a href=\"#finalmodel\">Final Model</a></li>\n",
    "</ul>"
   ]
  },
  {
   "cell_type": "markdown",
   "id": "d3960a7e",
   "metadata": {
    "papermill": {
     "duration": 0.023317,
     "end_time": "2022-11-22T17:25:46.055485",
     "exception": false,
     "start_time": "2022-11-22T17:25:46.032168",
     "status": "completed"
    },
    "tags": []
   },
   "source": [
    "<a id='intro'></a>\n",
    "## Introduction\n",
    "\n",
    "Mr.Adham wants to open a new successful resturant, but didn't know what makes a resturant successful. so he started to collect some data from various sources of possible competitors.\n",
    "\n",
    "he manged to collect some data and now needs your help to classify if the restaurant will be successfull or not!\n",
    "\n",
    "- 'url' the url of the online review and information about a restaurant\n",
    "- 'address' restaurant's address.\n",
    "- 'name' the name of restaurant.\n",
    "- 'online_order' does the restaurant supports online order or not?.\n",
    "- 'book_table' does the restaurant supports booking a table or not?.\n",
    "- 'rate' the rate of the restaurant on zomato website.\n",
    "- 'votes' number of votes to rate the restaurant.\n",
    "- 'phone' phone number of the restaurant.\n",
    "- 'location' the location of restaurant.\n",
    "- ‘rest_type’ restaurant type.\n",
    "- ‘dish_liked’ names of dishs liked by cutomers.\n",
    "- ‘cuisines’ type of cuisines.\n",
    "- ‘approx_cost(for two people)’ approximate cost for two.\n",
    "- ‘reviews_list’ list or commented reviews.\n",
    "- ‘menu_item’ name of items on the menu.\n",
    "- ‘listed_in(type)’ listed in type.\n",
    "- ‘listed_in(city)’ listed in city."
   ]
  },
  {
   "cell_type": "code",
   "execution_count": 1,
   "id": "83f22e44",
   "metadata": {
    "execution": {
     "iopub.execute_input": "2022-11-22T17:25:46.098726Z",
     "iopub.status.busy": "2022-11-22T17:25:46.097718Z",
     "iopub.status.idle": "2022-11-22T17:25:47.903888Z",
     "shell.execute_reply": "2022-11-22T17:25:47.902501Z"
    },
    "papermill": {
     "duration": 1.831953,
     "end_time": "2022-11-22T17:25:47.908393",
     "exception": false,
     "start_time": "2022-11-22T17:25:46.076440",
     "status": "completed"
    },
    "tags": []
   },
   "outputs": [],
   "source": [
    "import numpy as np\n",
    "import pandas as pd\n",
    "import matplotlib.pyplot as plt\n",
    "import seaborn as sns\n",
    "import traceback\n",
    "\n",
    "from sklearn.model_selection import train_test_split\n",
    "from sklearn.model_selection import cross_validate\n",
    "from sklearn.model_selection import GridSearchCV\n",
    "from sklearn.model_selection import RandomizedSearchCV\n",
    "\n",
    "from sklearn.preprocessing import StandardScaler\n",
    "from sklearn.preprocessing import MultiLabelBinarizer\n",
    "from sklearn.impute import SimpleImputer\n",
    "\n",
    "from sklearn.cluster import KMeans\n",
    "from sklearn.cluster import AgglomerativeClustering\n",
    "from sklearn.linear_model import LogisticRegression\n",
    "from sklearn.tree import DecisionTreeClassifier\n",
    "from sklearn.ensemble import RandomForestClassifier \n",
    "from sklearn.ensemble import AdaBoostClassifier \n",
    "from sklearn.ensemble import BaggingClassifier \n",
    "from sklearn.svm import SVC\n",
    "from xgboost import XGBClassifier\n",
    "\n",
    "from sklearn.metrics import accuracy_score,confusion_matrix,recall_score,precision_score,r2_score,make_scorer\n",
    "\n",
    "sns.set(rc={'figure.figsize': [16, 16]}, font_scale=1.2)"
   ]
  },
  {
   "cell_type": "markdown",
   "id": "8687ace5",
   "metadata": {
    "papermill": {
     "duration": 0.025853,
     "end_time": "2022-11-22T17:25:47.958921",
     "exception": false,
     "start_time": "2022-11-22T17:25:47.933068",
     "status": "completed"
    },
    "tags": []
   },
   "source": [
    "<a id='wrangling'></a>\n",
    "## Data Wrangling"
   ]
  },
  {
   "cell_type": "code",
   "execution_count": 2,
   "id": "63dfc125",
   "metadata": {
    "execution": {
     "iopub.execute_input": "2022-11-22T17:25:48.006753Z",
     "iopub.status.busy": "2022-11-22T17:25:48.006307Z",
     "iopub.status.idle": "2022-11-22T17:26:00.214293Z",
     "shell.execute_reply": "2022-11-22T17:26:00.213075Z"
    },
    "papermill": {
     "duration": 12.236889,
     "end_time": "2022-11-22T17:26:00.217886",
     "exception": false,
     "start_time": "2022-11-22T17:25:47.980997",
     "status": "completed"
    },
    "scrolled": true,
    "tags": []
   },
   "outputs": [
    {
     "data": {
      "text/html": [
       "<div>\n",
       "<style scoped>\n",
       "    .dataframe tbody tr th:only-of-type {\n",
       "        vertical-align: middle;\n",
       "    }\n",
       "\n",
       "    .dataframe tbody tr th {\n",
       "        vertical-align: top;\n",
       "    }\n",
       "\n",
       "    .dataframe thead th {\n",
       "        text-align: right;\n",
       "    }\n",
       "</style>\n",
       "<table border=\"1\" class=\"dataframe\">\n",
       "  <thead>\n",
       "    <tr style=\"text-align: right;\">\n",
       "      <th></th>\n",
       "      <th>url</th>\n",
       "      <th>address</th>\n",
       "      <th>name</th>\n",
       "      <th>online_order</th>\n",
       "      <th>book_table</th>\n",
       "      <th>rate</th>\n",
       "      <th>votes</th>\n",
       "      <th>phone</th>\n",
       "      <th>location</th>\n",
       "      <th>rest_type</th>\n",
       "      <th>dish_liked</th>\n",
       "      <th>cuisines</th>\n",
       "      <th>approx_cost(for two people)</th>\n",
       "      <th>reviews_list</th>\n",
       "      <th>menu_item</th>\n",
       "      <th>listed_in(type)</th>\n",
       "      <th>listed_in(city)</th>\n",
       "    </tr>\n",
       "  </thead>\n",
       "  <tbody>\n",
       "    <tr>\n",
       "      <th>0</th>\n",
       "      <td>https://www.zomato.com/bangalore/jalsa-banasha...</td>\n",
       "      <td>942, 21st Main Road, 2nd Stage, Banashankari, ...</td>\n",
       "      <td>Jalsa</td>\n",
       "      <td>Yes</td>\n",
       "      <td>Yes</td>\n",
       "      <td>4.1/5</td>\n",
       "      <td>775</td>\n",
       "      <td>080 42297555\\r\\n+91 9743772233</td>\n",
       "      <td>Banashankari</td>\n",
       "      <td>Casual Dining</td>\n",
       "      <td>Pasta, Lunch Buffet, Masala Papad, Paneer Laja...</td>\n",
       "      <td>North Indian, Mughlai, Chinese</td>\n",
       "      <td>800</td>\n",
       "      <td>[('Rated 4.0', 'RATED\\n  A beautiful place to ...</td>\n",
       "      <td>[]</td>\n",
       "      <td>Buffet</td>\n",
       "      <td>Banashankari</td>\n",
       "    </tr>\n",
       "    <tr>\n",
       "      <th>1</th>\n",
       "      <td>https://www.zomato.com/bangalore/spice-elephan...</td>\n",
       "      <td>2nd Floor, 80 Feet Road, Near Big Bazaar, 6th ...</td>\n",
       "      <td>Spice Elephant</td>\n",
       "      <td>Yes</td>\n",
       "      <td>No</td>\n",
       "      <td>4.1/5</td>\n",
       "      <td>787</td>\n",
       "      <td>080 41714161</td>\n",
       "      <td>Banashankari</td>\n",
       "      <td>Casual Dining</td>\n",
       "      <td>Momos, Lunch Buffet, Chocolate Nirvana, Thai G...</td>\n",
       "      <td>Chinese, North Indian, Thai</td>\n",
       "      <td>800</td>\n",
       "      <td>[('Rated 4.0', 'RATED\\n  Had been here for din...</td>\n",
       "      <td>[]</td>\n",
       "      <td>Buffet</td>\n",
       "      <td>Banashankari</td>\n",
       "    </tr>\n",
       "    <tr>\n",
       "      <th>2</th>\n",
       "      <td>https://www.zomato.com/SanchurroBangalore?cont...</td>\n",
       "      <td>1112, Next to KIMS Medical College, 17th Cross...</td>\n",
       "      <td>San Churro Cafe</td>\n",
       "      <td>Yes</td>\n",
       "      <td>No</td>\n",
       "      <td>3.8/5</td>\n",
       "      <td>918</td>\n",
       "      <td>+91 9663487993</td>\n",
       "      <td>Banashankari</td>\n",
       "      <td>Cafe, Casual Dining</td>\n",
       "      <td>Churros, Cannelloni, Minestrone Soup, Hot Choc...</td>\n",
       "      <td>Cafe, Mexican, Italian</td>\n",
       "      <td>800</td>\n",
       "      <td>[('Rated 3.0', \"RATED\\n  Ambience is not that ...</td>\n",
       "      <td>[]</td>\n",
       "      <td>Buffet</td>\n",
       "      <td>Banashankari</td>\n",
       "    </tr>\n",
       "    <tr>\n",
       "      <th>3</th>\n",
       "      <td>https://www.zomato.com/bangalore/addhuri-udupi...</td>\n",
       "      <td>1st Floor, Annakuteera, 3rd Stage, Banashankar...</td>\n",
       "      <td>Addhuri Udupi Bhojana</td>\n",
       "      <td>No</td>\n",
       "      <td>No</td>\n",
       "      <td>3.7/5</td>\n",
       "      <td>88</td>\n",
       "      <td>+91 9620009302</td>\n",
       "      <td>Banashankari</td>\n",
       "      <td>Quick Bites</td>\n",
       "      <td>Masala Dosa</td>\n",
       "      <td>South Indian, North Indian</td>\n",
       "      <td>300</td>\n",
       "      <td>[('Rated 4.0', \"RATED\\n  Great food and proper...</td>\n",
       "      <td>[]</td>\n",
       "      <td>Buffet</td>\n",
       "      <td>Banashankari</td>\n",
       "    </tr>\n",
       "    <tr>\n",
       "      <th>4</th>\n",
       "      <td>https://www.zomato.com/bangalore/grand-village...</td>\n",
       "      <td>10, 3rd Floor, Lakshmi Associates, Gandhi Baza...</td>\n",
       "      <td>Grand Village</td>\n",
       "      <td>No</td>\n",
       "      <td>No</td>\n",
       "      <td>3.8/5</td>\n",
       "      <td>166</td>\n",
       "      <td>+91 8026612447\\r\\n+91 9901210005</td>\n",
       "      <td>Basavanagudi</td>\n",
       "      <td>Casual Dining</td>\n",
       "      <td>Panipuri, Gol Gappe</td>\n",
       "      <td>North Indian, Rajasthani</td>\n",
       "      <td>600</td>\n",
       "      <td>[('Rated 4.0', 'RATED\\n  Very good restaurant ...</td>\n",
       "      <td>[]</td>\n",
       "      <td>Buffet</td>\n",
       "      <td>Banashankari</td>\n",
       "    </tr>\n",
       "  </tbody>\n",
       "</table>\n",
       "</div>"
      ],
      "text/plain": [
       "                                                 url  \\\n",
       "0  https://www.zomato.com/bangalore/jalsa-banasha...   \n",
       "1  https://www.zomato.com/bangalore/spice-elephan...   \n",
       "2  https://www.zomato.com/SanchurroBangalore?cont...   \n",
       "3  https://www.zomato.com/bangalore/addhuri-udupi...   \n",
       "4  https://www.zomato.com/bangalore/grand-village...   \n",
       "\n",
       "                                             address                   name  \\\n",
       "0  942, 21st Main Road, 2nd Stage, Banashankari, ...                  Jalsa   \n",
       "1  2nd Floor, 80 Feet Road, Near Big Bazaar, 6th ...         Spice Elephant   \n",
       "2  1112, Next to KIMS Medical College, 17th Cross...        San Churro Cafe   \n",
       "3  1st Floor, Annakuteera, 3rd Stage, Banashankar...  Addhuri Udupi Bhojana   \n",
       "4  10, 3rd Floor, Lakshmi Associates, Gandhi Baza...          Grand Village   \n",
       "\n",
       "  online_order book_table   rate  votes                             phone  \\\n",
       "0          Yes        Yes  4.1/5    775    080 42297555\\r\\n+91 9743772233   \n",
       "1          Yes         No  4.1/5    787                      080 41714161   \n",
       "2          Yes         No  3.8/5    918                    +91 9663487993   \n",
       "3           No         No  3.7/5     88                    +91 9620009302   \n",
       "4           No         No  3.8/5    166  +91 8026612447\\r\\n+91 9901210005   \n",
       "\n",
       "       location            rest_type  \\\n",
       "0  Banashankari        Casual Dining   \n",
       "1  Banashankari        Casual Dining   \n",
       "2  Banashankari  Cafe, Casual Dining   \n",
       "3  Banashankari          Quick Bites   \n",
       "4  Basavanagudi        Casual Dining   \n",
       "\n",
       "                                          dish_liked  \\\n",
       "0  Pasta, Lunch Buffet, Masala Papad, Paneer Laja...   \n",
       "1  Momos, Lunch Buffet, Chocolate Nirvana, Thai G...   \n",
       "2  Churros, Cannelloni, Minestrone Soup, Hot Choc...   \n",
       "3                                        Masala Dosa   \n",
       "4                                Panipuri, Gol Gappe   \n",
       "\n",
       "                         cuisines approx_cost(for two people)  \\\n",
       "0  North Indian, Mughlai, Chinese                         800   \n",
       "1     Chinese, North Indian, Thai                         800   \n",
       "2          Cafe, Mexican, Italian                         800   \n",
       "3      South Indian, North Indian                         300   \n",
       "4        North Indian, Rajasthani                         600   \n",
       "\n",
       "                                        reviews_list menu_item  \\\n",
       "0  [('Rated 4.0', 'RATED\\n  A beautiful place to ...        []   \n",
       "1  [('Rated 4.0', 'RATED\\n  Had been here for din...        []   \n",
       "2  [('Rated 3.0', \"RATED\\n  Ambience is not that ...        []   \n",
       "3  [('Rated 4.0', \"RATED\\n  Great food and proper...        []   \n",
       "4  [('Rated 4.0', 'RATED\\n  Very good restaurant ...        []   \n",
       "\n",
       "  listed_in(type) listed_in(city)  \n",
       "0          Buffet    Banashankari  \n",
       "1          Buffet    Banashankari  \n",
       "2          Buffet    Banashankari  \n",
       "3          Buffet    Banashankari  \n",
       "4          Buffet    Banashankari  "
      ]
     },
     "execution_count": 2,
     "metadata": {},
     "output_type": "execute_result"
    }
   ],
   "source": [
    "df = pd.read_csv(\"../input/restaurant-data/zomato.csv\")\n",
    "df.head()"
   ]
  },
  {
   "cell_type": "code",
   "execution_count": 3,
   "id": "3239ad42",
   "metadata": {
    "execution": {
     "iopub.execute_input": "2022-11-22T17:26:00.254838Z",
     "iopub.status.busy": "2022-11-22T17:26:00.254112Z",
     "iopub.status.idle": "2022-11-22T17:26:00.309131Z",
     "shell.execute_reply": "2022-11-22T17:26:00.307568Z"
    },
    "papermill": {
     "duration": 0.076313,
     "end_time": "2022-11-22T17:26:00.311651",
     "exception": false,
     "start_time": "2022-11-22T17:26:00.235338",
     "status": "completed"
    },
    "tags": []
   },
   "outputs": [
    {
     "data": {
      "text/plain": [
       "url                                0\n",
       "address                            0\n",
       "name                               0\n",
       "online_order                       0\n",
       "book_table                         0\n",
       "rate                            7775\n",
       "votes                              0\n",
       "phone                           1208\n",
       "location                          21\n",
       "rest_type                        227\n",
       "dish_liked                     28078\n",
       "cuisines                          45\n",
       "approx_cost(for two people)      346\n",
       "reviews_list                       0\n",
       "menu_item                          0\n",
       "listed_in(type)                    0\n",
       "listed_in(city)                    0\n",
       "dtype: int64"
      ]
     },
     "execution_count": 3,
     "metadata": {},
     "output_type": "execute_result"
    }
   ],
   "source": [
    "df.isna().sum()"
   ]
  },
  {
   "cell_type": "code",
   "execution_count": 4,
   "id": "640d05c0",
   "metadata": {
    "execution": {
     "iopub.execute_input": "2022-11-22T17:26:00.350770Z",
     "iopub.status.busy": "2022-11-22T17:26:00.349934Z",
     "iopub.status.idle": "2022-11-22T17:26:00.370543Z",
     "shell.execute_reply": "2022-11-22T17:26:00.369418Z"
    },
    "papermill": {
     "duration": 0.042709,
     "end_time": "2022-11-22T17:26:00.373025",
     "exception": false,
     "start_time": "2022-11-22T17:26:00.330316",
     "status": "completed"
    },
    "tags": []
   },
   "outputs": [
    {
     "data": {
      "text/plain": [
       "7731"
      ]
     },
     "execution_count": 4,
     "metadata": {},
     "output_type": "execute_result"
    }
   ],
   "source": [
    "df[df[\"votes\"] == 0][\"rate\"].isna().sum()"
   ]
  },
  {
   "cell_type": "code",
   "execution_count": 5,
   "id": "defd63f3",
   "metadata": {
    "execution": {
     "iopub.execute_input": "2022-11-22T17:26:00.411006Z",
     "iopub.status.busy": "2022-11-22T17:26:00.410570Z",
     "iopub.status.idle": "2022-11-22T17:26:00.438017Z",
     "shell.execute_reply": "2022-11-22T17:26:00.436840Z"
    },
    "papermill": {
     "duration": 0.050037,
     "end_time": "2022-11-22T17:26:00.441420",
     "exception": false,
     "start_time": "2022-11-22T17:26:00.391383",
     "status": "completed"
    },
    "scrolled": true,
    "tags": []
   },
   "outputs": [
    {
     "data": {
      "text/html": [
       "<div>\n",
       "<style scoped>\n",
       "    .dataframe tbody tr th:only-of-type {\n",
       "        vertical-align: middle;\n",
       "    }\n",
       "\n",
       "    .dataframe tbody tr th {\n",
       "        vertical-align: top;\n",
       "    }\n",
       "\n",
       "    .dataframe thead th {\n",
       "        text-align: right;\n",
       "    }\n",
       "</style>\n",
       "<table border=\"1\" class=\"dataframe\">\n",
       "  <thead>\n",
       "    <tr style=\"text-align: right;\">\n",
       "      <th></th>\n",
       "      <th>url</th>\n",
       "      <th>address</th>\n",
       "      <th>name</th>\n",
       "      <th>online_order</th>\n",
       "      <th>book_table</th>\n",
       "      <th>rate</th>\n",
       "      <th>votes</th>\n",
       "      <th>phone</th>\n",
       "      <th>location</th>\n",
       "      <th>rest_type</th>\n",
       "      <th>dish_liked</th>\n",
       "      <th>cuisines</th>\n",
       "      <th>approx_cost(for two people)</th>\n",
       "      <th>reviews_list</th>\n",
       "      <th>menu_item</th>\n",
       "      <th>listed_in(type)</th>\n",
       "      <th>listed_in(city)</th>\n",
       "    </tr>\n",
       "  </thead>\n",
       "  <tbody>\n",
       "    <tr>\n",
       "      <th>72</th>\n",
       "      <td>https://www.zomato.com/bangalore/spicy-tandoor...</td>\n",
       "      <td>Opposite ICICi Bank, Hanuman Nagar, Banashanka...</td>\n",
       "      <td>Spicy Tandoor</td>\n",
       "      <td>No</td>\n",
       "      <td>No</td>\n",
       "      <td>NEW</td>\n",
       "      <td>0</td>\n",
       "      <td>+91 8050884222</td>\n",
       "      <td>Banashankari</td>\n",
       "      <td>Quick Bites</td>\n",
       "      <td>NaN</td>\n",
       "      <td>North Indian</td>\n",
       "      <td>150</td>\n",
       "      <td>[('Rated 4.0', 'RATED\\n  cost for chicken roll...</td>\n",
       "      <td>[]</td>\n",
       "      <td>Delivery</td>\n",
       "      <td>Banashankari</td>\n",
       "    </tr>\n",
       "    <tr>\n",
       "      <th>75</th>\n",
       "      <td>https://www.zomato.com/bangalore/om-sri-vinaya...</td>\n",
       "      <td>39, S B M Colony, Near-Sita Circle, 1st Stage,...</td>\n",
       "      <td>Om Sri Vinayaka Chats</td>\n",
       "      <td>No</td>\n",
       "      <td>No</td>\n",
       "      <td>NEW</td>\n",
       "      <td>0</td>\n",
       "      <td>+91 8553206035</td>\n",
       "      <td>Banashankari</td>\n",
       "      <td>Takeaway, Delivery</td>\n",
       "      <td>NaN</td>\n",
       "      <td>Street Food, Fast Food</td>\n",
       "      <td>500</td>\n",
       "      <td>[]</td>\n",
       "      <td>[]</td>\n",
       "      <td>Delivery</td>\n",
       "      <td>Banashankari</td>\n",
       "    </tr>\n",
       "    <tr>\n",
       "      <th>84</th>\n",
       "      <td>https://www.zomato.com/bangalore/chill-out-ban...</td>\n",
       "      <td>161/C, 6th Main, 80 Feet Road, Bhuvaneshwari N...</td>\n",
       "      <td>Chill Out</td>\n",
       "      <td>No</td>\n",
       "      <td>No</td>\n",
       "      <td>NaN</td>\n",
       "      <td>0</td>\n",
       "      <td>+91 9341215167</td>\n",
       "      <td>Banashankari</td>\n",
       "      <td>Quick Bites</td>\n",
       "      <td>NaN</td>\n",
       "      <td>South Indian, Chinese</td>\n",
       "      <td>100</td>\n",
       "      <td>[('Rated 4.0', 'RATED\\n  Good Location. Small ...</td>\n",
       "      <td>[]</td>\n",
       "      <td>Delivery</td>\n",
       "      <td>Banashankari</td>\n",
       "    </tr>\n",
       "    <tr>\n",
       "      <th>90</th>\n",
       "      <td>https://www.zomato.com/bangalore/me-and-my-cak...</td>\n",
       "      <td>BDA Shopping Complex, 24th Cross Road, Siddann...</td>\n",
       "      <td>Me And My Cake</td>\n",
       "      <td>No</td>\n",
       "      <td>No</td>\n",
       "      <td>NaN</td>\n",
       "      <td>0</td>\n",
       "      <td>+91 9036070410</td>\n",
       "      <td>Banashankari</td>\n",
       "      <td>Delivery</td>\n",
       "      <td>NaN</td>\n",
       "      <td>Bakery, Desserts</td>\n",
       "      <td>500</td>\n",
       "      <td>[('Rated 1.0', 'RATED\\n  Do not order anything...</td>\n",
       "      <td>[]</td>\n",
       "      <td>Delivery</td>\n",
       "      <td>Banashankari</td>\n",
       "    </tr>\n",
       "    <tr>\n",
       "      <th>91</th>\n",
       "      <td>https://www.zomato.com/bangalore/sunsadm-banas...</td>\n",
       "      <td>Shop 18 , 3rd cross road,Markandeya Layout, Ba...</td>\n",
       "      <td>Sunsadm</td>\n",
       "      <td>No</td>\n",
       "      <td>No</td>\n",
       "      <td>NaN</td>\n",
       "      <td>0</td>\n",
       "      <td>+91 7829290358</td>\n",
       "      <td>Banashankari</td>\n",
       "      <td>Takeaway, Delivery</td>\n",
       "      <td>NaN</td>\n",
       "      <td>South Indian</td>\n",
       "      <td>400</td>\n",
       "      <td>[]</td>\n",
       "      <td>[]</td>\n",
       "      <td>Delivery</td>\n",
       "      <td>Banashankari</td>\n",
       "    </tr>\n",
       "  </tbody>\n",
       "</table>\n",
       "</div>"
      ],
      "text/plain": [
       "                                                  url  \\\n",
       "72  https://www.zomato.com/bangalore/spicy-tandoor...   \n",
       "75  https://www.zomato.com/bangalore/om-sri-vinaya...   \n",
       "84  https://www.zomato.com/bangalore/chill-out-ban...   \n",
       "90  https://www.zomato.com/bangalore/me-and-my-cak...   \n",
       "91  https://www.zomato.com/bangalore/sunsadm-banas...   \n",
       "\n",
       "                                              address                   name  \\\n",
       "72  Opposite ICICi Bank, Hanuman Nagar, Banashanka...          Spicy Tandoor   \n",
       "75  39, S B M Colony, Near-Sita Circle, 1st Stage,...  Om Sri Vinayaka Chats   \n",
       "84  161/C, 6th Main, 80 Feet Road, Bhuvaneshwari N...              Chill Out   \n",
       "90  BDA Shopping Complex, 24th Cross Road, Siddann...         Me And My Cake   \n",
       "91  Shop 18 , 3rd cross road,Markandeya Layout, Ba...                Sunsadm   \n",
       "\n",
       "   online_order book_table rate  votes           phone      location  \\\n",
       "72           No         No  NEW      0  +91 8050884222  Banashankari   \n",
       "75           No         No  NEW      0  +91 8553206035  Banashankari   \n",
       "84           No         No  NaN      0  +91 9341215167  Banashankari   \n",
       "90           No         No  NaN      0  +91 9036070410  Banashankari   \n",
       "91           No         No  NaN      0  +91 7829290358  Banashankari   \n",
       "\n",
       "             rest_type dish_liked                cuisines  \\\n",
       "72         Quick Bites        NaN            North Indian   \n",
       "75  Takeaway, Delivery        NaN  Street Food, Fast Food   \n",
       "84         Quick Bites        NaN   South Indian, Chinese   \n",
       "90            Delivery        NaN        Bakery, Desserts   \n",
       "91  Takeaway, Delivery        NaN            South Indian   \n",
       "\n",
       "   approx_cost(for two people)  \\\n",
       "72                         150   \n",
       "75                         500   \n",
       "84                         100   \n",
       "90                         500   \n",
       "91                         400   \n",
       "\n",
       "                                         reviews_list menu_item  \\\n",
       "72  [('Rated 4.0', 'RATED\\n  cost for chicken roll...        []   \n",
       "75                                                 []        []   \n",
       "84  [('Rated 4.0', 'RATED\\n  Good Location. Small ...        []   \n",
       "90  [('Rated 1.0', 'RATED\\n  Do not order anything...        []   \n",
       "91                                                 []        []   \n",
       "\n",
       "   listed_in(type) listed_in(city)  \n",
       "72        Delivery    Banashankari  \n",
       "75        Delivery    Banashankari  \n",
       "84        Delivery    Banashankari  \n",
       "90        Delivery    Banashankari  \n",
       "91        Delivery    Banashankari  "
      ]
     },
     "execution_count": 5,
     "metadata": {},
     "output_type": "execute_result"
    }
   ],
   "source": [
    "df[df[\"votes\"] == 0].head()"
   ]
  },
  {
   "cell_type": "markdown",
   "id": "6eae3093",
   "metadata": {
    "papermill": {
     "duration": 0.01761,
     "end_time": "2022-11-22T17:26:00.477203",
     "exception": false,
     "start_time": "2022-11-22T17:26:00.459593",
     "status": "completed"
    },
    "tags": []
   },
   "source": [
    "### drop columns that we won't use\n",
    "because it won't be unique enough and won't make a good use in our model or in our analysis"
   ]
  },
  {
   "cell_type": "code",
   "execution_count": 6,
   "id": "add0cf87",
   "metadata": {
    "execution": {
     "iopub.execute_input": "2022-11-22T17:26:00.518007Z",
     "iopub.status.busy": "2022-11-22T17:26:00.516684Z",
     "iopub.status.idle": "2022-11-22T17:26:00.538696Z",
     "shell.execute_reply": "2022-11-22T17:26:00.537523Z"
    },
    "papermill": {
     "duration": 0.04496,
     "end_time": "2022-11-22T17:26:00.541483",
     "exception": false,
     "start_time": "2022-11-22T17:26:00.496523",
     "status": "completed"
    },
    "tags": []
   },
   "outputs": [
    {
     "data": {
      "text/plain": [
       "11495"
      ]
     },
     "execution_count": 6,
     "metadata": {},
     "output_type": "execute_result"
    }
   ],
   "source": [
    "df[\"address\"].nunique()"
   ]
  },
  {
   "cell_type": "code",
   "execution_count": 7,
   "id": "144805db",
   "metadata": {
    "execution": {
     "iopub.execute_input": "2022-11-22T17:26:00.582583Z",
     "iopub.status.busy": "2022-11-22T17:26:00.581290Z",
     "iopub.status.idle": "2022-11-22T17:26:00.596308Z",
     "shell.execute_reply": "2022-11-22T17:26:00.595096Z"
    },
    "papermill": {
     "duration": 0.037955,
     "end_time": "2022-11-22T17:26:00.599087",
     "exception": false,
     "start_time": "2022-11-22T17:26:00.561132",
     "status": "completed"
    },
    "tags": []
   },
   "outputs": [
    {
     "data": {
      "text/plain": [
       "8792"
      ]
     },
     "execution_count": 7,
     "metadata": {},
     "output_type": "execute_result"
    }
   ],
   "source": [
    "df[\"name\"].nunique()"
   ]
  },
  {
   "cell_type": "code",
   "execution_count": 8,
   "id": "8edb0b01",
   "metadata": {
    "execution": {
     "iopub.execute_input": "2022-11-22T17:26:00.640531Z",
     "iopub.status.busy": "2022-11-22T17:26:00.639235Z",
     "iopub.status.idle": "2022-11-22T17:26:00.654237Z",
     "shell.execute_reply": "2022-11-22T17:26:00.653041Z"
    },
    "papermill": {
     "duration": 0.039337,
     "end_time": "2022-11-22T17:26:00.657427",
     "exception": false,
     "start_time": "2022-11-22T17:26:00.618090",
     "status": "completed"
    },
    "scrolled": true,
    "tags": []
   },
   "outputs": [
    {
     "data": {
      "text/plain": [
       "14926"
      ]
     },
     "execution_count": 8,
     "metadata": {},
     "output_type": "execute_result"
    }
   ],
   "source": [
    "df[\"phone\"].nunique()"
   ]
  },
  {
   "cell_type": "code",
   "execution_count": 9,
   "id": "1c3e3905",
   "metadata": {
    "execution": {
     "iopub.execute_input": "2022-11-22T17:26:00.698875Z",
     "iopub.status.busy": "2022-11-22T17:26:00.697644Z",
     "iopub.status.idle": "2022-11-22T17:26:00.712655Z",
     "shell.execute_reply": "2022-11-22T17:26:00.711637Z"
    },
    "papermill": {
     "duration": 0.038199,
     "end_time": "2022-11-22T17:26:00.715133",
     "exception": false,
     "start_time": "2022-11-22T17:26:00.676934",
     "status": "completed"
    },
    "scrolled": true,
    "tags": []
   },
   "outputs": [],
   "source": [
    "df.drop([\"url\",\"name\",\"phone\",\"reviews_list\",\"address\"],inplace=True,axis = 1)"
   ]
  },
  {
   "cell_type": "code",
   "execution_count": 10,
   "id": "4535d62c",
   "metadata": {
    "execution": {
     "iopub.execute_input": "2022-11-22T17:26:00.756412Z",
     "iopub.status.busy": "2022-11-22T17:26:00.755755Z",
     "iopub.status.idle": "2022-11-22T17:26:00.790801Z",
     "shell.execute_reply": "2022-11-22T17:26:00.789524Z"
    },
    "papermill": {
     "duration": 0.058841,
     "end_time": "2022-11-22T17:26:00.793334",
     "exception": false,
     "start_time": "2022-11-22T17:26:00.734493",
     "status": "completed"
    },
    "scrolled": true,
    "tags": []
   },
   "outputs": [
    {
     "data": {
      "text/plain": [
       "online_order                       0\n",
       "book_table                         0\n",
       "rate                            7775\n",
       "votes                              0\n",
       "location                          21\n",
       "rest_type                        227\n",
       "dish_liked                     28078\n",
       "cuisines                          45\n",
       "approx_cost(for two people)      346\n",
       "menu_item                          0\n",
       "listed_in(type)                    0\n",
       "listed_in(city)                    0\n",
       "dtype: int64"
      ]
     },
     "execution_count": 10,
     "metadata": {},
     "output_type": "execute_result"
    }
   ],
   "source": [
    "df.isna().sum()"
   ]
  },
  {
   "cell_type": "markdown",
   "id": "9d1c99b3",
   "metadata": {
    "papermill": {
     "duration": 0.01837,
     "end_time": "2022-11-22T17:26:00.830909",
     "exception": false,
     "start_time": "2022-11-22T17:26:00.812539",
     "status": "completed"
    },
    "tags": []
   },
   "source": [
    "i would like to drop nan values in [\"rest_type\", \"cuisines\", \"approx_cost(for two people)\"], since there are really few of them which can make up to 1% of the data.\n",
    "\n",
    "so dropping them won't make our model under fit"
   ]
  },
  {
   "cell_type": "code",
   "execution_count": 11,
   "id": "44d50151",
   "metadata": {
    "execution": {
     "iopub.execute_input": "2022-11-22T17:26:00.871046Z",
     "iopub.status.busy": "2022-11-22T17:26:00.870607Z",
     "iopub.status.idle": "2022-11-22T17:26:00.897118Z",
     "shell.execute_reply": "2022-11-22T17:26:00.895766Z"
    },
    "papermill": {
     "duration": 0.050096,
     "end_time": "2022-11-22T17:26:00.899651",
     "exception": false,
     "start_time": "2022-11-22T17:26:00.849555",
     "status": "completed"
    },
    "tags": []
   },
   "outputs": [],
   "source": [
    "df.dropna(subset=[\"rest_type\", \"cuisines\"],inplace=True)"
   ]
  },
  {
   "cell_type": "markdown",
   "id": "7ed2a993",
   "metadata": {
    "papermill": {
     "duration": 0.018333,
     "end_time": "2022-11-22T17:26:00.937258",
     "exception": false,
     "start_time": "2022-11-22T17:26:00.918925",
     "status": "completed"
    },
    "tags": []
   },
   "source": [
    "obviously dish liked column have way too much nan values, and we cannot simple impute that much of data, specially that it makes up 46% of remaining data.\n",
    "\n",
    "but i will keep it for now, because i would like to introduce an assumption about how important would this feature will take a part in our model if it wouldn't contain many nan values."
   ]
  },
  {
   "cell_type": "code",
   "execution_count": 12,
   "id": "e612ee6e",
   "metadata": {
    "execution": {
     "iopub.execute_input": "2022-11-22T17:26:00.977282Z",
     "iopub.status.busy": "2022-11-22T17:26:00.975969Z",
     "iopub.status.idle": "2022-11-22T17:26:00.995489Z",
     "shell.execute_reply": "2022-11-22T17:26:00.994289Z"
    },
    "papermill": {
     "duration": 0.042232,
     "end_time": "2022-11-22T17:26:00.998179",
     "exception": false,
     "start_time": "2022-11-22T17:26:00.955947",
     "status": "completed"
    },
    "tags": []
   },
   "outputs": [
    {
     "data": {
      "text/html": [
       "<div>\n",
       "<style scoped>\n",
       "    .dataframe tbody tr th:only-of-type {\n",
       "        vertical-align: middle;\n",
       "    }\n",
       "\n",
       "    .dataframe tbody tr th {\n",
       "        vertical-align: top;\n",
       "    }\n",
       "\n",
       "    .dataframe thead th {\n",
       "        text-align: right;\n",
       "    }\n",
       "</style>\n",
       "<table border=\"1\" class=\"dataframe\">\n",
       "  <thead>\n",
       "    <tr style=\"text-align: right;\">\n",
       "      <th></th>\n",
       "      <th>online_order</th>\n",
       "      <th>book_table</th>\n",
       "      <th>rate</th>\n",
       "      <th>votes</th>\n",
       "      <th>location</th>\n",
       "      <th>rest_type</th>\n",
       "      <th>dish_liked</th>\n",
       "      <th>cuisines</th>\n",
       "      <th>approx_cost(for two people)</th>\n",
       "      <th>menu_item</th>\n",
       "      <th>listed_in(type)</th>\n",
       "      <th>listed_in(city)</th>\n",
       "    </tr>\n",
       "  </thead>\n",
       "  <tbody>\n",
       "    <tr>\n",
       "      <th>0</th>\n",
       "      <td>Yes</td>\n",
       "      <td>Yes</td>\n",
       "      <td>4.1/5</td>\n",
       "      <td>775</td>\n",
       "      <td>Banashankari</td>\n",
       "      <td>Casual Dining</td>\n",
       "      <td>Pasta, Lunch Buffet, Masala Papad, Paneer Laja...</td>\n",
       "      <td>North Indian, Mughlai, Chinese</td>\n",
       "      <td>800</td>\n",
       "      <td>[]</td>\n",
       "      <td>Buffet</td>\n",
       "      <td>Banashankari</td>\n",
       "    </tr>\n",
       "    <tr>\n",
       "      <th>1</th>\n",
       "      <td>Yes</td>\n",
       "      <td>No</td>\n",
       "      <td>4.1/5</td>\n",
       "      <td>787</td>\n",
       "      <td>Banashankari</td>\n",
       "      <td>Casual Dining</td>\n",
       "      <td>Momos, Lunch Buffet, Chocolate Nirvana, Thai G...</td>\n",
       "      <td>Chinese, North Indian, Thai</td>\n",
       "      <td>800</td>\n",
       "      <td>[]</td>\n",
       "      <td>Buffet</td>\n",
       "      <td>Banashankari</td>\n",
       "    </tr>\n",
       "    <tr>\n",
       "      <th>2</th>\n",
       "      <td>Yes</td>\n",
       "      <td>No</td>\n",
       "      <td>3.8/5</td>\n",
       "      <td>918</td>\n",
       "      <td>Banashankari</td>\n",
       "      <td>Cafe, Casual Dining</td>\n",
       "      <td>Churros, Cannelloni, Minestrone Soup, Hot Choc...</td>\n",
       "      <td>Cafe, Mexican, Italian</td>\n",
       "      <td>800</td>\n",
       "      <td>[]</td>\n",
       "      <td>Buffet</td>\n",
       "      <td>Banashankari</td>\n",
       "    </tr>\n",
       "    <tr>\n",
       "      <th>3</th>\n",
       "      <td>No</td>\n",
       "      <td>No</td>\n",
       "      <td>3.7/5</td>\n",
       "      <td>88</td>\n",
       "      <td>Banashankari</td>\n",
       "      <td>Quick Bites</td>\n",
       "      <td>Masala Dosa</td>\n",
       "      <td>South Indian, North Indian</td>\n",
       "      <td>300</td>\n",
       "      <td>[]</td>\n",
       "      <td>Buffet</td>\n",
       "      <td>Banashankari</td>\n",
       "    </tr>\n",
       "    <tr>\n",
       "      <th>4</th>\n",
       "      <td>No</td>\n",
       "      <td>No</td>\n",
       "      <td>3.8/5</td>\n",
       "      <td>166</td>\n",
       "      <td>Basavanagudi</td>\n",
       "      <td>Casual Dining</td>\n",
       "      <td>Panipuri, Gol Gappe</td>\n",
       "      <td>North Indian, Rajasthani</td>\n",
       "      <td>600</td>\n",
       "      <td>[]</td>\n",
       "      <td>Buffet</td>\n",
       "      <td>Banashankari</td>\n",
       "    </tr>\n",
       "  </tbody>\n",
       "</table>\n",
       "</div>"
      ],
      "text/plain": [
       "  online_order book_table   rate  votes      location            rest_type  \\\n",
       "0          Yes        Yes  4.1/5    775  Banashankari        Casual Dining   \n",
       "1          Yes         No  4.1/5    787  Banashankari        Casual Dining   \n",
       "2          Yes         No  3.8/5    918  Banashankari  Cafe, Casual Dining   \n",
       "3           No         No  3.7/5     88  Banashankari          Quick Bites   \n",
       "4           No         No  3.8/5    166  Basavanagudi        Casual Dining   \n",
       "\n",
       "                                          dish_liked  \\\n",
       "0  Pasta, Lunch Buffet, Masala Papad, Paneer Laja...   \n",
       "1  Momos, Lunch Buffet, Chocolate Nirvana, Thai G...   \n",
       "2  Churros, Cannelloni, Minestrone Soup, Hot Choc...   \n",
       "3                                        Masala Dosa   \n",
       "4                                Panipuri, Gol Gappe   \n",
       "\n",
       "                         cuisines approx_cost(for two people) menu_item  \\\n",
       "0  North Indian, Mughlai, Chinese                         800        []   \n",
       "1     Chinese, North Indian, Thai                         800        []   \n",
       "2          Cafe, Mexican, Italian                         800        []   \n",
       "3      South Indian, North Indian                         300        []   \n",
       "4        North Indian, Rajasthani                         600        []   \n",
       "\n",
       "  listed_in(type) listed_in(city)  \n",
       "0          Buffet    Banashankari  \n",
       "1          Buffet    Banashankari  \n",
       "2          Buffet    Banashankari  \n",
       "3          Buffet    Banashankari  \n",
       "4          Buffet    Banashankari  "
      ]
     },
     "execution_count": 12,
     "metadata": {},
     "output_type": "execute_result"
    }
   ],
   "source": [
    "df.head()"
   ]
  },
  {
   "cell_type": "code",
   "execution_count": 13,
   "id": "b5637c64",
   "metadata": {
    "execution": {
     "iopub.execute_input": "2022-11-22T17:26:01.040480Z",
     "iopub.status.busy": "2022-11-22T17:26:01.039491Z",
     "iopub.status.idle": "2022-11-22T17:26:01.084227Z",
     "shell.execute_reply": "2022-11-22T17:26:01.083125Z"
    },
    "papermill": {
     "duration": 0.068873,
     "end_time": "2022-11-22T17:26:01.087425",
     "exception": false,
     "start_time": "2022-11-22T17:26:01.018552",
     "status": "completed"
    },
    "tags": []
   },
   "outputs": [
    {
     "name": "stdout",
     "output_type": "stream",
     "text": [
      "<class 'pandas.core.frame.DataFrame'>\n",
      "Int64Index: 51466 entries, 0 to 51716\n",
      "Data columns (total 12 columns):\n",
      " #   Column                       Non-Null Count  Dtype \n",
      "---  ------                       --------------  ----- \n",
      " 0   online_order                 51466 non-null  object\n",
      " 1   book_table                   51466 non-null  object\n",
      " 2   rate                         43780 non-null  object\n",
      " 3   votes                        51466 non-null  int64 \n",
      " 4   location                     51466 non-null  object\n",
      " 5   rest_type                    51466 non-null  object\n",
      " 6   dish_liked                   23569 non-null  object\n",
      " 7   cuisines                     51466 non-null  object\n",
      " 8   approx_cost(for two people)  51148 non-null  object\n",
      " 9   menu_item                    51466 non-null  object\n",
      " 10  listed_in(type)              51466 non-null  object\n",
      " 11  listed_in(city)              51466 non-null  object\n",
      "dtypes: int64(1), object(11)\n",
      "memory usage: 5.1+ MB\n"
     ]
    }
   ],
   "source": [
    "df.info()"
   ]
  },
  {
   "cell_type": "code",
   "execution_count": 14,
   "id": "7070d30f",
   "metadata": {
    "execution": {
     "iopub.execute_input": "2022-11-22T17:26:01.128497Z",
     "iopub.status.busy": "2022-11-22T17:26:01.128078Z",
     "iopub.status.idle": "2022-11-22T17:26:01.142333Z",
     "shell.execute_reply": "2022-11-22T17:26:01.140932Z"
    },
    "papermill": {
     "duration": 0.037448,
     "end_time": "2022-11-22T17:26:01.144690",
     "exception": false,
     "start_time": "2022-11-22T17:26:01.107242",
     "status": "completed"
    },
    "tags": []
   },
   "outputs": [],
   "source": [
    "menuItemsList = []\n",
    "def extractMenuItems(items):\n",
    "    for item in items:\n",
    "        if item.strip() not in menuItems:\n",
    "            menuItems.append(item.strip())\n",
    "            \n",
    "restTypesList = []\n",
    "def extractRestTypes(restTypes):\n",
    "    try:\n",
    "        restTypes = restTypes.split(\",\")\n",
    "        for restType in restTypes:\n",
    "            if restType.strip() not in restTypesList:\n",
    "                restTypesList.append(restType.strip())\n",
    "    except:\n",
    "        print(restTypes)\n",
    "        return\n",
    "\n",
    "    \n",
    "cuisinesList = []\n",
    "def extractCuisines(cuisines):\n",
    "    try:\n",
    "        cuisines = cuisines.split(\",\")\n",
    "        for cuisine in cuisines:\n",
    "            if cuisine.strip() not in cuisinesList:\n",
    "                cuisinesList.append(cuisine.strip())\n",
    "    except:\n",
    "        print(cuisines)\n",
    "        return\n",
    "\n",
    "def reformatCuisinesCol(cuisines):\n",
    "    try:\n",
    "        values = [word.strip() for word in cuisines.split(\",\")]\n",
    "        return values\n",
    "    except Exception:\n",
    "        traceback.print_exc()\n",
    "        print(cuisines)\n",
    "        return\n",
    "    \n",
    "def reformatApproxCostCol(value):\n",
    "    try:\n",
    "        return int(value.replace(\",\",\"\"))\n",
    "    except:\n",
    "        return value\n",
    "\n",
    "    \n",
    "def reformatRateCol(value):\n",
    "    try:\n",
    "        if value == \"NEW\" or value == \"-\":\n",
    "            return 0\n",
    "        else:\n",
    "            return float(value.split(\"/\")[0])\n",
    "    except:\n",
    "        return \n",
    "   \n",
    "        \n",
    "def reformatRestTypes(values):\n",
    "    try:\n",
    "        values = [word.strip() for word in values.split(\",\")]\n",
    "        return values\n",
    "    except:\n",
    "        print(values)\n",
    "        return\n",
    "    \n",
    "def getNumberOfDishLiked(dishes):\n",
    "    try:\n",
    "        return len(dishes.split(\",\"))\n",
    "    except:\n",
    "        return\n",
    "    \n",
    "def getRateName(rate):\n",
    "    if rate > 3.75:\n",
    "        return \"successful\"\n",
    "    else:\n",
    "        return \"not successful\"\n",
    "    "
   ]
  },
  {
   "cell_type": "code",
   "execution_count": 15,
   "id": "fee82b80",
   "metadata": {
    "execution": {
     "iopub.execute_input": "2022-11-22T17:26:01.185824Z",
     "iopub.status.busy": "2022-11-22T17:26:01.185437Z",
     "iopub.status.idle": "2022-11-22T17:26:01.285776Z",
     "shell.execute_reply": "2022-11-22T17:26:01.284627Z"
    },
    "papermill": {
     "duration": 0.124409,
     "end_time": "2022-11-22T17:26:01.288475",
     "exception": false,
     "start_time": "2022-11-22T17:26:01.164066",
     "status": "completed"
    },
    "scrolled": true,
    "tags": []
   },
   "outputs": [
    {
     "data": {
      "text/plain": [
       "(['North Indian',\n",
       "  'Mughlai',\n",
       "  'Chinese',\n",
       "  'Thai',\n",
       "  'Cafe',\n",
       "  'Mexican',\n",
       "  'Italian',\n",
       "  'South Indian',\n",
       "  'Rajasthani',\n",
       "  'Andhra',\n",
       "  'Pizza',\n",
       "  'Continental',\n",
       "  'Momos',\n",
       "  'Beverages',\n",
       "  'Fast Food',\n",
       "  'American',\n",
       "  'French',\n",
       "  'European',\n",
       "  'Bakery',\n",
       "  'Burger',\n",
       "  'Desserts',\n",
       "  'Biryani',\n",
       "  'Street Food',\n",
       "  'Rolls',\n",
       "  'Ice Cream',\n",
       "  'Healthy Food',\n",
       "  'Salad',\n",
       "  'Asian',\n",
       "  'Korean',\n",
       "  'Indonesian',\n",
       "  'Japanese',\n",
       "  'Goan',\n",
       "  'Seafood',\n",
       "  'Kebab',\n",
       "  'Steak',\n",
       "  'Mithai',\n",
       "  'Iranian',\n",
       "  'Sandwich',\n",
       "  'Juices',\n",
       "  'Mangalorean',\n",
       "  'Vietnamese',\n",
       "  'Hyderabadi',\n",
       "  'Bengali',\n",
       "  'Arabian',\n",
       "  'BBQ',\n",
       "  'Tea',\n",
       "  'Afghani',\n",
       "  'Lebanese',\n",
       "  'Finger Food',\n",
       "  'Tibetan',\n",
       "  'Charcoal Chicken',\n",
       "  'Middle Eastern',\n",
       "  'Mediterranean',\n",
       "  'Wraps',\n",
       "  'Kerala',\n",
       "  'Oriya',\n",
       "  'Bihari',\n",
       "  'Roast Chicken',\n",
       "  'Maharashtrian',\n",
       "  'Bohri',\n",
       "  'African',\n",
       "  'Nepalese',\n",
       "  'Turkish',\n",
       "  'Tamil',\n",
       "  'Tex-Mex',\n",
       "  'Belgian',\n",
       "  'Gujarati',\n",
       "  'South American',\n",
       "  'Konkan',\n",
       "  'Drinks Only',\n",
       "  'Awadhi',\n",
       "  'Chettinad',\n",
       "  'Coffee',\n",
       "  'Indian',\n",
       "  'Afghan',\n",
       "  'Modern Indian',\n",
       "  'Lucknowi',\n",
       "  'Australian',\n",
       "  'Kashmiri',\n",
       "  'Spanish',\n",
       "  'Malaysian',\n",
       "  'Burmese',\n",
       "  'Sushi',\n",
       "  'Portuguese',\n",
       "  'Parsi',\n",
       "  'Greek',\n",
       "  'North Eastern',\n",
       "  'Bar Food',\n",
       "  'Singaporean',\n",
       "  'Naga',\n",
       "  'Cantonese',\n",
       "  'Grill',\n",
       "  'Bubble Tea',\n",
       "  'Hot dogs',\n",
       "  'Assamese',\n",
       "  'Sri Lankan',\n",
       "  'Mongolian',\n",
       "  'Paan',\n",
       "  'British',\n",
       "  'Pan Asian',\n",
       "  'German',\n",
       "  'Russian',\n",
       "  'Jewish',\n",
       "  'Vegan',\n",
       "  'Raw Meats',\n",
       "  'Malwani',\n",
       "  'Sindhi'],\n",
       " 107)"
      ]
     },
     "execution_count": 15,
     "metadata": {},
     "output_type": "execute_result"
    }
   ],
   "source": [
    "df[\"cuisines\"].apply(lambda x: extractCuisines(x))\n",
    "cuisinesList, len(cuisinesList)"
   ]
  },
  {
   "cell_type": "code",
   "execution_count": 16,
   "id": "0c3abe87",
   "metadata": {
    "execution": {
     "iopub.execute_input": "2022-11-22T17:26:01.332267Z",
     "iopub.status.busy": "2022-11-22T17:26:01.331870Z",
     "iopub.status.idle": "2022-11-22T17:26:01.536894Z",
     "shell.execute_reply": "2022-11-22T17:26:01.535669Z"
    },
    "papermill": {
     "duration": 0.230619,
     "end_time": "2022-11-22T17:26:01.539586",
     "exception": false,
     "start_time": "2022-11-22T17:26:01.308967",
     "status": "completed"
    },
    "scrolled": true,
    "tags": []
   },
   "outputs": [],
   "source": [
    "df[\"cuisines\"] = df[\"cuisines\"].apply(lambda x: reformatCuisinesCol(x))"
   ]
  },
  {
   "cell_type": "code",
   "execution_count": 17,
   "id": "60252133",
   "metadata": {
    "execution": {
     "iopub.execute_input": "2022-11-22T17:26:01.583746Z",
     "iopub.status.busy": "2022-11-22T17:26:01.583009Z",
     "iopub.status.idle": "2022-11-22T17:26:01.600005Z",
     "shell.execute_reply": "2022-11-22T17:26:01.599112Z"
    },
    "papermill": {
     "duration": 0.042213,
     "end_time": "2022-11-22T17:26:01.602331",
     "exception": false,
     "start_time": "2022-11-22T17:26:01.560118",
     "status": "completed"
    },
    "scrolled": true,
    "tags": []
   },
   "outputs": [
    {
     "data": {
      "text/plain": [
       "(array(['Buffet', 'Cafes', 'Delivery', 'Desserts', 'Dine-out',\n",
       "        'Drinks & nightlife', 'Pubs and bars'], dtype=object),\n",
       " 7)"
      ]
     },
     "execution_count": 17,
     "metadata": {},
     "output_type": "execute_result"
    }
   ],
   "source": [
    "df[\"listed_in(type)\"].unique(),df[\"listed_in(type)\"].nunique()"
   ]
  },
  {
   "cell_type": "code",
   "execution_count": 18,
   "id": "15e15716",
   "metadata": {
    "execution": {
     "iopub.execute_input": "2022-11-22T17:26:01.645168Z",
     "iopub.status.busy": "2022-11-22T17:26:01.643830Z",
     "iopub.status.idle": "2022-11-22T17:26:01.661022Z",
     "shell.execute_reply": "2022-11-22T17:26:01.660184Z"
    },
    "papermill": {
     "duration": 0.04063,
     "end_time": "2022-11-22T17:26:01.663161",
     "exception": false,
     "start_time": "2022-11-22T17:26:01.622531",
     "status": "completed"
    },
    "tags": []
   },
   "outputs": [
    {
     "data": {
      "text/plain": [
       "(array(['Banashankari', 'Basavanagudi', 'Mysore Road', 'Jayanagar',\n",
       "        'Kumaraswamy Layout', 'Rajarajeshwari Nagar', 'Vijay Nagar',\n",
       "        'Uttarahalli', 'JP Nagar', 'South Bangalore', 'City Market',\n",
       "        'Nagarbhavi', 'Bannerghatta Road', 'BTM', 'Kanakapura Road',\n",
       "        'Bommanahalli', 'CV Raman Nagar', 'Electronic City', 'HSR',\n",
       "        'Marathahalli', 'Wilson Garden', 'Shanti Nagar',\n",
       "        'Koramangala 5th Block', 'Koramangala 8th Block', 'Richmond Road',\n",
       "        'Koramangala 7th Block', 'Jalahalli', 'Koramangala 4th Block',\n",
       "        'Bellandur', 'Sarjapur Road', 'Whitefield', 'East Bangalore',\n",
       "        'Old Airport Road', 'Indiranagar', 'Koramangala 1st Block',\n",
       "        'Frazer Town', 'RT Nagar', 'MG Road', 'Brigade Road',\n",
       "        'Lavelle Road', 'Church Street', 'Ulsoor', 'Residency Road',\n",
       "        'Shivajinagar', 'Infantry Road', 'St. Marks Road',\n",
       "        'Cunningham Road', 'Race Course Road', 'Commercial Street',\n",
       "        'Vasanth Nagar', 'HBR Layout', 'Domlur', 'Ejipura',\n",
       "        'Jeevan Bhima Nagar', 'Old Madras Road', 'Malleshwaram',\n",
       "        'Seshadripuram', 'Kammanahalli', 'Koramangala 6th Block',\n",
       "        'Majestic', 'Langford Town', 'Central Bangalore', 'Sanjay Nagar',\n",
       "        'Brookefield', 'ITPL Main Road, Whitefield',\n",
       "        'Varthur Main Road, Whitefield', 'KR Puram',\n",
       "        'Koramangala 2nd Block', 'Koramangala 3rd Block', 'Koramangala',\n",
       "        'Hosur Road', 'Rajajinagar', 'Banaswadi', 'North Bangalore',\n",
       "        'Nagawara', 'Hennur', 'Kalyan Nagar', 'New BEL Road', 'Jakkur',\n",
       "        'Rammurthy Nagar', 'Thippasandra', 'Kaggadasapura', 'Hebbal',\n",
       "        'Kengeri', 'Sankey Road', 'Sadashiv Nagar', 'Basaveshwara Nagar',\n",
       "        'Yeshwantpur', 'West Bangalore', 'Magadi Road', 'Yelahanka',\n",
       "        'Sahakara Nagar', 'Peenya'], dtype=object),\n",
       " 93)"
      ]
     },
     "execution_count": 18,
     "metadata": {},
     "output_type": "execute_result"
    }
   ],
   "source": [
    "df[\"location\"].unique(),len(df[\"location\"].unique())"
   ]
  },
  {
   "cell_type": "code",
   "execution_count": 19,
   "id": "2080b59e",
   "metadata": {
    "execution": {
     "iopub.execute_input": "2022-11-22T17:26:01.707722Z",
     "iopub.status.busy": "2022-11-22T17:26:01.707266Z",
     "iopub.status.idle": "2022-11-22T17:26:01.719329Z",
     "shell.execute_reply": "2022-11-22T17:26:01.718134Z"
    },
    "papermill": {
     "duration": 0.036565,
     "end_time": "2022-11-22T17:26:01.721590",
     "exception": false,
     "start_time": "2022-11-22T17:26:01.685025",
     "status": "completed"
    },
    "tags": []
   },
   "outputs": [
    {
     "data": {
      "text/plain": [
       "(array(['Banashankari', 'Bannerghatta Road', 'Basavanagudi', 'Bellandur',\n",
       "        'Brigade Road', 'Brookefield', 'BTM', 'Church Street',\n",
       "        'Electronic City', 'Frazer Town', 'HSR', 'Indiranagar',\n",
       "        'Jayanagar', 'JP Nagar', 'Kalyan Nagar', 'Kammanahalli',\n",
       "        'Koramangala 4th Block', 'Koramangala 5th Block',\n",
       "        'Koramangala 6th Block', 'Koramangala 7th Block', 'Lavelle Road',\n",
       "        'Malleshwaram', 'Marathahalli', 'MG Road', 'New BEL Road',\n",
       "        'Old Airport Road', 'Rajajinagar', 'Residency Road',\n",
       "        'Sarjapur Road', 'Whitefield'], dtype=object),\n",
       " 30)"
      ]
     },
     "execution_count": 19,
     "metadata": {},
     "output_type": "execute_result"
    }
   ],
   "source": [
    "cities = df[\"listed_in(city)\"].unique()\n",
    "cities,len(cities)"
   ]
  },
  {
   "cell_type": "code",
   "execution_count": 20,
   "id": "d144ae02",
   "metadata": {
    "execution": {
     "iopub.execute_input": "2022-11-22T17:26:01.764932Z",
     "iopub.status.busy": "2022-11-22T17:26:01.763935Z",
     "iopub.status.idle": "2022-11-22T17:26:01.814166Z",
     "shell.execute_reply": "2022-11-22T17:26:01.813253Z"
    },
    "papermill": {
     "duration": 0.074175,
     "end_time": "2022-11-22T17:26:01.816305",
     "exception": false,
     "start_time": "2022-11-22T17:26:01.742130",
     "status": "completed"
    },
    "scrolled": true,
    "tags": []
   },
   "outputs": [
    {
     "data": {
      "text/plain": [
       "(['Casual Dining',\n",
       "  'Cafe',\n",
       "  'Quick Bites',\n",
       "  'Delivery',\n",
       "  'Mess',\n",
       "  'Dessert Parlor',\n",
       "  'Bakery',\n",
       "  'Pub',\n",
       "  'Takeaway',\n",
       "  'Fine Dining',\n",
       "  'Beverage Shop',\n",
       "  'Sweet Shop',\n",
       "  'Bar',\n",
       "  'Confectionery',\n",
       "  'Kiosk',\n",
       "  'Food Truck',\n",
       "  'Microbrewery',\n",
       "  'Lounge',\n",
       "  'Food Court',\n",
       "  'Dhaba',\n",
       "  'Club',\n",
       "  'Irani Cafee',\n",
       "  'Bhojanalya',\n",
       "  'Pop Up',\n",
       "  'Meat Shop'],\n",
       " 25)"
      ]
     },
     "execution_count": 20,
     "metadata": {},
     "output_type": "execute_result"
    }
   ],
   "source": [
    "df[\"rest_type\"].apply(lambda value: extractRestTypes(value))\n",
    "restTypesList,len(restTypesList)"
   ]
  },
  {
   "cell_type": "code",
   "execution_count": 21,
   "id": "ad7ca631",
   "metadata": {
    "execution": {
     "iopub.execute_input": "2022-11-22T17:26:01.861615Z",
     "iopub.status.busy": "2022-11-22T17:26:01.861177Z",
     "iopub.status.idle": "2022-11-22T17:26:01.939245Z",
     "shell.execute_reply": "2022-11-22T17:26:01.937946Z"
    },
    "papermill": {
     "duration": 0.103594,
     "end_time": "2022-11-22T17:26:01.941842",
     "exception": false,
     "start_time": "2022-11-22T17:26:01.838248",
     "status": "completed"
    },
    "tags": []
   },
   "outputs": [
    {
     "data": {
      "text/html": [
       "<div>\n",
       "<style scoped>\n",
       "    .dataframe tbody tr th:only-of-type {\n",
       "        vertical-align: middle;\n",
       "    }\n",
       "\n",
       "    .dataframe tbody tr th {\n",
       "        vertical-align: top;\n",
       "    }\n",
       "\n",
       "    .dataframe thead th {\n",
       "        text-align: right;\n",
       "    }\n",
       "</style>\n",
       "<table border=\"1\" class=\"dataframe\">\n",
       "  <thead>\n",
       "    <tr style=\"text-align: right;\">\n",
       "      <th></th>\n",
       "      <th>online_order</th>\n",
       "      <th>book_table</th>\n",
       "      <th>rate</th>\n",
       "      <th>votes</th>\n",
       "      <th>location</th>\n",
       "      <th>rest_type</th>\n",
       "      <th>dish_liked</th>\n",
       "      <th>cuisines</th>\n",
       "      <th>approx_cost(for two people)</th>\n",
       "      <th>menu_item</th>\n",
       "      <th>listed_in(type)</th>\n",
       "      <th>listed_in(city)</th>\n",
       "    </tr>\n",
       "  </thead>\n",
       "  <tbody>\n",
       "    <tr>\n",
       "      <th>0</th>\n",
       "      <td>Yes</td>\n",
       "      <td>Yes</td>\n",
       "      <td>4.1/5</td>\n",
       "      <td>775</td>\n",
       "      <td>Banashankari</td>\n",
       "      <td>[Casual Dining]</td>\n",
       "      <td>Pasta, Lunch Buffet, Masala Papad, Paneer Laja...</td>\n",
       "      <td>[North Indian, Mughlai, Chinese]</td>\n",
       "      <td>800</td>\n",
       "      <td>[]</td>\n",
       "      <td>Buffet</td>\n",
       "      <td>Banashankari</td>\n",
       "    </tr>\n",
       "    <tr>\n",
       "      <th>1</th>\n",
       "      <td>Yes</td>\n",
       "      <td>No</td>\n",
       "      <td>4.1/5</td>\n",
       "      <td>787</td>\n",
       "      <td>Banashankari</td>\n",
       "      <td>[Casual Dining]</td>\n",
       "      <td>Momos, Lunch Buffet, Chocolate Nirvana, Thai G...</td>\n",
       "      <td>[Chinese, North Indian, Thai]</td>\n",
       "      <td>800</td>\n",
       "      <td>[]</td>\n",
       "      <td>Buffet</td>\n",
       "      <td>Banashankari</td>\n",
       "    </tr>\n",
       "    <tr>\n",
       "      <th>2</th>\n",
       "      <td>Yes</td>\n",
       "      <td>No</td>\n",
       "      <td>3.8/5</td>\n",
       "      <td>918</td>\n",
       "      <td>Banashankari</td>\n",
       "      <td>[Cafe, Casual Dining]</td>\n",
       "      <td>Churros, Cannelloni, Minestrone Soup, Hot Choc...</td>\n",
       "      <td>[Cafe, Mexican, Italian]</td>\n",
       "      <td>800</td>\n",
       "      <td>[]</td>\n",
       "      <td>Buffet</td>\n",
       "      <td>Banashankari</td>\n",
       "    </tr>\n",
       "    <tr>\n",
       "      <th>3</th>\n",
       "      <td>No</td>\n",
       "      <td>No</td>\n",
       "      <td>3.7/5</td>\n",
       "      <td>88</td>\n",
       "      <td>Banashankari</td>\n",
       "      <td>[Quick Bites]</td>\n",
       "      <td>Masala Dosa</td>\n",
       "      <td>[South Indian, North Indian]</td>\n",
       "      <td>300</td>\n",
       "      <td>[]</td>\n",
       "      <td>Buffet</td>\n",
       "      <td>Banashankari</td>\n",
       "    </tr>\n",
       "    <tr>\n",
       "      <th>4</th>\n",
       "      <td>No</td>\n",
       "      <td>No</td>\n",
       "      <td>3.8/5</td>\n",
       "      <td>166</td>\n",
       "      <td>Basavanagudi</td>\n",
       "      <td>[Casual Dining]</td>\n",
       "      <td>Panipuri, Gol Gappe</td>\n",
       "      <td>[North Indian, Rajasthani]</td>\n",
       "      <td>600</td>\n",
       "      <td>[]</td>\n",
       "      <td>Buffet</td>\n",
       "      <td>Banashankari</td>\n",
       "    </tr>\n",
       "  </tbody>\n",
       "</table>\n",
       "</div>"
      ],
      "text/plain": [
       "  online_order book_table   rate  votes      location              rest_type  \\\n",
       "0          Yes        Yes  4.1/5    775  Banashankari        [Casual Dining]   \n",
       "1          Yes         No  4.1/5    787  Banashankari        [Casual Dining]   \n",
       "2          Yes         No  3.8/5    918  Banashankari  [Cafe, Casual Dining]   \n",
       "3           No         No  3.7/5     88  Banashankari          [Quick Bites]   \n",
       "4           No         No  3.8/5    166  Basavanagudi        [Casual Dining]   \n",
       "\n",
       "                                          dish_liked  \\\n",
       "0  Pasta, Lunch Buffet, Masala Papad, Paneer Laja...   \n",
       "1  Momos, Lunch Buffet, Chocolate Nirvana, Thai G...   \n",
       "2  Churros, Cannelloni, Minestrone Soup, Hot Choc...   \n",
       "3                                        Masala Dosa   \n",
       "4                                Panipuri, Gol Gappe   \n",
       "\n",
       "                           cuisines approx_cost(for two people) menu_item  \\\n",
       "0  [North Indian, Mughlai, Chinese]                         800        []   \n",
       "1     [Chinese, North Indian, Thai]                         800        []   \n",
       "2          [Cafe, Mexican, Italian]                         800        []   \n",
       "3      [South Indian, North Indian]                         300        []   \n",
       "4        [North Indian, Rajasthani]                         600        []   \n",
       "\n",
       "  listed_in(type) listed_in(city)  \n",
       "0          Buffet    Banashankari  \n",
       "1          Buffet    Banashankari  \n",
       "2          Buffet    Banashankari  \n",
       "3          Buffet    Banashankari  \n",
       "4          Buffet    Banashankari  "
      ]
     },
     "execution_count": 21,
     "metadata": {},
     "output_type": "execute_result"
    }
   ],
   "source": [
    "df[\"rest_type\"] = df[\"rest_type\"].apply(lambda value: reformatRestTypes(value))\n",
    "df.head()"
   ]
  },
  {
   "cell_type": "markdown",
   "id": "4385bc98",
   "metadata": {
    "papermill": {
     "duration": 0.021806,
     "end_time": "2022-11-22T17:26:01.984340",
     "exception": false,
     "start_time": "2022-11-22T17:26:01.962534",
     "status": "completed"
    },
    "tags": []
   },
   "source": [
    "extracting menu items take a lot of time and it's not useful and won't make a diffrence in our analysis, simply because there won't be a specific meal that will make a resturant successful, what make resturant successful is how good his food is + interior, and staff.. etc"
   ]
  },
  {
   "cell_type": "code",
   "execution_count": 22,
   "id": "22173359",
   "metadata": {
    "execution": {
     "iopub.execute_input": "2022-11-22T17:26:02.028731Z",
     "iopub.status.busy": "2022-11-22T17:26:02.028306Z",
     "iopub.status.idle": "2022-11-22T17:26:02.033276Z",
     "shell.execute_reply": "2022-11-22T17:26:02.032202Z"
    },
    "papermill": {
     "duration": 0.029425,
     "end_time": "2022-11-22T17:26:02.035640",
     "exception": false,
     "start_time": "2022-11-22T17:26:02.006215",
     "status": "completed"
    },
    "tags": []
   },
   "outputs": [],
   "source": [
    "#df[\"menu_item\"].apply(lambda menuItemList: extractMenuItems(menuItemList))\n",
    "#menuItemsList"
   ]
  },
  {
   "cell_type": "code",
   "execution_count": 23,
   "id": "a0b9fcf6",
   "metadata": {
    "execution": {
     "iopub.execute_input": "2022-11-22T17:26:02.079959Z",
     "iopub.status.busy": "2022-11-22T17:26:02.079437Z",
     "iopub.status.idle": "2022-11-22T17:26:02.090905Z",
     "shell.execute_reply": "2022-11-22T17:26:02.089723Z"
    },
    "papermill": {
     "duration": 0.036199,
     "end_time": "2022-11-22T17:26:02.093126",
     "exception": false,
     "start_time": "2022-11-22T17:26:02.056927",
     "status": "completed"
    },
    "tags": []
   },
   "outputs": [
    {
     "data": {
      "text/plain": [
       "array(['800', '300', '600', '700', '550', '500', '450', '650', '400',\n",
       "       '900', '200', '750', '150', '850', '100', '1,200', '350', '250',\n",
       "       '950', '1,000', '1,500', '1,300', '199', '80', '1,100', '160',\n",
       "       '1,600', '230', '130', '50', '190', '1,700', nan, '1,400', '180',\n",
       "       '1,350', '2,200', '2,000', '1,800', '1,900', '330', '2,500',\n",
       "       '2,100', '3,000', '2,800', '3,400', '40', '1,250', '3,500',\n",
       "       '4,000', '2,400', '2,600', '120', '1,450', '469', '70', '3,200',\n",
       "       '60', '560', '240', '360', '6,000', '1,050', '2,300', '4,100',\n",
       "       '5,000', '3,700', '1,650', '2,700', '4,500', '140'], dtype=object)"
      ]
     },
     "execution_count": 23,
     "metadata": {},
     "output_type": "execute_result"
    }
   ],
   "source": [
    "df[\"approx_cost(for two people)\"].unique()"
   ]
  },
  {
   "cell_type": "code",
   "execution_count": 24,
   "id": "383bd85a",
   "metadata": {
    "execution": {
     "iopub.execute_input": "2022-11-22T17:26:02.136855Z",
     "iopub.status.busy": "2022-11-22T17:26:02.136449Z",
     "iopub.status.idle": "2022-11-22T17:26:02.171610Z",
     "shell.execute_reply": "2022-11-22T17:26:02.170645Z"
    },
    "papermill": {
     "duration": 0.059809,
     "end_time": "2022-11-22T17:26:02.173826",
     "exception": false,
     "start_time": "2022-11-22T17:26:02.114017",
     "status": "completed"
    },
    "scrolled": true,
    "tags": []
   },
   "outputs": [
    {
     "data": {
      "text/plain": [
       "online_order                       0\n",
       "book_table                         0\n",
       "rate                            7686\n",
       "votes                              0\n",
       "location                           0\n",
       "rest_type                          0\n",
       "dish_liked                     27897\n",
       "cuisines                           0\n",
       "approx_cost(for two people)      318\n",
       "menu_item                          0\n",
       "listed_in(type)                    0\n",
       "listed_in(city)                    0\n",
       "dtype: int64"
      ]
     },
     "execution_count": 24,
     "metadata": {},
     "output_type": "execute_result"
    }
   ],
   "source": [
    "df.isna().sum()"
   ]
  },
  {
   "cell_type": "code",
   "execution_count": 25,
   "id": "223cbd58",
   "metadata": {
    "execution": {
     "iopub.execute_input": "2022-11-22T17:26:02.221302Z",
     "iopub.status.busy": "2022-11-22T17:26:02.220900Z",
     "iopub.status.idle": "2022-11-22T17:26:02.273324Z",
     "shell.execute_reply": "2022-11-22T17:26:02.272119Z"
    },
    "papermill": {
     "duration": 0.078828,
     "end_time": "2022-11-22T17:26:02.276129",
     "exception": false,
     "start_time": "2022-11-22T17:26:02.197301",
     "status": "completed"
    },
    "scrolled": true,
    "tags": []
   },
   "outputs": [],
   "source": [
    "df['approx_cost(for two people)'] = df['approx_cost(for two people)'].apply(lambda value: reformatApproxCostCol(value))"
   ]
  },
  {
   "cell_type": "code",
   "execution_count": 26,
   "id": "7d31550b",
   "metadata": {
    "execution": {
     "iopub.execute_input": "2022-11-22T17:26:02.321887Z",
     "iopub.status.busy": "2022-11-22T17:26:02.321479Z",
     "iopub.status.idle": "2022-11-22T17:26:02.359615Z",
     "shell.execute_reply": "2022-11-22T17:26:02.357908Z"
    },
    "papermill": {
     "duration": 0.065187,
     "end_time": "2022-11-22T17:26:02.363100",
     "exception": false,
     "start_time": "2022-11-22T17:26:02.297913",
     "status": "completed"
    },
    "tags": []
   },
   "outputs": [
    {
     "name": "stdout",
     "output_type": "stream",
     "text": [
      "<class 'pandas.core.frame.DataFrame'>\n",
      "Int64Index: 51466 entries, 0 to 51716\n",
      "Data columns (total 12 columns):\n",
      " #   Column                       Non-Null Count  Dtype  \n",
      "---  ------                       --------------  -----  \n",
      " 0   online_order                 51466 non-null  object \n",
      " 1   book_table                   51466 non-null  object \n",
      " 2   rate                         43780 non-null  object \n",
      " 3   votes                        51466 non-null  int64  \n",
      " 4   location                     51466 non-null  object \n",
      " 5   rest_type                    51466 non-null  object \n",
      " 6   dish_liked                   23569 non-null  object \n",
      " 7   cuisines                     51466 non-null  object \n",
      " 8   approx_cost(for two people)  51148 non-null  float64\n",
      " 9   menu_item                    51466 non-null  object \n",
      " 10  listed_in(type)              51466 non-null  object \n",
      " 11  listed_in(city)              51466 non-null  object \n",
      "dtypes: float64(1), int64(1), object(10)\n",
      "memory usage: 5.1+ MB\n"
     ]
    }
   ],
   "source": [
    "df.info()"
   ]
  },
  {
   "cell_type": "code",
   "execution_count": 27,
   "id": "331d8255",
   "metadata": {
    "execution": {
     "iopub.execute_input": "2022-11-22T17:26:02.408312Z",
     "iopub.status.busy": "2022-11-22T17:26:02.407919Z",
     "iopub.status.idle": "2022-11-22T17:26:02.441262Z",
     "shell.execute_reply": "2022-11-22T17:26:02.440156Z"
    },
    "papermill": {
     "duration": 0.058684,
     "end_time": "2022-11-22T17:26:02.443765",
     "exception": false,
     "start_time": "2022-11-22T17:26:02.385081",
     "status": "completed"
    },
    "tags": []
   },
   "outputs": [
    {
     "data": {
      "text/plain": [
       "online_order                       0\n",
       "book_table                         0\n",
       "rate                            7686\n",
       "votes                              0\n",
       "location                           0\n",
       "rest_type                          0\n",
       "dish_liked                     27897\n",
       "cuisines                           0\n",
       "approx_cost(for two people)      318\n",
       "menu_item                          0\n",
       "listed_in(type)                    0\n",
       "listed_in(city)                    0\n",
       "dtype: int64"
      ]
     },
     "execution_count": 27,
     "metadata": {},
     "output_type": "execute_result"
    }
   ],
   "source": [
    "df.isna().sum()"
   ]
  },
  {
   "cell_type": "code",
   "execution_count": 28,
   "id": "57c7794a",
   "metadata": {
    "execution": {
     "iopub.execute_input": "2022-11-22T17:26:02.490672Z",
     "iopub.status.busy": "2022-11-22T17:26:02.490131Z",
     "iopub.status.idle": "2022-11-22T17:26:02.550425Z",
     "shell.execute_reply": "2022-11-22T17:26:02.549123Z"
    },
    "papermill": {
     "duration": 0.087664,
     "end_time": "2022-11-22T17:26:02.553265",
     "exception": false,
     "start_time": "2022-11-22T17:26:02.465601",
     "status": "completed"
    },
    "tags": []
   },
   "outputs": [],
   "source": [
    "df['rate'] = df['rate'].apply(lambda value: reformatRateCol(value))"
   ]
  },
  {
   "cell_type": "code",
   "execution_count": 29,
   "id": "34e5bfa0",
   "metadata": {
    "execution": {
     "iopub.execute_input": "2022-11-22T17:26:02.599991Z",
     "iopub.status.busy": "2022-11-22T17:26:02.599452Z",
     "iopub.status.idle": "2022-11-22T17:26:02.632369Z",
     "shell.execute_reply": "2022-11-22T17:26:02.631174Z"
    },
    "papermill": {
     "duration": 0.059403,
     "end_time": "2022-11-22T17:26:02.634714",
     "exception": false,
     "start_time": "2022-11-22T17:26:02.575311",
     "status": "completed"
    },
    "scrolled": true,
    "tags": []
   },
   "outputs": [
    {
     "data": {
      "text/plain": [
       "online_order                       0\n",
       "book_table                         0\n",
       "rate                            7686\n",
       "votes                              0\n",
       "location                           0\n",
       "rest_type                          0\n",
       "dish_liked                     27897\n",
       "cuisines                           0\n",
       "approx_cost(for two people)      318\n",
       "menu_item                          0\n",
       "listed_in(type)                    0\n",
       "listed_in(city)                    0\n",
       "dtype: int64"
      ]
     },
     "execution_count": 29,
     "metadata": {},
     "output_type": "execute_result"
    }
   ],
   "source": [
    "df.isna().sum()"
   ]
  },
  {
   "cell_type": "markdown",
   "id": "ea5e95cd",
   "metadata": {
    "papermill": {
     "duration": 0.022238,
     "end_time": "2022-11-22T17:26:02.679862",
     "exception": false,
     "start_time": "2022-11-22T17:26:02.657624",
     "status": "completed"
    },
    "tags": []
   },
   "source": [
    "this is an odd observation, we can find a rows that have the following data values:\n",
    "- in rate column we find a Nan value, but we can also find some reviews in review list column with a rating for each review.\n",
    "\n",
    "so it does make sense that we should impute the Nan values from review list, right?\n",
    "no, because we would find in the same row that have Nan value in rate column and some reviews in review list columns, a zero votes in votes column!!\n",
    "\n",
    "this is weird and could indicate that the data was collected in wrong way, or that votes column have a different meaning.\n",
    "since we cannot contact the people who collected the dataset, we will go with droping nan values in rate column.\n",
    "specially that nan values is only 15% from whole dataset, which is okay to drop since that dataset is large enough."
   ]
  },
  {
   "cell_type": "code",
   "execution_count": 30,
   "id": "4d84c9b7",
   "metadata": {
    "execution": {
     "iopub.execute_input": "2022-11-22T17:26:02.727115Z",
     "iopub.status.busy": "2022-11-22T17:26:02.726662Z",
     "iopub.status.idle": "2022-11-22T17:26:02.746075Z",
     "shell.execute_reply": "2022-11-22T17:26:02.744837Z"
    },
    "papermill": {
     "duration": 0.045973,
     "end_time": "2022-11-22T17:26:02.748881",
     "exception": false,
     "start_time": "2022-11-22T17:26:02.702908",
     "status": "completed"
    },
    "tags": []
   },
   "outputs": [],
   "source": [
    "df.dropna(subset=[\"rate\"],inplace=True)"
   ]
  },
  {
   "cell_type": "code",
   "execution_count": 31,
   "id": "a0911184",
   "metadata": {
    "execution": {
     "iopub.execute_input": "2022-11-22T17:26:02.795740Z",
     "iopub.status.busy": "2022-11-22T17:26:02.795283Z",
     "iopub.status.idle": "2022-11-22T17:26:02.816043Z",
     "shell.execute_reply": "2022-11-22T17:26:02.814761Z"
    },
    "papermill": {
     "duration": 0.048262,
     "end_time": "2022-11-22T17:26:02.819199",
     "exception": false,
     "start_time": "2022-11-22T17:26:02.770937",
     "status": "completed"
    },
    "tags": []
   },
   "outputs": [],
   "source": [
    "df.dropna(inplace = True, subset =[\"rest_type\"])"
   ]
  },
  {
   "cell_type": "code",
   "execution_count": 32,
   "id": "508328b8",
   "metadata": {
    "execution": {
     "iopub.execute_input": "2022-11-22T17:26:02.865937Z",
     "iopub.status.busy": "2022-11-22T17:26:02.865071Z",
     "iopub.status.idle": "2022-11-22T17:26:02.893839Z",
     "shell.execute_reply": "2022-11-22T17:26:02.892452Z"
    },
    "papermill": {
     "duration": 0.055185,
     "end_time": "2022-11-22T17:26:02.896706",
     "exception": false,
     "start_time": "2022-11-22T17:26:02.841521",
     "status": "completed"
    },
    "tags": []
   },
   "outputs": [
    {
     "data": {
      "text/plain": [
       "online_order                       0\n",
       "book_table                         0\n",
       "rate                               0\n",
       "votes                              0\n",
       "location                           0\n",
       "rest_type                          0\n",
       "dish_liked                     20241\n",
       "cuisines                           0\n",
       "approx_cost(for two people)      247\n",
       "menu_item                          0\n",
       "listed_in(type)                    0\n",
       "listed_in(city)                    0\n",
       "dtype: int64"
      ]
     },
     "execution_count": 32,
     "metadata": {},
     "output_type": "execute_result"
    }
   ],
   "source": [
    "df.isnull().sum()"
   ]
  },
  {
   "cell_type": "code",
   "execution_count": 33,
   "id": "e9c41551",
   "metadata": {
    "execution": {
     "iopub.execute_input": "2022-11-22T17:26:02.946844Z",
     "iopub.status.busy": "2022-11-22T17:26:02.945989Z",
     "iopub.status.idle": "2022-11-22T17:26:02.970579Z",
     "shell.execute_reply": "2022-11-22T17:26:02.969368Z"
    },
    "papermill": {
     "duration": 0.052495,
     "end_time": "2022-11-22T17:26:02.973483",
     "exception": false,
     "start_time": "2022-11-22T17:26:02.920988",
     "status": "completed"
    },
    "tags": []
   },
   "outputs": [],
   "source": [
    "df['online_order'] = df['online_order'].map({\"Yes\": 1, \"No\":0})\n",
    "df['book_table'] = df['book_table'].map({\"Yes\": 1, \"No\":0})"
   ]
  },
  {
   "cell_type": "markdown",
   "id": "e9cc1703",
   "metadata": {
    "papermill": {
     "duration": 0.023186,
     "end_time": "2022-11-22T17:26:03.019747",
     "exception": false,
     "start_time": "2022-11-22T17:26:02.996561",
     "status": "completed"
    },
    "tags": []
   },
   "source": [
    "# Feature Engineering"
   ]
  },
  {
   "cell_type": "code",
   "execution_count": 34,
   "id": "e6c00e8a",
   "metadata": {
    "execution": {
     "iopub.execute_input": "2022-11-22T17:26:03.070479Z",
     "iopub.status.busy": "2022-11-22T17:26:03.069966Z",
     "iopub.status.idle": "2022-11-22T17:26:03.097028Z",
     "shell.execute_reply": "2022-11-22T17:26:03.095571Z"
    },
    "papermill": {
     "duration": 0.055448,
     "end_time": "2022-11-22T17:26:03.099565",
     "exception": false,
     "start_time": "2022-11-22T17:26:03.044117",
     "status": "completed"
    },
    "tags": []
   },
   "outputs": [
    {
     "data": {
      "text/plain": [
       "online_order                       0\n",
       "book_table                         0\n",
       "rate                               0\n",
       "votes                              0\n",
       "location                           0\n",
       "rest_type                          0\n",
       "dish_liked                     20241\n",
       "cuisines                           0\n",
       "approx_cost(for two people)      247\n",
       "menu_item                          0\n",
       "listed_in(type)                    0\n",
       "listed_in(city)                    0\n",
       "dtype: int64"
      ]
     },
     "execution_count": 34,
     "metadata": {},
     "output_type": "execute_result"
    }
   ],
   "source": [
    "df.isna().sum()"
   ]
  },
  {
   "cell_type": "code",
   "execution_count": 35,
   "id": "6c4fffec",
   "metadata": {
    "execution": {
     "iopub.execute_input": "2022-11-22T17:26:03.148179Z",
     "iopub.status.busy": "2022-11-22T17:26:03.147754Z",
     "iopub.status.idle": "2022-11-22T17:26:03.310519Z",
     "shell.execute_reply": "2022-11-22T17:26:03.309226Z"
    },
    "papermill": {
     "duration": 0.190669,
     "end_time": "2022-11-22T17:26:03.313143",
     "exception": false,
     "start_time": "2022-11-22T17:26:03.122474",
     "status": "completed"
    },
    "tags": []
   },
   "outputs": [],
   "source": [
    "df[\"numberOfCuisines\"] = df[\"cuisines\"].apply(lambda cuisines: len(cuisines))\n",
    "df[\"numberOfDishLiked\"] = df[\"dish_liked\"].apply(lambda dishes: getNumberOfDishLiked(dishes))\n",
    "df[\"numberOfMenuItems\"] = df[\"menu_item\"].apply(lambda items: len(items.split(\",\")))\n",
    "df_corr = df"
   ]
  },
  {
   "cell_type": "code",
   "execution_count": 36,
   "id": "2aa4b79d",
   "metadata": {
    "execution": {
     "iopub.execute_input": "2022-11-22T17:26:03.361588Z",
     "iopub.status.busy": "2022-11-22T17:26:03.361072Z",
     "iopub.status.idle": "2022-11-22T17:26:03.439191Z",
     "shell.execute_reply": "2022-11-22T17:26:03.438059Z"
    },
    "papermill": {
     "duration": 0.106346,
     "end_time": "2022-11-22T17:26:03.441725",
     "exception": false,
     "start_time": "2022-11-22T17:26:03.335379",
     "status": "completed"
    },
    "tags": []
   },
   "outputs": [
    {
     "data": {
      "text/html": [
       "<div>\n",
       "<style scoped>\n",
       "    .dataframe tbody tr th:only-of-type {\n",
       "        vertical-align: middle;\n",
       "    }\n",
       "\n",
       "    .dataframe tbody tr th {\n",
       "        vertical-align: top;\n",
       "    }\n",
       "\n",
       "    .dataframe thead th {\n",
       "        text-align: right;\n",
       "    }\n",
       "</style>\n",
       "<table border=\"1\" class=\"dataframe\">\n",
       "  <thead>\n",
       "    <tr style=\"text-align: right;\">\n",
       "      <th></th>\n",
       "      <th>online_order</th>\n",
       "      <th>book_table</th>\n",
       "      <th>rate</th>\n",
       "      <th>votes</th>\n",
       "      <th>location</th>\n",
       "      <th>rest_type</th>\n",
       "      <th>dish_liked</th>\n",
       "      <th>cuisines</th>\n",
       "      <th>approx_cost(for two people)</th>\n",
       "      <th>menu_item</th>\n",
       "      <th>...</th>\n",
       "      <th>listed_in(city)_Lavelle Road</th>\n",
       "      <th>listed_in(city)_MG Road</th>\n",
       "      <th>listed_in(city)_Malleshwaram</th>\n",
       "      <th>listed_in(city)_Marathahalli</th>\n",
       "      <th>listed_in(city)_New BEL Road</th>\n",
       "      <th>listed_in(city)_Old Airport Road</th>\n",
       "      <th>listed_in(city)_Rajajinagar</th>\n",
       "      <th>listed_in(city)_Residency Road</th>\n",
       "      <th>listed_in(city)_Sarjapur Road</th>\n",
       "      <th>listed_in(city)_Whitefield</th>\n",
       "    </tr>\n",
       "  </thead>\n",
       "  <tbody>\n",
       "    <tr>\n",
       "      <th>0</th>\n",
       "      <td>1</td>\n",
       "      <td>1</td>\n",
       "      <td>4.1</td>\n",
       "      <td>775</td>\n",
       "      <td>Banashankari</td>\n",
       "      <td>[Casual Dining]</td>\n",
       "      <td>Pasta, Lunch Buffet, Masala Papad, Paneer Laja...</td>\n",
       "      <td>[North Indian, Mughlai, Chinese]</td>\n",
       "      <td>800.0</td>\n",
       "      <td>[]</td>\n",
       "      <td>...</td>\n",
       "      <td>0</td>\n",
       "      <td>0</td>\n",
       "      <td>0</td>\n",
       "      <td>0</td>\n",
       "      <td>0</td>\n",
       "      <td>0</td>\n",
       "      <td>0</td>\n",
       "      <td>0</td>\n",
       "      <td>0</td>\n",
       "      <td>0</td>\n",
       "    </tr>\n",
       "    <tr>\n",
       "      <th>1</th>\n",
       "      <td>1</td>\n",
       "      <td>0</td>\n",
       "      <td>4.1</td>\n",
       "      <td>787</td>\n",
       "      <td>Banashankari</td>\n",
       "      <td>[Casual Dining]</td>\n",
       "      <td>Momos, Lunch Buffet, Chocolate Nirvana, Thai G...</td>\n",
       "      <td>[Chinese, North Indian, Thai]</td>\n",
       "      <td>800.0</td>\n",
       "      <td>[]</td>\n",
       "      <td>...</td>\n",
       "      <td>0</td>\n",
       "      <td>0</td>\n",
       "      <td>0</td>\n",
       "      <td>0</td>\n",
       "      <td>0</td>\n",
       "      <td>0</td>\n",
       "      <td>0</td>\n",
       "      <td>0</td>\n",
       "      <td>0</td>\n",
       "      <td>0</td>\n",
       "    </tr>\n",
       "    <tr>\n",
       "      <th>2</th>\n",
       "      <td>1</td>\n",
       "      <td>0</td>\n",
       "      <td>3.8</td>\n",
       "      <td>918</td>\n",
       "      <td>Banashankari</td>\n",
       "      <td>[Cafe, Casual Dining]</td>\n",
       "      <td>Churros, Cannelloni, Minestrone Soup, Hot Choc...</td>\n",
       "      <td>[Cafe, Mexican, Italian]</td>\n",
       "      <td>800.0</td>\n",
       "      <td>[]</td>\n",
       "      <td>...</td>\n",
       "      <td>0</td>\n",
       "      <td>0</td>\n",
       "      <td>0</td>\n",
       "      <td>0</td>\n",
       "      <td>0</td>\n",
       "      <td>0</td>\n",
       "      <td>0</td>\n",
       "      <td>0</td>\n",
       "      <td>0</td>\n",
       "      <td>0</td>\n",
       "    </tr>\n",
       "    <tr>\n",
       "      <th>3</th>\n",
       "      <td>0</td>\n",
       "      <td>0</td>\n",
       "      <td>3.7</td>\n",
       "      <td>88</td>\n",
       "      <td>Banashankari</td>\n",
       "      <td>[Quick Bites]</td>\n",
       "      <td>Masala Dosa</td>\n",
       "      <td>[South Indian, North Indian]</td>\n",
       "      <td>300.0</td>\n",
       "      <td>[]</td>\n",
       "      <td>...</td>\n",
       "      <td>0</td>\n",
       "      <td>0</td>\n",
       "      <td>0</td>\n",
       "      <td>0</td>\n",
       "      <td>0</td>\n",
       "      <td>0</td>\n",
       "      <td>0</td>\n",
       "      <td>0</td>\n",
       "      <td>0</td>\n",
       "      <td>0</td>\n",
       "    </tr>\n",
       "    <tr>\n",
       "      <th>4</th>\n",
       "      <td>0</td>\n",
       "      <td>0</td>\n",
       "      <td>3.8</td>\n",
       "      <td>166</td>\n",
       "      <td>Basavanagudi</td>\n",
       "      <td>[Casual Dining]</td>\n",
       "      <td>Panipuri, Gol Gappe</td>\n",
       "      <td>[North Indian, Rajasthani]</td>\n",
       "      <td>600.0</td>\n",
       "      <td>[]</td>\n",
       "      <td>...</td>\n",
       "      <td>0</td>\n",
       "      <td>0</td>\n",
       "      <td>0</td>\n",
       "      <td>0</td>\n",
       "      <td>0</td>\n",
       "      <td>0</td>\n",
       "      <td>0</td>\n",
       "      <td>0</td>\n",
       "      <td>0</td>\n",
       "      <td>0</td>\n",
       "    </tr>\n",
       "  </tbody>\n",
       "</table>\n",
       "<p>5 rows × 50 columns</p>\n",
       "</div>"
      ],
      "text/plain": [
       "   online_order  book_table  rate  votes      location              rest_type  \\\n",
       "0             1           1   4.1    775  Banashankari        [Casual Dining]   \n",
       "1             1           0   4.1    787  Banashankari        [Casual Dining]   \n",
       "2             1           0   3.8    918  Banashankari  [Cafe, Casual Dining]   \n",
       "3             0           0   3.7     88  Banashankari          [Quick Bites]   \n",
       "4             0           0   3.8    166  Basavanagudi        [Casual Dining]   \n",
       "\n",
       "                                          dish_liked  \\\n",
       "0  Pasta, Lunch Buffet, Masala Papad, Paneer Laja...   \n",
       "1  Momos, Lunch Buffet, Chocolate Nirvana, Thai G...   \n",
       "2  Churros, Cannelloni, Minestrone Soup, Hot Choc...   \n",
       "3                                        Masala Dosa   \n",
       "4                                Panipuri, Gol Gappe   \n",
       "\n",
       "                           cuisines  approx_cost(for two people) menu_item  \\\n",
       "0  [North Indian, Mughlai, Chinese]                        800.0        []   \n",
       "1     [Chinese, North Indian, Thai]                        800.0        []   \n",
       "2          [Cafe, Mexican, Italian]                        800.0        []   \n",
       "3      [South Indian, North Indian]                        300.0        []   \n",
       "4        [North Indian, Rajasthani]                        600.0        []   \n",
       "\n",
       "   ...  listed_in(city)_Lavelle Road  listed_in(city)_MG Road  \\\n",
       "0  ...                             0                        0   \n",
       "1  ...                             0                        0   \n",
       "2  ...                             0                        0   \n",
       "3  ...                             0                        0   \n",
       "4  ...                             0                        0   \n",
       "\n",
       "   listed_in(city)_Malleshwaram  listed_in(city)_Marathahalli  \\\n",
       "0                             0                             0   \n",
       "1                             0                             0   \n",
       "2                             0                             0   \n",
       "3                             0                             0   \n",
       "4                             0                             0   \n",
       "\n",
       "   listed_in(city)_New BEL Road  listed_in(city)_Old Airport Road  \\\n",
       "0                             0                                 0   \n",
       "1                             0                                 0   \n",
       "2                             0                                 0   \n",
       "3                             0                                 0   \n",
       "4                             0                                 0   \n",
       "\n",
       "   listed_in(city)_Rajajinagar  listed_in(city)_Residency Road  \\\n",
       "0                            0                               0   \n",
       "1                            0                               0   \n",
       "2                            0                               0   \n",
       "3                            0                               0   \n",
       "4                            0                               0   \n",
       "\n",
       "   listed_in(city)_Sarjapur Road  listed_in(city)_Whitefield  \n",
       "0                              0                           0  \n",
       "1                              0                           0  \n",
       "2                              0                           0  \n",
       "3                              0                           0  \n",
       "4                              0                           0  \n",
       "\n",
       "[5 rows x 50 columns]"
      ]
     },
     "execution_count": 36,
     "metadata": {},
     "output_type": "execute_result"
    }
   ],
   "source": [
    "df = pd.get_dummies(df,columns=[\"listed_in(type)\",\"listed_in(city)\"],dtype= int)\n",
    "df.head()"
   ]
  },
  {
   "cell_type": "code",
   "execution_count": 37,
   "id": "872d46d7",
   "metadata": {
    "execution": {
     "iopub.execute_input": "2022-11-22T17:26:03.491442Z",
     "iopub.status.busy": "2022-11-22T17:26:03.491012Z",
     "iopub.status.idle": "2022-11-22T17:26:03.558810Z",
     "shell.execute_reply": "2022-11-22T17:26:03.557445Z"
    },
    "papermill": {
     "duration": 0.096373,
     "end_time": "2022-11-22T17:26:03.561663",
     "exception": false,
     "start_time": "2022-11-22T17:26:03.465290",
     "status": "completed"
    },
    "scrolled": true,
    "tags": []
   },
   "outputs": [],
   "source": [
    "mlb = MultiLabelBinarizer(sparse_output=True)\n",
    "\n",
    "df = df.join(\n",
    "            pd.DataFrame.sparse.from_spmatrix(\n",
    "                mlb.fit_transform(df['rest_type']),\n",
    "                index=df.index,\n",
    "                columns=mlb.classes_))"
   ]
  },
  {
   "cell_type": "code",
   "execution_count": 38,
   "id": "b4b21ab2",
   "metadata": {
    "execution": {
     "iopub.execute_input": "2022-11-22T17:26:03.611526Z",
     "iopub.status.busy": "2022-11-22T17:26:03.611095Z",
     "iopub.status.idle": "2022-11-22T17:26:03.649410Z",
     "shell.execute_reply": "2022-11-22T17:26:03.648169Z"
    },
    "papermill": {
     "duration": 0.066001,
     "end_time": "2022-11-22T17:26:03.651984",
     "exception": false,
     "start_time": "2022-11-22T17:26:03.585983",
     "status": "completed"
    },
    "tags": []
   },
   "outputs": [
    {
     "data": {
      "text/html": [
       "<div>\n",
       "<style scoped>\n",
       "    .dataframe tbody tr th:only-of-type {\n",
       "        vertical-align: middle;\n",
       "    }\n",
       "\n",
       "    .dataframe tbody tr th {\n",
       "        vertical-align: top;\n",
       "    }\n",
       "\n",
       "    .dataframe thead th {\n",
       "        text-align: right;\n",
       "    }\n",
       "</style>\n",
       "<table border=\"1\" class=\"dataframe\">\n",
       "  <thead>\n",
       "    <tr style=\"text-align: right;\">\n",
       "      <th></th>\n",
       "      <th>online_order</th>\n",
       "      <th>book_table</th>\n",
       "      <th>rate</th>\n",
       "      <th>votes</th>\n",
       "      <th>location</th>\n",
       "      <th>rest_type</th>\n",
       "      <th>dish_liked</th>\n",
       "      <th>cuisines</th>\n",
       "      <th>approx_cost(for two people)</th>\n",
       "      <th>menu_item</th>\n",
       "      <th>...</th>\n",
       "      <th>Irani Cafee</th>\n",
       "      <th>Kiosk</th>\n",
       "      <th>Lounge</th>\n",
       "      <th>Meat Shop</th>\n",
       "      <th>Mess</th>\n",
       "      <th>Microbrewery</th>\n",
       "      <th>Pub</th>\n",
       "      <th>Quick Bites</th>\n",
       "      <th>Sweet Shop</th>\n",
       "      <th>Takeaway</th>\n",
       "    </tr>\n",
       "  </thead>\n",
       "  <tbody>\n",
       "    <tr>\n",
       "      <th>0</th>\n",
       "      <td>1</td>\n",
       "      <td>1</td>\n",
       "      <td>4.1</td>\n",
       "      <td>775</td>\n",
       "      <td>Banashankari</td>\n",
       "      <td>[Casual Dining]</td>\n",
       "      <td>Pasta, Lunch Buffet, Masala Papad, Paneer Laja...</td>\n",
       "      <td>[North Indian, Mughlai, Chinese]</td>\n",
       "      <td>800.0</td>\n",
       "      <td>[]</td>\n",
       "      <td>...</td>\n",
       "      <td>0</td>\n",
       "      <td>0</td>\n",
       "      <td>0</td>\n",
       "      <td>0</td>\n",
       "      <td>0</td>\n",
       "      <td>0</td>\n",
       "      <td>0</td>\n",
       "      <td>0</td>\n",
       "      <td>0</td>\n",
       "      <td>0</td>\n",
       "    </tr>\n",
       "    <tr>\n",
       "      <th>1</th>\n",
       "      <td>1</td>\n",
       "      <td>0</td>\n",
       "      <td>4.1</td>\n",
       "      <td>787</td>\n",
       "      <td>Banashankari</td>\n",
       "      <td>[Casual Dining]</td>\n",
       "      <td>Momos, Lunch Buffet, Chocolate Nirvana, Thai G...</td>\n",
       "      <td>[Chinese, North Indian, Thai]</td>\n",
       "      <td>800.0</td>\n",
       "      <td>[]</td>\n",
       "      <td>...</td>\n",
       "      <td>0</td>\n",
       "      <td>0</td>\n",
       "      <td>0</td>\n",
       "      <td>0</td>\n",
       "      <td>0</td>\n",
       "      <td>0</td>\n",
       "      <td>0</td>\n",
       "      <td>0</td>\n",
       "      <td>0</td>\n",
       "      <td>0</td>\n",
       "    </tr>\n",
       "    <tr>\n",
       "      <th>2</th>\n",
       "      <td>1</td>\n",
       "      <td>0</td>\n",
       "      <td>3.8</td>\n",
       "      <td>918</td>\n",
       "      <td>Banashankari</td>\n",
       "      <td>[Cafe, Casual Dining]</td>\n",
       "      <td>Churros, Cannelloni, Minestrone Soup, Hot Choc...</td>\n",
       "      <td>[Cafe, Mexican, Italian]</td>\n",
       "      <td>800.0</td>\n",
       "      <td>[]</td>\n",
       "      <td>...</td>\n",
       "      <td>0</td>\n",
       "      <td>0</td>\n",
       "      <td>0</td>\n",
       "      <td>0</td>\n",
       "      <td>0</td>\n",
       "      <td>0</td>\n",
       "      <td>0</td>\n",
       "      <td>0</td>\n",
       "      <td>0</td>\n",
       "      <td>0</td>\n",
       "    </tr>\n",
       "    <tr>\n",
       "      <th>3</th>\n",
       "      <td>0</td>\n",
       "      <td>0</td>\n",
       "      <td>3.7</td>\n",
       "      <td>88</td>\n",
       "      <td>Banashankari</td>\n",
       "      <td>[Quick Bites]</td>\n",
       "      <td>Masala Dosa</td>\n",
       "      <td>[South Indian, North Indian]</td>\n",
       "      <td>300.0</td>\n",
       "      <td>[]</td>\n",
       "      <td>...</td>\n",
       "      <td>0</td>\n",
       "      <td>0</td>\n",
       "      <td>0</td>\n",
       "      <td>0</td>\n",
       "      <td>0</td>\n",
       "      <td>0</td>\n",
       "      <td>0</td>\n",
       "      <td>1</td>\n",
       "      <td>0</td>\n",
       "      <td>0</td>\n",
       "    </tr>\n",
       "    <tr>\n",
       "      <th>4</th>\n",
       "      <td>0</td>\n",
       "      <td>0</td>\n",
       "      <td>3.8</td>\n",
       "      <td>166</td>\n",
       "      <td>Basavanagudi</td>\n",
       "      <td>[Casual Dining]</td>\n",
       "      <td>Panipuri, Gol Gappe</td>\n",
       "      <td>[North Indian, Rajasthani]</td>\n",
       "      <td>600.0</td>\n",
       "      <td>[]</td>\n",
       "      <td>...</td>\n",
       "      <td>0</td>\n",
       "      <td>0</td>\n",
       "      <td>0</td>\n",
       "      <td>0</td>\n",
       "      <td>0</td>\n",
       "      <td>0</td>\n",
       "      <td>0</td>\n",
       "      <td>0</td>\n",
       "      <td>0</td>\n",
       "      <td>0</td>\n",
       "    </tr>\n",
       "  </tbody>\n",
       "</table>\n",
       "<p>5 rows × 74 columns</p>\n",
       "</div>"
      ],
      "text/plain": [
       "   online_order  book_table  rate  votes      location              rest_type  \\\n",
       "0             1           1   4.1    775  Banashankari        [Casual Dining]   \n",
       "1             1           0   4.1    787  Banashankari        [Casual Dining]   \n",
       "2             1           0   3.8    918  Banashankari  [Cafe, Casual Dining]   \n",
       "3             0           0   3.7     88  Banashankari          [Quick Bites]   \n",
       "4             0           0   3.8    166  Basavanagudi        [Casual Dining]   \n",
       "\n",
       "                                          dish_liked  \\\n",
       "0  Pasta, Lunch Buffet, Masala Papad, Paneer Laja...   \n",
       "1  Momos, Lunch Buffet, Chocolate Nirvana, Thai G...   \n",
       "2  Churros, Cannelloni, Minestrone Soup, Hot Choc...   \n",
       "3                                        Masala Dosa   \n",
       "4                                Panipuri, Gol Gappe   \n",
       "\n",
       "                           cuisines  approx_cost(for two people) menu_item  \\\n",
       "0  [North Indian, Mughlai, Chinese]                        800.0        []   \n",
       "1     [Chinese, North Indian, Thai]                        800.0        []   \n",
       "2          [Cafe, Mexican, Italian]                        800.0        []   \n",
       "3      [South Indian, North Indian]                        300.0        []   \n",
       "4        [North Indian, Rajasthani]                        600.0        []   \n",
       "\n",
       "   ...  Irani Cafee  Kiosk  Lounge  Meat Shop  Mess  Microbrewery  Pub  \\\n",
       "0  ...            0      0       0          0     0             0    0   \n",
       "1  ...            0      0       0          0     0             0    0   \n",
       "2  ...            0      0       0          0     0             0    0   \n",
       "3  ...            0      0       0          0     0             0    0   \n",
       "4  ...            0      0       0          0     0             0    0   \n",
       "\n",
       "   Quick Bites  Sweet Shop  Takeaway  \n",
       "0            0           0         0  \n",
       "1            0           0         0  \n",
       "2            0           0         0  \n",
       "3            1           0         0  \n",
       "4            0           0         0  \n",
       "\n",
       "[5 rows x 74 columns]"
      ]
     },
     "execution_count": 38,
     "metadata": {},
     "output_type": "execute_result"
    }
   ],
   "source": [
    "df.head()"
   ]
  },
  {
   "cell_type": "code",
   "execution_count": 39,
   "id": "711481fd",
   "metadata": {
    "execution": {
     "iopub.execute_input": "2022-11-22T17:26:03.702366Z",
     "iopub.status.busy": "2022-11-22T17:26:03.701952Z",
     "iopub.status.idle": "2022-11-22T17:26:03.748246Z",
     "shell.execute_reply": "2022-11-22T17:26:03.746774Z"
    },
    "papermill": {
     "duration": 0.074227,
     "end_time": "2022-11-22T17:26:03.750757",
     "exception": false,
     "start_time": "2022-11-22T17:26:03.676530",
     "status": "completed"
    },
    "tags": []
   },
   "outputs": [
    {
     "name": "stdout",
     "output_type": "stream",
     "text": [
      "<class 'pandas.core.frame.DataFrame'>\n",
      "Int64Index: 43780 entries, 0 to 51716\n",
      "Data columns (total 74 columns):\n",
      " #   Column                                 Non-Null Count  Dtype           \n",
      "---  ------                                 --------------  -----           \n",
      " 0   online_order                           43780 non-null  int64           \n",
      " 1   book_table                             43780 non-null  int64           \n",
      " 2   rate                                   43780 non-null  float64         \n",
      " 3   votes                                  43780 non-null  int64           \n",
      " 4   location                               43780 non-null  object          \n",
      " 5   rest_type                              43780 non-null  object          \n",
      " 6   dish_liked                             23539 non-null  object          \n",
      " 7   cuisines                               43780 non-null  object          \n",
      " 8   approx_cost(for two people)            43533 non-null  float64         \n",
      " 9   menu_item                              43780 non-null  object          \n",
      " 10  numberOfCuisines                       43780 non-null  int64           \n",
      " 11  numberOfDishLiked                      23539 non-null  float64         \n",
      " 12  numberOfMenuItems                      43780 non-null  int64           \n",
      " 13  listed_in(type)_Buffet                 43780 non-null  int64           \n",
      " 14  listed_in(type)_Cafes                  43780 non-null  int64           \n",
      " 15  listed_in(type)_Delivery               43780 non-null  int64           \n",
      " 16  listed_in(type)_Desserts               43780 non-null  int64           \n",
      " 17  listed_in(type)_Dine-out               43780 non-null  int64           \n",
      " 18  listed_in(type)_Drinks & nightlife     43780 non-null  int64           \n",
      " 19  listed_in(type)_Pubs and bars          43780 non-null  int64           \n",
      " 20  listed_in(city)_BTM                    43780 non-null  int64           \n",
      " 21  listed_in(city)_Banashankari           43780 non-null  int64           \n",
      " 22  listed_in(city)_Bannerghatta Road      43780 non-null  int64           \n",
      " 23  listed_in(city)_Basavanagudi           43780 non-null  int64           \n",
      " 24  listed_in(city)_Bellandur              43780 non-null  int64           \n",
      " 25  listed_in(city)_Brigade Road           43780 non-null  int64           \n",
      " 26  listed_in(city)_Brookefield            43780 non-null  int64           \n",
      " 27  listed_in(city)_Church Street          43780 non-null  int64           \n",
      " 28  listed_in(city)_Electronic City        43780 non-null  int64           \n",
      " 29  listed_in(city)_Frazer Town            43780 non-null  int64           \n",
      " 30  listed_in(city)_HSR                    43780 non-null  int64           \n",
      " 31  listed_in(city)_Indiranagar            43780 non-null  int64           \n",
      " 32  listed_in(city)_JP Nagar               43780 non-null  int64           \n",
      " 33  listed_in(city)_Jayanagar              43780 non-null  int64           \n",
      " 34  listed_in(city)_Kalyan Nagar           43780 non-null  int64           \n",
      " 35  listed_in(city)_Kammanahalli           43780 non-null  int64           \n",
      " 36  listed_in(city)_Koramangala 4th Block  43780 non-null  int64           \n",
      " 37  listed_in(city)_Koramangala 5th Block  43780 non-null  int64           \n",
      " 38  listed_in(city)_Koramangala 6th Block  43780 non-null  int64           \n",
      " 39  listed_in(city)_Koramangala 7th Block  43780 non-null  int64           \n",
      " 40  listed_in(city)_Lavelle Road           43780 non-null  int64           \n",
      " 41  listed_in(city)_MG Road                43780 non-null  int64           \n",
      " 42  listed_in(city)_Malleshwaram           43780 non-null  int64           \n",
      " 43  listed_in(city)_Marathahalli           43780 non-null  int64           \n",
      " 44  listed_in(city)_New BEL Road           43780 non-null  int64           \n",
      " 45  listed_in(city)_Old Airport Road       43780 non-null  int64           \n",
      " 46  listed_in(city)_Rajajinagar            43780 non-null  int64           \n",
      " 47  listed_in(city)_Residency Road         43780 non-null  int64           \n",
      " 48  listed_in(city)_Sarjapur Road          43780 non-null  int64           \n",
      " 49  listed_in(city)_Whitefield             43780 non-null  int64           \n",
      " 50  Bakery                                 43780 non-null  Sparse[int64, 0]\n",
      " 51  Bar                                    43780 non-null  Sparse[int64, 0]\n",
      " 52  Beverage Shop                          43780 non-null  Sparse[int64, 0]\n",
      " 53  Bhojanalya                             43780 non-null  Sparse[int64, 0]\n",
      " 54  Cafe                                   43780 non-null  Sparse[int64, 0]\n",
      " 55  Casual Dining                          43780 non-null  Sparse[int64, 0]\n",
      " 56  Club                                   43780 non-null  Sparse[int64, 0]\n",
      " 57  Confectionery                          43780 non-null  Sparse[int64, 0]\n",
      " 58  Delivery                               43780 non-null  Sparse[int64, 0]\n",
      " 59  Dessert Parlor                         43780 non-null  Sparse[int64, 0]\n",
      " 60  Dhaba                                  43780 non-null  Sparse[int64, 0]\n",
      " 61  Fine Dining                            43780 non-null  Sparse[int64, 0]\n",
      " 62  Food Court                             43780 non-null  Sparse[int64, 0]\n",
      " 63  Food Truck                             43780 non-null  Sparse[int64, 0]\n",
      " 64  Irani Cafee                            43780 non-null  Sparse[int64, 0]\n",
      " 65  Kiosk                                  43780 non-null  Sparse[int64, 0]\n",
      " 66  Lounge                                 43780 non-null  Sparse[int64, 0]\n",
      " 67  Meat Shop                              43780 non-null  Sparse[int64, 0]\n",
      " 68  Mess                                   43780 non-null  Sparse[int64, 0]\n",
      " 69  Microbrewery                           43780 non-null  Sparse[int64, 0]\n",
      " 70  Pub                                    43780 non-null  Sparse[int64, 0]\n",
      " 71  Quick Bites                            43780 non-null  Sparse[int64, 0]\n",
      " 72  Sweet Shop                             43780 non-null  Sparse[int64, 0]\n",
      " 73  Takeaway                               43780 non-null  Sparse[int64, 0]\n",
      "dtypes: Sparse[int64, 0](24), float64(3), int64(42), object(5)\n",
      "memory usage: 18.6+ MB\n"
     ]
    }
   ],
   "source": [
    "df.info()"
   ]
  },
  {
   "cell_type": "code",
   "execution_count": 40,
   "id": "0b7153ec",
   "metadata": {
    "execution": {
     "iopub.execute_input": "2022-11-22T17:26:03.801607Z",
     "iopub.status.busy": "2022-11-22T17:26:03.801135Z",
     "iopub.status.idle": "2022-11-22T17:26:03.814755Z",
     "shell.execute_reply": "2022-11-22T17:26:03.813222Z"
    },
    "papermill": {
     "duration": 0.042648,
     "end_time": "2022-11-22T17:26:03.817776",
     "exception": false,
     "start_time": "2022-11-22T17:26:03.775128",
     "status": "completed"
    },
    "scrolled": true,
    "tags": []
   },
   "outputs": [],
   "source": [
    "for col in range(50,74):\n",
    "    suffix = df.columns[col]\n",
    "    df.rename(columns={suffix: \"rest_type_\" + str(df.columns[col])},inplace=True)"
   ]
  },
  {
   "cell_type": "code",
   "execution_count": 41,
   "id": "c3ed1e3e",
   "metadata": {
    "execution": {
     "iopub.execute_input": "2022-11-22T17:26:03.867222Z",
     "iopub.status.busy": "2022-11-22T17:26:03.866445Z",
     "iopub.status.idle": "2022-11-22T17:26:03.995593Z",
     "shell.execute_reply": "2022-11-22T17:26:03.994214Z"
    },
    "papermill": {
     "duration": 0.157162,
     "end_time": "2022-11-22T17:26:03.998587",
     "exception": false,
     "start_time": "2022-11-22T17:26:03.841425",
     "status": "completed"
    },
    "tags": []
   },
   "outputs": [
    {
     "data": {
      "text/html": [
       "<div>\n",
       "<style scoped>\n",
       "    .dataframe tbody tr th:only-of-type {\n",
       "        vertical-align: middle;\n",
       "    }\n",
       "\n",
       "    .dataframe tbody tr th {\n",
       "        vertical-align: top;\n",
       "    }\n",
       "\n",
       "    .dataframe thead th {\n",
       "        text-align: right;\n",
       "    }\n",
       "</style>\n",
       "<table border=\"1\" class=\"dataframe\">\n",
       "  <thead>\n",
       "    <tr style=\"text-align: right;\">\n",
       "      <th></th>\n",
       "      <th>online_order</th>\n",
       "      <th>book_table</th>\n",
       "      <th>rate</th>\n",
       "      <th>votes</th>\n",
       "      <th>location</th>\n",
       "      <th>rest_type</th>\n",
       "      <th>dish_liked</th>\n",
       "      <th>cuisines</th>\n",
       "      <th>approx_cost(for two people)</th>\n",
       "      <th>menu_item</th>\n",
       "      <th>...</th>\n",
       "      <th>Sushi</th>\n",
       "      <th>Tamil</th>\n",
       "      <th>Tea</th>\n",
       "      <th>Tex-Mex</th>\n",
       "      <th>Thai</th>\n",
       "      <th>Tibetan</th>\n",
       "      <th>Turkish</th>\n",
       "      <th>Vegan</th>\n",
       "      <th>Vietnamese</th>\n",
       "      <th>Wraps</th>\n",
       "    </tr>\n",
       "  </thead>\n",
       "  <tbody>\n",
       "    <tr>\n",
       "      <th>0</th>\n",
       "      <td>1</td>\n",
       "      <td>1</td>\n",
       "      <td>4.1</td>\n",
       "      <td>775</td>\n",
       "      <td>Banashankari</td>\n",
       "      <td>[Casual Dining]</td>\n",
       "      <td>Pasta, Lunch Buffet, Masala Papad, Paneer Laja...</td>\n",
       "      <td>[North Indian, Mughlai, Chinese]</td>\n",
       "      <td>800.0</td>\n",
       "      <td>[]</td>\n",
       "      <td>...</td>\n",
       "      <td>0</td>\n",
       "      <td>0</td>\n",
       "      <td>0</td>\n",
       "      <td>0</td>\n",
       "      <td>0</td>\n",
       "      <td>0</td>\n",
       "      <td>0</td>\n",
       "      <td>0</td>\n",
       "      <td>0</td>\n",
       "      <td>0</td>\n",
       "    </tr>\n",
       "    <tr>\n",
       "      <th>1</th>\n",
       "      <td>1</td>\n",
       "      <td>0</td>\n",
       "      <td>4.1</td>\n",
       "      <td>787</td>\n",
       "      <td>Banashankari</td>\n",
       "      <td>[Casual Dining]</td>\n",
       "      <td>Momos, Lunch Buffet, Chocolate Nirvana, Thai G...</td>\n",
       "      <td>[Chinese, North Indian, Thai]</td>\n",
       "      <td>800.0</td>\n",
       "      <td>[]</td>\n",
       "      <td>...</td>\n",
       "      <td>0</td>\n",
       "      <td>0</td>\n",
       "      <td>0</td>\n",
       "      <td>0</td>\n",
       "      <td>1</td>\n",
       "      <td>0</td>\n",
       "      <td>0</td>\n",
       "      <td>0</td>\n",
       "      <td>0</td>\n",
       "      <td>0</td>\n",
       "    </tr>\n",
       "    <tr>\n",
       "      <th>2</th>\n",
       "      <td>1</td>\n",
       "      <td>0</td>\n",
       "      <td>3.8</td>\n",
       "      <td>918</td>\n",
       "      <td>Banashankari</td>\n",
       "      <td>[Cafe, Casual Dining]</td>\n",
       "      <td>Churros, Cannelloni, Minestrone Soup, Hot Choc...</td>\n",
       "      <td>[Cafe, Mexican, Italian]</td>\n",
       "      <td>800.0</td>\n",
       "      <td>[]</td>\n",
       "      <td>...</td>\n",
       "      <td>0</td>\n",
       "      <td>0</td>\n",
       "      <td>0</td>\n",
       "      <td>0</td>\n",
       "      <td>0</td>\n",
       "      <td>0</td>\n",
       "      <td>0</td>\n",
       "      <td>0</td>\n",
       "      <td>0</td>\n",
       "      <td>0</td>\n",
       "    </tr>\n",
       "    <tr>\n",
       "      <th>3</th>\n",
       "      <td>0</td>\n",
       "      <td>0</td>\n",
       "      <td>3.7</td>\n",
       "      <td>88</td>\n",
       "      <td>Banashankari</td>\n",
       "      <td>[Quick Bites]</td>\n",
       "      <td>Masala Dosa</td>\n",
       "      <td>[South Indian, North Indian]</td>\n",
       "      <td>300.0</td>\n",
       "      <td>[]</td>\n",
       "      <td>...</td>\n",
       "      <td>0</td>\n",
       "      <td>0</td>\n",
       "      <td>0</td>\n",
       "      <td>0</td>\n",
       "      <td>0</td>\n",
       "      <td>0</td>\n",
       "      <td>0</td>\n",
       "      <td>0</td>\n",
       "      <td>0</td>\n",
       "      <td>0</td>\n",
       "    </tr>\n",
       "    <tr>\n",
       "      <th>4</th>\n",
       "      <td>0</td>\n",
       "      <td>0</td>\n",
       "      <td>3.8</td>\n",
       "      <td>166</td>\n",
       "      <td>Basavanagudi</td>\n",
       "      <td>[Casual Dining]</td>\n",
       "      <td>Panipuri, Gol Gappe</td>\n",
       "      <td>[North Indian, Rajasthani]</td>\n",
       "      <td>600.0</td>\n",
       "      <td>[]</td>\n",
       "      <td>...</td>\n",
       "      <td>0</td>\n",
       "      <td>0</td>\n",
       "      <td>0</td>\n",
       "      <td>0</td>\n",
       "      <td>0</td>\n",
       "      <td>0</td>\n",
       "      <td>0</td>\n",
       "      <td>0</td>\n",
       "      <td>0</td>\n",
       "      <td>0</td>\n",
       "    </tr>\n",
       "  </tbody>\n",
       "</table>\n",
       "<p>5 rows × 180 columns</p>\n",
       "</div>"
      ],
      "text/plain": [
       "   online_order  book_table  rate  votes      location              rest_type  \\\n",
       "0             1           1   4.1    775  Banashankari        [Casual Dining]   \n",
       "1             1           0   4.1    787  Banashankari        [Casual Dining]   \n",
       "2             1           0   3.8    918  Banashankari  [Cafe, Casual Dining]   \n",
       "3             0           0   3.7     88  Banashankari          [Quick Bites]   \n",
       "4             0           0   3.8    166  Basavanagudi        [Casual Dining]   \n",
       "\n",
       "                                          dish_liked  \\\n",
       "0  Pasta, Lunch Buffet, Masala Papad, Paneer Laja...   \n",
       "1  Momos, Lunch Buffet, Chocolate Nirvana, Thai G...   \n",
       "2  Churros, Cannelloni, Minestrone Soup, Hot Choc...   \n",
       "3                                        Masala Dosa   \n",
       "4                                Panipuri, Gol Gappe   \n",
       "\n",
       "                           cuisines  approx_cost(for two people) menu_item  \\\n",
       "0  [North Indian, Mughlai, Chinese]                        800.0        []   \n",
       "1     [Chinese, North Indian, Thai]                        800.0        []   \n",
       "2          [Cafe, Mexican, Italian]                        800.0        []   \n",
       "3      [South Indian, North Indian]                        300.0        []   \n",
       "4        [North Indian, Rajasthani]                        600.0        []   \n",
       "\n",
       "   ...  Sushi  Tamil  Tea  Tex-Mex  Thai  Tibetan  Turkish  Vegan  Vietnamese  \\\n",
       "0  ...      0      0    0        0     0        0        0      0           0   \n",
       "1  ...      0      0    0        0     1        0        0      0           0   \n",
       "2  ...      0      0    0        0     0        0        0      0           0   \n",
       "3  ...      0      0    0        0     0        0        0      0           0   \n",
       "4  ...      0      0    0        0     0        0        0      0           0   \n",
       "\n",
       "   Wraps  \n",
       "0      0  \n",
       "1      0  \n",
       "2      0  \n",
       "3      0  \n",
       "4      0  \n",
       "\n",
       "[5 rows x 180 columns]"
      ]
     },
     "execution_count": 41,
     "metadata": {},
     "output_type": "execute_result"
    }
   ],
   "source": [
    "mlb = MultiLabelBinarizer(sparse_output=True)\n",
    "df = df.join(\n",
    "            pd.DataFrame.sparse.from_spmatrix(\n",
    "                mlb.fit_transform(df['cuisines']),\n",
    "                index=df.index,\n",
    "                columns=mlb.classes_))\n",
    "df.head()"
   ]
  },
  {
   "cell_type": "code",
   "execution_count": 42,
   "id": "e684b324",
   "metadata": {
    "execution": {
     "iopub.execute_input": "2022-11-22T17:26:04.050079Z",
     "iopub.status.busy": "2022-11-22T17:26:04.049262Z",
     "iopub.status.idle": "2022-11-22T17:26:04.070041Z",
     "shell.execute_reply": "2022-11-22T17:26:04.068330Z"
    },
    "papermill": {
     "duration": 0.050469,
     "end_time": "2022-11-22T17:26:04.073539",
     "exception": false,
     "start_time": "2022-11-22T17:26:04.023070",
     "status": "completed"
    },
    "tags": []
   },
   "outputs": [
    {
     "name": "stdout",
     "output_type": "stream",
     "text": [
      "<class 'pandas.core.frame.DataFrame'>\n",
      "Int64Index: 43780 entries, 0 to 51716\n",
      "Columns: 180 entries, online_order to Wraps\n",
      "dtypes: Sparse[int64, 0](130), float64(3), int64(42), object(5)\n",
      "memory usage: 19.9+ MB\n"
     ]
    }
   ],
   "source": [
    "df.info()"
   ]
  },
  {
   "cell_type": "code",
   "execution_count": 43,
   "id": "cf72c93d",
   "metadata": {
    "execution": {
     "iopub.execute_input": "2022-11-22T17:26:04.124247Z",
     "iopub.status.busy": "2022-11-22T17:26:04.123848Z",
     "iopub.status.idle": "2022-11-22T17:26:04.166909Z",
     "shell.execute_reply": "2022-11-22T17:26:04.165710Z"
    },
    "papermill": {
     "duration": 0.070692,
     "end_time": "2022-11-22T17:26:04.169209",
     "exception": false,
     "start_time": "2022-11-22T17:26:04.098517",
     "status": "completed"
    },
    "tags": []
   },
   "outputs": [],
   "source": [
    "for col in range(74,180):\n",
    "    suffix = df.columns[col]\n",
    "    df.rename(columns={suffix: \"cuisines_\" + str(df.columns[col])},inplace=True)"
   ]
  },
  {
   "cell_type": "code",
   "execution_count": 44,
   "id": "e0d1cdad",
   "metadata": {
    "execution": {
     "iopub.execute_input": "2022-11-22T17:26:04.222726Z",
     "iopub.status.busy": "2022-11-22T17:26:04.222300Z",
     "iopub.status.idle": "2022-11-22T17:26:04.230010Z",
     "shell.execute_reply": "2022-11-22T17:26:04.228214Z"
    },
    "papermill": {
     "duration": 0.038617,
     "end_time": "2022-11-22T17:26:04.233122",
     "exception": false,
     "start_time": "2022-11-22T17:26:04.194505",
     "status": "completed"
    },
    "tags": []
   },
   "outputs": [
    {
     "name": "stdout",
     "output_type": "stream",
     "text": [
      "online_order\n",
      "book_table\n",
      "rate\n",
      "votes\n",
      "location\n",
      "rest_type\n",
      "dish_liked\n",
      "cuisines\n",
      "approx_cost(for two people)\n",
      "menu_item\n",
      "numberOfCuisines\n",
      "numberOfDishLiked\n",
      "numberOfMenuItems\n",
      "listed_in(type)_Buffet\n",
      "listed_in(type)_Cafes\n",
      "listed_in(type)_Delivery\n",
      "listed_in(type)_Desserts\n",
      "listed_in(type)_Dine-out\n",
      "listed_in(type)_Drinks & nightlife\n",
      "listed_in(type)_Pubs and bars\n",
      "listed_in(city)_BTM\n",
      "listed_in(city)_Banashankari\n",
      "listed_in(city)_Bannerghatta Road\n",
      "listed_in(city)_Basavanagudi\n",
      "listed_in(city)_Bellandur\n",
      "listed_in(city)_Brigade Road\n",
      "listed_in(city)_Brookefield\n",
      "listed_in(city)_Church Street\n",
      "listed_in(city)_Electronic City\n",
      "listed_in(city)_Frazer Town\n",
      "listed_in(city)_HSR\n",
      "listed_in(city)_Indiranagar\n",
      "listed_in(city)_JP Nagar\n",
      "listed_in(city)_Jayanagar\n",
      "listed_in(city)_Kalyan Nagar\n",
      "listed_in(city)_Kammanahalli\n",
      "listed_in(city)_Koramangala 4th Block\n",
      "listed_in(city)_Koramangala 5th Block\n",
      "listed_in(city)_Koramangala 6th Block\n",
      "listed_in(city)_Koramangala 7th Block\n",
      "listed_in(city)_Lavelle Road\n",
      "listed_in(city)_MG Road\n",
      "listed_in(city)_Malleshwaram\n",
      "listed_in(city)_Marathahalli\n",
      "listed_in(city)_New BEL Road\n",
      "listed_in(city)_Old Airport Road\n",
      "listed_in(city)_Rajajinagar\n",
      "listed_in(city)_Residency Road\n",
      "listed_in(city)_Sarjapur Road\n",
      "listed_in(city)_Whitefield\n",
      "rest_type_Bakery\n",
      "rest_type_Bar\n",
      "rest_type_Beverage Shop\n",
      "rest_type_Bhojanalya\n",
      "rest_type_Cafe\n",
      "rest_type_Casual Dining\n",
      "rest_type_Club\n",
      "rest_type_Confectionery\n",
      "rest_type_Delivery\n",
      "rest_type_Dessert Parlor\n",
      "rest_type_Dhaba\n",
      "rest_type_Fine Dining\n",
      "rest_type_Food Court\n",
      "rest_type_Food Truck\n",
      "rest_type_Irani Cafee\n",
      "rest_type_Kiosk\n",
      "rest_type_Lounge\n",
      "rest_type_Meat Shop\n",
      "rest_type_Mess\n",
      "rest_type_Microbrewery\n",
      "rest_type_Pub\n",
      "rest_type_Quick Bites\n",
      "rest_type_Sweet Shop\n",
      "rest_type_Takeaway\n",
      "cuisines_Afghan\n",
      "cuisines_Afghani\n",
      "cuisines_African\n",
      "cuisines_American\n",
      "cuisines_Andhra\n",
      "cuisines_Arabian\n",
      "cuisines_Asian\n",
      "cuisines_Assamese\n",
      "cuisines_Australian\n",
      "cuisines_Awadhi\n",
      "cuisines_BBQ\n",
      "cuisines_Bakery\n",
      "cuisines_Bar Food\n",
      "cuisines_Belgian\n",
      "cuisines_Bengali\n",
      "cuisines_Beverages\n",
      "cuisines_Bihari\n",
      "cuisines_Biryani\n",
      "cuisines_Bohri\n",
      "cuisines_British\n",
      "cuisines_Bubble Tea\n",
      "cuisines_Burger\n",
      "cuisines_Burmese\n",
      "cuisines_Cafe\n",
      "cuisines_Cantonese\n",
      "cuisines_Charcoal Chicken\n",
      "cuisines_Chettinad\n",
      "cuisines_Chinese\n",
      "cuisines_Coffee\n",
      "cuisines_Continental\n",
      "cuisines_Desserts\n",
      "cuisines_Drinks Only\n",
      "cuisines_European\n",
      "cuisines_Fast Food\n",
      "cuisines_Finger Food\n",
      "cuisines_French\n",
      "cuisines_German\n",
      "cuisines_Goan\n",
      "cuisines_Greek\n",
      "cuisines_Grill\n",
      "cuisines_Gujarati\n",
      "cuisines_Healthy Food\n",
      "cuisines_Hot dogs\n",
      "cuisines_Hyderabadi\n",
      "cuisines_Ice Cream\n",
      "cuisines_Indian\n",
      "cuisines_Indonesian\n",
      "cuisines_Iranian\n",
      "cuisines_Italian\n",
      "cuisines_Japanese\n",
      "cuisines_Jewish\n",
      "cuisines_Juices\n",
      "cuisines_Kashmiri\n",
      "cuisines_Kebab\n",
      "cuisines_Kerala\n",
      "cuisines_Konkan\n",
      "cuisines_Korean\n",
      "cuisines_Lebanese\n",
      "cuisines_Lucknowi\n",
      "cuisines_Maharashtrian\n",
      "cuisines_Malaysian\n",
      "cuisines_Mangalorean\n",
      "cuisines_Mediterranean\n",
      "cuisines_Mexican\n",
      "cuisines_Middle Eastern\n",
      "cuisines_Mithai\n",
      "cuisines_Modern Indian\n",
      "cuisines_Momos\n",
      "cuisines_Mongolian\n",
      "cuisines_Mughlai\n",
      "cuisines_Naga\n",
      "cuisines_Nepalese\n",
      "cuisines_North Eastern\n",
      "cuisines_North Indian\n",
      "cuisines_Oriya\n",
      "cuisines_Paan\n",
      "cuisines_Pan Asian\n",
      "cuisines_Parsi\n",
      "cuisines_Pizza\n",
      "cuisines_Portuguese\n",
      "cuisines_Rajasthani\n",
      "cuisines_Raw Meats\n",
      "cuisines_Roast Chicken\n",
      "cuisines_Rolls\n",
      "cuisines_Russian\n",
      "cuisines_Salad\n",
      "cuisines_Sandwich\n",
      "cuisines_Seafood\n",
      "cuisines_Sindhi\n",
      "cuisines_Singaporean\n",
      "cuisines_South American\n",
      "cuisines_South Indian\n",
      "cuisines_Spanish\n",
      "cuisines_Sri Lankan\n",
      "cuisines_Steak\n",
      "cuisines_Street Food\n",
      "cuisines_Sushi\n",
      "cuisines_Tamil\n",
      "cuisines_Tea\n",
      "cuisines_Tex-Mex\n",
      "cuisines_Thai\n",
      "cuisines_Tibetan\n",
      "cuisines_Turkish\n",
      "cuisines_Vegan\n",
      "cuisines_Vietnamese\n",
      "cuisines_Wraps\n"
     ]
    }
   ],
   "source": [
    "for col in df.columns:\n",
    "    print(col)"
   ]
  },
  {
   "cell_type": "markdown",
   "id": "0f0ddbfc",
   "metadata": {
    "papermill": {
     "duration": 0.024296,
     "end_time": "2022-11-22T17:26:04.283260",
     "exception": false,
     "start_time": "2022-11-22T17:26:04.258964",
     "status": "completed"
    },
    "tags": []
   },
   "source": [
    "now we can drop menu item column since we won't need it later on"
   ]
  },
  {
   "cell_type": "code",
   "execution_count": 45,
   "id": "cdc3dc01",
   "metadata": {
    "execution": {
     "iopub.execute_input": "2022-11-22T17:26:04.335480Z",
     "iopub.status.busy": "2022-11-22T17:26:04.334489Z",
     "iopub.status.idle": "2022-11-22T17:26:04.380464Z",
     "shell.execute_reply": "2022-11-22T17:26:04.379260Z"
    },
    "papermill": {
     "duration": 0.075429,
     "end_time": "2022-11-22T17:26:04.383266",
     "exception": false,
     "start_time": "2022-11-22T17:26:04.307837",
     "status": "completed"
    },
    "tags": []
   },
   "outputs": [],
   "source": [
    "df.drop([\"menu_item\"],axis=1, inplace= True)"
   ]
  },
  {
   "cell_type": "code",
   "execution_count": 46,
   "id": "8aa6085c",
   "metadata": {
    "execution": {
     "iopub.execute_input": "2022-11-22T17:26:04.434238Z",
     "iopub.status.busy": "2022-11-22T17:26:04.433840Z",
     "iopub.status.idle": "2022-11-22T17:26:04.446133Z",
     "shell.execute_reply": "2022-11-22T17:26:04.445019Z"
    },
    "papermill": {
     "duration": 0.041002,
     "end_time": "2022-11-22T17:26:04.448732",
     "exception": false,
     "start_time": "2022-11-22T17:26:04.407730",
     "status": "completed"
    },
    "tags": []
   },
   "outputs": [],
   "source": [
    "imputer = SimpleImputer(strategy ='mean')\n",
    "df[[\"approx_cost(for two people)\"]] = imputer.fit_transform(df[[\"approx_cost(for two people)\"]])"
   ]
  },
  {
   "cell_type": "code",
   "execution_count": 47,
   "id": "8adeb2c2",
   "metadata": {
    "execution": {
     "iopub.execute_input": "2022-11-22T17:26:04.502092Z",
     "iopub.status.busy": "2022-11-22T17:26:04.501687Z",
     "iopub.status.idle": "2022-11-22T17:26:04.536723Z",
     "shell.execute_reply": "2022-11-22T17:26:04.535434Z"
    },
    "papermill": {
     "duration": 0.065491,
     "end_time": "2022-11-22T17:26:04.539396",
     "exception": false,
     "start_time": "2022-11-22T17:26:04.473905",
     "status": "completed"
    },
    "tags": []
   },
   "outputs": [
    {
     "data": {
      "text/plain": [
       "online_order           0\n",
       "book_table             0\n",
       "rate                   0\n",
       "votes                  0\n",
       "location               0\n",
       "                      ..\n",
       "cuisines_Tibetan       0\n",
       "cuisines_Turkish       0\n",
       "cuisines_Vegan         0\n",
       "cuisines_Vietnamese    0\n",
       "cuisines_Wraps         0\n",
       "Length: 179, dtype: int64"
      ]
     },
     "execution_count": 47,
     "metadata": {},
     "output_type": "execute_result"
    }
   ],
   "source": [
    "df.isna().sum()"
   ]
  },
  {
   "cell_type": "code",
   "execution_count": 48,
   "id": "0e2602e8",
   "metadata": {
    "execution": {
     "iopub.execute_input": "2022-11-22T17:26:04.593124Z",
     "iopub.status.busy": "2022-11-22T17:26:04.592718Z",
     "iopub.status.idle": "2022-11-22T17:26:04.615324Z",
     "shell.execute_reply": "2022-11-22T17:26:04.613373Z"
    },
    "papermill": {
     "duration": 0.053052,
     "end_time": "2022-11-22T17:26:04.618728",
     "exception": false,
     "start_time": "2022-11-22T17:26:04.565676",
     "status": "completed"
    },
    "tags": []
   },
   "outputs": [
    {
     "name": "stderr",
     "output_type": "stream",
     "text": [
      "/opt/conda/lib/python3.7/site-packages/ipykernel_launcher.py:1: PerformanceWarning: DataFrame is highly fragmented.  This is usually the result of calling `frame.insert` many times, which has poor performance.  Consider joining all columns at once using pd.concat(axis=1) instead.  To get a de-fragmented frame, use `newframe = frame.copy()`\n",
      "  \"\"\"Entry point for launching an IPython kernel.\n"
     ]
    }
   ],
   "source": [
    "df[\"rating_status\"] = df[\"rate\"].apply(lambda rate: getRateName(rate))"
   ]
  },
  {
   "cell_type": "code",
   "execution_count": 49,
   "id": "915053ef",
   "metadata": {
    "execution": {
     "iopub.execute_input": "2022-11-22T17:26:04.673921Z",
     "iopub.status.busy": "2022-11-22T17:26:04.673531Z",
     "iopub.status.idle": "2022-11-22T17:26:04.696080Z",
     "shell.execute_reply": "2022-11-22T17:26:04.695092Z"
    },
    "papermill": {
     "duration": 0.052561,
     "end_time": "2022-11-22T17:26:04.698790",
     "exception": false,
     "start_time": "2022-11-22T17:26:04.646229",
     "status": "completed"
    },
    "tags": []
   },
   "outputs": [],
   "source": [
    "df_corr[\"rating_status\"] = df_corr[\"rate\"].apply(lambda rate: getRateName(rate))"
   ]
  },
  {
   "cell_type": "code",
   "execution_count": 50,
   "id": "ae528ac9",
   "metadata": {
    "execution": {
     "iopub.execute_input": "2022-11-22T17:26:04.753262Z",
     "iopub.status.busy": "2022-11-22T17:26:04.752066Z",
     "iopub.status.idle": "2022-11-22T17:26:04.802696Z",
     "shell.execute_reply": "2022-11-22T17:26:04.801770Z"
    },
    "papermill": {
     "duration": 0.080512,
     "end_time": "2022-11-22T17:26:04.804974",
     "exception": false,
     "start_time": "2022-11-22T17:26:04.724462",
     "status": "completed"
    },
    "scrolled": true,
    "tags": []
   },
   "outputs": [
    {
     "data": {
      "text/html": [
       "<div>\n",
       "<style scoped>\n",
       "    .dataframe tbody tr th:only-of-type {\n",
       "        vertical-align: middle;\n",
       "    }\n",
       "\n",
       "    .dataframe tbody tr th {\n",
       "        vertical-align: top;\n",
       "    }\n",
       "\n",
       "    .dataframe thead th {\n",
       "        text-align: right;\n",
       "    }\n",
       "</style>\n",
       "<table border=\"1\" class=\"dataframe\">\n",
       "  <thead>\n",
       "    <tr style=\"text-align: right;\">\n",
       "      <th></th>\n",
       "      <th>online_order</th>\n",
       "      <th>book_table</th>\n",
       "      <th>rate</th>\n",
       "      <th>votes</th>\n",
       "      <th>location</th>\n",
       "      <th>rest_type</th>\n",
       "      <th>dish_liked</th>\n",
       "      <th>cuisines</th>\n",
       "      <th>approx_cost(for two people)</th>\n",
       "      <th>numberOfCuisines</th>\n",
       "      <th>...</th>\n",
       "      <th>cuisines_Tamil</th>\n",
       "      <th>cuisines_Tea</th>\n",
       "      <th>cuisines_Tex-Mex</th>\n",
       "      <th>cuisines_Thai</th>\n",
       "      <th>cuisines_Tibetan</th>\n",
       "      <th>cuisines_Turkish</th>\n",
       "      <th>cuisines_Vegan</th>\n",
       "      <th>cuisines_Vietnamese</th>\n",
       "      <th>cuisines_Wraps</th>\n",
       "      <th>rating_status</th>\n",
       "    </tr>\n",
       "  </thead>\n",
       "  <tbody>\n",
       "    <tr>\n",
       "      <th>0</th>\n",
       "      <td>1</td>\n",
       "      <td>1</td>\n",
       "      <td>4.1</td>\n",
       "      <td>775</td>\n",
       "      <td>Banashankari</td>\n",
       "      <td>[Casual Dining]</td>\n",
       "      <td>Pasta, Lunch Buffet, Masala Papad, Paneer Laja...</td>\n",
       "      <td>[North Indian, Mughlai, Chinese]</td>\n",
       "      <td>800.0</td>\n",
       "      <td>3</td>\n",
       "      <td>...</td>\n",
       "      <td>0</td>\n",
       "      <td>0</td>\n",
       "      <td>0</td>\n",
       "      <td>0</td>\n",
       "      <td>0</td>\n",
       "      <td>0</td>\n",
       "      <td>0</td>\n",
       "      <td>0</td>\n",
       "      <td>0</td>\n",
       "      <td>successful</td>\n",
       "    </tr>\n",
       "    <tr>\n",
       "      <th>1</th>\n",
       "      <td>1</td>\n",
       "      <td>0</td>\n",
       "      <td>4.1</td>\n",
       "      <td>787</td>\n",
       "      <td>Banashankari</td>\n",
       "      <td>[Casual Dining]</td>\n",
       "      <td>Momos, Lunch Buffet, Chocolate Nirvana, Thai G...</td>\n",
       "      <td>[Chinese, North Indian, Thai]</td>\n",
       "      <td>800.0</td>\n",
       "      <td>3</td>\n",
       "      <td>...</td>\n",
       "      <td>0</td>\n",
       "      <td>0</td>\n",
       "      <td>0</td>\n",
       "      <td>1</td>\n",
       "      <td>0</td>\n",
       "      <td>0</td>\n",
       "      <td>0</td>\n",
       "      <td>0</td>\n",
       "      <td>0</td>\n",
       "      <td>successful</td>\n",
       "    </tr>\n",
       "    <tr>\n",
       "      <th>2</th>\n",
       "      <td>1</td>\n",
       "      <td>0</td>\n",
       "      <td>3.8</td>\n",
       "      <td>918</td>\n",
       "      <td>Banashankari</td>\n",
       "      <td>[Cafe, Casual Dining]</td>\n",
       "      <td>Churros, Cannelloni, Minestrone Soup, Hot Choc...</td>\n",
       "      <td>[Cafe, Mexican, Italian]</td>\n",
       "      <td>800.0</td>\n",
       "      <td>3</td>\n",
       "      <td>...</td>\n",
       "      <td>0</td>\n",
       "      <td>0</td>\n",
       "      <td>0</td>\n",
       "      <td>0</td>\n",
       "      <td>0</td>\n",
       "      <td>0</td>\n",
       "      <td>0</td>\n",
       "      <td>0</td>\n",
       "      <td>0</td>\n",
       "      <td>successful</td>\n",
       "    </tr>\n",
       "    <tr>\n",
       "      <th>3</th>\n",
       "      <td>0</td>\n",
       "      <td>0</td>\n",
       "      <td>3.7</td>\n",
       "      <td>88</td>\n",
       "      <td>Banashankari</td>\n",
       "      <td>[Quick Bites]</td>\n",
       "      <td>Masala Dosa</td>\n",
       "      <td>[South Indian, North Indian]</td>\n",
       "      <td>300.0</td>\n",
       "      <td>2</td>\n",
       "      <td>...</td>\n",
       "      <td>0</td>\n",
       "      <td>0</td>\n",
       "      <td>0</td>\n",
       "      <td>0</td>\n",
       "      <td>0</td>\n",
       "      <td>0</td>\n",
       "      <td>0</td>\n",
       "      <td>0</td>\n",
       "      <td>0</td>\n",
       "      <td>not successful</td>\n",
       "    </tr>\n",
       "    <tr>\n",
       "      <th>4</th>\n",
       "      <td>0</td>\n",
       "      <td>0</td>\n",
       "      <td>3.8</td>\n",
       "      <td>166</td>\n",
       "      <td>Basavanagudi</td>\n",
       "      <td>[Casual Dining]</td>\n",
       "      <td>Panipuri, Gol Gappe</td>\n",
       "      <td>[North Indian, Rajasthani]</td>\n",
       "      <td>600.0</td>\n",
       "      <td>2</td>\n",
       "      <td>...</td>\n",
       "      <td>0</td>\n",
       "      <td>0</td>\n",
       "      <td>0</td>\n",
       "      <td>0</td>\n",
       "      <td>0</td>\n",
       "      <td>0</td>\n",
       "      <td>0</td>\n",
       "      <td>0</td>\n",
       "      <td>0</td>\n",
       "      <td>successful</td>\n",
       "    </tr>\n",
       "  </tbody>\n",
       "</table>\n",
       "<p>5 rows × 180 columns</p>\n",
       "</div>"
      ],
      "text/plain": [
       "   online_order  book_table  rate  votes      location              rest_type  \\\n",
       "0             1           1   4.1    775  Banashankari        [Casual Dining]   \n",
       "1             1           0   4.1    787  Banashankari        [Casual Dining]   \n",
       "2             1           0   3.8    918  Banashankari  [Cafe, Casual Dining]   \n",
       "3             0           0   3.7     88  Banashankari          [Quick Bites]   \n",
       "4             0           0   3.8    166  Basavanagudi        [Casual Dining]   \n",
       "\n",
       "                                          dish_liked  \\\n",
       "0  Pasta, Lunch Buffet, Masala Papad, Paneer Laja...   \n",
       "1  Momos, Lunch Buffet, Chocolate Nirvana, Thai G...   \n",
       "2  Churros, Cannelloni, Minestrone Soup, Hot Choc...   \n",
       "3                                        Masala Dosa   \n",
       "4                                Panipuri, Gol Gappe   \n",
       "\n",
       "                           cuisines  approx_cost(for two people)  \\\n",
       "0  [North Indian, Mughlai, Chinese]                        800.0   \n",
       "1     [Chinese, North Indian, Thai]                        800.0   \n",
       "2          [Cafe, Mexican, Italian]                        800.0   \n",
       "3      [South Indian, North Indian]                        300.0   \n",
       "4        [North Indian, Rajasthani]                        600.0   \n",
       "\n",
       "   numberOfCuisines  ...  cuisines_Tamil  cuisines_Tea  cuisines_Tex-Mex  \\\n",
       "0                 3  ...               0             0                 0   \n",
       "1                 3  ...               0             0                 0   \n",
       "2                 3  ...               0             0                 0   \n",
       "3                 2  ...               0             0                 0   \n",
       "4                 2  ...               0             0                 0   \n",
       "\n",
       "   cuisines_Thai  cuisines_Tibetan  cuisines_Turkish  cuisines_Vegan  \\\n",
       "0              0                 0                 0               0   \n",
       "1              1                 0                 0               0   \n",
       "2              0                 0                 0               0   \n",
       "3              0                 0                 0               0   \n",
       "4              0                 0                 0               0   \n",
       "\n",
       "   cuisines_Vietnamese  cuisines_Wraps   rating_status  \n",
       "0                    0               0      successful  \n",
       "1                    0               0      successful  \n",
       "2                    0               0      successful  \n",
       "3                    0               0  not successful  \n",
       "4                    0               0      successful  \n",
       "\n",
       "[5 rows x 180 columns]"
      ]
     },
     "execution_count": 50,
     "metadata": {},
     "output_type": "execute_result"
    }
   ],
   "source": [
    "df.head()"
   ]
  },
  {
   "cell_type": "code",
   "execution_count": 51,
   "id": "6acddbb8",
   "metadata": {
    "execution": {
     "iopub.execute_input": "2022-11-22T17:26:04.861853Z",
     "iopub.status.busy": "2022-11-22T17:26:04.860690Z",
     "iopub.status.idle": "2022-11-22T17:26:04.896917Z",
     "shell.execute_reply": "2022-11-22T17:26:04.895650Z"
    },
    "papermill": {
     "duration": 0.067538,
     "end_time": "2022-11-22T17:26:04.899559",
     "exception": false,
     "start_time": "2022-11-22T17:26:04.832021",
     "status": "completed"
    },
    "tags": []
   },
   "outputs": [
    {
     "data": {
      "text/plain": [
       "online_order           0\n",
       "book_table             0\n",
       "rate                   0\n",
       "votes                  0\n",
       "location               0\n",
       "                      ..\n",
       "cuisines_Turkish       0\n",
       "cuisines_Vegan         0\n",
       "cuisines_Vietnamese    0\n",
       "cuisines_Wraps         0\n",
       "rating_status          0\n",
       "Length: 180, dtype: int64"
      ]
     },
     "execution_count": 51,
     "metadata": {},
     "output_type": "execute_result"
    }
   ],
   "source": [
    "df.isnull().sum()"
   ]
  },
  {
   "cell_type": "markdown",
   "id": "02f277be",
   "metadata": {
    "papermill": {
     "duration": 0.025385,
     "end_time": "2022-11-22T17:26:04.950963",
     "exception": false,
     "start_time": "2022-11-22T17:26:04.925578",
     "status": "completed"
    },
    "tags": []
   },
   "source": [
    "<a id='eda'></a>\n",
    "## Exploratory Data Analysis"
   ]
  },
  {
   "cell_type": "markdown",
   "id": "f5ef4298",
   "metadata": {
    "papermill": {
     "duration": 0.026361,
     "end_time": "2022-11-22T17:26:05.002572",
     "exception": false,
     "start_time": "2022-11-22T17:26:04.976211",
     "status": "completed"
    },
    "tags": []
   },
   "source": [
    "#### CORRELATION BETWEEN FEATURES\n"
   ]
  },
  {
   "cell_type": "markdown",
   "id": "fe670335",
   "metadata": {
    "papermill": {
     "duration": 0.025383,
     "end_time": "2022-11-22T17:26:05.053499",
     "exception": false,
     "start_time": "2022-11-22T17:26:05.028116",
     "status": "completed"
    },
    "tags": []
   },
   "source": [
    "Following heatmap shows correlation values between features."
   ]
  },
  {
   "cell_type": "code",
   "execution_count": 52,
   "id": "799560ed",
   "metadata": {
    "execution": {
     "iopub.execute_input": "2022-11-22T17:26:05.107078Z",
     "iopub.status.busy": "2022-11-22T17:26:05.106536Z",
     "iopub.status.idle": "2022-11-22T17:26:05.798950Z",
     "shell.execute_reply": "2022-11-22T17:26:05.797466Z"
    },
    "papermill": {
     "duration": 0.722696,
     "end_time": "2022-11-22T17:26:05.801404",
     "exception": false,
     "start_time": "2022-11-22T17:26:05.078708",
     "status": "completed"
    },
    "tags": []
   },
   "outputs": [
    {
     "data": {
      "image/png": "[encoded data removed]",
      "text/plain": [
       "<Figure size 1440x720 with 2 Axes>"
      ]
     },
     "metadata": {},
     "output_type": "display_data"
    }
   ],
   "source": [
    "# correlation matrix and heatmap to stand on important features\n",
    "corr_matrix = df_corr.corr()\n",
    "mask = np.triu(np.ones_like(corr_matrix,dtype = bool))\n",
    "plt.figure(figsize = (20,10))\n",
    "sns.heatmap(corr_matrix, fmt = '0.2f', cmap = 'Blues', mask = mask, annot = True)\n",
    "plt.title(\"Correlation Analysis\");"
   ]
  },
  {
   "cell_type": "markdown",
   "id": "57e608ab",
   "metadata": {
    "papermill": {
     "duration": 0.026298,
     "end_time": "2022-11-22T17:26:05.855539",
     "exception": false,
     "start_time": "2022-11-22T17:26:05.829241",
     "status": "completed"
    },
    "tags": []
   },
   "source": [
    "#### 1- Number of cuisines and rating status"
   ]
  },
  {
   "cell_type": "code",
   "execution_count": 53,
   "id": "974d8168",
   "metadata": {
    "execution": {
     "iopub.execute_input": "2022-11-22T17:26:05.917502Z",
     "iopub.status.busy": "2022-11-22T17:26:05.916722Z",
     "iopub.status.idle": "2022-11-22T17:26:07.115508Z",
     "shell.execute_reply": "2022-11-22T17:26:07.114164Z"
    },
    "papermill": {
     "duration": 1.235339,
     "end_time": "2022-11-22T17:26:07.118052",
     "exception": false,
     "start_time": "2022-11-22T17:26:05.882713",
     "status": "completed"
    },
    "tags": []
   },
   "outputs": [
    {
     "data": {
      "text/plain": [
       "<AxesSubplot:xlabel='numberOfCuisines', ylabel='Count'>"
      ]
     },
     "execution_count": 53,
     "metadata": {},
     "output_type": "execute_result"
    },
    {
     "data": {
      "image/png": "[encoded data removed]",
      "text/plain": [
       "<Figure size 1152x1152 with 1 Axes>"
      ]
     },
     "metadata": {},
     "output_type": "display_data"
    }
   ],
   "source": [
    "sns.histplot(data=df,x=\"numberOfCuisines\",hue=\"rating_status\",multiple=\"dodge\",palette=\"dark\")"
   ]
  },
  {
   "cell_type": "markdown",
   "id": "b1eba1e5",
   "metadata": {
    "papermill": {
     "duration": 0.029208,
     "end_time": "2022-11-22T17:26:07.174764",
     "exception": false,
     "start_time": "2022-11-22T17:26:07.145556",
     "status": "completed"
    },
    "tags": []
   },
   "source": [
    "#### 2- Number of dish liked and rating status"
   ]
  },
  {
   "cell_type": "code",
   "execution_count": 54,
   "id": "429574a9",
   "metadata": {
    "execution": {
     "iopub.execute_input": "2022-11-22T17:26:07.236344Z",
     "iopub.status.busy": "2022-11-22T17:26:07.235904Z",
     "iopub.status.idle": "2022-11-22T17:26:07.641398Z",
     "shell.execute_reply": "2022-11-22T17:26:07.640181Z"
    },
    "papermill": {
     "duration": 0.439009,
     "end_time": "2022-11-22T17:26:07.644018",
     "exception": false,
     "start_time": "2022-11-22T17:26:07.205009",
     "status": "completed"
    },
    "tags": []
   },
   "outputs": [
    {
     "data": {
      "text/plain": [
       "<AxesSubplot:xlabel='numberOfDishLiked', ylabel='count'>"
      ]
     },
     "execution_count": 54,
     "metadata": {},
     "output_type": "execute_result"
    },
    {
     "data": {
      "image/png": "[encoded data removed]",
      "text/plain": [
       "<Figure size 1152x1152 with 1 Axes>"
      ]
     },
     "metadata": {},
     "output_type": "display_data"
    }
   ],
   "source": [
    "sns.countplot(data=df, x=\"numberOfDishLiked\",hue=\"rating_status\",palette=\"dark\")"
   ]
  },
  {
   "cell_type": "markdown",
   "id": "ce236ae2",
   "metadata": {
    "papermill": {
     "duration": 0.028123,
     "end_time": "2022-11-22T17:26:07.700589",
     "exception": false,
     "start_time": "2022-11-22T17:26:07.672466",
     "status": "completed"
    },
    "tags": []
   },
   "source": [
    "#### 3- type of listed in type and rating status"
   ]
  },
  {
   "cell_type": "code",
   "execution_count": 55,
   "id": "6737f758",
   "metadata": {
    "execution": {
     "iopub.execute_input": "2022-11-22T17:26:07.763578Z",
     "iopub.status.busy": "2022-11-22T17:26:07.762388Z",
     "iopub.status.idle": "2022-11-22T17:26:08.202195Z",
     "shell.execute_reply": "2022-11-22T17:26:08.201268Z"
    },
    "papermill": {
     "duration": 0.474582,
     "end_time": "2022-11-22T17:26:08.204705",
     "exception": false,
     "start_time": "2022-11-22T17:26:07.730123",
     "status": "completed"
    },
    "tags": []
   },
   "outputs": [
    {
     "data": {
      "text/plain": [
       "<AxesSubplot:xlabel='listed_in(type)', ylabel='count'>"
      ]
     },
     "execution_count": 55,
     "metadata": {},
     "output_type": "execute_result"
    },
    {
     "data": {
      "image/png": "[encoded data removed]",
      "text/plain": [
       "<Figure size 1152x1152 with 1 Axes>"
      ]
     },
     "metadata": {},
     "output_type": "display_data"
    }
   ],
   "source": [
    "sns.countplot(data=df_corr, x=\"listed_in(type)\",hue=\"rating_status\",palette=\"dark\")"
   ]
  },
  {
   "cell_type": "markdown",
   "id": "95fbad02",
   "metadata": {
    "papermill": {
     "duration": 0.029849,
     "end_time": "2022-11-22T17:26:08.266171",
     "exception": false,
     "start_time": "2022-11-22T17:26:08.236322",
     "status": "completed"
    },
    "tags": []
   },
   "source": [
    "#### 3- approximate cost for two people & Ratting name"
   ]
  },
  {
   "cell_type": "code",
   "execution_count": 56,
   "id": "86f24170",
   "metadata": {
    "execution": {
     "iopub.execute_input": "2022-11-22T17:26:08.326285Z",
     "iopub.status.busy": "2022-11-22T17:26:08.325163Z",
     "iopub.status.idle": "2022-11-22T17:26:08.875837Z",
     "shell.execute_reply": "2022-11-22T17:26:08.874678Z"
    },
    "papermill": {
     "duration": 0.583457,
     "end_time": "2022-11-22T17:26:08.878323",
     "exception": false,
     "start_time": "2022-11-22T17:26:08.294866",
     "status": "completed"
    },
    "tags": []
   },
   "outputs": [
    {
     "data": {
      "text/plain": [
       "<AxesSubplot:xlabel='approx_cost(for two people)', ylabel='rating_status'>"
      ]
     },
     "execution_count": 56,
     "metadata": {},
     "output_type": "execute_result"
    },
    {
     "data": {
      "image/png": "[encoded data removed]",
      "text/plain": [
       "<Figure size 1152x1152 with 1 Axes>"
      ]
     },
     "metadata": {},
     "output_type": "display_data"
    }
   ],
   "source": [
    "sns.scatterplot(data=df,x='approx_cost(for two people)',y='rating_status',alpha=0.7,palette=\"dark\")"
   ]
  },
  {
   "cell_type": "code",
   "execution_count": 57,
   "id": "1d2176a0",
   "metadata": {
    "execution": {
     "iopub.execute_input": "2022-11-22T17:26:08.943446Z",
     "iopub.status.busy": "2022-11-22T17:26:08.943000Z",
     "iopub.status.idle": "2022-11-22T17:26:11.542435Z",
     "shell.execute_reply": "2022-11-22T17:26:11.541267Z"
    },
    "papermill": {
     "duration": 2.634276,
     "end_time": "2022-11-22T17:26:11.544946",
     "exception": false,
     "start_time": "2022-11-22T17:26:08.910670",
     "status": "completed"
    },
    "tags": []
   },
   "outputs": [
    {
     "data": {
      "text/plain": [
       "<seaborn.axisgrid.FacetGrid at 0x7f1abc81d810>"
      ]
     },
     "execution_count": 57,
     "metadata": {},
     "output_type": "execute_result"
    },
    {
     "data": {
      "image/png": "[encoded data removed]",
      "text/plain": [
       "<Figure size 1150.77x1008 with 1 Axes>"
      ]
     },
     "metadata": {},
     "output_type": "display_data"
    }
   ],
   "source": [
    "sns.displot(data=df,x='approx_cost(for two people)',hue='rating_status',alpha=0.7,palette=\"dark\",height= 14)"
   ]
  },
  {
   "cell_type": "markdown",
   "id": "707651f7",
   "metadata": {
    "papermill": {
     "duration": 0.031654,
     "end_time": "2022-11-22T17:26:11.608753",
     "exception": false,
     "start_time": "2022-11-22T17:26:11.577099",
     "status": "completed"
    },
    "tags": []
   },
   "source": [
    "#### 4- avaliblity of online order & rating status"
   ]
  },
  {
   "cell_type": "code",
   "execution_count": 58,
   "id": "9f6df34d",
   "metadata": {
    "execution": {
     "iopub.execute_input": "2022-11-22T17:26:11.673057Z",
     "iopub.status.busy": "2022-11-22T17:26:11.672649Z",
     "iopub.status.idle": "2022-11-22T17:26:12.014994Z",
     "shell.execute_reply": "2022-11-22T17:26:12.013823Z"
    },
    "papermill": {
     "duration": 0.377967,
     "end_time": "2022-11-22T17:26:12.017558",
     "exception": false,
     "start_time": "2022-11-22T17:26:11.639591",
     "status": "completed"
    },
    "tags": []
   },
   "outputs": [
    {
     "data": {
      "text/plain": [
       "<AxesSubplot:xlabel='online_order', ylabel='count'>"
      ]
     },
     "execution_count": 58,
     "metadata": {},
     "output_type": "execute_result"
    },
    {
     "data": {
      "image/png": "[encoded data removed]",
      "text/plain": [
       "<Figure size 1152x1152 with 1 Axes>"
      ]
     },
     "metadata": {},
     "output_type": "display_data"
    }
   ],
   "source": [
    "sns.countplot(data=df, x=\"online_order\",hue=\"rating_status\",palette=\"dark\")"
   ]
  },
  {
   "cell_type": "markdown",
   "id": "68649547",
   "metadata": {
    "papermill": {
     "duration": 0.030715,
     "end_time": "2022-11-22T17:26:12.079302",
     "exception": false,
     "start_time": "2022-11-22T17:26:12.048587",
     "status": "completed"
    },
    "tags": []
   },
   "source": [
    "#### 5- avaliblity of book table & rating status"
   ]
  },
  {
   "cell_type": "code",
   "execution_count": 59,
   "id": "051043f3",
   "metadata": {
    "execution": {
     "iopub.execute_input": "2022-11-22T17:26:12.143420Z",
     "iopub.status.busy": "2022-11-22T17:26:12.142984Z",
     "iopub.status.idle": "2022-11-22T17:26:12.462944Z",
     "shell.execute_reply": "2022-11-22T17:26:12.462071Z"
    },
    "papermill": {
     "duration": 0.354769,
     "end_time": "2022-11-22T17:26:12.465205",
     "exception": false,
     "start_time": "2022-11-22T17:26:12.110436",
     "status": "completed"
    },
    "tags": []
   },
   "outputs": [
    {
     "data": {
      "text/plain": [
       "<AxesSubplot:xlabel='book_table', ylabel='count'>"
      ]
     },
     "execution_count": 59,
     "metadata": {},
     "output_type": "execute_result"
    },
    {
     "data": {
      "image/png": "[encoded data removed]",
      "text/plain": [
       "<Figure size 1152x1152 with 1 Axes>"
      ]
     },
     "metadata": {},
     "output_type": "display_data"
    }
   ],
   "source": [
    "sns.countplot(data=df, x=\"book_table\",hue=\"rating_status\",palette=\"dark\")"
   ]
  },
  {
   "cell_type": "markdown",
   "id": "79c47f18",
   "metadata": {
    "papermill": {
     "duration": 0.032704,
     "end_time": "2022-11-22T17:26:12.532844",
     "exception": false,
     "start_time": "2022-11-22T17:26:12.500140",
     "status": "completed"
    },
    "tags": []
   },
   "source": [
    "#### 6- number of Votes & rating status"
   ]
  },
  {
   "cell_type": "code",
   "execution_count": 60,
   "id": "3d0e6857",
   "metadata": {
    "execution": {
     "iopub.execute_input": "2022-11-22T17:26:12.603223Z",
     "iopub.status.busy": "2022-11-22T17:26:12.602031Z",
     "iopub.status.idle": "2022-11-22T17:26:13.125769Z",
     "shell.execute_reply": "2022-11-22T17:26:13.124622Z"
    },
    "papermill": {
     "duration": 0.561816,
     "end_time": "2022-11-22T17:26:13.128460",
     "exception": false,
     "start_time": "2022-11-22T17:26:12.566644",
     "status": "completed"
    },
    "tags": []
   },
   "outputs": [
    {
     "data": {
      "text/plain": [
       "<AxesSubplot:xlabel='votes', ylabel='rating_status'>"
      ]
     },
     "execution_count": 60,
     "metadata": {},
     "output_type": "execute_result"
    },
    {
     "data": {
      "image/png": "[encoded data removed]",
      "text/plain": [
       "<Figure size 1152x1152 with 1 Axes>"
      ]
     },
     "metadata": {},
     "output_type": "display_data"
    }
   ],
   "source": [
    "sns.scatterplot(data=df, x=\"votes\",y=\"rating_status\",palette=\"dark\")"
   ]
  },
  {
   "cell_type": "code",
   "execution_count": 61,
   "id": "903d302f",
   "metadata": {
    "execution": {
     "iopub.execute_input": "2022-11-22T17:26:13.199005Z",
     "iopub.status.busy": "2022-11-22T17:26:13.197786Z",
     "iopub.status.idle": "2022-11-22T17:26:19.850998Z",
     "shell.execute_reply": "2022-11-22T17:26:19.849860Z"
    },
    "papermill": {
     "duration": 6.690912,
     "end_time": "2022-11-22T17:26:19.853438",
     "exception": false,
     "start_time": "2022-11-22T17:26:13.162526",
     "status": "completed"
    },
    "tags": []
   },
   "outputs": [
    {
     "data": {
      "text/plain": [
       "<AxesSubplot:xlabel='votes', ylabel='Count'>"
      ]
     },
     "execution_count": 61,
     "metadata": {},
     "output_type": "execute_result"
    },
    {
     "data": {
      "image/png": "[encoded data removed]",
      "text/plain": [
       "<Figure size 1152x1152 with 1 Axes>"
      ]
     },
     "metadata": {},
     "output_type": "display_data"
    }
   ],
   "source": [
    "sns.histplot(data=df, x=\"votes\",hue=\"rating_status\",palette=\"dark\")"
   ]
  },
  {
   "cell_type": "markdown",
   "id": "49d31390",
   "metadata": {
    "papermill": {
     "duration": 0.032949,
     "end_time": "2022-11-22T17:26:19.920967",
     "exception": false,
     "start_time": "2022-11-22T17:26:19.888018",
     "status": "completed"
    },
    "tags": []
   },
   "source": [
    "<a id='datasplit'></a>\n",
    "\n",
    "## Data Split"
   ]
  },
  {
   "cell_type": "code",
   "execution_count": 62,
   "id": "8372cf59",
   "metadata": {
    "execution": {
     "iopub.execute_input": "2022-11-22T17:26:19.989298Z",
     "iopub.status.busy": "2022-11-22T17:26:19.988555Z",
     "iopub.status.idle": "2022-11-22T17:26:20.547117Z",
     "shell.execute_reply": "2022-11-22T17:26:20.545735Z"
    },
    "papermill": {
     "duration": 0.596373,
     "end_time": "2022-11-22T17:26:20.550563",
     "exception": false,
     "start_time": "2022-11-22T17:26:19.954190",
     "status": "completed"
    },
    "tags": []
   },
   "outputs": [],
   "source": [
    "x = df.drop([\"rate\",\"rating_status\",\"location\",\"numberOfMenuItems\",\"dish_liked\",\"numberOfDishLiked\",\"rest_type\",\"cuisines\"],axis=1)\n",
    "y = df[\"rating_status\"]\n",
    "\n",
    "x_train, x_test, y_train, y_test = train_test_split(x, y, test_size=0.20,random_state=1)"
   ]
  },
  {
   "cell_type": "markdown",
   "id": "b399cf0d",
   "metadata": {
    "papermill": {
     "duration": 0.032623,
     "end_time": "2022-11-22T17:26:20.617300",
     "exception": false,
     "start_time": "2022-11-22T17:26:20.584677",
     "status": "completed"
    },
    "tags": []
   },
   "source": [
    "<a id='datascaling'></a>\n",
    "\n",
    "# Data scaling"
   ]
  },
  {
   "cell_type": "code",
   "execution_count": 63,
   "id": "98cee97a",
   "metadata": {
    "execution": {
     "iopub.execute_input": "2022-11-22T17:26:20.685778Z",
     "iopub.status.busy": "2022-11-22T17:26:20.685099Z",
     "iopub.status.idle": "2022-11-22T17:26:20.880320Z",
     "shell.execute_reply": "2022-11-22T17:26:20.878587Z"
    },
    "papermill": {
     "duration": 0.23398,
     "end_time": "2022-11-22T17:26:20.884436",
     "exception": false,
     "start_time": "2022-11-22T17:26:20.650456",
     "status": "completed"
    },
    "tags": []
   },
   "outputs": [
    {
     "name": "stderr",
     "output_type": "stream",
     "text": [
      "/opt/conda/lib/python3.7/site-packages/sklearn/utils/validation.py:625: UserWarning: pandas.DataFrame with sparse columns found.It will be converted to a dense numpy array.\n",
      "  \"pandas.DataFrame with sparse columns found.\"\n",
      "/opt/conda/lib/python3.7/site-packages/sklearn/utils/validation.py:625: UserWarning: pandas.DataFrame with sparse columns found.It will be converted to a dense numpy array.\n",
      "  \"pandas.DataFrame with sparse columns found.\"\n",
      "/opt/conda/lib/python3.7/site-packages/sklearn/utils/validation.py:625: UserWarning: pandas.DataFrame with sparse columns found.It will be converted to a dense numpy array.\n",
      "  \"pandas.DataFrame with sparse columns found.\"\n"
     ]
    }
   ],
   "source": [
    "scaler = StandardScaler()\n",
    "\n",
    "scaler.fit(x_train)\n",
    "\n",
    "x_train = scaler.transform(x_train)\n",
    "x_test = scaler.transform(x_test)"
   ]
  },
  {
   "cell_type": "markdown",
   "id": "679b72f4",
   "metadata": {
    "papermill": {
     "duration": 0.044151,
     "end_time": "2022-11-22T17:26:20.972815",
     "exception": false,
     "start_time": "2022-11-22T17:26:20.928664",
     "status": "completed"
    },
    "tags": []
   },
   "source": [
    "<a id='BM'></a>\n",
    "\n",
    "## Modeling - base model"
   ]
  },
  {
   "cell_type": "code",
   "execution_count": 64,
   "id": "cde457de",
   "metadata": {
    "execution": {
     "iopub.execute_input": "2022-11-22T17:26:21.055382Z",
     "iopub.status.busy": "2022-11-22T17:26:21.054327Z",
     "iopub.status.idle": "2022-11-22T17:26:21.059963Z",
     "shell.execute_reply": "2022-11-22T17:26:21.058788Z"
    },
    "papermill": {
     "duration": 0.045869,
     "end_time": "2022-11-22T17:26:21.062322",
     "exception": false,
     "start_time": "2022-11-22T17:26:21.016453",
     "status": "completed"
    },
    "tags": []
   },
   "outputs": [],
   "source": [
    "Models = {\n",
    "    \"Logestic Regression\":LogisticRegression(),\n",
    "    \"Decision Tree\":DecisionTreeClassifier(),\n",
    "    \"Random Forest\":RandomForestClassifier(),\n",
    "    \"XGBboost\":XGBClassifier(),\n",
    "    \"AdaBoost\":AdaBoostClassifier(),\n",
    "    \"Bagging Boost\":BaggingClassifier()\n",
    "}\n",
    "#    \"support Vector Classifier\":SVC(),\n"
   ]
  },
  {
   "cell_type": "code",
   "execution_count": 65,
   "id": "2f6a48d3",
   "metadata": {
    "execution": {
     "iopub.execute_input": "2022-11-22T17:26:21.133073Z",
     "iopub.status.busy": "2022-11-22T17:26:21.132666Z",
     "iopub.status.idle": "2022-11-22T17:26:38.129000Z",
     "shell.execute_reply": "2022-11-22T17:26:38.127287Z"
    },
    "papermill": {
     "duration": 17.035522,
     "end_time": "2022-11-22T17:26:38.131230",
     "exception": true,
     "start_time": "2022-11-22T17:26:21.095708",
     "status": "failed"
    },
    "scrolled": true,
    "tags": []
   },
   "outputs": [
    {
     "name": "stdout",
     "output_type": "stream",
     "text": [
      "Logestic Regression\n"
     ]
    },
    {
     "name": "stderr",
     "output_type": "stream",
     "text": [
      "/opt/conda/lib/python3.7/site-packages/sklearn/linear_model/_logistic.py:818: ConvergenceWarning: lbfgs failed to converge (status=1):\n",
      "STOP: TOTAL NO. of ITERATIONS REACHED LIMIT.\n",
      "\n",
      "Increase the number of iterations (max_iter) or scale the data as shown in:\n",
      "    https://scikit-learn.org/stable/modules/preprocessing.html\n",
      "Please also refer to the documentation for alternative solver options:\n",
      "    https://scikit-learn.org/stable/modules/linear_model.html#logistic-regression\n",
      "  extra_warning_msg=_LOGISTIC_SOLVER_CONVERGENCE_MSG,\n"
     ]
    },
    {
     "name": "stdout",
     "output_type": "stream",
     "text": [
      "Traning Accuracy Score:  81.20717222476016\n",
      "Traning Recall Score:  80.52562386803612\n",
      "Traning Precision Score:  82.0858879195421\n",
      "__________\n",
      "Validation Accuracy Score:  80.91594335312928\n",
      "Validation Recall Score:  80.05237650400704\n",
      "Validation Precision Score:  81.78029532106183\n",
      "__________________________________________________\n",
      "Decision Tree\n",
      "Traning Accuracy Score:  99.97715851987209\n",
      "Traning Recall Score:  99.97536490731048\n",
      "Traning Precision Score:  99.97871774408087\n",
      "__________\n",
      "Validation Accuracy Score:  94.98629511192325\n",
      "Validation Recall Score:  94.93561720586956\n",
      "Validation Precision Score:  94.95603015075376\n",
      "__________________________________________________\n",
      "Random Forest\n",
      "Traning Accuracy Score:  99.97715851987209\n",
      "Traning Recall Score:  99.9766188226447\n",
      "Traning Precision Score:  99.97745504462104\n",
      "__________\n",
      "Validation Accuracy Score:  94.16400182731842\n",
      "Validation Recall Score:  94.01120254044844\n",
      "Validation Precision Score:  94.22584204235496\n",
      "__________________________________________________\n",
      "XGBboost\n"
     ]
    },
    {
     "ename": "ValueError",
     "evalue": "Invalid classes inferred from unique values of `y`.  Expected: [0 1], got ['not successful' 'successful']",
     "output_type": "error",
     "traceback": [
      "\u001b[0;31m---------------------------------------------------------------------------\u001b[0m",
      "\u001b[0;31mValueError\u001b[0m                                Traceback (most recent call last)",
      "\u001b[0;32m/tmp/ipykernel_19/4267438133.py\u001b[0m in \u001b[0;36m<module>\u001b[0;34m\u001b[0m\n\u001b[1;32m      1\u001b[0m \u001b[0;32mfor\u001b[0m \u001b[0mname\u001b[0m\u001b[0;34m,\u001b[0m \u001b[0mmodel\u001b[0m \u001b[0;32min\u001b[0m \u001b[0mModels\u001b[0m\u001b[0;34m.\u001b[0m\u001b[0mitems\u001b[0m\u001b[0;34m(\u001b[0m\u001b[0;34m)\u001b[0m \u001b[0;34m:\u001b[0m\u001b[0;34m\u001b[0m\u001b[0;34m\u001b[0m\u001b[0m\n\u001b[1;32m      2\u001b[0m     \u001b[0mprint\u001b[0m\u001b[0;34m(\u001b[0m\u001b[0mname\u001b[0m\u001b[0;34m)\u001b[0m\u001b[0;34m\u001b[0m\u001b[0;34m\u001b[0m\u001b[0m\n\u001b[0;32m----> 3\u001b[0;31m     \u001b[0mmodel\u001b[0m\u001b[0;34m.\u001b[0m\u001b[0mfit\u001b[0m\u001b[0;34m(\u001b[0m\u001b[0mx_train\u001b[0m\u001b[0;34m,\u001b[0m \u001b[0my_train\u001b[0m\u001b[0;34m)\u001b[0m\u001b[0;34m\u001b[0m\u001b[0;34m\u001b[0m\u001b[0m\n\u001b[0m\u001b[1;32m      4\u001b[0m     \u001b[0my_pred\u001b[0m \u001b[0;34m=\u001b[0m \u001b[0mmodel\u001b[0m\u001b[0;34m.\u001b[0m\u001b[0mpredict\u001b[0m\u001b[0;34m(\u001b[0m\u001b[0mx_test\u001b[0m\u001b[0;34m)\u001b[0m\u001b[0;34m\u001b[0m\u001b[0;34m\u001b[0m\u001b[0m\n\u001b[1;32m      5\u001b[0m \u001b[0;34m\u001b[0m\u001b[0m\n",
      "\u001b[0;32m/opt/conda/lib/python3.7/site-packages/xgboost/core.py\u001b[0m in \u001b[0;36minner_f\u001b[0;34m(*args, **kwargs)\u001b[0m\n\u001b[1;32m    573\u001b[0m         \u001b[0;32mfor\u001b[0m \u001b[0mk\u001b[0m\u001b[0;34m,\u001b[0m \u001b[0marg\u001b[0m \u001b[0;32min\u001b[0m \u001b[0mzip\u001b[0m\u001b[0;34m(\u001b[0m\u001b[0msig\u001b[0m\u001b[0;34m.\u001b[0m\u001b[0mparameters\u001b[0m\u001b[0;34m,\u001b[0m \u001b[0margs\u001b[0m\u001b[0;34m)\u001b[0m\u001b[0;34m:\u001b[0m\u001b[0;34m\u001b[0m\u001b[0;34m\u001b[0m\u001b[0m\n\u001b[1;32m    574\u001b[0m             \u001b[0mkwargs\u001b[0m\u001b[0;34m[\u001b[0m\u001b[0mk\u001b[0m\u001b[0;34m]\u001b[0m \u001b[0;34m=\u001b[0m \u001b[0marg\u001b[0m\u001b[0;34m\u001b[0m\u001b[0;34m\u001b[0m\u001b[0m\n\u001b[0;32m--> 575\u001b[0;31m         \u001b[0;32mreturn\u001b[0m \u001b[0mf\u001b[0m\u001b[0;34m(\u001b[0m\u001b[0;34m**\u001b[0m\u001b[0mkwargs\u001b[0m\u001b[0;34m)\u001b[0m\u001b[0;34m\u001b[0m\u001b[0;34m\u001b[0m\u001b[0m\n\u001b[0m\u001b[1;32m    576\u001b[0m \u001b[0;34m\u001b[0m\u001b[0m\n\u001b[1;32m    577\u001b[0m     \u001b[0;32mreturn\u001b[0m \u001b[0minner_f\u001b[0m\u001b[0;34m\u001b[0m\u001b[0;34m\u001b[0m\u001b[0m\n",
      "\u001b[0;32m/opt/conda/lib/python3.7/site-packages/xgboost/sklearn.py\u001b[0m in \u001b[0;36mfit\u001b[0;34m(self, X, y, sample_weight, base_margin, eval_set, eval_metric, early_stopping_rounds, verbose, xgb_model, sample_weight_eval_set, base_margin_eval_set, feature_weights, callbacks)\u001b[0m\n\u001b[1;32m   1356\u001b[0m         ):\n\u001b[1;32m   1357\u001b[0m             raise ValueError(\n\u001b[0;32m-> 1358\u001b[0;31m                 \u001b[0;34mf\"Invalid classes inferred from unique values of `y`.  \"\u001b[0m\u001b[0;34m\u001b[0m\u001b[0;34m\u001b[0m\u001b[0m\n\u001b[0m\u001b[1;32m   1359\u001b[0m                 \u001b[0;34mf\"Expected: {expected_classes}, got {self.classes_}\"\u001b[0m\u001b[0;34m\u001b[0m\u001b[0;34m\u001b[0m\u001b[0m\n\u001b[1;32m   1360\u001b[0m             )\n",
      "\u001b[0;31mValueError\u001b[0m: Invalid classes inferred from unique values of `y`.  Expected: [0 1], got ['not successful' 'successful']"
     ]
    }
   ],
   "source": [
    "for name, model in Models.items() :\n",
    "    print(name)\n",
    "    model.fit(x_train, y_train)\n",
    "    y_pred = model.predict(x_test)\n",
    "    \n",
    "    ## score \n",
    "    print(\"Traning Accuracy Score: \", accuracy_score(y_train, model.predict(x_train),)*100)\n",
    "    print(\"Traning Recall Score: \", recall_score(y_train, model.predict(x_train),average=\"macro\")*100)\n",
    "    print(\"Traning Precision Score: \",precision_score(y_train, model.predict(x_train),average=\"macro\")* 100)\n",
    "    print(\"_\"*10)\n",
    "    print(\"Validation Accuracy Score: \", accuracy_score(y_test, y_pred,)*100)\n",
    "    print(\"Validation Recall Score: \", recall_score(y_test, y_pred,average=\"macro\")*100)\n",
    "    print(\"Validation Precision Score: \",precision_score(y_test, y_pred,average=\"macro\")* 100)\n",
    "    print(\"_\"*50)\n",
    "    \n",
    "print('Finished')"
   ]
  },
  {
   "cell_type": "markdown",
   "id": "b12db9ab",
   "metadata": {
    "papermill": {
     "duration": null,
     "end_time": null,
     "exception": null,
     "start_time": null,
     "status": "pending"
    },
    "tags": []
   },
   "source": [
    "<a id='HPT'></a>\n",
    "\n",
    "## Bagging Boost - Hyper paramter tuning"
   ]
  },
  {
   "cell_type": "markdown",
   "id": "06371a99",
   "metadata": {
    "papermill": {
     "duration": null,
     "end_time": null,
     "exception": null,
     "start_time": null,
     "status": "pending"
    },
    "tags": []
   },
   "source": [
    "we can further imporve our model accuracy by trying out different paramaters to our model."
   ]
  },
  {
   "cell_type": "code",
   "execution_count": null,
   "id": "774b98fd",
   "metadata": {
    "papermill": {
     "duration": null,
     "end_time": null,
     "exception": null,
     "start_time": null,
     "status": "pending"
    },
    "tags": []
   },
   "outputs": [],
   "source": [
    "\"\"\"\n",
    "bagging_model = BaggingClassifier()\n",
    "\n",
    "#Setting values for the parameters\n",
    "n_estimators = [10, 20, 30]\n",
    "max_samples = [1, 2, 3]\n",
    "max_features = [1, 2, 3]\n",
    "\n",
    "#Creating a dictionary for the hyper parameters\n",
    "hyper_parameters = dict(n_estimators = n_estimators, max_samples = max_samples, \n",
    "              max_features = max_features)\n",
    "\n",
    "#Applying GridSearchCV to get the best value for hyperparameters\n",
    "gridbag = GridSearchCV(bagging_model, hyper_parameters, cv = 5)\n",
    "bestbag = gridbag.fit(x_train, y_train)\n",
    "\n",
    "\"\"\"\n"
   ]
  },
  {
   "cell_type": "markdown",
   "id": "ad1bd099",
   "metadata": {
    "papermill": {
     "duration": null,
     "end_time": null,
     "exception": null,
     "start_time": null,
     "status": "pending"
    },
    "tags": []
   },
   "source": [
    "here we can find the best paramters with highest scoring accuracy"
   ]
  },
  {
   "cell_type": "code",
   "execution_count": null,
   "id": "e65221dd",
   "metadata": {
    "papermill": {
     "duration": null,
     "end_time": null,
     "exception": null,
     "start_time": null,
     "status": "pending"
    },
    "tags": []
   },
   "outputs": [],
   "source": [
    "#bestbag.best_params_"
   ]
  },
  {
   "cell_type": "markdown",
   "id": "26d94edc",
   "metadata": {
    "papermill": {
     "duration": null,
     "end_time": null,
     "exception": null,
     "start_time": null,
     "status": "pending"
    },
    "tags": []
   },
   "source": [
    "<a id='finalmodel'></a>\n",
    "\n",
    "## Build our final model"
   ]
  },
  {
   "cell_type": "code",
   "execution_count": null,
   "id": "ff77b58e",
   "metadata": {
    "papermill": {
     "duration": null,
     "end_time": null,
     "exception": null,
     "start_time": null,
     "status": "pending"
    },
    "tags": []
   },
   "outputs": [],
   "source": [
    "#bagging_model = BaggingClassifier( n_estimators=30, max_samples=3, max_features= 3)\n",
    "bagging_model = BaggingClassifier()\n",
    "\n",
    "bagging_model.fit(x_train, y_train)\n",
    "y_pred = bagging_model.predict(x_test)\n",
    "    \n",
    "## score \n",
    "print(\"Traning Accuracy Score: \", accuracy_score(y_train, model.predict(x_train),)*100)\n",
    "print(\"Traning Recall Score: \", recall_score(y_train, model.predict(x_train),average=\"macro\")*100)\n",
    "print(\"Traning Precision Score: \",precision_score(y_train, model.predict(x_train),average=\"macro\")* 100)\n",
    "print(\"_\"*10)\n",
    "print(\"Validation Accuracy Score: \", accuracy_score(y_test, y_pred,)*100)\n",
    "print(\"Validation Recall Score: \", recall_score(y_test, y_pred,average=\"macro\")*100)\n",
    "print(\"Validation Precision Score: \",precision_score(y_test, y_pred,average=\"macro\")* 100)"
   ]
  },
  {
   "cell_type": "code",
   "execution_count": null,
   "id": "675ad13d",
   "metadata": {
    "papermill": {
     "duration": null,
     "end_time": null,
     "exception": null,
     "start_time": null,
     "status": "pending"
    },
    "tags": []
   },
   "outputs": [],
   "source": [
    "cm = confusion_matrix(y_test, y_pred)\n",
    "plt.figure(figsize = (12,12))\n",
    "\n",
    "sns.heatmap(cm, annot = True, fmt = '.1f' )"
   ]
  },
  {
   "cell_type": "code",
   "execution_count": null,
   "id": "84775f74",
   "metadata": {
    "papermill": {
     "duration": null,
     "end_time": null,
     "exception": null,
     "start_time": null,
     "status": "pending"
    },
    "tags": []
   },
   "outputs": [],
   "source": [
    "import joblib"
   ]
  },
  {
   "cell_type": "code",
   "execution_count": null,
   "id": "86b2c818",
   "metadata": {
    "papermill": {
     "duration": null,
     "end_time": null,
     "exception": null,
     "start_time": null,
     "status": "pending"
    },
    "tags": []
   },
   "outputs": [],
   "source": [
    "joblib.dump(bagging_model, 'model.h5')\n",
    "joblib.dump(scaler, 'scaler.h5')\n",
    "joblib.dump(x.columns, 'features.h5')"
   ]
  },
  {
   "cell_type": "code",
   "execution_count": null,
   "id": "e5f26b68",
   "metadata": {
    "papermill": {
     "duration": null,
     "end_time": null,
     "exception": null,
     "start_time": null,
     "status": "pending"
    },
    "tags": []
   },
   "outputs": [],
   "source": []
  },
  {
   "cell_type": "code",
   "execution_count": null,
   "id": "12474fa2",
   "metadata": {
    "papermill": {
     "duration": null,
     "end_time": null,
     "exception": null,
     "start_time": null,
     "status": "pending"
    },
    "tags": []
   },
   "outputs": [],
   "source": [
    "bagging_model.predict([[1, 1, 300, 2000.0, 0, 1, 0, 0, 0, 0, 0, 0, 1, 0, 0, 0, 0, 0, 0, 0, 0, 0, 0, 0, 0, 0, 0, 0, 0, 0, 0, 0, 0, 0, 0, 0, 0, 0, 0, 0, 0, 0, 0, 0, 0, 1, 0, 0, 0, 0, 0, 0, 0, 0,\n",
    " 0, 0, 0, 0, 0, 0, 0, 0, 0, 0, 0, 0, 0, 0, 0, 0, 0, 0, 0, 0, 0, 0, 0, 0, 0, 0, 0, 0, 0, 0, 0, 0, 0, 0, 0, 0, 0, 0, 0, 0, 0, 0, 0, 0, 0, 0, 0, 0, 0, 0, 0, 0, 0, 0, 0, 0, \n",
    "0, 0, 0, 0, 0, 0, 0, 0, 0, 0, 0, 0, 0, 0, 0, 0, 0, 0, 0, 0, 0, 0, 0, 0, 0, 0, 0, 0, 0, 0, 0, 0, 0, 0, 0, 0, 0, 0, 0, 0, 0, 0, 0, 0, 0, 0, 0, 0, 0, 0, 0, 0, 0, 0, 0, 0, 0\n",
    ", 0, 0, 0, 0, 0,]])"
   ]
  },
  {
   "cell_type": "code",
   "execution_count": null,
   "id": "b01a8415",
   "metadata": {
    "papermill": {
     "duration": null,
     "end_time": null,
     "exception": null,
     "start_time": null,
     "status": "pending"
    },
    "tags": []
   },
   "outputs": [],
   "source": [
    "list_of_listed_in_cities = []\n",
    "for col in range(12,42):\n",
    "    print(x.columns[col])\n",
    "    list_of_listed_in_cities.append(x.columns[col].split(\"_\")[2])\n",
    "list_of_listed_in_cities,len(list_of_listed_in_cities)"
   ]
  },
  {
   "cell_type": "code",
   "execution_count": null,
   "id": "eb4f728a",
   "metadata": {
    "papermill": {
     "duration": null,
     "end_time": null,
     "exception": null,
     "start_time": null,
     "status": "pending"
    },
    "tags": []
   },
   "outputs": [],
   "source": [
    "list_of_rest_types = []\n",
    "for col in range(42,66):\n",
    "    list_of_rest_types.append(x.columns[col].split(\"_\")[2])\n",
    "list_of_rest_types,len(list_of_rest_types)"
   ]
  },
  {
   "cell_type": "code",
   "execution_count": null,
   "id": "6a388105",
   "metadata": {
    "papermill": {
     "duration": null,
     "end_time": null,
     "exception": null,
     "start_time": null,
     "status": "pending"
    },
    "tags": []
   },
   "outputs": [],
   "source": [
    "list_of_cuisines = []\n",
    "for col in range(66,172):\n",
    "    list_of_cuisines.append(x.columns[col].split(\"_\")[1])\n",
    "list_of_cuisines,len(list_of_cuisines)"
   ]
  },
  {
   "cell_type": "code",
   "execution_count": null,
   "id": "2aaffa6a",
   "metadata": {
    "papermill": {
     "duration": null,
     "end_time": null,
     "exception": null,
     "start_time": null,
     "status": "pending"
    },
    "tags": []
   },
   "outputs": [],
   "source": []
  }
 ],
 "metadata": {
  "kernelspec": {
   "display_name": "Python 3",
   "language": "python",
   "name": "python3"
  },
  "language_info": {
   "codemirror_mode": {
    "name": "ipython",
    "version": 3
   },
   "file_extension": ".py",
   "mimetype": "text/x-python",
   "name": "python",
   "nbconvert_exporter": "python",
   "pygments_lexer": "ipython3",
   "version": "3.7.12"
  },
  "papermill": {
   "default_parameters": {},
   "duration": 62.363645,
   "end_time": "2022-11-22T17:26:39.289981",
   "environment_variables": {},
   "exception": true,
   "input_path": "__notebook__.ipynb",
   "output_path": "__notebook__.ipynb",
   "parameters": {},
   "start_time": "2022-11-22T17:25:36.926336",
   "version": "2.3.4"
  }
 },
 "nbformat": 4,
 "nbformat_minor": 5
}
