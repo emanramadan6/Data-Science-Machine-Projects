{
 "cells": [
  {
   "cell_type": "code",
   "execution_count": 1,
   "id": "78b94552",
   "metadata": {
    "execution": {
     "iopub.execute_input": "2022-02-17T15:56:23.526450Z",
     "iopub.status.busy": "2022-02-17T15:56:23.525123Z",
     "iopub.status.idle": "2022-02-17T15:56:24.604534Z",
     "shell.execute_reply": "2022-02-17T15:56:24.603816Z",
     "shell.execute_reply.started": "2022-02-17T15:54:46.700700Z"
    },
    "papermill": {
     "duration": 1.182702,
     "end_time": "2022-02-17T15:56:24.604708",
     "exception": false,
     "start_time": "2022-02-17T15:56:23.422006",
     "status": "completed"
    },
    "tags": []
   },
   "outputs": [],
   "source": [
    "import pandas as pd \n",
    "import seaborn as sns\n",
    "import matplotlib.pyplot as plt"
   ]
  },
  {
   "cell_type": "code",
   "execution_count": 2,
   "id": "d1134473",
   "metadata": {
    "execution": {
     "iopub.execute_input": "2022-02-17T15:56:24.802351Z",
     "iopub.status.busy": "2022-02-17T15:56:24.801662Z",
     "iopub.status.idle": "2022-02-17T15:56:24.819750Z",
     "shell.execute_reply": "2022-02-17T15:56:24.820352Z",
     "shell.execute_reply.started": "2022-02-17T15:54:46.710538Z"
    },
    "papermill": {
     "duration": 0.119847,
     "end_time": "2022-02-17T15:56:24.820537",
     "exception": false,
     "start_time": "2022-02-17T15:56:24.700690",
     "status": "completed"
    },
    "tags": []
   },
   "outputs": [],
   "source": [
    "loan=pd.read_csv(r'../input/loan-prediction-analytics-vidhya/train_ctrUa4K.csv')"
   ]
  },
  {
   "cell_type": "code",
   "execution_count": 3,
   "id": "8e8f141f",
   "metadata": {
    "execution": {
     "iopub.execute_input": "2022-02-17T15:56:25.017248Z",
     "iopub.status.busy": "2022-02-17T15:56:25.016545Z",
     "iopub.status.idle": "2022-02-17T15:56:25.043255Z",
     "shell.execute_reply": "2022-02-17T15:56:25.043758Z",
     "shell.execute_reply.started": "2022-02-17T15:54:46.727993Z"
    },
    "papermill": {
     "duration": 0.127302,
     "end_time": "2022-02-17T15:56:25.043928",
     "exception": false,
     "start_time": "2022-02-17T15:56:24.916626",
     "status": "completed"
    },
    "tags": []
   },
   "outputs": [
    {
     "data": {
      "text/html": [
       "<div>\n",
       "<style scoped>\n",
       "    .dataframe tbody tr th:only-of-type {\n",
       "        vertical-align: middle;\n",
       "    }\n",
       "\n",
       "    .dataframe tbody tr th {\n",
       "        vertical-align: top;\n",
       "    }\n",
       "\n",
       "    .dataframe thead th {\n",
       "        text-align: right;\n",
       "    }\n",
       "</style>\n",
       "<table border=\"1\" class=\"dataframe\">\n",
       "  <thead>\n",
       "    <tr style=\"text-align: right;\">\n",
       "      <th></th>\n",
       "      <th>Loan_ID</th>\n",
       "      <th>Gender</th>\n",
       "      <th>Married</th>\n",
       "      <th>Dependents</th>\n",
       "      <th>Education</th>\n",
       "      <th>Self_Employed</th>\n",
       "      <th>ApplicantIncome</th>\n",
       "      <th>CoapplicantIncome</th>\n",
       "      <th>LoanAmount</th>\n",
       "      <th>Loan_Amount_Term</th>\n",
       "      <th>Credit_History</th>\n",
       "      <th>Property_Area</th>\n",
       "      <th>Loan_Status</th>\n",
       "    </tr>\n",
       "  </thead>\n",
       "  <tbody>\n",
       "    <tr>\n",
       "      <th>0</th>\n",
       "      <td>LP001002</td>\n",
       "      <td>Male</td>\n",
       "      <td>No</td>\n",
       "      <td>0</td>\n",
       "      <td>Graduate</td>\n",
       "      <td>No</td>\n",
       "      <td>5849</td>\n",
       "      <td>0.0</td>\n",
       "      <td>NaN</td>\n",
       "      <td>360.0</td>\n",
       "      <td>1.0</td>\n",
       "      <td>Urban</td>\n",
       "      <td>Y</td>\n",
       "    </tr>\n",
       "    <tr>\n",
       "      <th>1</th>\n",
       "      <td>LP001003</td>\n",
       "      <td>Male</td>\n",
       "      <td>Yes</td>\n",
       "      <td>1</td>\n",
       "      <td>Graduate</td>\n",
       "      <td>No</td>\n",
       "      <td>4583</td>\n",
       "      <td>1508.0</td>\n",
       "      <td>128.0</td>\n",
       "      <td>360.0</td>\n",
       "      <td>1.0</td>\n",
       "      <td>Rural</td>\n",
       "      <td>N</td>\n",
       "    </tr>\n",
       "    <tr>\n",
       "      <th>2</th>\n",
       "      <td>LP001005</td>\n",
       "      <td>Male</td>\n",
       "      <td>Yes</td>\n",
       "      <td>0</td>\n",
       "      <td>Graduate</td>\n",
       "      <td>Yes</td>\n",
       "      <td>3000</td>\n",
       "      <td>0.0</td>\n",
       "      <td>66.0</td>\n",
       "      <td>360.0</td>\n",
       "      <td>1.0</td>\n",
       "      <td>Urban</td>\n",
       "      <td>Y</td>\n",
       "    </tr>\n",
       "    <tr>\n",
       "      <th>3</th>\n",
       "      <td>LP001006</td>\n",
       "      <td>Male</td>\n",
       "      <td>Yes</td>\n",
       "      <td>0</td>\n",
       "      <td>Not Graduate</td>\n",
       "      <td>No</td>\n",
       "      <td>2583</td>\n",
       "      <td>2358.0</td>\n",
       "      <td>120.0</td>\n",
       "      <td>360.0</td>\n",
       "      <td>1.0</td>\n",
       "      <td>Urban</td>\n",
       "      <td>Y</td>\n",
       "    </tr>\n",
       "    <tr>\n",
       "      <th>4</th>\n",
       "      <td>LP001008</td>\n",
       "      <td>Male</td>\n",
       "      <td>No</td>\n",
       "      <td>0</td>\n",
       "      <td>Graduate</td>\n",
       "      <td>No</td>\n",
       "      <td>6000</td>\n",
       "      <td>0.0</td>\n",
       "      <td>141.0</td>\n",
       "      <td>360.0</td>\n",
       "      <td>1.0</td>\n",
       "      <td>Urban</td>\n",
       "      <td>Y</td>\n",
       "    </tr>\n",
       "  </tbody>\n",
       "</table>\n",
       "</div>"
      ],
      "text/plain": [
       "    Loan_ID Gender Married Dependents     Education Self_Employed  \\\n",
       "0  LP001002   Male      No          0      Graduate            No   \n",
       "1  LP001003   Male     Yes          1      Graduate            No   \n",
       "2  LP001005   Male     Yes          0      Graduate           Yes   \n",
       "3  LP001006   Male     Yes          0  Not Graduate            No   \n",
       "4  LP001008   Male      No          0      Graduate            No   \n",
       "\n",
       "   ApplicantIncome  CoapplicantIncome  LoanAmount  Loan_Amount_Term  \\\n",
       "0             5849                0.0         NaN             360.0   \n",
       "1             4583             1508.0       128.0             360.0   \n",
       "2             3000                0.0        66.0             360.0   \n",
       "3             2583             2358.0       120.0             360.0   \n",
       "4             6000                0.0       141.0             360.0   \n",
       "\n",
       "   Credit_History Property_Area Loan_Status  \n",
       "0             1.0         Urban           Y  \n",
       "1             1.0         Rural           N  \n",
       "2             1.0         Urban           Y  \n",
       "3             1.0         Urban           Y  \n",
       "4             1.0         Urban           Y  "
      ]
     },
     "execution_count": 3,
     "metadata": {},
     "output_type": "execute_result"
    }
   ],
   "source": [
    "loan.head()"
   ]
  },
  {
   "cell_type": "code",
   "execution_count": 4,
   "id": "62b3b047",
   "metadata": {
    "execution": {
     "iopub.execute_input": "2022-02-17T15:56:25.247383Z",
     "iopub.status.busy": "2022-02-17T15:56:25.246720Z",
     "iopub.status.idle": "2022-02-17T15:56:25.265166Z",
     "shell.execute_reply": "2022-02-17T15:56:25.265708Z",
     "shell.execute_reply.started": "2022-02-17T15:54:46.761527Z"
    },
    "papermill": {
     "duration": 0.124299,
     "end_time": "2022-02-17T15:56:25.265878",
     "exception": false,
     "start_time": "2022-02-17T15:56:25.141579",
     "status": "completed"
    },
    "tags": []
   },
   "outputs": [
    {
     "name": "stdout",
     "output_type": "stream",
     "text": [
      "<class 'pandas.core.frame.DataFrame'>\n",
      "RangeIndex: 614 entries, 0 to 613\n",
      "Data columns (total 13 columns):\n",
      " #   Column             Non-Null Count  Dtype  \n",
      "---  ------             --------------  -----  \n",
      " 0   Loan_ID            614 non-null    object \n",
      " 1   Gender             601 non-null    object \n",
      " 2   Married            611 non-null    object \n",
      " 3   Dependents         599 non-null    object \n",
      " 4   Education          614 non-null    object \n",
      " 5   Self_Employed      582 non-null    object \n",
      " 6   ApplicantIncome    614 non-null    int64  \n",
      " 7   CoapplicantIncome  614 non-null    float64\n",
      " 8   LoanAmount         592 non-null    float64\n",
      " 9   Loan_Amount_Term   600 non-null    float64\n",
      " 10  Credit_History     564 non-null    float64\n",
      " 11  Property_Area      614 non-null    object \n",
      " 12  Loan_Status        614 non-null    object \n",
      "dtypes: float64(4), int64(1), object(8)\n",
      "memory usage: 62.5+ KB\n"
     ]
    }
   ],
   "source": [
    "loan.info()"
   ]
  },
  {
   "cell_type": "code",
   "execution_count": 5,
   "id": "92f78621",
   "metadata": {
    "execution": {
     "iopub.execute_input": "2022-02-17T15:56:25.465083Z",
     "iopub.status.busy": "2022-02-17T15:56:25.464429Z",
     "iopub.status.idle": "2022-02-17T15:56:25.472734Z",
     "shell.execute_reply": "2022-02-17T15:56:25.473305Z",
     "shell.execute_reply.started": "2022-02-17T15:54:46.776142Z"
    },
    "papermill": {
     "duration": 0.109331,
     "end_time": "2022-02-17T15:56:25.473494",
     "exception": false,
     "start_time": "2022-02-17T15:56:25.364163",
     "status": "completed"
    },
    "tags": []
   },
   "outputs": [
    {
     "data": {
      "text/plain": [
       "Loan_ID               0\n",
       "Gender               13\n",
       "Married               3\n",
       "Dependents           15\n",
       "Education             0\n",
       "Self_Employed        32\n",
       "ApplicantIncome       0\n",
       "CoapplicantIncome     0\n",
       "LoanAmount           22\n",
       "Loan_Amount_Term     14\n",
       "Credit_History       50\n",
       "Property_Area         0\n",
       "Loan_Status           0\n",
       "dtype: int64"
      ]
     },
     "execution_count": 5,
     "metadata": {},
     "output_type": "execute_result"
    }
   ],
   "source": [
    "loan.isnull().sum()"
   ]
  },
  {
   "cell_type": "code",
   "execution_count": 6,
   "id": "2ddb05ab",
   "metadata": {
    "execution": {
     "iopub.execute_input": "2022-02-17T15:56:25.675535Z",
     "iopub.status.busy": "2022-02-17T15:56:25.674824Z",
     "iopub.status.idle": "2022-02-17T15:56:25.677556Z",
     "shell.execute_reply": "2022-02-17T15:56:25.678050Z",
     "shell.execute_reply.started": "2022-02-17T15:54:46.788851Z"
    },
    "papermill": {
     "duration": 0.107348,
     "end_time": "2022-02-17T15:56:25.678261",
     "exception": false,
     "start_time": "2022-02-17T15:56:25.570913",
     "status": "completed"
    },
    "tags": []
   },
   "outputs": [
    {
     "data": {
      "text/plain": [
       "Loan_ID               object\n",
       "Gender                object\n",
       "Married               object\n",
       "Dependents            object\n",
       "Education             object\n",
       "Self_Employed         object\n",
       "ApplicantIncome        int64\n",
       "CoapplicantIncome    float64\n",
       "LoanAmount           float64\n",
       "Loan_Amount_Term     float64\n",
       "Credit_History       float64\n",
       "Property_Area         object\n",
       "Loan_Status           object\n",
       "dtype: object"
      ]
     },
     "execution_count": 6,
     "metadata": {},
     "output_type": "execute_result"
    }
   ],
   "source": [
    "loan.dtypes"
   ]
  },
  {
   "cell_type": "markdown",
   "id": "421155d7",
   "metadata": {
    "papermill": {
     "duration": 0.097449,
     "end_time": "2022-02-17T15:56:25.878585",
     "exception": false,
     "start_time": "2022-02-17T15:56:25.781136",
     "status": "completed"
    },
    "tags": []
   },
   "source": [
    "## Target variable (Loan Status)"
   ]
  },
  {
   "cell_type": "code",
   "execution_count": 7,
   "id": "611678c2",
   "metadata": {
    "execution": {
     "iopub.execute_input": "2022-02-17T15:56:26.083942Z",
     "iopub.status.busy": "2022-02-17T15:56:26.083235Z",
     "iopub.status.idle": "2022-02-17T15:56:26.086295Z",
     "shell.execute_reply": "2022-02-17T15:56:26.086857Z",
     "shell.execute_reply.started": "2022-02-17T15:54:46.802772Z"
    },
    "papermill": {
     "duration": 0.110486,
     "end_time": "2022-02-17T15:56:26.087035",
     "exception": false,
     "start_time": "2022-02-17T15:56:25.976549",
     "status": "completed"
    },
    "tags": []
   },
   "outputs": [
    {
     "data": {
      "text/plain": [
       "Y    422\n",
       "N    192\n",
       "Name: Loan_Status, dtype: int64"
      ]
     },
     "execution_count": 7,
     "metadata": {},
     "output_type": "execute_result"
    }
   ],
   "source": [
    "loan['Loan_Status'].value_counts()"
   ]
  },
  {
   "cell_type": "markdown",
   "id": "5810a3f1",
   "metadata": {
    "papermill": {
     "duration": 0.098486,
     "end_time": "2022-02-17T15:56:26.284031",
     "exception": false,
     "start_time": "2022-02-17T15:56:26.185545",
     "status": "completed"
    },
    "tags": []
   },
   "source": [
    "##### Among 614 Loan_Status : Accepted : 422 Rejected : 192"
   ]
  },
  {
   "cell_type": "code",
   "execution_count": 8,
   "id": "04148bbe",
   "metadata": {
    "execution": {
     "iopub.execute_input": "2022-02-17T15:56:26.497896Z",
     "iopub.status.busy": "2022-02-17T15:56:26.493513Z",
     "iopub.status.idle": "2022-02-17T15:56:26.663336Z",
     "shell.execute_reply": "2022-02-17T15:56:26.663951Z",
     "shell.execute_reply.started": "2022-02-17T15:54:46.823123Z"
    },
    "papermill": {
     "duration": 0.280094,
     "end_time": "2022-02-17T15:56:26.664137",
     "exception": false,
     "start_time": "2022-02-17T15:56:26.384043",
     "status": "completed"
    },
    "tags": []
   },
   "outputs": [
    {
     "data": {
      "text/plain": [
       "<AxesSubplot:xlabel='Loan_Status', ylabel='count'>"
      ]
     },
     "execution_count": 8,
     "metadata": {},
     "output_type": "execute_result"
    },
    {
     "data": {
      "image/png": "[encoded data removed]",
      "text/plain": [
       "<Figure size 432x288 with 1 Axes>"
      ]
     },
     "metadata": {
      "needs_background": "light"
     },
     "output_type": "display_data"
    }
   ],
   "source": [
    "sns.countplot(data=loan,x='Loan_Status')"
   ]
  },
  {
   "cell_type": "markdown",
   "id": "8dd8ef54",
   "metadata": {
    "papermill": {
     "duration": 0.098615,
     "end_time": "2022-02-17T15:56:26.861775",
     "exception": false,
     "start_time": "2022-02-17T15:56:26.763160",
     "status": "completed"
    },
    "tags": []
   },
   "source": [
    "## Independent variables (Categorical)\n",
    " ( 'Gender', 'Married', 'Self employed', 'Credit history' )"
   ]
  },
  {
   "cell_type": "markdown",
   "id": "6ca9c108",
   "metadata": {
    "papermill": {
     "duration": 0.098343,
     "end_time": "2022-02-17T15:56:27.060627",
     "exception": false,
     "start_time": "2022-02-17T15:56:26.962284",
     "status": "completed"
    },
    "tags": []
   },
   "source": [
    "## Gender"
   ]
  },
  {
   "cell_type": "code",
   "execution_count": 9,
   "id": "3de30dc8",
   "metadata": {
    "execution": {
     "iopub.execute_input": "2022-02-17T15:56:27.261513Z",
     "iopub.status.busy": "2022-02-17T15:56:27.260886Z",
     "iopub.status.idle": "2022-02-17T15:56:27.268430Z",
     "shell.execute_reply": "2022-02-17T15:56:27.267914Z",
     "shell.execute_reply.started": "2022-02-17T15:54:46.979419Z"
    },
    "papermill": {
     "duration": 0.109076,
     "end_time": "2022-02-17T15:56:27.268577",
     "exception": false,
     "start_time": "2022-02-17T15:56:27.159501",
     "status": "completed"
    },
    "tags": []
   },
   "outputs": [
    {
     "data": {
      "text/plain": [
       "Male      489\n",
       "Female    112\n",
       "Name: Gender, dtype: int64"
      ]
     },
     "execution_count": 9,
     "metadata": {},
     "output_type": "execute_result"
    }
   ],
   "source": [
    "loan['Gender'].value_counts()"
   ]
  },
  {
   "cell_type": "markdown",
   "id": "2e7f2e3b",
   "metadata": {
    "papermill": {
     "duration": 0.125586,
     "end_time": "2022-02-17T15:56:27.496107",
     "exception": false,
     "start_time": "2022-02-17T15:56:27.370521",
     "status": "completed"
    },
    "tags": []
   },
   "source": [
    "#### Among 601 person: Male : 489 Female : 112\n",
    "\n"
   ]
  },
  {
   "cell_type": "code",
   "execution_count": 10,
   "id": "da4c16df",
   "metadata": {
    "execution": {
     "iopub.execute_input": "2022-02-17T15:56:27.773372Z",
     "iopub.status.busy": "2022-02-17T15:56:27.754519Z",
     "iopub.status.idle": "2022-02-17T15:56:27.921302Z",
     "shell.execute_reply": "2022-02-17T15:56:27.920572Z",
     "shell.execute_reply.started": "2022-02-17T15:54:46.992678Z"
    },
    "papermill": {
     "duration": 0.300393,
     "end_time": "2022-02-17T15:56:27.921460",
     "exception": false,
     "start_time": "2022-02-17T15:56:27.621067",
     "status": "completed"
    },
    "tags": []
   },
   "outputs": [
    {
     "data": {
      "text/plain": [
       "<AxesSubplot:xlabel='Gender', ylabel='count'>"
      ]
     },
     "execution_count": 10,
     "metadata": {},
     "output_type": "execute_result"
    },
    {
     "data": {
      "image/png": "[encoded data removed]",
      "text/plain": [
       "<Figure size 432x288 with 1 Axes>"
      ]
     },
     "metadata": {
      "needs_background": "light"
     },
     "output_type": "display_data"
    }
   ],
   "source": [
    "sns.countplot(data=loan,x='Gender')"
   ]
  },
  {
   "cell_type": "code",
   "execution_count": 11,
   "id": "640db00f",
   "metadata": {
    "execution": {
     "iopub.execute_input": "2022-02-17T15:56:28.128247Z",
     "iopub.status.busy": "2022-02-17T15:56:28.127468Z",
     "iopub.status.idle": "2022-02-17T15:56:28.344815Z",
     "shell.execute_reply": "2022-02-17T15:56:28.344238Z",
     "shell.execute_reply.started": "2022-02-17T15:54:47.127833Z"
    },
    "papermill": {
     "duration": 0.320781,
     "end_time": "2022-02-17T15:56:28.344961",
     "exception": false,
     "start_time": "2022-02-17T15:56:28.024180",
     "status": "completed"
    },
    "tags": []
   },
   "outputs": [
    {
     "data": {
      "text/plain": [
       "<AxesSubplot:title={'center':'Gender'}>"
      ]
     },
     "execution_count": 11,
     "metadata": {},
     "output_type": "execute_result"
    },
    {
     "data": {
      "image/png": "[encoded data removed]",
      "text/plain": [
       "<Figure size 432x288 with 1 Axes>"
      ]
     },
     "metadata": {
      "needs_background": "light"
     },
     "output_type": "display_data"
    }
   ],
   "source": [
    "loan['Gender'].value_counts(normalize=True).plot.bar(title='Gender')"
   ]
  },
  {
   "cell_type": "markdown",
   "id": "0ba77111",
   "metadata": {
    "papermill": {
     "duration": 0.101663,
     "end_time": "2022-02-17T15:56:28.548705",
     "exception": false,
     "start_time": "2022-02-17T15:56:28.447042",
     "status": "completed"
    },
    "tags": []
   },
   "source": [
    "#### the \"Gender\" variable contain Male : 81% Female: 19%\n"
   ]
  },
  {
   "cell_type": "code",
   "execution_count": 12,
   "id": "c9073372",
   "metadata": {
    "execution": {
     "iopub.execute_input": "2022-02-17T15:56:28.756915Z",
     "iopub.status.busy": "2022-02-17T15:56:28.756261Z",
     "iopub.status.idle": "2022-02-17T15:56:28.764594Z",
     "shell.execute_reply": "2022-02-17T15:56:28.765244Z",
     "shell.execute_reply.started": "2022-02-17T15:54:47.288405Z"
    },
    "papermill": {
     "duration": 0.11367,
     "end_time": "2022-02-17T15:56:28.765415",
     "exception": false,
     "start_time": "2022-02-17T15:56:28.651745",
     "status": "completed"
    },
    "tags": []
   },
   "outputs": [
    {
     "data": {
      "text/plain": [
       "Gender  Loan_Status\n",
       "Female  Y               75\n",
       "        N               37\n",
       "Male    Y              339\n",
       "        N              150\n",
       "Name: Loan_Status, dtype: int64"
      ]
     },
     "execution_count": 12,
     "metadata": {},
     "output_type": "execute_result"
    }
   ],
   "source": [
    "loan.groupby('Gender')['Loan_Status'].value_counts()"
   ]
  },
  {
   "cell_type": "code",
   "execution_count": 13,
   "id": "ed3024f6",
   "metadata": {
    "execution": {
     "iopub.execute_input": "2022-02-17T15:56:28.977529Z",
     "iopub.status.busy": "2022-02-17T15:56:28.976799Z",
     "iopub.status.idle": "2022-02-17T15:56:29.186595Z",
     "shell.execute_reply": "2022-02-17T15:56:29.186053Z",
     "shell.execute_reply.started": "2022-02-17T15:54:47.300214Z"
    },
    "papermill": {
     "duration": 0.319071,
     "end_time": "2022-02-17T15:56:29.186745",
     "exception": false,
     "start_time": "2022-02-17T15:56:28.867674",
     "status": "completed"
    },
    "tags": []
   },
   "outputs": [
    {
     "data": {
      "text/plain": [
       "<AxesSubplot:xlabel='Gender', ylabel='count'>"
      ]
     },
     "execution_count": 13,
     "metadata": {},
     "output_type": "execute_result"
    },
    {
     "data": {
      "image/png": "[encoded data removed]",
      "text/plain": [
       "<Figure size 432x288 with 1 Axes>"
      ]
     },
     "metadata": {
      "needs_background": "light"
     },
     "output_type": "display_data"
    }
   ],
   "source": [
    "sns.countplot(x='Gender',hue='Loan_Status',data=loan)"
   ]
  },
  {
   "cell_type": "markdown",
   "id": "9f30a323",
   "metadata": {
    "papermill": {
     "duration": 0.102665,
     "end_time": "2022-02-17T15:56:29.393331",
     "exception": false,
     "start_time": "2022-02-17T15:56:29.290666",
     "status": "completed"
    },
    "tags": []
   },
   "source": [
    "Number of Female whose Loan was approved : 75\n",
    "\n",
    "Number of Male whose Loan was approved : 339\n",
    "\n",
    "Number of Female whose Loan was not approved : 37\n",
    "\n",
    "Number of Male whose Loan was not approved : 150\n",
    "\n",
    "Proportion of Male applicants is higher for the approved loans."
   ]
  },
  {
   "cell_type": "code",
   "execution_count": 14,
   "id": "9d03518e",
   "metadata": {
    "execution": {
     "iopub.execute_input": "2022-02-17T15:56:29.604180Z",
     "iopub.status.busy": "2022-02-17T15:56:29.603552Z",
     "iopub.status.idle": "2022-02-17T15:56:29.978014Z",
     "shell.execute_reply": "2022-02-17T15:56:29.977436Z",
     "shell.execute_reply.started": "2022-02-17T15:54:47.504981Z"
    },
    "papermill": {
     "duration": 0.480775,
     "end_time": "2022-02-17T15:56:29.978166",
     "exception": false,
     "start_time": "2022-02-17T15:56:29.497391",
     "status": "completed"
    },
    "tags": []
   },
   "outputs": [
    {
     "data": {
      "text/plain": [
       "<AxesSubplot:xlabel='Gender', ylabel='ApplicantIncome'>"
      ]
     },
     "execution_count": 14,
     "metadata": {},
     "output_type": "execute_result"
    },
    {
     "data": {
      "image/png": "[encoded data removed]",
      "text/plain": [
       "<Figure size 432x288 with 1 Axes>"
      ]
     },
     "metadata": {
      "needs_background": "light"
     },
     "output_type": "display_data"
    }
   ],
   "source": [
    "sns.barplot(x='Gender',hue='Loan_Status',y='ApplicantIncome',data=loan)"
   ]
  },
  {
   "cell_type": "code",
   "execution_count": 15,
   "id": "f97e9c0f",
   "metadata": {
    "execution": {
     "iopub.execute_input": "2022-02-17T15:56:30.194892Z",
     "iopub.status.busy": "2022-02-17T15:56:30.194160Z",
     "iopub.status.idle": "2022-02-17T15:56:30.569463Z",
     "shell.execute_reply": "2022-02-17T15:56:30.568885Z",
     "shell.execute_reply.started": "2022-02-17T15:54:47.845870Z"
    },
    "papermill": {
     "duration": 0.485548,
     "end_time": "2022-02-17T15:56:30.569622",
     "exception": false,
     "start_time": "2022-02-17T15:56:30.084074",
     "status": "completed"
    },
    "tags": []
   },
   "outputs": [
    {
     "data": {
      "text/plain": [
       "<AxesSubplot:xlabel='Gender', ylabel='LoanAmount'>"
      ]
     },
     "execution_count": 15,
     "metadata": {},
     "output_type": "execute_result"
    },
    {
     "data": {
      "image/png": "[encoded data removed]",
      "text/plain": [
       "<Figure size 432x288 with 1 Axes>"
      ]
     },
     "metadata": {
      "needs_background": "light"
     },
     "output_type": "display_data"
    }
   ],
   "source": [
    "sns.barplot(x='Gender',hue='Loan_Status',y='LoanAmount',data=loan)"
   ]
  },
  {
   "cell_type": "code",
   "execution_count": 16,
   "id": "4ac6021a",
   "metadata": {
    "execution": {
     "iopub.execute_input": "2022-02-17T15:56:30.792633Z",
     "iopub.status.busy": "2022-02-17T15:56:30.790643Z",
     "iopub.status.idle": "2022-02-17T15:56:31.551636Z",
     "shell.execute_reply": "2022-02-17T15:56:31.550989Z",
     "shell.execute_reply.started": "2022-02-17T15:54:48.192258Z"
    },
    "papermill": {
     "duration": 0.87474,
     "end_time": "2022-02-17T15:56:31.551776",
     "exception": false,
     "start_time": "2022-02-17T15:56:30.677036",
     "status": "completed"
    },
    "tags": []
   },
   "outputs": [
    {
     "data": {
      "text/plain": [
       "<seaborn.axisgrid.FacetGrid at 0x7fe7d17be350>"
      ]
     },
     "execution_count": 16,
     "metadata": {},
     "output_type": "execute_result"
    },
    {
     "data": {
      "image/png": "[encoded data removed]",
      "text/plain": [
       "<Figure size 788.625x360 with 2 Axes>"
      ]
     },
     "metadata": {
      "needs_background": "light"
     },
     "output_type": "display_data"
    }
   ],
   "source": [
    "sns.catplot(x='Gender',hue='Loan_Status',y='ApplicantIncome',data=loan,kind='bar',col='Education')"
   ]
  },
  {
   "cell_type": "markdown",
   "id": "d6d89816",
   "metadata": {
    "papermill": {
     "duration": 0.106897,
     "end_time": "2022-02-17T15:56:31.768897",
     "exception": false,
     "start_time": "2022-02-17T15:56:31.662000",
     "status": "completed"
    },
    "tags": []
   },
   "source": [
    "## Married"
   ]
  },
  {
   "cell_type": "code",
   "execution_count": 17,
   "id": "357d485a",
   "metadata": {
    "execution": {
     "iopub.execute_input": "2022-02-17T15:56:31.992002Z",
     "iopub.status.busy": "2022-02-17T15:56:31.991297Z",
     "iopub.status.idle": "2022-02-17T15:56:31.994447Z",
     "shell.execute_reply": "2022-02-17T15:56:31.994984Z",
     "shell.execute_reply.started": "2022-02-17T15:54:48.913166Z"
    },
    "papermill": {
     "duration": 0.118027,
     "end_time": "2022-02-17T15:56:31.995169",
     "exception": false,
     "start_time": "2022-02-17T15:56:31.877142",
     "status": "completed"
    },
    "tags": []
   },
   "outputs": [
    {
     "data": {
      "text/plain": [
       "611"
      ]
     },
     "execution_count": 17,
     "metadata": {},
     "output_type": "execute_result"
    }
   ],
   "source": [
    "loan['Married'].count()"
   ]
  },
  {
   "cell_type": "code",
   "execution_count": 18,
   "id": "398f53f0",
   "metadata": {
    "execution": {
     "iopub.execute_input": "2022-02-17T15:56:32.215566Z",
     "iopub.status.busy": "2022-02-17T15:56:32.214897Z",
     "iopub.status.idle": "2022-02-17T15:56:32.222286Z",
     "shell.execute_reply": "2022-02-17T15:56:32.222791Z",
     "shell.execute_reply.started": "2022-02-17T15:54:48.922335Z"
    },
    "papermill": {
     "duration": 0.118625,
     "end_time": "2022-02-17T15:56:32.222978",
     "exception": false,
     "start_time": "2022-02-17T15:56:32.104353",
     "status": "completed"
    },
    "tags": []
   },
   "outputs": [
    {
     "data": {
      "text/plain": [
       "Yes    398\n",
       "No     213\n",
       "Name: Married, dtype: int64"
      ]
     },
     "execution_count": 18,
     "metadata": {},
     "output_type": "execute_result"
    }
   ],
   "source": [
    "loan['Married'].value_counts()"
   ]
  },
  {
   "cell_type": "markdown",
   "id": "0597d62d",
   "metadata": {
    "papermill": {
     "duration": 0.108623,
     "end_time": "2022-02-17T15:56:32.442453",
     "exception": false,
     "start_time": "2022-02-17T15:56:32.333830",
     "status": "completed"
    },
    "tags": []
   },
   "source": [
    "##### Total number of people : 611\n",
    "\n",
    "Married : 398\n",
    "\n",
    "Unmarried : 213\n"
   ]
  },
  {
   "cell_type": "code",
   "execution_count": 19,
   "id": "859e2d29",
   "metadata": {
    "execution": {
     "iopub.execute_input": "2022-02-17T15:56:32.663688Z",
     "iopub.status.busy": "2022-02-17T15:56:32.662959Z",
     "iopub.status.idle": "2022-02-17T15:56:32.840516Z",
     "shell.execute_reply": "2022-02-17T15:56:32.839765Z",
     "shell.execute_reply.started": "2022-02-17T15:54:48.944476Z"
    },
    "papermill": {
     "duration": 0.29004,
     "end_time": "2022-02-17T15:56:32.840665",
     "exception": false,
     "start_time": "2022-02-17T15:56:32.550625",
     "status": "completed"
    },
    "tags": []
   },
   "outputs": [
    {
     "data": {
      "text/plain": [
       "<AxesSubplot:xlabel='Married', ylabel='count'>"
      ]
     },
     "execution_count": 19,
     "metadata": {},
     "output_type": "execute_result"
    },
    {
     "data": {
      "image/png": "[encoded data removed]",
      "text/plain": [
       "<Figure size 432x288 with 1 Axes>"
      ]
     },
     "metadata": {
      "needs_background": "light"
     },
     "output_type": "display_data"
    }
   ],
   "source": [
    "sns.countplot(data=loan,x='Married')"
   ]
  },
  {
   "cell_type": "code",
   "execution_count": 20,
   "id": "04510e5f",
   "metadata": {
    "execution": {
     "iopub.execute_input": "2022-02-17T15:56:33.095685Z",
     "iopub.status.busy": "2022-02-17T15:56:33.091090Z",
     "iopub.status.idle": "2022-02-17T15:56:33.253361Z",
     "shell.execute_reply": "2022-02-17T15:56:33.254106Z",
     "shell.execute_reply.started": "2022-02-17T15:54:49.089860Z"
    },
    "papermill": {
     "duration": 0.303829,
     "end_time": "2022-02-17T15:56:33.254390",
     "exception": false,
     "start_time": "2022-02-17T15:56:32.950561",
     "status": "completed"
    },
    "tags": []
   },
   "outputs": [
    {
     "data": {
      "text/plain": [
       "<AxesSubplot:title={'center':'Married'}>"
      ]
     },
     "execution_count": 20,
     "metadata": {},
     "output_type": "execute_result"
    },
    {
     "data": {
      "image/png": "[encoded data removed]",
      "text/plain": [
       "<Figure size 432x288 with 1 Axes>"
      ]
     },
     "metadata": {
      "needs_background": "light"
     },
     "output_type": "display_data"
    }
   ],
   "source": [
    "loan['Married'].value_counts(normalize=True).plot.bar(title='Married')"
   ]
  },
  {
   "cell_type": "markdown",
   "id": "7c968c25",
   "metadata": {
    "papermill": {
     "duration": 0.109787,
     "end_time": "2022-02-17T15:56:33.501573",
     "exception": false,
     "start_time": "2022-02-17T15:56:33.391786",
     "status": "completed"
    },
    "tags": []
   },
   "source": [
    "#### From the Grapch we see that :\n",
    "\n",
    "Number of married people : 65%\n",
    "\n",
    "Number of unmarried people : 35%"
   ]
  },
  {
   "cell_type": "code",
   "execution_count": 21,
   "id": "b99f9612",
   "metadata": {
    "execution": {
     "iopub.execute_input": "2022-02-17T15:56:33.725460Z",
     "iopub.status.busy": "2022-02-17T15:56:33.724754Z",
     "iopub.status.idle": "2022-02-17T15:56:33.732611Z",
     "shell.execute_reply": "2022-02-17T15:56:33.733091Z",
     "shell.execute_reply.started": "2022-02-17T15:54:49.236456Z"
    },
    "papermill": {
     "duration": 0.12163,
     "end_time": "2022-02-17T15:56:33.733269",
     "exception": false,
     "start_time": "2022-02-17T15:56:33.611639",
     "status": "completed"
    },
    "tags": []
   },
   "outputs": [
    {
     "data": {
      "text/plain": [
       "Married  Loan_Status\n",
       "No       Y              134\n",
       "         N               79\n",
       "Yes      Y              285\n",
       "         N              113\n",
       "Name: Loan_Status, dtype: int64"
      ]
     },
     "execution_count": 21,
     "metadata": {},
     "output_type": "execute_result"
    }
   ],
   "source": [
    "loan.groupby('Married')['Loan_Status'].value_counts()"
   ]
  },
  {
   "cell_type": "code",
   "execution_count": 22,
   "id": "183f71f3",
   "metadata": {
    "execution": {
     "iopub.execute_input": "2022-02-17T15:56:33.962701Z",
     "iopub.status.busy": "2022-02-17T15:56:33.957557Z",
     "iopub.status.idle": "2022-02-17T15:56:34.160648Z",
     "shell.execute_reply": "2022-02-17T15:56:34.160066Z",
     "shell.execute_reply.started": "2022-02-17T15:54:49.248676Z"
    },
    "papermill": {
     "duration": 0.317186,
     "end_time": "2022-02-17T15:56:34.160788",
     "exception": false,
     "start_time": "2022-02-17T15:56:33.843602",
     "status": "completed"
    },
    "tags": []
   },
   "outputs": [
    {
     "data": {
      "text/plain": [
       "<AxesSubplot:xlabel='Married', ylabel='count'>"
      ]
     },
     "execution_count": 22,
     "metadata": {},
     "output_type": "execute_result"
    },
    {
     "data": {
      "image/png": "[encoded data removed]",
      "text/plain": [
       "<Figure size 432x288 with 1 Axes>"
      ]
     },
     "metadata": {
      "needs_background": "light"
     },
     "output_type": "display_data"
    }
   ],
   "source": [
    "sns.countplot(x='Married',hue='Loan_Status',data=loan)"
   ]
  },
  {
   "cell_type": "markdown",
   "id": "3bf9209f",
   "metadata": {
    "papermill": {
     "duration": 0.112341,
     "end_time": "2022-02-17T15:56:34.385493",
     "exception": false,
     "start_time": "2022-02-17T15:56:34.273152",
     "status": "completed"
    },
    "tags": []
   },
   "source": [
    "Number of married people whose Loan was approved : 285\n",
    "\n",
    "Number of married people whose Loan was not approved : 113\n",
    "\n",
    "Number of unmarried people whose Loan was approved : 134\n",
    "\n",
    "Number of unmarried people whose Loan was not approved : 79\n",
    "\n",
    "Proportion of Married applicants is higher for the approved loans."
   ]
  },
  {
   "cell_type": "code",
   "execution_count": 23,
   "id": "001d309b",
   "metadata": {
    "execution": {
     "iopub.execute_input": "2022-02-17T15:56:34.614287Z",
     "iopub.status.busy": "2022-02-17T15:56:34.613634Z",
     "iopub.status.idle": "2022-02-17T15:56:34.967279Z",
     "shell.execute_reply": "2022-02-17T15:56:34.967795Z",
     "shell.execute_reply.started": "2022-02-17T15:54:49.419525Z"
    },
    "papermill": {
     "duration": 0.469813,
     "end_time": "2022-02-17T15:56:34.967963",
     "exception": false,
     "start_time": "2022-02-17T15:56:34.498150",
     "status": "completed"
    },
    "tags": []
   },
   "outputs": [
    {
     "data": {
      "text/plain": [
       "<AxesSubplot:xlabel='Married', ylabel='LoanAmount'>"
      ]
     },
     "execution_count": 23,
     "metadata": {},
     "output_type": "execute_result"
    },
    {
     "data": {
      "image/png": "[encoded data removed]",
      "text/plain": [
       "<Figure size 432x288 with 1 Axes>"
      ]
     },
     "metadata": {
      "needs_background": "light"
     },
     "output_type": "display_data"
    }
   ],
   "source": [
    "sns.barplot(x='Married',hue='Loan_Status',y='LoanAmount',data=loan)"
   ]
  },
  {
   "cell_type": "code",
   "execution_count": 24,
   "id": "0909149b",
   "metadata": {
    "execution": {
     "iopub.execute_input": "2022-02-17T15:56:35.209069Z",
     "iopub.status.busy": "2022-02-17T15:56:35.207075Z",
     "iopub.status.idle": "2022-02-17T15:56:35.689508Z",
     "shell.execute_reply": "2022-02-17T15:56:35.688825Z",
     "shell.execute_reply.started": "2022-02-17T15:54:49.733522Z"
    },
    "papermill": {
     "duration": 0.607213,
     "end_time": "2022-02-17T15:56:35.689659",
     "exception": false,
     "start_time": "2022-02-17T15:56:35.082446",
     "status": "completed"
    },
    "tags": []
   },
   "outputs": [
    {
     "data": {
      "text/plain": [
       "<AxesSubplot:xlabel='Married', ylabel='ApplicantIncome'>"
      ]
     },
     "execution_count": 24,
     "metadata": {},
     "output_type": "execute_result"
    },
    {
     "data": {
      "image/png": "[encoded data removed]",
      "text/plain": [
       "<Figure size 432x288 with 1 Axes>"
      ]
     },
     "metadata": {
      "needs_background": "light"
     },
     "output_type": "display_data"
    }
   ],
   "source": [
    "sns.barplot(x='Married',hue='Loan_Status',y='ApplicantIncome',data=loan)"
   ]
  },
  {
   "cell_type": "code",
   "execution_count": 25,
   "id": "1ca451bc",
   "metadata": {
    "execution": {
     "iopub.execute_input": "2022-02-17T15:56:35.929479Z",
     "iopub.status.busy": "2022-02-17T15:56:35.928468Z",
     "iopub.status.idle": "2022-02-17T15:56:36.689884Z",
     "shell.execute_reply": "2022-02-17T15:56:36.690400Z",
     "shell.execute_reply.started": "2022-02-17T15:54:50.062983Z"
    },
    "papermill": {
     "duration": 0.884738,
     "end_time": "2022-02-17T15:56:36.690586",
     "exception": false,
     "start_time": "2022-02-17T15:56:35.805848",
     "status": "completed"
    },
    "tags": []
   },
   "outputs": [
    {
     "data": {
      "text/plain": [
       "<seaborn.axisgrid.FacetGrid at 0x7fe7d12b02d0>"
      ]
     },
     "execution_count": 25,
     "metadata": {},
     "output_type": "execute_result"
    },
    {
     "data": {
      "image/png": "[encoded data removed]",
      "text/plain": [
       "<Figure size 788.625x360 with 2 Axes>"
      ]
     },
     "metadata": {
      "needs_background": "light"
     },
     "output_type": "display_data"
    }
   ],
   "source": [
    "sns.catplot(x='Married',hue='Loan_Status',y='ApplicantIncome',data=loan,kind='bar',col='Education')"
   ]
  },
  {
   "cell_type": "markdown",
   "id": "07aebeef",
   "metadata": {
    "papermill": {
     "duration": 0.115745,
     "end_time": "2022-02-17T15:56:36.922957",
     "exception": false,
     "start_time": "2022-02-17T15:56:36.807212",
     "status": "completed"
    },
    "tags": []
   },
   "source": [
    "## Self_Employed"
   ]
  },
  {
   "cell_type": "code",
   "execution_count": 26,
   "id": "08ff9ba3",
   "metadata": {
    "execution": {
     "iopub.execute_input": "2022-02-17T15:56:37.164131Z",
     "iopub.status.busy": "2022-02-17T15:56:37.162297Z",
     "iopub.status.idle": "2022-02-17T15:56:37.168745Z",
     "shell.execute_reply": "2022-02-17T15:56:37.169274Z",
     "shell.execute_reply.started": "2022-02-17T15:54:51.013847Z"
    },
    "papermill": {
     "duration": 0.128887,
     "end_time": "2022-02-17T15:56:37.169445",
     "exception": false,
     "start_time": "2022-02-17T15:56:37.040558",
     "status": "completed"
    },
    "tags": []
   },
   "outputs": [
    {
     "data": {
      "text/plain": [
       "582"
      ]
     },
     "execution_count": 26,
     "metadata": {},
     "output_type": "execute_result"
    }
   ],
   "source": [
    "loan['Self_Employed'].count()"
   ]
  },
  {
   "cell_type": "code",
   "execution_count": 27,
   "id": "4be0d88f",
   "metadata": {
    "execution": {
     "iopub.execute_input": "2022-02-17T15:56:37.405817Z",
     "iopub.status.busy": "2022-02-17T15:56:37.404843Z",
     "iopub.status.idle": "2022-02-17T15:56:37.412111Z",
     "shell.execute_reply": "2022-02-17T15:56:37.412569Z",
     "shell.execute_reply.started": "2022-02-17T15:54:51.024606Z"
    },
    "papermill": {
     "duration": 0.126198,
     "end_time": "2022-02-17T15:56:37.412744",
     "exception": false,
     "start_time": "2022-02-17T15:56:37.286546",
     "status": "completed"
    },
    "tags": []
   },
   "outputs": [
    {
     "data": {
      "text/plain": [
       "No     500\n",
       "Yes     82\n",
       "Name: Self_Employed, dtype: int64"
      ]
     },
     "execution_count": 27,
     "metadata": {},
     "output_type": "execute_result"
    }
   ],
   "source": [
    "loan['Self_Employed'].value_counts()"
   ]
  },
  {
   "cell_type": "markdown",
   "id": "cc77381c",
   "metadata": {
    "papermill": {
     "duration": 0.116126,
     "end_time": "2022-02-17T15:56:37.645127",
     "exception": false,
     "start_time": "2022-02-17T15:56:37.529001",
     "status": "completed"
    },
    "tags": []
   },
   "source": [
    "#### Total number of people : 582\n",
    "\n",
    "Self_Employed : 82\n",
    "\n",
    "Not_Self_Employed : 500"
   ]
  },
  {
   "cell_type": "code",
   "execution_count": 28,
   "id": "a1fd8da6",
   "metadata": {
    "execution": {
     "iopub.execute_input": "2022-02-17T15:56:37.882743Z",
     "iopub.status.busy": "2022-02-17T15:56:37.881736Z",
     "iopub.status.idle": "2022-02-17T15:56:38.060871Z",
     "shell.execute_reply": "2022-02-17T15:56:38.060280Z",
     "shell.execute_reply.started": "2022-02-17T15:54:51.044409Z"
    },
    "papermill": {
     "duration": 0.300276,
     "end_time": "2022-02-17T15:56:38.061026",
     "exception": false,
     "start_time": "2022-02-17T15:56:37.760750",
     "status": "completed"
    },
    "tags": []
   },
   "outputs": [
    {
     "data": {
      "text/plain": [
       "<AxesSubplot:title={'center':'Self Employed'}>"
      ]
     },
     "execution_count": 28,
     "metadata": {},
     "output_type": "execute_result"
    },
    {
     "data": {
      "image/png": "[encoded data removed]",
      "text/plain": [
       "<Figure size 432x288 with 1 Axes>"
      ]
     },
     "metadata": {
      "needs_background": "light"
     },
     "output_type": "display_data"
    }
   ],
   "source": [
    "loan['Self_Employed'].value_counts(normalize=True).plot.bar(title='Self Employed')"
   ]
  },
  {
   "cell_type": "markdown",
   "id": "12f49375",
   "metadata": {
    "papermill": {
     "duration": 0.117758,
     "end_time": "2022-02-17T15:56:38.297446",
     "exception": false,
     "start_time": "2022-02-17T15:56:38.179688",
     "status": "completed"
    },
    "tags": []
   },
   "source": [
    "##### Among 582 people only 14% are Self_Employed and rest of the 86% are Not_Self_Employed\n",
    "\n"
   ]
  },
  {
   "cell_type": "code",
   "execution_count": 29,
   "id": "5f65cbcd",
   "metadata": {
    "execution": {
     "iopub.execute_input": "2022-02-17T15:56:38.537103Z",
     "iopub.status.busy": "2022-02-17T15:56:38.536055Z",
     "iopub.status.idle": "2022-02-17T15:56:38.545328Z",
     "shell.execute_reply": "2022-02-17T15:56:38.545930Z",
     "shell.execute_reply.started": "2022-02-17T15:54:51.173572Z"
    },
    "papermill": {
     "duration": 0.130671,
     "end_time": "2022-02-17T15:56:38.546100",
     "exception": false,
     "start_time": "2022-02-17T15:56:38.415429",
     "status": "completed"
    },
    "tags": []
   },
   "outputs": [
    {
     "data": {
      "text/plain": [
       "Self_Employed  Loan_Status\n",
       "No             Y              343\n",
       "               N              157\n",
       "Yes            Y               56\n",
       "               N               26\n",
       "Name: Loan_Status, dtype: int64"
      ]
     },
     "execution_count": 29,
     "metadata": {},
     "output_type": "execute_result"
    }
   ],
   "source": [
    "loan.groupby('Self_Employed')['Loan_Status'].value_counts()"
   ]
  },
  {
   "cell_type": "code",
   "execution_count": 30,
   "id": "8985c9fe",
   "metadata": {
    "execution": {
     "iopub.execute_input": "2022-02-17T15:56:38.787421Z",
     "iopub.status.busy": "2022-02-17T15:56:38.786716Z",
     "iopub.status.idle": "2022-02-17T15:56:38.997019Z",
     "shell.execute_reply": "2022-02-17T15:56:38.996442Z",
     "shell.execute_reply.started": "2022-02-17T15:54:51.184488Z"
    },
    "papermill": {
     "duration": 0.332705,
     "end_time": "2022-02-17T15:56:38.997172",
     "exception": false,
     "start_time": "2022-02-17T15:56:38.664467",
     "status": "completed"
    },
    "tags": []
   },
   "outputs": [
    {
     "data": {
      "text/plain": [
       "<AxesSubplot:xlabel='Self_Employed', ylabel='count'>"
      ]
     },
     "execution_count": 30,
     "metadata": {},
     "output_type": "execute_result"
    },
    {
     "data": {
      "image/png": "[encoded data removed]",
      "text/plain": [
       "<Figure size 432x288 with 1 Axes>"
      ]
     },
     "metadata": {
      "needs_background": "light"
     },
     "output_type": "display_data"
    }
   ],
   "source": [
    "sns.countplot(x='Self_Employed',hue='Loan_Status',data=loan)"
   ]
  },
  {
   "cell_type": "markdown",
   "id": "8f0a6ea6",
   "metadata": {
    "papermill": {
     "duration": 0.120081,
     "end_time": "2022-02-17T15:56:39.237495",
     "exception": false,
     "start_time": "2022-02-17T15:56:39.117414",
     "status": "completed"
    },
    "tags": []
   },
   "source": [
    "People who are Self_Employed and Loan was approved : 56\n",
    "\n",
    "People who are Self_Employed and Loan was not approved : 26\n",
    "\n",
    "People who are not Self_Employed and Loan was approved : 343\n",
    "\n",
    "People who are not Self_Employed and Loan was not approved : 157\n",
    "\n",
    "There is nothing significant we can infer from Self_Employed vs Loan_Status plot."
   ]
  },
  {
   "cell_type": "code",
   "execution_count": 31,
   "id": "5e0d1362",
   "metadata": {
    "execution": {
     "iopub.execute_input": "2022-02-17T15:56:39.479180Z",
     "iopub.status.busy": "2022-02-17T15:56:39.478558Z",
     "iopub.status.idle": "2022-02-17T15:56:39.822866Z",
     "shell.execute_reply": "2022-02-17T15:56:39.822317Z",
     "shell.execute_reply.started": "2022-02-17T15:54:51.322788Z"
    },
    "papermill": {
     "duration": 0.466474,
     "end_time": "2022-02-17T15:56:39.823029",
     "exception": false,
     "start_time": "2022-02-17T15:56:39.356555",
     "status": "completed"
    },
    "tags": []
   },
   "outputs": [
    {
     "data": {
      "text/plain": [
       "<AxesSubplot:xlabel='Self_Employed', ylabel='LoanAmount'>"
      ]
     },
     "execution_count": 31,
     "metadata": {},
     "output_type": "execute_result"
    },
    {
     "data": {
      "image/png": "[encoded data removed]",
      "text/plain": [
       "<Figure size 432x288 with 1 Axes>"
      ]
     },
     "metadata": {
      "needs_background": "light"
     },
     "output_type": "display_data"
    }
   ],
   "source": [
    "sns.barplot(x='Self_Employed',hue='Loan_Status',y='LoanAmount',data=loan)"
   ]
  },
  {
   "cell_type": "code",
   "execution_count": 32,
   "id": "238c642f",
   "metadata": {
    "execution": {
     "iopub.execute_input": "2022-02-17T15:56:40.075656Z",
     "iopub.status.busy": "2022-02-17T15:56:40.073844Z",
     "iopub.status.idle": "2022-02-17T15:56:40.433084Z",
     "shell.execute_reply": "2022-02-17T15:56:40.432576Z",
     "shell.execute_reply.started": "2022-02-17T15:54:51.558861Z"
    },
    "papermill": {
     "duration": 0.488859,
     "end_time": "2022-02-17T15:56:40.433255",
     "exception": false,
     "start_time": "2022-02-17T15:56:39.944396",
     "status": "completed"
    },
    "tags": []
   },
   "outputs": [
    {
     "data": {
      "text/plain": [
       "<AxesSubplot:xlabel='Self_Employed', ylabel='ApplicantIncome'>"
      ]
     },
     "execution_count": 32,
     "metadata": {},
     "output_type": "execute_result"
    },
    {
     "data": {
      "image/png": "[encoded data removed]",
      "text/plain": [
       "<Figure size 432x288 with 1 Axes>"
      ]
     },
     "metadata": {
      "needs_background": "light"
     },
     "output_type": "display_data"
    }
   ],
   "source": [
    "sns.barplot(x='Self_Employed',hue='Loan_Status',y='ApplicantIncome',data=loan)"
   ]
  },
  {
   "cell_type": "markdown",
   "id": "ace7c566",
   "metadata": {
    "papermill": {
     "duration": 0.122355,
     "end_time": "2022-02-17T15:56:40.677043",
     "exception": false,
     "start_time": "2022-02-17T15:56:40.554688",
     "status": "completed"
    },
    "tags": []
   },
   "source": [
    "## Credit History "
   ]
  },
  {
   "cell_type": "code",
   "execution_count": 33,
   "id": "d2f0b154",
   "metadata": {
    "execution": {
     "iopub.execute_input": "2022-02-17T15:56:40.924090Z",
     "iopub.status.busy": "2022-02-17T15:56:40.923120Z",
     "iopub.status.idle": "2022-02-17T15:56:40.928813Z",
     "shell.execute_reply": "2022-02-17T15:56:40.929427Z",
     "shell.execute_reply.started": "2022-02-17T15:54:51.789133Z"
    },
    "papermill": {
     "duration": 0.130608,
     "end_time": "2022-02-17T15:56:40.929589",
     "exception": false,
     "start_time": "2022-02-17T15:56:40.798981",
     "status": "completed"
    },
    "tags": []
   },
   "outputs": [
    {
     "data": {
      "text/plain": [
       "564"
      ]
     },
     "execution_count": 33,
     "metadata": {},
     "output_type": "execute_result"
    }
   ],
   "source": [
    "loan['Credit_History'].count()"
   ]
  },
  {
   "cell_type": "code",
   "execution_count": 34,
   "id": "6c7bab82",
   "metadata": {
    "execution": {
     "iopub.execute_input": "2022-02-17T15:56:41.185160Z",
     "iopub.status.busy": "2022-02-17T15:56:41.184444Z",
     "iopub.status.idle": "2022-02-17T15:56:41.187563Z",
     "shell.execute_reply": "2022-02-17T15:56:41.188054Z",
     "shell.execute_reply.started": "2022-02-17T15:54:51.795907Z"
    },
    "papermill": {
     "duration": 0.134809,
     "end_time": "2022-02-17T15:56:41.188209",
     "exception": false,
     "start_time": "2022-02-17T15:56:41.053400",
     "status": "completed"
    },
    "tags": []
   },
   "outputs": [
    {
     "data": {
      "text/plain": [
       "1.0    475\n",
       "0.0     89\n",
       "Name: Credit_History, dtype: int64"
      ]
     },
     "execution_count": 34,
     "metadata": {},
     "output_type": "execute_result"
    }
   ],
   "source": [
    "loan.Credit_History.value_counts()"
   ]
  },
  {
   "cell_type": "markdown",
   "id": "0548aed5",
   "metadata": {
    "papermill": {
     "duration": 0.121363,
     "end_time": "2022-02-17T15:56:41.431675",
     "exception": false,
     "start_time": "2022-02-17T15:56:41.310312",
     "status": "completed"
    },
    "tags": []
   },
   "source": [
    "#### Total number of debts : 564\n",
    "\n",
    "Repaid Debts : 475\n",
    "\n",
    "Not Repaid Debts : 89"
   ]
  },
  {
   "cell_type": "code",
   "execution_count": 35,
   "id": "423bd87b",
   "metadata": {
    "execution": {
     "iopub.execute_input": "2022-02-17T15:56:41.679622Z",
     "iopub.status.busy": "2022-02-17T15:56:41.678652Z",
     "iopub.status.idle": "2022-02-17T15:56:41.864389Z",
     "shell.execute_reply": "2022-02-17T15:56:41.865103Z",
     "shell.execute_reply.started": "2022-02-17T15:54:51.814693Z"
    },
    "papermill": {
     "duration": 0.311604,
     "end_time": "2022-02-17T15:56:41.865301",
     "exception": false,
     "start_time": "2022-02-17T15:56:41.553697",
     "status": "completed"
    },
    "tags": []
   },
   "outputs": [
    {
     "data": {
      "text/plain": [
       "<AxesSubplot:title={'center':'Credit History'}>"
      ]
     },
     "execution_count": 35,
     "metadata": {},
     "output_type": "execute_result"
    },
    {
     "data": {
      "image/png": "[encoded data removed]",
      "text/plain": [
       "<Figure size 432x288 with 1 Axes>"
      ]
     },
     "metadata": {
      "needs_background": "light"
     },
     "output_type": "display_data"
    }
   ],
   "source": [
    "loan.Credit_History.value_counts(normalize=True).plot.bar(title='Credit History')"
   ]
  },
  {
   "cell_type": "markdown",
   "id": "1e249aeb",
   "metadata": {
    "papermill": {
     "duration": 0.124924,
     "end_time": "2022-02-17T15:56:42.114853",
     "exception": false,
     "start_time": "2022-02-17T15:56:41.989929",
     "status": "completed"
    },
    "tags": []
   },
   "source": [
    "##### Around 84% applicants have repaid their debts.\n",
    "\n"
   ]
  },
  {
   "cell_type": "code",
   "execution_count": 36,
   "id": "5cc5ad95",
   "metadata": {
    "execution": {
     "iopub.execute_input": "2022-02-17T15:56:42.368232Z",
     "iopub.status.busy": "2022-02-17T15:56:42.367570Z",
     "iopub.status.idle": "2022-02-17T15:56:42.377728Z",
     "shell.execute_reply": "2022-02-17T15:56:42.377085Z",
     "shell.execute_reply.started": "2022-02-17T15:54:51.965814Z"
    },
    "papermill": {
     "duration": 0.137726,
     "end_time": "2022-02-17T15:56:42.377880",
     "exception": false,
     "start_time": "2022-02-17T15:56:42.240154",
     "status": "completed"
    },
    "tags": []
   },
   "outputs": [
    {
     "data": {
      "text/plain": [
       "Credit_History  Loan_Status\n",
       "0.0             N               82\n",
       "                Y                7\n",
       "1.0             Y              378\n",
       "                N               97\n",
       "Name: Loan_Status, dtype: int64"
      ]
     },
     "execution_count": 36,
     "metadata": {},
     "output_type": "execute_result"
    }
   ],
   "source": [
    "loan.groupby('Credit_History')['Loan_Status'].value_counts()"
   ]
  },
  {
   "cell_type": "code",
   "execution_count": 37,
   "id": "790c3497",
   "metadata": {
    "execution": {
     "iopub.execute_input": "2022-02-17T15:56:42.633377Z",
     "iopub.status.busy": "2022-02-17T15:56:42.631131Z",
     "iopub.status.idle": "2022-02-17T15:56:42.856251Z",
     "shell.execute_reply": "2022-02-17T15:56:42.855637Z",
     "shell.execute_reply.started": "2022-02-17T15:54:51.978837Z"
    },
    "papermill": {
     "duration": 0.354253,
     "end_time": "2022-02-17T15:56:42.856403",
     "exception": false,
     "start_time": "2022-02-17T15:56:42.502150",
     "status": "completed"
    },
    "tags": []
   },
   "outputs": [
    {
     "data": {
      "text/plain": [
       "<AxesSubplot:xlabel='Credit_History', ylabel='count'>"
      ]
     },
     "execution_count": 37,
     "metadata": {},
     "output_type": "execute_result"
    },
    {
     "data": {
      "image/png": "[encoded data removed]",
      "text/plain": [
       "<Figure size 432x288 with 1 Axes>"
      ]
     },
     "metadata": {
      "needs_background": "light"
     },
     "output_type": "display_data"
    }
   ],
   "source": [
    "sns.countplot(x='Credit_History',hue='Loan_Status',data=loan)"
   ]
  },
  {
   "cell_type": "markdown",
   "id": "a6afbace",
   "metadata": {
    "papermill": {
     "duration": 0.126138,
     "end_time": "2022-02-17T15:56:43.109725",
     "exception": false,
     "start_time": "2022-02-17T15:56:42.983587",
     "status": "completed"
    },
    "tags": []
   },
   "source": [
    "People with credit history as 1 and loan was approved : 378\n",
    "\n",
    "People with credit history as 1 and loan was not approved : 97\n",
    "\n",
    "People with credit history as 0 and loan was approved : 7\n",
    "\n",
    "People with credit history as 0 and loan was not approved : 82\n",
    "\n",
    "It seems people with credit history as 1 are more likely to get their loans approved."
   ]
  },
  {
   "cell_type": "code",
   "execution_count": 38,
   "id": "e2f2e264",
   "metadata": {
    "execution": {
     "iopub.execute_input": "2022-02-17T15:56:43.369950Z",
     "iopub.status.busy": "2022-02-17T15:56:43.365229Z",
     "iopub.status.idle": "2022-02-17T15:56:43.736322Z",
     "shell.execute_reply": "2022-02-17T15:56:43.735768Z",
     "shell.execute_reply.started": "2022-02-17T15:54:52.159567Z"
    },
    "papermill": {
     "duration": 0.501105,
     "end_time": "2022-02-17T15:56:43.736478",
     "exception": false,
     "start_time": "2022-02-17T15:56:43.235373",
     "status": "completed"
    },
    "tags": []
   },
   "outputs": [
    {
     "data": {
      "text/plain": [
       "<AxesSubplot:xlabel='Credit_History', ylabel='ApplicantIncome'>"
      ]
     },
     "execution_count": 38,
     "metadata": {},
     "output_type": "execute_result"
    },
    {
     "data": {
      "image/png": "[encoded data removed]",
      "text/plain": [
       "<Figure size 432x288 with 1 Axes>"
      ]
     },
     "metadata": {
      "needs_background": "light"
     },
     "output_type": "display_data"
    }
   ],
   "source": [
    "sns.barplot(x='Credit_History',hue='Loan_Status',y='ApplicantIncome',data=loan)"
   ]
  },
  {
   "cell_type": "markdown",
   "id": "96fb002c",
   "metadata": {
    "papermill": {
     "duration": 0.13408,
     "end_time": "2022-02-17T15:56:44.000283",
     "exception": false,
     "start_time": "2022-02-17T15:56:43.866203",
     "status": "completed"
    },
    "tags": []
   },
   "source": [
    "## Independent variables (Ordinal)\n",
    "(Dependents, Education, Property_Area)\n"
   ]
  },
  {
   "cell_type": "markdown",
   "id": "9bacf0f6",
   "metadata": {
    "papermill": {
     "duration": 0.166043,
     "end_time": "2022-02-17T15:56:44.324893",
     "exception": false,
     "start_time": "2022-02-17T15:56:44.158850",
     "status": "completed"
    },
    "tags": []
   },
   "source": [
    "## Dependents"
   ]
  },
  {
   "cell_type": "code",
   "execution_count": 39,
   "id": "0af108c8",
   "metadata": {
    "execution": {
     "iopub.execute_input": "2022-02-17T15:56:44.652783Z",
     "iopub.status.busy": "2022-02-17T15:56:44.652030Z",
     "iopub.status.idle": "2022-02-17T15:56:44.655798Z",
     "shell.execute_reply": "2022-02-17T15:56:44.655236Z",
     "shell.execute_reply.started": "2022-02-17T15:54:52.491518Z"
    },
    "papermill": {
     "duration": 0.167768,
     "end_time": "2022-02-17T15:56:44.655943",
     "exception": false,
     "start_time": "2022-02-17T15:56:44.488175",
     "status": "completed"
    },
    "tags": []
   },
   "outputs": [
    {
     "data": {
      "text/plain": [
       "599"
      ]
     },
     "execution_count": 39,
     "metadata": {},
     "output_type": "execute_result"
    }
   ],
   "source": [
    "loan.Dependents.count()"
   ]
  },
  {
   "cell_type": "code",
   "execution_count": 40,
   "id": "f45dfb4c",
   "metadata": {
    "execution": {
     "iopub.execute_input": "2022-02-17T15:56:44.915291Z",
     "iopub.status.busy": "2022-02-17T15:56:44.914599Z",
     "iopub.status.idle": "2022-02-17T15:56:44.920931Z",
     "shell.execute_reply": "2022-02-17T15:56:44.921453Z",
     "shell.execute_reply.started": "2022-02-17T15:54:52.499060Z"
    },
    "papermill": {
     "duration": 0.137178,
     "end_time": "2022-02-17T15:56:44.921619",
     "exception": false,
     "start_time": "2022-02-17T15:56:44.784441",
     "status": "completed"
    },
    "tags": []
   },
   "outputs": [
    {
     "data": {
      "text/plain": [
       "0     345\n",
       "1     102\n",
       "2     101\n",
       "3+     51\n",
       "Name: Dependents, dtype: int64"
      ]
     },
     "execution_count": 40,
     "metadata": {},
     "output_type": "execute_result"
    }
   ],
   "source": [
    "loan.Dependents.value_counts()"
   ]
  },
  {
   "cell_type": "markdown",
   "id": "b0d0deae",
   "metadata": {
    "papermill": {
     "duration": 0.127108,
     "end_time": "2022-02-17T15:56:45.176602",
     "exception": false,
     "start_time": "2022-02-17T15:56:45.049494",
     "status": "completed"
    },
    "tags": []
   },
   "source": [
    "Number of 0 Dependent : 345\n",
    "\n",
    "Number of 1 Dependent : 102\n",
    "\n",
    "Number of 2 Dependesnt : 101\n",
    "\n",
    "Number of 3+ Dependent : 51"
   ]
  },
  {
   "cell_type": "code",
   "execution_count": 41,
   "id": "e02d677b",
   "metadata": {
    "execution": {
     "iopub.execute_input": "2022-02-17T15:56:45.435905Z",
     "iopub.status.busy": "2022-02-17T15:56:45.435253Z",
     "iopub.status.idle": "2022-02-17T15:56:45.625091Z",
     "shell.execute_reply": "2022-02-17T15:56:45.624495Z",
     "shell.execute_reply.started": "2022-02-17T15:54:52.518034Z"
    },
    "papermill": {
     "duration": 0.321673,
     "end_time": "2022-02-17T15:56:45.625242",
     "exception": false,
     "start_time": "2022-02-17T15:56:45.303569",
     "status": "completed"
    },
    "tags": []
   },
   "outputs": [
    {
     "data": {
      "text/plain": [
       "<AxesSubplot:title={'center':'Dependents'}>"
      ]
     },
     "execution_count": 41,
     "metadata": {},
     "output_type": "execute_result"
    },
    {
     "data": {
      "image/png": "[encoded data removed]",
      "text/plain": [
       "<Figure size 432x288 with 1 Axes>"
      ]
     },
     "metadata": {
      "needs_background": "light"
     },
     "output_type": "display_data"
    }
   ],
   "source": [
    "loan.Dependents.value_counts(normalize=True).plot.bar(title='Dependents')"
   ]
  },
  {
   "cell_type": "markdown",
   "id": "0e3b3978",
   "metadata": {
    "papermill": {
     "duration": 0.128641,
     "end_time": "2022-02-17T15:56:45.882488",
     "exception": false,
     "start_time": "2022-02-17T15:56:45.753847",
     "status": "completed"
    },
    "tags": []
   },
   "source": [
    "58% people have 0 dependent\n",
    "\n",
    "17% people have 1 dependent\n",
    "\n",
    "17% people have 2 dependent\n",
    "\n",
    "8% people have 3+ dependent"
   ]
  },
  {
   "cell_type": "code",
   "execution_count": 42,
   "id": "f70a2696",
   "metadata": {
    "execution": {
     "iopub.execute_input": "2022-02-17T15:56:46.152846Z",
     "iopub.status.busy": "2022-02-17T15:56:46.152125Z",
     "iopub.status.idle": "2022-02-17T15:56:46.159747Z",
     "shell.execute_reply": "2022-02-17T15:56:46.159119Z",
     "shell.execute_reply.started": "2022-02-17T15:54:52.689113Z"
    },
    "papermill": {
     "duration": 0.143667,
     "end_time": "2022-02-17T15:56:46.159884",
     "exception": false,
     "start_time": "2022-02-17T15:56:46.016217",
     "status": "completed"
    },
    "tags": []
   },
   "outputs": [
    {
     "data": {
      "text/plain": [
       "Dependents  Loan_Status\n",
       "0           Y              238\n",
       "            N              107\n",
       "1           Y               66\n",
       "            N               36\n",
       "2           Y               76\n",
       "            N               25\n",
       "3+          Y               33\n",
       "            N               18\n",
       "Name: Loan_Status, dtype: int64"
      ]
     },
     "execution_count": 42,
     "metadata": {},
     "output_type": "execute_result"
    }
   ],
   "source": [
    "loan.groupby('Dependents')['Loan_Status'].value_counts()"
   ]
  },
  {
   "cell_type": "code",
   "execution_count": 43,
   "id": "8d403acf",
   "metadata": {
    "execution": {
     "iopub.execute_input": "2022-02-17T15:56:46.423513Z",
     "iopub.status.busy": "2022-02-17T15:56:46.422826Z",
     "iopub.status.idle": "2022-02-17T15:56:46.639470Z",
     "shell.execute_reply": "2022-02-17T15:56:46.638933Z",
     "shell.execute_reply.started": "2022-02-17T15:54:52.700617Z"
    },
    "papermill": {
     "duration": 0.349859,
     "end_time": "2022-02-17T15:56:46.639620",
     "exception": false,
     "start_time": "2022-02-17T15:56:46.289761",
     "status": "completed"
    },
    "tags": []
   },
   "outputs": [
    {
     "data": {
      "text/plain": [
       "<AxesSubplot:xlabel='Dependents', ylabel='count'>"
      ]
     },
     "execution_count": 43,
     "metadata": {},
     "output_type": "execute_result"
    },
    {
     "data": {
      "image/png": "[encoded data removed]",
      "text/plain": [
       "<Figure size 432x288 with 1 Axes>"
      ]
     },
     "metadata": {
      "needs_background": "light"
     },
     "output_type": "display_data"
    }
   ],
   "source": [
    "sns.countplot(x='Dependents',hue='Loan_Status',data=loan)"
   ]
  },
  {
   "cell_type": "markdown",
   "id": "98f79dbd",
   "metadata": {
    "papermill": {
     "duration": 0.132134,
     "end_time": "2022-02-17T15:56:46.902597",
     "exception": false,
     "start_time": "2022-02-17T15:56:46.770463",
     "status": "completed"
    },
    "tags": []
   },
   "source": [
    "Number of dependents on the loan applicant : 0 and Loan was approved : 238\n",
    "\n",
    "Number of dependents on the loan applicant : 0 and Loan was not approved : 107\n",
    "\n",
    "Number of dependents on the loan applicant : 1 and Loan was approved : 66\n",
    "\n",
    "Number of dependents on the loan applicant : 1 and Loan was not approved : 36\n",
    "\n",
    "Number of dependents on the loan applicant : 2 and Loan was approved : 76\n",
    "\n",
    "Number of dependents on the loan applicant : 2 and Loan was not approved : 25\n",
    "\n",
    "Number of dependents on the loan applicant : 3+ and Loan was approved : 33\n",
    "\n",
    "Number of dependents on the loan applicant : 3+ and Loan was not approved : 18\n",
    "\n",
    "Distribution of applicants with 1 or 3+ dependents is similar across both the categories of Loan_Status."
   ]
  },
  {
   "cell_type": "code",
   "execution_count": 44,
   "id": "9c276265",
   "metadata": {
    "execution": {
     "iopub.execute_input": "2022-02-17T15:56:47.174161Z",
     "iopub.status.busy": "2022-02-17T15:56:47.173508Z",
     "iopub.status.idle": "2022-02-17T15:56:47.706558Z",
     "shell.execute_reply": "2022-02-17T15:56:47.707013Z",
     "shell.execute_reply.started": "2022-02-17T15:54:52.873498Z"
    },
    "papermill": {
     "duration": 0.672206,
     "end_time": "2022-02-17T15:56:47.707204",
     "exception": false,
     "start_time": "2022-02-17T15:56:47.034998",
     "status": "completed"
    },
    "tags": []
   },
   "outputs": [
    {
     "data": {
      "text/plain": [
       "<AxesSubplot:xlabel='Dependents', ylabel='ApplicantIncome'>"
      ]
     },
     "execution_count": 44,
     "metadata": {},
     "output_type": "execute_result"
    },
    {
     "data": {
      "image/png": "[encoded data removed]",
      "text/plain": [
       "<Figure size 432x288 with 1 Axes>"
      ]
     },
     "metadata": {
      "needs_background": "light"
     },
     "output_type": "display_data"
    }
   ],
   "source": [
    "sns.barplot(x='Dependents',hue='Loan_Status',y='ApplicantIncome',data=loan)"
   ]
  },
  {
   "cell_type": "markdown",
   "id": "82ca042a",
   "metadata": {
    "papermill": {
     "duration": 0.133188,
     "end_time": "2022-02-17T15:56:47.972077",
     "exception": false,
     "start_time": "2022-02-17T15:56:47.838889",
     "status": "completed"
    },
    "tags": []
   },
   "source": [
    "## Education"
   ]
  },
  {
   "cell_type": "code",
   "execution_count": 45,
   "id": "8c2f37d7",
   "metadata": {
    "execution": {
     "iopub.execute_input": "2022-02-17T15:56:48.247044Z",
     "iopub.status.busy": "2022-02-17T15:56:48.246376Z",
     "iopub.status.idle": "2022-02-17T15:56:48.249680Z",
     "shell.execute_reply": "2022-02-17T15:56:48.250127Z",
     "shell.execute_reply.started": "2022-02-17T15:54:53.258217Z"
    },
    "papermill": {
     "duration": 0.143399,
     "end_time": "2022-02-17T15:56:48.250335",
     "exception": false,
     "start_time": "2022-02-17T15:56:48.106936",
     "status": "completed"
    },
    "tags": []
   },
   "outputs": [
    {
     "data": {
      "text/plain": [
       "614"
      ]
     },
     "execution_count": 45,
     "metadata": {},
     "output_type": "execute_result"
    }
   ],
   "source": [
    "loan.Education.count()"
   ]
  },
  {
   "cell_type": "code",
   "execution_count": 46,
   "id": "0a96724e",
   "metadata": {
    "execution": {
     "iopub.execute_input": "2022-02-17T15:56:48.522587Z",
     "iopub.status.busy": "2022-02-17T15:56:48.521926Z",
     "iopub.status.idle": "2022-02-17T15:56:48.526164Z",
     "shell.execute_reply": "2022-02-17T15:56:48.525548Z",
     "shell.execute_reply.started": "2022-02-17T15:54:53.266313Z"
    },
    "papermill": {
     "duration": 0.1432,
     "end_time": "2022-02-17T15:56:48.526322",
     "exception": false,
     "start_time": "2022-02-17T15:56:48.383122",
     "status": "completed"
    },
    "tags": []
   },
   "outputs": [
    {
     "data": {
      "text/plain": [
       "Graduate        480\n",
       "Not Graduate    134\n",
       "Name: Education, dtype: int64"
      ]
     },
     "execution_count": 46,
     "metadata": {},
     "output_type": "execute_result"
    }
   ],
   "source": [
    "loan.Education.value_counts()"
   ]
  },
  {
   "cell_type": "markdown",
   "id": "cda78371",
   "metadata": {
    "papermill": {
     "duration": 0.132311,
     "end_time": "2022-02-17T15:56:48.790470",
     "exception": false,
     "start_time": "2022-02-17T15:56:48.658159",
     "status": "completed"
    },
    "tags": []
   },
   "source": [
    "People who are Graduated : 480\n",
    "\n",
    "People who are not Graduated : 134"
   ]
  },
  {
   "cell_type": "code",
   "execution_count": 47,
   "id": "0fbfe666",
   "metadata": {
    "execution": {
     "iopub.execute_input": "2022-02-17T15:56:49.083096Z",
     "iopub.status.busy": "2022-02-17T15:56:49.081211Z",
     "iopub.status.idle": "2022-02-17T15:56:49.258825Z",
     "shell.execute_reply": "2022-02-17T15:56:49.258170Z",
     "shell.execute_reply.started": "2022-02-17T15:54:53.285724Z"
    },
    "papermill": {
     "duration": 0.335527,
     "end_time": "2022-02-17T15:56:49.258997",
     "exception": false,
     "start_time": "2022-02-17T15:56:48.923470",
     "status": "completed"
    },
    "tags": []
   },
   "outputs": [
    {
     "data": {
      "text/plain": [
       "<AxesSubplot:title={'center':'Education'}>"
      ]
     },
     "execution_count": 47,
     "metadata": {},
     "output_type": "execute_result"
    },
    {
     "data": {
      "image/png": "[encoded data removed]",
      "text/plain": [
       "<Figure size 432x288 with 1 Axes>"
      ]
     },
     "metadata": {
      "needs_background": "light"
     },
     "output_type": "display_data"
    }
   ],
   "source": [
    "loan.Education.value_counts(normalize=True).plot.bar(title='Education')"
   ]
  },
  {
   "cell_type": "markdown",
   "id": "5a9d43f5",
   "metadata": {
    "papermill": {
     "duration": 0.133631,
     "end_time": "2022-02-17T15:56:49.526798",
     "exception": false,
     "start_time": "2022-02-17T15:56:49.393167",
     "status": "completed"
    },
    "tags": []
   },
   "source": [
    "Total number of People : 614\n",
    "\n",
    "78% are Graduated and 22% are not Graduated"
   ]
  },
  {
   "cell_type": "code",
   "execution_count": 48,
   "id": "2cad4560",
   "metadata": {
    "execution": {
     "iopub.execute_input": "2022-02-17T15:56:49.799713Z",
     "iopub.status.busy": "2022-02-17T15:56:49.799080Z",
     "iopub.status.idle": "2022-02-17T15:56:49.805083Z",
     "shell.execute_reply": "2022-02-17T15:56:49.805589Z",
     "shell.execute_reply.started": "2022-02-17T15:54:53.443765Z"
    },
    "papermill": {
     "duration": 0.145351,
     "end_time": "2022-02-17T15:56:49.805774",
     "exception": false,
     "start_time": "2022-02-17T15:56:49.660423",
     "status": "completed"
    },
    "tags": []
   },
   "outputs": [
    {
     "data": {
      "text/plain": [
       "Education     Loan_Status\n",
       "Graduate      Y              340\n",
       "              N              140\n",
       "Not Graduate  Y               82\n",
       "              N               52\n",
       "Name: Loan_Status, dtype: int64"
      ]
     },
     "execution_count": 48,
     "metadata": {},
     "output_type": "execute_result"
    }
   ],
   "source": [
    "loan.groupby('Education')['Loan_Status'].value_counts()"
   ]
  },
  {
   "cell_type": "code",
   "execution_count": 49,
   "id": "949320f9",
   "metadata": {
    "execution": {
     "iopub.execute_input": "2022-02-17T15:56:50.078915Z",
     "iopub.status.busy": "2022-02-17T15:56:50.078281Z",
     "iopub.status.idle": "2022-02-17T15:56:50.294738Z",
     "shell.execute_reply": "2022-02-17T15:56:50.294126Z",
     "shell.execute_reply.started": "2022-02-17T15:54:53.459211Z"
    },
    "papermill": {
     "duration": 0.353935,
     "end_time": "2022-02-17T15:56:50.294945",
     "exception": false,
     "start_time": "2022-02-17T15:56:49.941010",
     "status": "completed"
    },
    "tags": []
   },
   "outputs": [
    {
     "data": {
      "text/plain": [
       "<AxesSubplot:xlabel='Education', ylabel='count'>"
      ]
     },
     "execution_count": 49,
     "metadata": {},
     "output_type": "execute_result"
    },
    {
     "data": {
      "image/png": "[encoded data removed]",
      "text/plain": [
       "<Figure size 432x288 with 1 Axes>"
      ]
     },
     "metadata": {
      "needs_background": "light"
     },
     "output_type": "display_data"
    }
   ],
   "source": [
    "sns.countplot(x='Education',hue='Loan_Status',data=loan)"
   ]
  },
  {
   "cell_type": "markdown",
   "id": "c840893b",
   "metadata": {
    "papermill": {
     "duration": 0.136685,
     "end_time": "2022-02-17T15:56:50.569911",
     "exception": false,
     "start_time": "2022-02-17T15:56:50.433226",
     "status": "completed"
    },
    "tags": []
   },
   "source": [
    "Number of people who are Graduate and Loan was approved : 340\n",
    "\n",
    "Number of people who are Graduate and Loan was no approved : 140\n",
    "\n",
    "Number of people who are Not Graduate and Loan was approved : 82\n",
    "\n",
    "Number of people who are Not Graduate and Loan was not approved : 52\n",
    "\n",
    "Proportion of Graduate applicants is higher for the approved loans."
   ]
  },
  {
   "cell_type": "code",
   "execution_count": 50,
   "id": "967ca1b5",
   "metadata": {
    "execution": {
     "iopub.execute_input": "2022-02-17T15:56:50.848435Z",
     "iopub.status.busy": "2022-02-17T15:56:50.847731Z",
     "iopub.status.idle": "2022-02-17T15:56:51.219515Z",
     "shell.execute_reply": "2022-02-17T15:56:51.219991Z",
     "shell.execute_reply.started": "2022-02-17T15:54:53.623968Z"
    },
    "papermill": {
     "duration": 0.512148,
     "end_time": "2022-02-17T15:56:51.220173",
     "exception": false,
     "start_time": "2022-02-17T15:56:50.708025",
     "status": "completed"
    },
    "tags": []
   },
   "outputs": [
    {
     "data": {
      "text/plain": [
       "<AxesSubplot:xlabel='Education', ylabel='ApplicantIncome'>"
      ]
     },
     "execution_count": 50,
     "metadata": {},
     "output_type": "execute_result"
    },
    {
     "data": {
      "image/png": "[encoded data removed]",
      "text/plain": [
       "<Figure size 432x288 with 1 Axes>"
      ]
     },
     "metadata": {
      "needs_background": "light"
     },
     "output_type": "display_data"
    }
   ],
   "source": [
    "sns.barplot(x='Education',hue='Loan_Status',y='ApplicantIncome',data=loan)"
   ]
  },
  {
   "cell_type": "code",
   "execution_count": 51,
   "id": "7356400f",
   "metadata": {
    "execution": {
     "iopub.execute_input": "2022-02-17T15:56:51.504597Z",
     "iopub.status.busy": "2022-02-17T15:56:51.502289Z",
     "iopub.status.idle": "2022-02-17T15:56:52.264592Z",
     "shell.execute_reply": "2022-02-17T15:56:52.264035Z",
     "shell.execute_reply.started": "2022-02-17T15:54:53.885197Z"
    },
    "papermill": {
     "duration": 0.90772,
     "end_time": "2022-02-17T15:56:52.264742",
     "exception": false,
     "start_time": "2022-02-17T15:56:51.357022",
     "status": "completed"
    },
    "tags": []
   },
   "outputs": [
    {
     "data": {
      "text/plain": [
       "<seaborn.axisgrid.FacetGrid at 0x7fe7d0ac5210>"
      ]
     },
     "execution_count": 51,
     "metadata": {},
     "output_type": "execute_result"
    },
    {
     "data": {
      "image/png": "[encoded data removed]",
      "text/plain": [
       "<Figure size 788.625x360 with 2 Axes>"
      ]
     },
     "metadata": {
      "needs_background": "light"
     },
     "output_type": "display_data"
    }
   ],
   "source": [
    "sns.catplot(x='Education',hue='Loan_Status',y='ApplicantIncome',data=loan,kind='bar',col='Gender')"
   ]
  },
  {
   "cell_type": "markdown",
   "id": "db4269a7",
   "metadata": {
    "papermill": {
     "duration": 0.137841,
     "end_time": "2022-02-17T15:56:52.541817",
     "exception": false,
     "start_time": "2022-02-17T15:56:52.403976",
     "status": "completed"
    },
    "tags": []
   },
   "source": [
    "## Property_Area"
   ]
  },
  {
   "cell_type": "code",
   "execution_count": 52,
   "id": "587f0714",
   "metadata": {
    "execution": {
     "iopub.execute_input": "2022-02-17T15:56:52.838706Z",
     "iopub.status.busy": "2022-02-17T15:56:52.837096Z",
     "iopub.status.idle": "2022-02-17T15:56:52.842924Z",
     "shell.execute_reply": "2022-02-17T15:56:52.842376Z",
     "shell.execute_reply.started": "2022-02-17T15:54:54.419252Z"
    },
    "papermill": {
     "duration": 0.163324,
     "end_time": "2022-02-17T15:56:52.843075",
     "exception": false,
     "start_time": "2022-02-17T15:56:52.679751",
     "status": "completed"
    },
    "tags": []
   },
   "outputs": [
    {
     "data": {
      "text/plain": [
       "614"
      ]
     },
     "execution_count": 52,
     "metadata": {},
     "output_type": "execute_result"
    }
   ],
   "source": [
    "loan.Property_Area.count()"
   ]
  },
  {
   "cell_type": "code",
   "execution_count": 53,
   "id": "d5cb6d47",
   "metadata": {
    "execution": {
     "iopub.execute_input": "2022-02-17T15:56:53.191179Z",
     "iopub.status.busy": "2022-02-17T15:56:53.190225Z",
     "iopub.status.idle": "2022-02-17T15:56:53.199950Z",
     "shell.execute_reply": "2022-02-17T15:56:53.199077Z",
     "shell.execute_reply.started": "2022-02-17T15:54:54.425674Z"
    },
    "papermill": {
     "duration": 0.204001,
     "end_time": "2022-02-17T15:56:53.200141",
     "exception": false,
     "start_time": "2022-02-17T15:56:52.996140",
     "status": "completed"
    },
    "tags": []
   },
   "outputs": [
    {
     "data": {
      "text/plain": [
       "Semiurban    233\n",
       "Urban        202\n",
       "Rural        179\n",
       "Name: Property_Area, dtype: int64"
      ]
     },
     "execution_count": 53,
     "metadata": {},
     "output_type": "execute_result"
    }
   ],
   "source": [
    "loan.Property_Area.value_counts()"
   ]
  },
  {
   "cell_type": "markdown",
   "id": "0638bddd",
   "metadata": {
    "papermill": {
     "duration": 0.147285,
     "end_time": "2022-02-17T15:56:53.506113",
     "exception": false,
     "start_time": "2022-02-17T15:56:53.358828",
     "status": "completed"
    },
    "tags": []
   },
   "source": [
    "Total number of People : 614\n",
    "\n",
    "People from Semiurban area : 233\n",
    "\n",
    "People from Urban area : 202\n",
    "\n",
    "People from Rural area : 179"
   ]
  },
  {
   "cell_type": "code",
   "execution_count": 54,
   "id": "0a1ce9f3",
   "metadata": {
    "execution": {
     "iopub.execute_input": "2022-02-17T15:56:53.794973Z",
     "iopub.status.busy": "2022-02-17T15:56:53.794257Z",
     "iopub.status.idle": "2022-02-17T15:56:53.987642Z",
     "shell.execute_reply": "2022-02-17T15:56:53.988094Z",
     "shell.execute_reply.started": "2022-02-17T15:54:54.445474Z"
    },
    "papermill": {
     "duration": 0.340412,
     "end_time": "2022-02-17T15:56:53.988286",
     "exception": false,
     "start_time": "2022-02-17T15:56:53.647874",
     "status": "completed"
    },
    "tags": []
   },
   "outputs": [
    {
     "data": {
      "text/plain": [
       "<AxesSubplot:title={'center':'Property_Area'}>"
      ]
     },
     "execution_count": 54,
     "metadata": {},
     "output_type": "execute_result"
    },
    {
     "data": {
      "image/png": "[encoded data removed]",
      "text/plain": [
       "<Figure size 432x288 with 1 Axes>"
      ]
     },
     "metadata": {
      "needs_background": "light"
     },
     "output_type": "display_data"
    }
   ],
   "source": [
    "loan.Property_Area.value_counts(normalize=True).plot.bar(title='Property_Area')"
   ]
  },
  {
   "cell_type": "markdown",
   "id": "1d74d45a",
   "metadata": {
    "papermill": {
     "duration": 0.147742,
     "end_time": "2022-02-17T15:56:54.278139",
     "exception": false,
     "start_time": "2022-02-17T15:56:54.130397",
     "status": "completed"
    },
    "tags": []
   },
   "source": [
    "38% people from Semiurban area\n",
    "\n",
    "33% people from Urban area\n",
    "\n",
    "29% people from Rural area"
   ]
  },
  {
   "cell_type": "code",
   "execution_count": 55,
   "id": "accdea9c",
   "metadata": {
    "execution": {
     "iopub.execute_input": "2022-02-17T15:56:54.563714Z",
     "iopub.status.busy": "2022-02-17T15:56:54.562719Z",
     "iopub.status.idle": "2022-02-17T15:56:54.571991Z",
     "shell.execute_reply": "2022-02-17T15:56:54.572610Z",
     "shell.execute_reply.started": "2022-02-17T15:54:54.604485Z"
    },
    "papermill": {
     "duration": 0.154181,
     "end_time": "2022-02-17T15:56:54.572797",
     "exception": false,
     "start_time": "2022-02-17T15:56:54.418616",
     "status": "completed"
    },
    "tags": []
   },
   "outputs": [
    {
     "data": {
      "text/plain": [
       "Property_Area  Loan_Status\n",
       "Rural          Y              110\n",
       "               N               69\n",
       "Semiurban      Y              179\n",
       "               N               54\n",
       "Urban          Y              133\n",
       "               N               69\n",
       "Name: Loan_Status, dtype: int64"
      ]
     },
     "execution_count": 55,
     "metadata": {},
     "output_type": "execute_result"
    }
   ],
   "source": [
    "loan.groupby('Property_Area')['Loan_Status'].value_counts()"
   ]
  },
  {
   "cell_type": "code",
   "execution_count": 56,
   "id": "4235d8ce",
   "metadata": {
    "execution": {
     "iopub.execute_input": "2022-02-17T15:56:54.858883Z",
     "iopub.status.busy": "2022-02-17T15:56:54.857870Z",
     "iopub.status.idle": "2022-02-17T15:56:55.088909Z",
     "shell.execute_reply": "2022-02-17T15:56:55.089479Z",
     "shell.execute_reply.started": "2022-02-17T15:54:54.614788Z"
    },
    "papermill": {
     "duration": 0.375635,
     "end_time": "2022-02-17T15:56:55.089668",
     "exception": false,
     "start_time": "2022-02-17T15:56:54.714033",
     "status": "completed"
    },
    "tags": []
   },
   "outputs": [
    {
     "data": {
      "text/plain": [
       "<AxesSubplot:xlabel='Property_Area', ylabel='count'>"
      ]
     },
     "execution_count": 56,
     "metadata": {},
     "output_type": "execute_result"
    },
    {
     "data": {
      "image/png": "[encoded data removed]",
      "text/plain": [
       "<Figure size 432x288 with 1 Axes>"
      ]
     },
     "metadata": {
      "needs_background": "light"
     },
     "output_type": "display_data"
    }
   ],
   "source": [
    "sns.countplot(x='Property_Area',hue='Loan_Status',data=loan)"
   ]
  },
  {
   "cell_type": "markdown",
   "id": "2908dd5b",
   "metadata": {
    "papermill": {
     "duration": 0.164878,
     "end_time": "2022-02-17T15:56:55.397286",
     "exception": false,
     "start_time": "2022-02-17T15:56:55.232408",
     "status": "completed"
    },
    "tags": []
   },
   "source": [
    "People who are from Rural area and loan was approved : 110\n",
    "\n",
    "People who are from Rural area and loan was not approved : 69\n",
    "\n",
    "People who are from Semiurban area and loan was approved : 179\n",
    "\n",
    "People who are from Semiurban area and loan was not approved : 54\n",
    "\n",
    "People who are from Urban area and loan was approved : 133\n",
    "\n",
    "People who are from Semiurban area and loan was not approved : 69\n",
    "\n",
    "Proportion of loans getting approved in semiurban area is higher as compared to that in rural or urban areas."
   ]
  },
  {
   "cell_type": "markdown",
   "id": "d974a546",
   "metadata": {
    "papermill": {
     "duration": 0.142046,
     "end_time": "2022-02-17T15:56:55.681625",
     "exception": false,
     "start_time": "2022-02-17T15:56:55.539579",
     "status": "completed"
    },
    "tags": []
   },
   "source": [
    "## Independent Variable (Numerical)\n",
    "(ApplicantIncome, CoapplicantIncome, LoanAmount, Loan_Amount_Term)"
   ]
  },
  {
   "cell_type": "markdown",
   "id": "8df358bc",
   "metadata": {
    "papermill": {
     "duration": 0.166304,
     "end_time": "2022-02-17T15:56:55.992746",
     "exception": false,
     "start_time": "2022-02-17T15:56:55.826442",
     "status": "completed"
    },
    "tags": []
   },
   "source": [
    "## ApplicantIncome"
   ]
  },
  {
   "cell_type": "code",
   "execution_count": 57,
   "id": "b196e78a",
   "metadata": {
    "execution": {
     "iopub.execute_input": "2022-02-17T15:56:56.281174Z",
     "iopub.status.busy": "2022-02-17T15:56:56.280463Z",
     "iopub.status.idle": "2022-02-17T15:56:56.293929Z",
     "shell.execute_reply": "2022-02-17T15:56:56.294551Z",
     "shell.execute_reply.started": "2022-02-17T15:54:54.791596Z"
    },
    "papermill": {
     "duration": 0.159165,
     "end_time": "2022-02-17T15:56:56.294753",
     "exception": false,
     "start_time": "2022-02-17T15:56:56.135588",
     "status": "completed"
    },
    "tags": []
   },
   "outputs": [
    {
     "data": {
      "text/html": [
       "<div>\n",
       "<style scoped>\n",
       "    .dataframe tbody tr th:only-of-type {\n",
       "        vertical-align: middle;\n",
       "    }\n",
       "\n",
       "    .dataframe tbody tr th {\n",
       "        vertical-align: top;\n",
       "    }\n",
       "\n",
       "    .dataframe thead th {\n",
       "        text-align: right;\n",
       "    }\n",
       "</style>\n",
       "<table border=\"1\" class=\"dataframe\">\n",
       "  <thead>\n",
       "    <tr style=\"text-align: right;\">\n",
       "      <th></th>\n",
       "      <th>ApplicantIncome</th>\n",
       "    </tr>\n",
       "  </thead>\n",
       "  <tbody>\n",
       "    <tr>\n",
       "      <th>count</th>\n",
       "      <td>614.000000</td>\n",
       "    </tr>\n",
       "    <tr>\n",
       "      <th>mean</th>\n",
       "      <td>5403.459283</td>\n",
       "    </tr>\n",
       "    <tr>\n",
       "      <th>std</th>\n",
       "      <td>6109.041673</td>\n",
       "    </tr>\n",
       "    <tr>\n",
       "      <th>min</th>\n",
       "      <td>150.000000</td>\n",
       "    </tr>\n",
       "    <tr>\n",
       "      <th>25%</th>\n",
       "      <td>2877.500000</td>\n",
       "    </tr>\n",
       "    <tr>\n",
       "      <th>50%</th>\n",
       "      <td>3812.500000</td>\n",
       "    </tr>\n",
       "    <tr>\n",
       "      <th>75%</th>\n",
       "      <td>5795.000000</td>\n",
       "    </tr>\n",
       "    <tr>\n",
       "      <th>max</th>\n",
       "      <td>81000.000000</td>\n",
       "    </tr>\n",
       "  </tbody>\n",
       "</table>\n",
       "</div>"
      ],
      "text/plain": [
       "       ApplicantIncome\n",
       "count       614.000000\n",
       "mean       5403.459283\n",
       "std        6109.041673\n",
       "min         150.000000\n",
       "25%        2877.500000\n",
       "50%        3812.500000\n",
       "75%        5795.000000\n",
       "max       81000.000000"
      ]
     },
     "execution_count": 57,
     "metadata": {},
     "output_type": "execute_result"
    }
   ],
   "source": [
    "loan[['ApplicantIncome']].describe()"
   ]
  },
  {
   "cell_type": "code",
   "execution_count": 58,
   "id": "e8ea6a0b",
   "metadata": {
    "execution": {
     "iopub.execute_input": "2022-02-17T15:56:56.585604Z",
     "iopub.status.busy": "2022-02-17T15:56:56.584799Z",
     "iopub.status.idle": "2022-02-17T15:56:57.124653Z",
     "shell.execute_reply": "2022-02-17T15:56:57.125227Z",
     "shell.execute_reply.started": "2022-02-17T15:54:54.809037Z"
    },
    "papermill": {
     "duration": 0.686299,
     "end_time": "2022-02-17T15:56:57.125411",
     "exception": false,
     "start_time": "2022-02-17T15:56:56.439112",
     "status": "completed"
    },
    "tags": []
   },
   "outputs": [
    {
     "data": {
      "text/plain": [
       "(array([ 17., 224., 182.,  81.,  29.,  25.,  15.,   7.,   5.,   7.,   6.,\n",
       "          3.,   5.,   0.,   1.,   0.,   0.,   0.,   0.,   0.,   1.,   0.,\n",
       "          0.,   1.,   2.,   0.,   0.,   0.,   0.,   0.,   0.,   1.,   0.,\n",
       "          0.,   0.,   0.,   0.,   0.,   0.,   1.,   0.,   0.,   0.,   0.,\n",
       "          0.,   0.,   0.,   0.,   0.,   1.]),\n",
       " array([  150.,  1767.,  3384.,  5001.,  6618.,  8235.,  9852., 11469.,\n",
       "        13086., 14703., 16320., 17937., 19554., 21171., 22788., 24405.,\n",
       "        26022., 27639., 29256., 30873., 32490., 34107., 35724., 37341.,\n",
       "        38958., 40575., 42192., 43809., 45426., 47043., 48660., 50277.,\n",
       "        51894., 53511., 55128., 56745., 58362., 59979., 61596., 63213.,\n",
       "        64830., 66447., 68064., 69681., 71298., 72915., 74532., 76149.,\n",
       "        77766., 79383., 81000.]),\n",
       " <BarContainer object of 50 artists>)"
      ]
     },
     "execution_count": 58,
     "metadata": {},
     "output_type": "execute_result"
    },
    {
     "data": {
      "image/png": "[encoded data removed]",
      "text/plain": [
       "<Figure size 720x432 with 2 Axes>"
      ]
     },
     "metadata": {
      "needs_background": "light"
     },
     "output_type": "display_data"
    }
   ],
   "source": [
    "fig ,ax=plt.subplots(1,2,figsize=(10,6))\n",
    "ax[0].boxplot(loan['ApplicantIncome'])\n",
    "ax[1].hist(loan['ApplicantIncome'],bins=50)\n"
   ]
  },
  {
   "cell_type": "markdown",
   "id": "5b20450e",
   "metadata": {
    "papermill": {
     "duration": 0.143559,
     "end_time": "2022-02-17T15:56:57.412950",
     "exception": false,
     "start_time": "2022-02-17T15:56:57.269391",
     "status": "completed"
    },
    "tags": []
   },
   "source": [
    "The boxplot confirms the presence of a lot of outliers/extreme values"
   ]
  },
  {
   "cell_type": "code",
   "execution_count": 59,
   "id": "099aa5d4",
   "metadata": {
    "execution": {
     "iopub.execute_input": "2022-02-17T15:56:57.703164Z",
     "iopub.status.busy": "2022-02-17T15:56:57.702510Z",
     "iopub.status.idle": "2022-02-17T15:56:58.018396Z",
     "shell.execute_reply": "2022-02-17T15:56:58.017663Z",
     "shell.execute_reply.started": "2022-02-17T15:54:55.113464Z"
    },
    "papermill": {
     "duration": 0.461959,
     "end_time": "2022-02-17T15:56:58.018543",
     "exception": false,
     "start_time": "2022-02-17T15:56:57.556584",
     "status": "completed"
    },
    "tags": []
   },
   "outputs": [
    {
     "name": "stderr",
     "output_type": "stream",
     "text": [
      "/opt/conda/lib/python3.7/site-packages/seaborn/distributions.py:2619: FutureWarning: `distplot` is a deprecated function and will be removed in a future version. Please adapt your code to use either `displot` (a figure-level function with similar flexibility) or `histplot` (an axes-level function for histograms).\n",
      "  warnings.warn(msg, FutureWarning)\n"
     ]
    },
    {
     "data": {
      "text/plain": [
       "<AxesSubplot:xlabel='ApplicantIncome', ylabel='Density'>"
      ]
     },
     "execution_count": 59,
     "metadata": {},
     "output_type": "execute_result"
    },
    {
     "data": {
      "image/png": "[encoded data removed]",
      "text/plain": [
       "<Figure size 432x288 with 1 Axes>"
      ]
     },
     "metadata": {
      "needs_background": "light"
     },
     "output_type": "display_data"
    }
   ],
   "source": [
    "sns.distplot(loan.ApplicantIncome)"
   ]
  },
  {
   "cell_type": "markdown",
   "id": "ca2f77d0",
   "metadata": {
    "papermill": {
     "duration": 0.145672,
     "end_time": "2022-02-17T15:56:58.311508",
     "exception": false,
     "start_time": "2022-02-17T15:56:58.165836",
     "status": "completed"
    },
    "tags": []
   },
   "source": [
    "the data in the distribution of applicant income is towards left which means it is not normally distributed"
   ]
  },
  {
   "cell_type": "code",
   "execution_count": 60,
   "id": "e9c98d64",
   "metadata": {
    "execution": {
     "iopub.execute_input": "2022-02-17T15:56:58.607081Z",
     "iopub.status.busy": "2022-02-17T15:56:58.606039Z",
     "iopub.status.idle": "2022-02-17T15:56:58.813588Z",
     "shell.execute_reply": "2022-02-17T15:56:58.813025Z",
     "shell.execute_reply.started": "2022-02-17T15:54:55.351141Z"
    },
    "papermill": {
     "duration": 0.356583,
     "end_time": "2022-02-17T15:56:58.813744",
     "exception": false,
     "start_time": "2022-02-17T15:56:58.457161",
     "status": "completed"
    },
    "tags": []
   },
   "outputs": [
    {
     "data": {
      "text/plain": [
       "<AxesSubplot:xlabel='Gender', ylabel='ApplicantIncome'>"
      ]
     },
     "execution_count": 60,
     "metadata": {},
     "output_type": "execute_result"
    },
    {
     "data": {
      "image/png": "[encoded data removed]",
      "text/plain": [
       "<Figure size 432x288 with 1 Axes>"
      ]
     },
     "metadata": {
      "needs_background": "light"
     },
     "output_type": "display_data"
    }
   ],
   "source": [
    "sns.boxplot(data=loan,y='ApplicantIncome',x='Gender')\n"
   ]
  },
  {
   "cell_type": "code",
   "execution_count": 61,
   "id": "b75f2dfa",
   "metadata": {
    "execution": {
     "iopub.execute_input": "2022-02-17T15:56:59.113842Z",
     "iopub.status.busy": "2022-02-17T15:56:59.113142Z",
     "iopub.status.idle": "2022-02-17T15:57:00.964403Z",
     "shell.execute_reply": "2022-02-17T15:57:00.964914Z",
     "shell.execute_reply.started": "2022-02-17T15:54:55.546039Z"
    },
    "papermill": {
     "duration": 2.002675,
     "end_time": "2022-02-17T15:57:00.965079",
     "exception": false,
     "start_time": "2022-02-17T15:56:58.962404",
     "status": "completed"
    },
    "tags": []
   },
   "outputs": [
    {
     "name": "stderr",
     "output_type": "stream",
     "text": [
      "/opt/conda/lib/python3.7/site-packages/seaborn/categorical.py:1296: UserWarning: 72.1% of the points cannot be placed; you may want to decrease the size of the markers or use stripplot.\n",
      "  warnings.warn(msg, UserWarning)\n",
      "/opt/conda/lib/python3.7/site-packages/seaborn/categorical.py:1296: UserWarning: 50.7% of the points cannot be placed; you may want to decrease the size of the markers or use stripplot.\n",
      "  warnings.warn(msg, UserWarning)\n",
      "/opt/conda/lib/python3.7/site-packages/seaborn/categorical.py:1296: UserWarning: 54.9% of the points cannot be placed; you may want to decrease the size of the markers or use stripplot.\n",
      "  warnings.warn(msg, UserWarning)\n",
      "/opt/conda/lib/python3.7/site-packages/seaborn/categorical.py:1296: UserWarning: 36.5% of the points cannot be placed; you may want to decrease the size of the markers or use stripplot.\n",
      "  warnings.warn(msg, UserWarning)\n"
     ]
    },
    {
     "data": {
      "text/plain": [
       "<AxesSubplot:xlabel='Education', ylabel='ApplicantIncome'>"
      ]
     },
     "execution_count": 61,
     "metadata": {},
     "output_type": "execute_result"
    },
    {
     "data": {
      "image/png": "[encoded data removed]",
      "text/plain": [
       "<Figure size 432x288 with 1 Axes>"
      ]
     },
     "metadata": {
      "needs_background": "light"
     },
     "output_type": "display_data"
    }
   ],
   "source": [
    "sns.swarmplot(y='ApplicantIncome',x='Education',hue='Loan_Status',data=loan,dodge=True)"
   ]
  },
  {
   "cell_type": "code",
   "execution_count": 62,
   "id": "9c18866a",
   "metadata": {
    "execution": {
     "iopub.execute_input": "2022-02-17T15:57:01.274776Z",
     "iopub.status.busy": "2022-02-17T15:57:01.272612Z",
     "iopub.status.idle": "2022-02-17T15:57:01.993180Z",
     "shell.execute_reply": "2022-02-17T15:57:01.993755Z",
     "shell.execute_reply.started": "2022-02-17T15:54:57.470647Z"
    },
    "papermill": {
     "duration": 0.879971,
     "end_time": "2022-02-17T15:57:01.993937",
     "exception": false,
     "start_time": "2022-02-17T15:57:01.113966",
     "status": "completed"
    },
    "tags": []
   },
   "outputs": [
    {
     "data": {
      "text/plain": [
       "<seaborn.axisgrid.FacetGrid at 0x7fe7c846b210>"
      ]
     },
     "execution_count": 62,
     "metadata": {},
     "output_type": "execute_result"
    },
    {
     "data": {
      "image/png": "[encoded data removed]",
      "text/plain": [
       "<Figure size 788.625x360 with 2 Axes>"
      ]
     },
     "metadata": {
      "needs_background": "light"
     },
     "output_type": "display_data"
    }
   ],
   "source": [
    "sns.catplot(y='ApplicantIncome',x='Education',hue='Loan_Status',col='Gender',data=loan,dodge=True)"
   ]
  },
  {
   "cell_type": "markdown",
   "id": "9d2ef0c8",
   "metadata": {
    "papermill": {
     "duration": 0.151672,
     "end_time": "2022-02-17T15:57:02.298285",
     "exception": false,
     "start_time": "2022-02-17T15:57:02.146613",
     "status": "completed"
    },
    "tags": []
   },
   "source": [
    "## CoapplicantIncome"
   ]
  },
  {
   "cell_type": "code",
   "execution_count": 63,
   "id": "0e9b3a6c",
   "metadata": {
    "execution": {
     "iopub.execute_input": "2022-02-17T15:57:02.610446Z",
     "iopub.status.busy": "2022-02-17T15:57:02.609611Z",
     "iopub.status.idle": "2022-02-17T15:57:02.612872Z",
     "shell.execute_reply": "2022-02-17T15:57:02.613396Z",
     "shell.execute_reply.started": "2022-02-17T15:54:58.142584Z"
    },
    "papermill": {
     "duration": 0.164319,
     "end_time": "2022-02-17T15:57:02.613576",
     "exception": false,
     "start_time": "2022-02-17T15:57:02.449257",
     "status": "completed"
    },
    "tags": []
   },
   "outputs": [
    {
     "data": {
      "text/plain": [
       "count      614.000000\n",
       "mean      1621.245798\n",
       "std       2926.248369\n",
       "min          0.000000\n",
       "25%          0.000000\n",
       "50%       1188.500000\n",
       "75%       2297.250000\n",
       "max      41667.000000\n",
       "Name: CoapplicantIncome, dtype: float64"
      ]
     },
     "execution_count": 63,
     "metadata": {},
     "output_type": "execute_result"
    }
   ],
   "source": [
    "loan.CoapplicantIncome.describe()"
   ]
  },
  {
   "cell_type": "code",
   "execution_count": 64,
   "id": "aba57fb7",
   "metadata": {
    "execution": {
     "iopub.execute_input": "2022-02-17T15:57:02.946657Z",
     "iopub.status.busy": "2022-02-17T15:57:02.941615Z",
     "iopub.status.idle": "2022-02-17T15:57:03.095242Z",
     "shell.execute_reply": "2022-02-17T15:57:03.095709Z",
     "shell.execute_reply.started": "2022-02-17T15:54:58.154731Z"
    },
    "papermill": {
     "duration": 0.330905,
     "end_time": "2022-02-17T15:57:03.095889",
     "exception": false,
     "start_time": "2022-02-17T15:57:02.764984",
     "status": "completed"
    },
    "tags": []
   },
   "outputs": [
    {
     "data": {
      "text/plain": [
       "<AxesSubplot:>"
      ]
     },
     "execution_count": 64,
     "metadata": {},
     "output_type": "execute_result"
    },
    {
     "data": {
      "image/png": "[encoded data removed]",
      "text/plain": [
       "<Figure size 432x288 with 1 Axes>"
      ]
     },
     "metadata": {
      "needs_background": "light"
     },
     "output_type": "display_data"
    }
   ],
   "source": [
    "loan[['CoapplicantIncome']].boxplot()\n"
   ]
  },
  {
   "cell_type": "code",
   "execution_count": 65,
   "id": "402281c5",
   "metadata": {
    "execution": {
     "iopub.execute_input": "2022-02-17T15:57:03.406361Z",
     "iopub.status.busy": "2022-02-17T15:57:03.405720Z",
     "iopub.status.idle": "2022-02-17T15:57:03.708995Z",
     "shell.execute_reply": "2022-02-17T15:57:03.709501Z",
     "shell.execute_reply.started": "2022-02-17T15:54:58.289615Z"
    },
    "papermill": {
     "duration": 0.459193,
     "end_time": "2022-02-17T15:57:03.709688",
     "exception": false,
     "start_time": "2022-02-17T15:57:03.250495",
     "status": "completed"
    },
    "tags": []
   },
   "outputs": [
    {
     "name": "stderr",
     "output_type": "stream",
     "text": [
      "/opt/conda/lib/python3.7/site-packages/seaborn/distributions.py:2619: FutureWarning: `distplot` is a deprecated function and will be removed in a future version. Please adapt your code to use either `displot` (a figure-level function with similar flexibility) or `histplot` (an axes-level function for histograms).\n",
      "  warnings.warn(msg, FutureWarning)\n"
     ]
    },
    {
     "data": {
      "text/plain": [
       "<AxesSubplot:xlabel='CoapplicantIncome', ylabel='Density'>"
      ]
     },
     "execution_count": 65,
     "metadata": {},
     "output_type": "execute_result"
    },
    {
     "data": {
      "image/png": "[encoded data removed]",
      "text/plain": [
       "<Figure size 432x288 with 1 Axes>"
      ]
     },
     "metadata": {
      "needs_background": "light"
     },
     "output_type": "display_data"
    }
   ],
   "source": [
    "sns.distplot(loan.CoapplicantIncome)"
   ]
  },
  {
   "cell_type": "markdown",
   "id": "8d359057",
   "metadata": {
    "papermill": {
     "duration": 0.159355,
     "end_time": "2022-02-17T15:57:04.025099",
     "exception": false,
     "start_time": "2022-02-17T15:57:03.865744",
     "status": "completed"
    },
    "tags": []
   },
   "source": [
    "distribution as that of the applicant income. Majority of coapplicant’s income ranges from 0 to 5000. We also see a lot of outliers in the coapplicant income and it is not normally distributed."
   ]
  },
  {
   "cell_type": "code",
   "execution_count": 66,
   "id": "485c6dc8",
   "metadata": {
    "execution": {
     "iopub.execute_input": "2022-02-17T15:57:04.355651Z",
     "iopub.status.busy": "2022-02-17T15:57:04.354946Z",
     "iopub.status.idle": "2022-02-17T15:57:06.107749Z",
     "shell.execute_reply": "2022-02-17T15:57:06.108293Z",
     "shell.execute_reply.started": "2022-02-17T15:54:58.527372Z"
    },
    "papermill": {
     "duration": 1.921178,
     "end_time": "2022-02-17T15:57:06.108480",
     "exception": false,
     "start_time": "2022-02-17T15:57:04.187302",
     "status": "completed"
    },
    "tags": []
   },
   "outputs": [
    {
     "name": "stderr",
     "output_type": "stream",
     "text": [
      "/opt/conda/lib/python3.7/site-packages/seaborn/categorical.py:1296: UserWarning: 75.6% of the points cannot be placed; you may want to decrease the size of the markers or use stripplot.\n",
      "  warnings.warn(msg, UserWarning)\n",
      "/opt/conda/lib/python3.7/site-packages/seaborn/categorical.py:1296: UserWarning: 56.4% of the points cannot be placed; you may want to decrease the size of the markers or use stripplot.\n",
      "  warnings.warn(msg, UserWarning)\n",
      "/opt/conda/lib/python3.7/site-packages/seaborn/categorical.py:1296: UserWarning: 48.8% of the points cannot be placed; you may want to decrease the size of the markers or use stripplot.\n",
      "  warnings.warn(msg, UserWarning)\n",
      "/opt/conda/lib/python3.7/site-packages/seaborn/categorical.py:1296: UserWarning: 26.9% of the points cannot be placed; you may want to decrease the size of the markers or use stripplot.\n",
      "  warnings.warn(msg, UserWarning)\n"
     ]
    },
    {
     "data": {
      "text/plain": [
       "<AxesSubplot:xlabel='Education', ylabel='CoapplicantIncome'>"
      ]
     },
     "execution_count": 66,
     "metadata": {},
     "output_type": "execute_result"
    },
    {
     "data": {
      "image/png": "[encoded data removed]",
      "text/plain": [
       "<Figure size 432x288 with 1 Axes>"
      ]
     },
     "metadata": {
      "needs_background": "light"
     },
     "output_type": "display_data"
    }
   ],
   "source": [
    "sns.swarmplot(y='CoapplicantIncome',x='Education',hue='Loan_Status',data=loan,dodge=True)"
   ]
  },
  {
   "cell_type": "markdown",
   "id": "e9bbae3a",
   "metadata": {
    "papermill": {
     "duration": 0.17576,
     "end_time": "2022-02-17T15:57:06.444933",
     "exception": false,
     "start_time": "2022-02-17T15:57:06.269173",
     "status": "completed"
    },
    "tags": []
   },
   "source": [
    "## LoanAmount"
   ]
  },
  {
   "cell_type": "code",
   "execution_count": 67,
   "id": "f8bbc5bc",
   "metadata": {
    "execution": {
     "iopub.execute_input": "2022-02-17T15:57:06.767511Z",
     "iopub.status.busy": "2022-02-17T15:57:06.766898Z",
     "iopub.status.idle": "2022-02-17T15:57:06.778451Z",
     "shell.execute_reply": "2022-02-17T15:57:06.777873Z",
     "shell.execute_reply.started": "2022-02-17T15:54:59.746843Z"
    },
    "papermill": {
     "duration": 0.176019,
     "end_time": "2022-02-17T15:57:06.778619",
     "exception": false,
     "start_time": "2022-02-17T15:57:06.602600",
     "status": "completed"
    },
    "tags": []
   },
   "outputs": [
    {
     "data": {
      "text/html": [
       "<div>\n",
       "<style scoped>\n",
       "    .dataframe tbody tr th:only-of-type {\n",
       "        vertical-align: middle;\n",
       "    }\n",
       "\n",
       "    .dataframe tbody tr th {\n",
       "        vertical-align: top;\n",
       "    }\n",
       "\n",
       "    .dataframe thead th {\n",
       "        text-align: right;\n",
       "    }\n",
       "</style>\n",
       "<table border=\"1\" class=\"dataframe\">\n",
       "  <thead>\n",
       "    <tr style=\"text-align: right;\">\n",
       "      <th></th>\n",
       "      <th>LoanAmount</th>\n",
       "    </tr>\n",
       "  </thead>\n",
       "  <tbody>\n",
       "    <tr>\n",
       "      <th>count</th>\n",
       "      <td>592.000000</td>\n",
       "    </tr>\n",
       "    <tr>\n",
       "      <th>mean</th>\n",
       "      <td>146.412162</td>\n",
       "    </tr>\n",
       "    <tr>\n",
       "      <th>std</th>\n",
       "      <td>85.587325</td>\n",
       "    </tr>\n",
       "    <tr>\n",
       "      <th>min</th>\n",
       "      <td>9.000000</td>\n",
       "    </tr>\n",
       "    <tr>\n",
       "      <th>25%</th>\n",
       "      <td>100.000000</td>\n",
       "    </tr>\n",
       "    <tr>\n",
       "      <th>50%</th>\n",
       "      <td>128.000000</td>\n",
       "    </tr>\n",
       "    <tr>\n",
       "      <th>75%</th>\n",
       "      <td>168.000000</td>\n",
       "    </tr>\n",
       "    <tr>\n",
       "      <th>max</th>\n",
       "      <td>700.000000</td>\n",
       "    </tr>\n",
       "  </tbody>\n",
       "</table>\n",
       "</div>"
      ],
      "text/plain": [
       "       LoanAmount\n",
       "count  592.000000\n",
       "mean   146.412162\n",
       "std     85.587325\n",
       "min      9.000000\n",
       "25%    100.000000\n",
       "50%    128.000000\n",
       "75%    168.000000\n",
       "max    700.000000"
      ]
     },
     "execution_count": 67,
     "metadata": {},
     "output_type": "execute_result"
    }
   ],
   "source": [
    "loan[['LoanAmount']].describe()"
   ]
  },
  {
   "cell_type": "code",
   "execution_count": 68,
   "id": "3cf6e09f",
   "metadata": {
    "execution": {
     "iopub.execute_input": "2022-02-17T15:57:07.102830Z",
     "iopub.status.busy": "2022-02-17T15:57:07.102095Z",
     "iopub.status.idle": "2022-02-17T15:57:07.283618Z",
     "shell.execute_reply": "2022-02-17T15:57:07.284051Z",
     "shell.execute_reply.started": "2022-02-17T15:54:59.762590Z"
    },
    "papermill": {
     "duration": 0.345721,
     "end_time": "2022-02-17T15:57:07.284239",
     "exception": false,
     "start_time": "2022-02-17T15:57:06.938518",
     "status": "completed"
    },
    "tags": []
   },
   "outputs": [
    {
     "data": {
      "text/plain": [
       "<AxesSubplot:>"
      ]
     },
     "execution_count": 68,
     "metadata": {},
     "output_type": "execute_result"
    },
    {
     "data": {
      "image/png": "[encoded data removed]",
      "text/plain": [
       "<Figure size 432x288 with 1 Axes>"
      ]
     },
     "metadata": {
      "needs_background": "light"
     },
     "output_type": "display_data"
    }
   ],
   "source": [
    "loan[['LoanAmount']].boxplot()"
   ]
  },
  {
   "cell_type": "code",
   "execution_count": 69,
   "id": "2f288bb4",
   "metadata": {
    "execution": {
     "iopub.execute_input": "2022-02-17T15:57:07.606944Z",
     "iopub.status.busy": "2022-02-17T15:57:07.606215Z",
     "iopub.status.idle": "2022-02-17T15:57:07.898450Z",
     "shell.execute_reply": "2022-02-17T15:57:07.897791Z",
     "shell.execute_reply.started": "2022-02-17T15:54:59.905511Z"
    },
    "papermill": {
     "duration": 0.454733,
     "end_time": "2022-02-17T15:57:07.898597",
     "exception": false,
     "start_time": "2022-02-17T15:57:07.443864",
     "status": "completed"
    },
    "tags": []
   },
   "outputs": [
    {
     "name": "stderr",
     "output_type": "stream",
     "text": [
      "/opt/conda/lib/python3.7/site-packages/seaborn/distributions.py:2619: FutureWarning: `distplot` is a deprecated function and will be removed in a future version. Please adapt your code to use either `displot` (a figure-level function with similar flexibility) or `histplot` (an axes-level function for histograms).\n",
      "  warnings.warn(msg, FutureWarning)\n"
     ]
    },
    {
     "data": {
      "text/plain": [
       "<AxesSubplot:xlabel='LoanAmount', ylabel='Density'>"
      ]
     },
     "execution_count": 69,
     "metadata": {},
     "output_type": "execute_result"
    },
    {
     "data": {
      "image/png": "[encoded data removed]",
      "text/plain": [
       "<Figure size 432x288 with 1 Axes>"
      ]
     },
     "metadata": {
      "needs_background": "light"
     },
     "output_type": "display_data"
    }
   ],
   "source": [
    "sns.distplot(loan.LoanAmount)"
   ]
  },
  {
   "cell_type": "markdown",
   "id": "6004b922",
   "metadata": {
    "papermill": {
     "duration": 0.162361,
     "end_time": "2022-02-17T15:57:08.226023",
     "exception": false,
     "start_time": "2022-02-17T15:57:08.063662",
     "status": "completed"
    },
    "tags": []
   },
   "source": [
    "a lot of outliers in this variable and the distribution is fairly normal."
   ]
  },
  {
   "cell_type": "markdown",
   "id": "86287fd6",
   "metadata": {
    "papermill": {
     "duration": 0.160921,
     "end_time": "2022-02-17T15:57:08.548987",
     "exception": false,
     "start_time": "2022-02-17T15:57:08.388066",
     "status": "completed"
    },
    "tags": []
   },
   "source": [
    "## LoanAmountTerm"
   ]
  },
  {
   "cell_type": "code",
   "execution_count": 70,
   "id": "1ff65ae1",
   "metadata": {
    "execution": {
     "iopub.execute_input": "2022-02-17T15:57:08.878906Z",
     "iopub.status.busy": "2022-02-17T15:57:08.878241Z",
     "iopub.status.idle": "2022-02-17T15:57:08.884465Z",
     "shell.execute_reply": "2022-02-17T15:57:08.884939Z",
     "shell.execute_reply.started": "2022-02-17T15:55:00.135632Z"
    },
    "papermill": {
     "duration": 0.175264,
     "end_time": "2022-02-17T15:57:08.885113",
     "exception": false,
     "start_time": "2022-02-17T15:57:08.709849",
     "status": "completed"
    },
    "tags": []
   },
   "outputs": [
    {
     "data": {
      "text/plain": [
       "count    600.00000\n",
       "mean     342.00000\n",
       "std       65.12041\n",
       "min       12.00000\n",
       "25%      360.00000\n",
       "50%      360.00000\n",
       "75%      360.00000\n",
       "max      480.00000\n",
       "Name: Loan_Amount_Term, dtype: float64"
      ]
     },
     "execution_count": 70,
     "metadata": {},
     "output_type": "execute_result"
    }
   ],
   "source": [
    "loan.Loan_Amount_Term.describe()"
   ]
  },
  {
   "cell_type": "code",
   "execution_count": 71,
   "id": "82102056",
   "metadata": {
    "execution": {
     "iopub.execute_input": "2022-02-17T15:57:09.216072Z",
     "iopub.status.busy": "2022-02-17T15:57:09.215371Z",
     "iopub.status.idle": "2022-02-17T15:57:09.390369Z",
     "shell.execute_reply": "2022-02-17T15:57:09.389843Z",
     "shell.execute_reply.started": "2022-02-17T15:55:00.147695Z"
    },
    "papermill": {
     "duration": 0.341531,
     "end_time": "2022-02-17T15:57:09.390514",
     "exception": false,
     "start_time": "2022-02-17T15:57:09.048983",
     "status": "completed"
    },
    "tags": []
   },
   "outputs": [
    {
     "data": {
      "text/plain": [
       "<AxesSubplot:>"
      ]
     },
     "execution_count": 71,
     "metadata": {},
     "output_type": "execute_result"
    },
    {
     "data": {
      "image/png": "[encoded data removed]",
      "text/plain": [
       "<Figure size 432x288 with 1 Axes>"
      ]
     },
     "metadata": {
      "needs_background": "light"
     },
     "output_type": "display_data"
    }
   ],
   "source": [
    "loan[['Loan_Amount_Term']].boxplot()"
   ]
  },
  {
   "cell_type": "markdown",
   "id": "e6bb310d",
   "metadata": {
    "papermill": {
     "duration": 0.162084,
     "end_time": "2022-02-17T15:57:09.715409",
     "exception": false,
     "start_time": "2022-02-17T15:57:09.553325",
     "status": "completed"
    },
    "tags": []
   },
   "source": [
    "a lot of outliers in this variable and the distribution is fairly normal"
   ]
  },
  {
   "cell_type": "code",
   "execution_count": 72,
   "id": "08817bbe",
   "metadata": {
    "execution": {
     "iopub.execute_input": "2022-02-17T15:57:10.044841Z",
     "iopub.status.busy": "2022-02-17T15:57:10.044151Z",
     "iopub.status.idle": "2022-02-17T15:57:10.047889Z",
     "shell.execute_reply": "2022-02-17T15:57:10.048440Z",
     "shell.execute_reply.started": "2022-02-17T15:55:00.295083Z"
    },
    "papermill": {
     "duration": 0.169753,
     "end_time": "2022-02-17T15:57:10.048626",
     "exception": false,
     "start_time": "2022-02-17T15:57:09.878873",
     "status": "completed"
    },
    "tags": []
   },
   "outputs": [],
   "source": [
    "loan['Status']=loan['Loan_Status']"
   ]
  },
  {
   "cell_type": "code",
   "execution_count": 73,
   "id": "01236136",
   "metadata": {
    "execution": {
     "iopub.execute_input": "2022-02-17T15:57:10.384873Z",
     "iopub.status.busy": "2022-02-17T15:57:10.384235Z",
     "iopub.status.idle": "2022-02-17T15:57:10.389667Z",
     "shell.execute_reply": "2022-02-17T15:57:10.390227Z",
     "shell.execute_reply.started": "2022-02-17T15:55:00.301650Z"
    },
    "papermill": {
     "duration": 0.178922,
     "end_time": "2022-02-17T15:57:10.390411",
     "exception": false,
     "start_time": "2022-02-17T15:57:10.211489",
     "status": "completed"
    },
    "tags": []
   },
   "outputs": [],
   "source": [
    "loan.Status.replace('N', 0,inplace=True)\n",
    "loan.Status.replace('Y', 1,inplace=True)\n"
   ]
  },
  {
   "cell_type": "code",
   "execution_count": 74,
   "id": "4df33448",
   "metadata": {
    "execution": {
     "iopub.execute_input": "2022-02-17T15:57:10.721540Z",
     "iopub.status.busy": "2022-02-17T15:57:10.720856Z",
     "iopub.status.idle": "2022-02-17T15:57:10.732379Z",
     "shell.execute_reply": "2022-02-17T15:57:10.732955Z",
     "shell.execute_reply.started": "2022-02-17T15:55:00.316963Z"
    },
    "papermill": {
     "duration": 0.180469,
     "end_time": "2022-02-17T15:57:10.733139",
     "exception": false,
     "start_time": "2022-02-17T15:57:10.552670",
     "status": "completed"
    },
    "tags": []
   },
   "outputs": [
    {
     "data": {
      "text/html": [
       "<div>\n",
       "<style scoped>\n",
       "    .dataframe tbody tr th:only-of-type {\n",
       "        vertical-align: middle;\n",
       "    }\n",
       "\n",
       "    .dataframe tbody tr th {\n",
       "        vertical-align: top;\n",
       "    }\n",
       "\n",
       "    .dataframe thead th {\n",
       "        text-align: right;\n",
       "    }\n",
       "</style>\n",
       "<table border=\"1\" class=\"dataframe\">\n",
       "  <thead>\n",
       "    <tr style=\"text-align: right;\">\n",
       "      <th></th>\n",
       "      <th>ApplicantIncome</th>\n",
       "      <th>CoapplicantIncome</th>\n",
       "      <th>LoanAmount</th>\n",
       "      <th>Loan_Amount_Term</th>\n",
       "      <th>Credit_History</th>\n",
       "      <th>Status</th>\n",
       "    </tr>\n",
       "  </thead>\n",
       "  <tbody>\n",
       "    <tr>\n",
       "      <th>ApplicantIncome</th>\n",
       "      <td>1.000000</td>\n",
       "      <td>-0.116605</td>\n",
       "      <td>0.570909</td>\n",
       "      <td>-0.045306</td>\n",
       "      <td>-0.014715</td>\n",
       "      <td>-0.004710</td>\n",
       "    </tr>\n",
       "    <tr>\n",
       "      <th>CoapplicantIncome</th>\n",
       "      <td>-0.116605</td>\n",
       "      <td>1.000000</td>\n",
       "      <td>0.188619</td>\n",
       "      <td>-0.059878</td>\n",
       "      <td>-0.002056</td>\n",
       "      <td>-0.059187</td>\n",
       "    </tr>\n",
       "    <tr>\n",
       "      <th>LoanAmount</th>\n",
       "      <td>0.570909</td>\n",
       "      <td>0.188619</td>\n",
       "      <td>1.000000</td>\n",
       "      <td>0.039447</td>\n",
       "      <td>-0.008433</td>\n",
       "      <td>-0.037318</td>\n",
       "    </tr>\n",
       "    <tr>\n",
       "      <th>Loan_Amount_Term</th>\n",
       "      <td>-0.045306</td>\n",
       "      <td>-0.059878</td>\n",
       "      <td>0.039447</td>\n",
       "      <td>1.000000</td>\n",
       "      <td>0.001470</td>\n",
       "      <td>-0.021268</td>\n",
       "    </tr>\n",
       "    <tr>\n",
       "      <th>Credit_History</th>\n",
       "      <td>-0.014715</td>\n",
       "      <td>-0.002056</td>\n",
       "      <td>-0.008433</td>\n",
       "      <td>0.001470</td>\n",
       "      <td>1.000000</td>\n",
       "      <td>0.561678</td>\n",
       "    </tr>\n",
       "    <tr>\n",
       "      <th>Status</th>\n",
       "      <td>-0.004710</td>\n",
       "      <td>-0.059187</td>\n",
       "      <td>-0.037318</td>\n",
       "      <td>-0.021268</td>\n",
       "      <td>0.561678</td>\n",
       "      <td>1.000000</td>\n",
       "    </tr>\n",
       "  </tbody>\n",
       "</table>\n",
       "</div>"
      ],
      "text/plain": [
       "                   ApplicantIncome  CoapplicantIncome  LoanAmount  \\\n",
       "ApplicantIncome           1.000000          -0.116605    0.570909   \n",
       "CoapplicantIncome        -0.116605           1.000000    0.188619   \n",
       "LoanAmount                0.570909           0.188619    1.000000   \n",
       "Loan_Amount_Term         -0.045306          -0.059878    0.039447   \n",
       "Credit_History           -0.014715          -0.002056   -0.008433   \n",
       "Status                   -0.004710          -0.059187   -0.037318   \n",
       "\n",
       "                   Loan_Amount_Term  Credit_History    Status  \n",
       "ApplicantIncome           -0.045306       -0.014715 -0.004710  \n",
       "CoapplicantIncome         -0.059878       -0.002056 -0.059187  \n",
       "LoanAmount                 0.039447       -0.008433 -0.037318  \n",
       "Loan_Amount_Term           1.000000        0.001470 -0.021268  \n",
       "Credit_History             0.001470        1.000000  0.561678  \n",
       "Status                    -0.021268        0.561678  1.000000  "
      ]
     },
     "execution_count": 74,
     "metadata": {},
     "output_type": "execute_result"
    }
   ],
   "source": [
    "corr=loan.corr()\n",
    "corr"
   ]
  },
  {
   "cell_type": "code",
   "execution_count": 75,
   "id": "cdf57109",
   "metadata": {
    "execution": {
     "iopub.execute_input": "2022-02-17T15:57:11.069815Z",
     "iopub.status.busy": "2022-02-17T15:57:11.069161Z",
     "iopub.status.idle": "2022-02-17T15:57:11.372026Z",
     "shell.execute_reply": "2022-02-17T15:57:11.371334Z",
     "shell.execute_reply.started": "2022-02-17T15:55:00.342622Z"
    },
    "papermill": {
     "duration": 0.47389,
     "end_time": "2022-02-17T15:57:11.372170",
     "exception": false,
     "start_time": "2022-02-17T15:57:10.898280",
     "status": "completed"
    },
    "tags": []
   },
   "outputs": [
    {
     "data": {
      "text/plain": [
       "<AxesSubplot:>"
      ]
     },
     "execution_count": 75,
     "metadata": {},
     "output_type": "execute_result"
    },
    {
     "data": {
      "image/png": "[encoded data removed]",
      "text/plain": [
       "<Figure size 432x288 with 2 Axes>"
      ]
     },
     "metadata": {
      "needs_background": "light"
     },
     "output_type": "display_data"
    }
   ],
   "source": [
    "sns.heatmap(corr,cmap='summer')"
   ]
  }
 ],
 "metadata": {
  "kernelspec": {
   "display_name": "Python 3",
   "language": "python",
   "name": "python3"
  },
  "language_info": {
   "codemirror_mode": {
    "name": "ipython",
    "version": 3
   },
   "file_extension": ".py",
   "mimetype": "text/x-python",
   "name": "python",
   "nbconvert_exporter": "python",
   "pygments_lexer": "ipython3",
   "version": "3.7.12"
  },
  "papermill": {
   "default_parameters": {},
   "duration": 59.273928,
   "end_time": "2022-02-17T15:57:12.450022",
   "environment_variables": {},
   "exception": null,
   "input_path": "__notebook__.ipynb",
   "output_path": "__notebook__.ipynb",
   "parameters": {},
   "start_time": "2022-02-17T15:56:13.176094",
   "version": "2.3.3"
  }
 },
 "nbformat": 4,
 "nbformat_minor": 5
}
